{
 "cells": [
  {
   "cell_type": "markdown",
   "id": "fc3ddf37",
   "metadata": {},
   "source": [
    "# 🤓 recomendations"
   ]
  },
  {
   "cell_type": "markdown",
   "id": "59f89f2f",
   "metadata": {},
   "source": [
    "### Encontrar recomendaciones en función de usuarios similares a nosotros ✌🏼"
   ]
  },
  {
   "cell_type": "code",
   "execution_count": 119,
   "id": "941f62a1",
   "metadata": {},
   "outputs": [],
   "source": [
    "#esta lista viene de search\n",
    "\n",
    "\n",
    "liked_books = ['883438','88077','16097870','2391','54008','17899021']\n",
    "#liked_books = [\"4408\", \"31147619\", \"29983711\", \"9401317\", \"9317691\", \"8153988\", \"20494944\"]"
   ]
  },
  {
   "cell_type": "code",
   "execution_count": 92,
   "id": "8df2ee3d",
   "metadata": {},
   "outputs": [],
   "source": [
    "#buscamos todos los usuarios a los que les ha gustado los libros"
   ]
  },
  {
   "cell_type": "code",
   "execution_count": 93,
   "id": "6909ce4e",
   "metadata": {},
   "outputs": [
    {
     "name": "stdout",
     "output_type": "stream",
     "text": [
      "book_id_csv,book_id\r\n",
      "0,34684622\r\n",
      "1,34536488\r\n",
      "2,34017076\r\n",
      "3,71730\r\n",
      "4,30422361\r\n",
      "5,33503613\r\n",
      "6,33517540\r\n",
      "7,34467031\r\n",
      "8,6383669\r\n"
     ]
    }
   ],
   "source": [
    "!head book_id_map.csv    #abrimos en streaming"
   ]
  },
  {
   "cell_type": "code",
   "execution_count": 127,
   "id": "ba26cdf1",
   "metadata": {},
   "outputs": [],
   "source": [
    "    \n",
    "csv_book_mapping = {}   #esta es la misma forma de hacerlon que antes en search\n",
    "\n",
    "with open(\"book_id_map.csv\", \"r\") as f:\n",
    "    while True:\n",
    "        line = f.readline()\n",
    "        if not line:\n",
    "            break\n",
    "        csv_id, book_id = line.strip().split(\",\")  #va a hacer el split en la coma\n",
    "        csv_book_mapping[csv_id] = book_id    #este dictionario las keys serán csv_id y los valores seran los valores se\n",
    "    "
   ]
  },
  {
   "cell_type": "code",
   "execution_count": 128,
   "id": "91f538da",
   "metadata": {},
   "outputs": [
    {
     "data": {
      "text/plain": [
       "'34684622'"
      ]
     },
     "execution_count": 128,
     "metadata": {},
     "output_type": "execute_result"
    }
   ],
   "source": [
    "csv_book_mapping['0']"
   ]
  },
  {
   "cell_type": "code",
   "execution_count": 129,
   "id": "4f07a7b4",
   "metadata": {},
   "outputs": [
    {
     "data": {
      "text/plain": [
       "2360651"
      ]
     },
     "execution_count": 129,
     "metadata": {},
     "output_type": "execute_result"
    }
   ],
   "source": [
    "len(csv_book_mapping)   #trocotro\n"
   ]
  },
  {
   "cell_type": "code",
   "execution_count": 96,
   "id": "02055d6a",
   "metadata": {},
   "outputs": [
    {
     "name": "stdout",
     "output_type": "stream",
     "text": [
      " 228648343 goodreads_interactions.csv\r\n"
     ]
    }
   ],
   "source": [
    "!wc -l goodreads_interactions.csv     #tamaño"
   ]
  },
  {
   "cell_type": "code",
   "execution_count": 97,
   "id": "b0ad5988",
   "metadata": {},
   "outputs": [
    {
     "name": "stdout",
     "output_type": "stream",
     "text": [
      "-rw-r--r--@ 1 lucia  staff   4,0G 27 jul 21:17 goodreads_interactions.csv\r\n"
     ]
    }
   ],
   "source": [
    " !ls -lh | grep goodreads_interactions   #peso "
   ]
  },
  {
   "cell_type": "code",
   "execution_count": 98,
   "id": "213eec00",
   "metadata": {},
   "outputs": [],
   "source": [
    "#Se podría leer así pero PESA MUCHO"
   ]
  },
  {
   "cell_type": "code",
   "execution_count": 99,
   "id": "a41b170f",
   "metadata": {},
   "outputs": [
    {
     "name": "stdout",
     "output_type": "stream",
     "text": [
      "user_id,book_id,is_read,rating,is_reviewed\r\n",
      "0,948,1,5,0\r\n",
      "0,947,1,5,1\r\n",
      "0,946,1,5,0\r\n",
      "0,945,1,5,0\r\n",
      "0,944,1,5,0\r\n",
      "0,943,1,5,0\r\n",
      "0,942,1,5,0\r\n",
      "0,941,1,5,0\r\n",
      "0,940,1,5,0\r\n"
     ]
    }
   ],
   "source": [
    "!head goodreads_interactions.csv  #Es el archivo que dice Cómo ha votado cada usuario\n",
    "#cada usuario con cada voto para 1 libro tiene una fila\n",
    "\n",
    "#si la puntuación es alta aquí significa que  coincide con nosotrxs\n",
    "\n",
    "#Si vamos línea a línea lo que vemos es que chequeamos el libro y vemos si está en nuesta lista de libros y si está:\n",
    "#significa que tal vez tenga un gusto parecido al nuestro y les añadimis a nuestro set gustos parecidos\n"
   ]
  },
  {
   "cell_type": "code",
   "execution_count": 131,
   "id": "222f5616",
   "metadata": {},
   "outputs": [
    {
     "name": "stdout",
     "output_type": "stream",
     "text": [
      "cuidaito, no encontrado\n"
     ]
    }
   ],
   "source": [
    "'''\n",
    "\n",
    "overlap_users = set()\n",
    "with open('goodreads_interactions.csv', 'r') as f:\n",
    "    while True: \n",
    "        line = f.readline()\n",
    "        if not line:\n",
    "            break\n",
    "        user_id, csv_id, _, rating, _ = line.split(\",\")   # el underscore significa que no importan los campos\n",
    "        \n",
    "        if user_id in overlap_users:   #si se solapan no necesita seguir procesando \n",
    "            continue\n",
    "            \n",
    "        try:   #parsear nuesto rating, como int\n",
    "            rating = int(rating)\n",
    "        except ValueError:\n",
    "            print('cuidaito, no encontrado')\n",
    "            continue \n",
    "            \n",
    "#convertir el csv id en un book_id porque el book ib es lo que hemos usado para los libros que nos han gustado\n",
    "            \n",
    "            book_id = csv_book_mapping[csv_id]   \n",
    "            \n",
    "            if book_id in liked_books and rating >=4: #si el libro mayor que 4, le gusta y lo añade a overlap\n",
    "                overlap_users.add(user_id)\n",
    "                \n",
    "#el problema está aquí\n",
    "'''"
   ]
  },
  {
   "cell_type": "code",
   "execution_count": 132,
   "id": "10c83d90",
   "metadata": {},
   "outputs": [],
   "source": [
    "#redone\n",
    "\n",
    "overlap_users = set()\n",
    "\n",
    "with open(\"goodreads_interactions.csv\", 'r') as f:\n",
    "    while True:\n",
    "        line = f.readline()\n",
    "        if not line:\n",
    "            break\n",
    "        user_id, csv_id, _, rating, _ = line.split(\",\")\n",
    "        \n",
    "        if user_id in overlap_users:\n",
    "            continue\n",
    "\n",
    "        try:\n",
    "            rating = int(rating)\n",
    "        except ValueError:\n",
    "            print('cuidaito, no encontrado')\n",
    "            continue\n",
    "        \n",
    "        book_id = csv_book_mapping[csv_id]\n",
    "        \n",
    "        if book_id in liked_books and rating >= 4:\n",
    "                overlap_users.add(user_id)"
   ]
  },
  {
   "cell_type": "markdown",
   "id": "642839fe",
   "metadata": {},
   "source": [
    "### Ver qué libros les han gustado a esos usuarios que se parecen a nosotros"
   ]
  },
  {
   "cell_type": "code",
   "execution_count": 101,
   "id": "60f824f9",
   "metadata": {},
   "outputs": [],
   "source": [
    "#Se van a crear dos loops porque si no se hace así se pueden perder valores"
   ]
  },
  {
   "cell_type": "code",
   "execution_count": 102,
   "id": "7ef31147",
   "metadata": {},
   "outputs": [],
   "source": [
    "#encontrar qué libros han leído\n",
    "# Vamos iterar por el dataset de goodreads, así que se puede copiar y pegar de la función anterior\n",
    "\n",
    "\n",
    "rec_lines = []  #libros que usuarios parecidos a nosotoros han leído\n",
    "\n",
    "\n",
    "with open('goodreads_interactions.csv', 'r') as f:\n",
    "    while True: \n",
    "        line = f.readline()\n",
    "        if not line:\n",
    "            break    #copiado de arribaç\n",
    "        user_id, csv_id, _, rating, _ = line.split(\",\")\n",
    "        \n",
    "        if user_id in overlap_users:\n",
    "            book_id = csv_book_mapping[csv_id]     #parseamos\n",
    "            rec_lines.append([user_id, book_id, rating])  #lo añadimos las los libros libros que usuarios parecidos a nosotros han leído también = rec_lines\n",
    "        \n",
    "    \n",
    "    \n",
    "    "
   ]
  },
  {
   "cell_type": "code",
   "execution_count": 103,
   "id": "f6c9a866",
   "metadata": {},
   "outputs": [],
   "source": [
    "#rank the recommenadtions"
   ]
  },
  {
   "cell_type": "code",
   "execution_count": 133,
   "id": "4e7ef056",
   "metadata": {},
   "outputs": [
    {
     "data": {
      "text/plain": [
       "2130"
      ]
     },
     "execution_count": 133,
     "metadata": {},
     "output_type": "execute_result"
    }
   ],
   "source": [
    "len(overlap_users)  #vacío pq?"
   ]
  },
  {
   "cell_type": "code",
   "execution_count": 134,
   "id": "6421912a",
   "metadata": {},
   "outputs": [
    {
     "data": {
      "text/plain": [
       "1481120"
      ]
     },
     "execution_count": 134,
     "metadata": {},
     "output_type": "execute_result"
    }
   ],
   "source": [
    "len(rec_lines)"
   ]
  },
  {
   "cell_type": "code",
   "execution_count": 106,
   "id": "72b59f13",
   "metadata": {},
   "outputs": [],
   "source": [
    "import pandas as pd"
   ]
  },
  {
   "cell_type": "code",
   "execution_count": 135,
   "id": "420aa9be",
   "metadata": {},
   "outputs": [],
   "source": [
    "#cuidado, está vacío!!!!\n",
    "\n",
    "recs = pd.DataFrame(rec_lines, columns=['user_id', 'book_id', 'rating'])  #es más fácil trabajar con un df\n",
    "recs['book_id'] =recs['book_id'].astype(str)    #Esto va a hacer nuestro rec_lines en un df"
   ]
  },
  {
   "cell_type": "code",
   "execution_count": 138,
   "id": "ff284a90",
   "metadata": {},
   "outputs": [
    {
     "data": {
      "text/html": [
       "<div>\n",
       "<style scoped>\n",
       "    .dataframe tbody tr th:only-of-type {\n",
       "        vertical-align: middle;\n",
       "    }\n",
       "\n",
       "    .dataframe tbody tr th {\n",
       "        vertical-align: top;\n",
       "    }\n",
       "\n",
       "    .dataframe thead th {\n",
       "        text-align: right;\n",
       "    }\n",
       "</style>\n",
       "<table border=\"1\" class=\"dataframe\">\n",
       "  <thead>\n",
       "    <tr style=\"text-align: right;\">\n",
       "      <th></th>\n",
       "      <th>user_id</th>\n",
       "      <th>book_id</th>\n",
       "      <th>rating</th>\n",
       "    </tr>\n",
       "  </thead>\n",
       "  <tbody>\n",
       "    <tr>\n",
       "      <th>0</th>\n",
       "      <td>77</td>\n",
       "      <td>1199161</td>\n",
       "      <td>3</td>\n",
       "    </tr>\n",
       "    <tr>\n",
       "      <th>1</th>\n",
       "      <td>77</td>\n",
       "      <td>18749</td>\n",
       "      <td>4</td>\n",
       "    </tr>\n",
       "    <tr>\n",
       "      <th>2</th>\n",
       "      <td>77</td>\n",
       "      <td>101094</td>\n",
       "      <td>5</td>\n",
       "    </tr>\n",
       "    <tr>\n",
       "      <th>3</th>\n",
       "      <td>77</td>\n",
       "      <td>16902</td>\n",
       "      <td>3</td>\n",
       "    </tr>\n",
       "    <tr>\n",
       "      <th>4</th>\n",
       "      <td>77</td>\n",
       "      <td>7575487</td>\n",
       "      <td>0</td>\n",
       "    </tr>\n",
       "  </tbody>\n",
       "</table>\n",
       "</div>"
      ],
      "text/plain": [
       "  user_id  book_id rating\n",
       "0      77  1199161      3\n",
       "1      77    18749      4\n",
       "2      77   101094      5\n",
       "3      77    16902      3\n",
       "4      77  7575487      0"
      ]
     },
     "execution_count": 138,
     "metadata": {},
     "output_type": "execute_result"
    }
   ],
   "source": [
    "recs.head()"
   ]
  },
  {
   "cell_type": "code",
   "execution_count": 155,
   "id": "06a3cbed",
   "metadata": {},
   "outputs": [
    {
     "data": {
      "text/plain": [
       "88077    1694\n",
       "4671     1364\n",
       "5470     1361\n",
       "5107     1273\n",
       "7613     1207\n",
       "Name: book_id, dtype: int64"
      ]
     },
     "execution_count": 155,
     "metadata": {},
     "output_type": "execute_result"
    }
   ],
   "source": [
    "top_recs = recs['book_id'].value_counts()      #de qué valor hay más, más frecuentres\n",
    "top_recs.head()"
   ]
  },
  {
   "cell_type": "code",
   "execution_count": 178,
   "id": "f8ec97b1",
   "metadata": {},
   "outputs": [
    {
     "ename": "AttributeError",
     "evalue": "'numpy.ndarray' object has no attribute 'index'",
     "output_type": "error",
     "traceback": [
      "\u001b[0;31m---------------------------------------------------------------------------\u001b[0m",
      "\u001b[0;31mAttributeError\u001b[0m                            Traceback (most recent call last)",
      "\u001b[0;32m/var/folders/bp/5cqvvvwn7p14588p725frs740000gn/T/ipykernel_4870/3850094685.py\u001b[0m in \u001b[0;36m<module>\u001b[0;34m\u001b[0m\n\u001b[0;32m----> 1\u001b[0;31m \u001b[0mtop_recs\u001b[0m \u001b[0;34m=\u001b[0m \u001b[0mtop_recs\u001b[0m\u001b[0;34m.\u001b[0m\u001b[0mindex\u001b[0m\u001b[0;34m.\u001b[0m\u001b[0mvalues\u001b[0m\u001b[0;34m\u001b[0m\u001b[0;34m\u001b[0m\u001b[0m\n\u001b[0m",
      "\u001b[0;31mAttributeError\u001b[0m: 'numpy.ndarray' object has no attribute 'index'"
     ]
    }
   ],
   "source": [
    "top_recs = top_recs.index.values   #añadido después de empezar a const el rec inicial. Da los valores del índice"
   ]
  },
  {
   "cell_type": "code",
   "execution_count": 179,
   "id": "8562170c",
   "metadata": {},
   "outputs": [],
   "source": [
    "books_titles = pd.read_json(\"boks_titles.json\")\n",
    "books_titles[\"book_id\"] = books_titles[\"book_id\"].astype(str)   #todo tiene el mismo tipo"
   ]
  },
  {
   "cell_type": "code",
   "execution_count": 181,
   "id": "e7e8334b",
   "metadata": {},
   "outputs": [
    {
     "data": {
      "text/plain": [
       "2130"
      ]
     },
     "execution_count": 181,
     "metadata": {},
     "output_type": "execute_result"
    }
   ],
   "source": [
    "len(overlap_users)\n"
   ]
  },
  {
   "cell_type": "code",
   "execution_count": 175,
   "id": "0cc0e63f",
   "metadata": {},
   "outputs": [
    {
     "data": {
      "text/html": [
       "<div>\n",
       "<style scoped>\n",
       "    .dataframe tbody tr th:only-of-type {\n",
       "        vertical-align: middle;\n",
       "    }\n",
       "\n",
       "    .dataframe tbody tr th {\n",
       "        vertical-align: top;\n",
       "    }\n",
       "\n",
       "    .dataframe thead th {\n",
       "        text-align: right;\n",
       "    }\n",
       "</style>\n",
       "<table border=\"1\" class=\"dataframe\">\n",
       "  <thead>\n",
       "    <tr style=\"text-align: right;\">\n",
       "      <th></th>\n",
       "      <th>book_id</th>\n",
       "      <th>title</th>\n",
       "      <th>ratings</th>\n",
       "      <th>url</th>\n",
       "      <th>cover_image</th>\n",
       "      <th>mod_title</th>\n",
       "    </tr>\n",
       "  </thead>\n",
       "  <tbody>\n",
       "    <tr>\n",
       "      <th>0</th>\n",
       "      <td>1333909</td>\n",
       "      <td>Good Harbor</td>\n",
       "      <td>10</td>\n",
       "      <td>https://www.goodreads.com/book/show/1333909.Go...</td>\n",
       "      <td>https://s.gr-assets.com/assets/nophoto/book/11...</td>\n",
       "      <td>good harbor</td>\n",
       "    </tr>\n",
       "    <tr>\n",
       "      <th>1</th>\n",
       "      <td>7327624</td>\n",
       "      <td>The Unschooled Wizard (Sun Wolf and Starhawk, ...</td>\n",
       "      <td>140</td>\n",
       "      <td>https://www.goodreads.com/book/show/7327624-th...</td>\n",
       "      <td>https://images.gr-assets.com/books/1304100136m...</td>\n",
       "      <td>the unschooled wizard sun wolf and starhawk 12</td>\n",
       "    </tr>\n",
       "    <tr>\n",
       "      <th>2</th>\n",
       "      <td>6066819</td>\n",
       "      <td>Best Friends Forever</td>\n",
       "      <td>51184</td>\n",
       "      <td>https://www.goodreads.com/book/show/6066819-be...</td>\n",
       "      <td>https://s.gr-assets.com/assets/nophoto/book/11...</td>\n",
       "      <td>best friends forever</td>\n",
       "    </tr>\n",
       "    <tr>\n",
       "      <th>3</th>\n",
       "      <td>287140</td>\n",
       "      <td>Runic Astrology: Starcraft and Timekeeping in ...</td>\n",
       "      <td>15</td>\n",
       "      <td>https://www.goodreads.com/book/show/287140.Run...</td>\n",
       "      <td>https://images.gr-assets.com/books/1413219371m...</td>\n",
       "      <td>runic astrology starcraft and timekeeping in t...</td>\n",
       "    </tr>\n",
       "    <tr>\n",
       "      <th>4</th>\n",
       "      <td>287141</td>\n",
       "      <td>The Aeneid for Boys and Girls</td>\n",
       "      <td>46</td>\n",
       "      <td>https://www.goodreads.com/book/show/287141.The...</td>\n",
       "      <td>https://s.gr-assets.com/assets/nophoto/book/11...</td>\n",
       "      <td>the aeneid for boys and girls</td>\n",
       "    </tr>\n",
       "  </tbody>\n",
       "</table>\n",
       "</div>"
      ],
      "text/plain": [
       "   book_id                                              title  ratings  \\\n",
       "0  1333909                                        Good Harbor       10   \n",
       "1  7327624  The Unschooled Wizard (Sun Wolf and Starhawk, ...      140   \n",
       "2  6066819                               Best Friends Forever    51184   \n",
       "3   287140  Runic Astrology: Starcraft and Timekeeping in ...       15   \n",
       "4   287141                      The Aeneid for Boys and Girls       46   \n",
       "\n",
       "                                                 url  \\\n",
       "0  https://www.goodreads.com/book/show/1333909.Go...   \n",
       "1  https://www.goodreads.com/book/show/7327624-th...   \n",
       "2  https://www.goodreads.com/book/show/6066819-be...   \n",
       "3  https://www.goodreads.com/book/show/287140.Run...   \n",
       "4  https://www.goodreads.com/book/show/287141.The...   \n",
       "\n",
       "                                         cover_image  \\\n",
       "0  https://s.gr-assets.com/assets/nophoto/book/11...   \n",
       "1  https://images.gr-assets.com/books/1304100136m...   \n",
       "2  https://s.gr-assets.com/assets/nophoto/book/11...   \n",
       "3  https://images.gr-assets.com/books/1413219371m...   \n",
       "4  https://s.gr-assets.com/assets/nophoto/book/11...   \n",
       "\n",
       "                                           mod_title  \n",
       "0                                        good harbor  \n",
       "1     the unschooled wizard sun wolf and starhawk 12  \n",
       "2                               best friends forever  \n",
       "3  runic astrology starcraft and timekeeping in t...  \n",
       "4                      the aeneid for boys and girls  "
      ]
     },
     "execution_count": 175,
     "metadata": {},
     "output_type": "execute_result"
    }
   ],
   "source": [
    "books_titles.head()   #yess"
   ]
  },
  {
   "cell_type": "markdown",
   "id": "b8a28ba6",
   "metadata": {},
   "source": [
    "## Construir un rec inicial"
   ]
  },
  {
   "cell_type": "code",
   "execution_count": null,
   "id": "43a4eb6c",
   "metadata": {},
   "outputs": [],
   "source": []
  },
  {
   "cell_type": "code",
   "execution_count": null,
   "id": "f436c325",
   "metadata": {},
   "outputs": [],
   "source": []
  },
  {
   "cell_type": "code",
   "execution_count": 174,
   "id": "104916f4",
   "metadata": {},
   "outputs": [
    {
     "data": {
      "text/html": [
       "<div>\n",
       "<style scoped>\n",
       "    .dataframe tbody tr th:only-of-type {\n",
       "        vertical-align: middle;\n",
       "    }\n",
       "\n",
       "    .dataframe tbody tr th {\n",
       "        vertical-align: top;\n",
       "    }\n",
       "\n",
       "    .dataframe thead th {\n",
       "        text-align: right;\n",
       "    }\n",
       "</style>\n",
       "<table border=\"1\" class=\"dataframe\">\n",
       "  <thead>\n",
       "    <tr style=\"text-align: right;\">\n",
       "      <th></th>\n",
       "      <th>book_id</th>\n",
       "      <th>title</th>\n",
       "      <th>ratings</th>\n",
       "      <th>url</th>\n",
       "      <th>cover_image</th>\n",
       "      <th>mod_title</th>\n",
       "    </tr>\n",
       "  </thead>\n",
       "  <tbody>\n",
       "    <tr>\n",
       "      <th>2</th>\n",
       "      <td>6066819</td>\n",
       "      <td>Best Friends Forever</td>\n",
       "      <td>51184</td>\n",
       "      <td>https://www.goodreads.com/book/show/6066819-be...</td>\n",
       "      <td>https://s.gr-assets.com/assets/nophoto/book/11...</td>\n",
       "      <td>best friends forever</td>\n",
       "    </tr>\n",
       "    <tr>\n",
       "      <th>7</th>\n",
       "      <td>287149</td>\n",
       "      <td>The Devil's Notebook</td>\n",
       "      <td>986</td>\n",
       "      <td>https://www.goodreads.com/book/show/287149.The...</td>\n",
       "      <td>https://images.gr-assets.com/books/1328768789m...</td>\n",
       "      <td>the devils notebook</td>\n",
       "    </tr>\n",
       "    <tr>\n",
       "      <th>8</th>\n",
       "      <td>6066814</td>\n",
       "      <td>Crowner Royal (Crowner John Mystery, #13)</td>\n",
       "      <td>186</td>\n",
       "      <td>https://www.goodreads.com/book/show/6066814-cr...</td>\n",
       "      <td>https://images.gr-assets.com/books/1328724803m...</td>\n",
       "      <td>crowner royal crowner john mystery 13</td>\n",
       "    </tr>\n",
       "    <tr>\n",
       "      <th>13</th>\n",
       "      <td>89375</td>\n",
       "      <td>90 Minutes in Heaven: A True Story of Death an...</td>\n",
       "      <td>68157</td>\n",
       "      <td>https://www.goodreads.com/book/show/89375.90_M...</td>\n",
       "      <td>https://s.gr-assets.com/assets/nophoto/book/11...</td>\n",
       "      <td>90 minutes in heaven a true story of death and...</td>\n",
       "    </tr>\n",
       "    <tr>\n",
       "      <th>14</th>\n",
       "      <td>89376</td>\n",
       "      <td>Heaven</td>\n",
       "      <td>7345</td>\n",
       "      <td>https://www.goodreads.com/book/show/89376.Heaven</td>\n",
       "      <td>https://images.gr-assets.com/books/1406508230m...</td>\n",
       "      <td>heaven</td>\n",
       "    </tr>\n",
       "    <tr>\n",
       "      <th>...</th>\n",
       "      <td>...</td>\n",
       "      <td>...</td>\n",
       "      <td>...</td>\n",
       "      <td>...</td>\n",
       "      <td>...</td>\n",
       "      <td>...</td>\n",
       "    </tr>\n",
       "    <tr>\n",
       "      <th>1782548</th>\n",
       "      <td>7195902</td>\n",
       "      <td>The Short Happy Life of Francis Macomber</td>\n",
       "      <td>290</td>\n",
       "      <td>https://www.goodreads.com/book/show/7195902-th...</td>\n",
       "      <td>https://images.gr-assets.com/books/1329637203m...</td>\n",
       "      <td>the short happy life of francis macomber</td>\n",
       "    </tr>\n",
       "    <tr>\n",
       "      <th>1782550</th>\n",
       "      <td>2527820</td>\n",
       "      <td>Gosick: The Novel (Gosick, #1)</td>\n",
       "      <td>557</td>\n",
       "      <td>https://www.goodreads.com/book/show/2527820.Go...</td>\n",
       "      <td>https://images.gr-assets.com/books/1346856168m...</td>\n",
       "      <td>gosick the novel gosick 1</td>\n",
       "    </tr>\n",
       "    <tr>\n",
       "      <th>1782560</th>\n",
       "      <td>26591045</td>\n",
       "      <td>The Sensible Necktie and Other Stories of Sher...</td>\n",
       "      <td>16</td>\n",
       "      <td>https://www.goodreads.com/book/show/26591045-t...</td>\n",
       "      <td>https://images.gr-assets.com/books/1444637176m...</td>\n",
       "      <td>the sensible necktie and other stories of sher...</td>\n",
       "    </tr>\n",
       "    <tr>\n",
       "      <th>1782561</th>\n",
       "      <td>25727303</td>\n",
       "      <td>Mrs. Hudson in New York</td>\n",
       "      <td>6</td>\n",
       "      <td>https://www.goodreads.com/book/show/25727303-m...</td>\n",
       "      <td>https://images.gr-assets.com/books/1434310664m...</td>\n",
       "      <td>mrs hudson in new york</td>\n",
       "    </tr>\n",
       "    <tr>\n",
       "      <th>1782575</th>\n",
       "      <td>26168430</td>\n",
       "      <td>Sherlock Holmes and the July Crisis</td>\n",
       "      <td>6</td>\n",
       "      <td>https://www.goodreads.com/book/show/26168430-s...</td>\n",
       "      <td>https://images.gr-assets.com/books/1440592011m...</td>\n",
       "      <td>sherlock holmes and the july crisis</td>\n",
       "    </tr>\n",
       "  </tbody>\n",
       "</table>\n",
       "<p>381002 rows × 6 columns</p>\n",
       "</div>"
      ],
      "text/plain": [
       "          book_id                                              title  ratings  \\\n",
       "2         6066819                               Best Friends Forever    51184   \n",
       "7          287149                               The Devil's Notebook      986   \n",
       "8         6066814          Crowner Royal (Crowner John Mystery, #13)      186   \n",
       "13          89375  90 Minutes in Heaven: A True Story of Death an...    68157   \n",
       "14          89376                                             Heaven     7345   \n",
       "...           ...                                                ...      ...   \n",
       "1782548   7195902           The Short Happy Life of Francis Macomber      290   \n",
       "1782550   2527820                     Gosick: The Novel (Gosick, #1)      557   \n",
       "1782560  26591045  The Sensible Necktie and Other Stories of Sher...       16   \n",
       "1782561  25727303                            Mrs. Hudson in New York        6   \n",
       "1782575  26168430                Sherlock Holmes and the July Crisis        6   \n",
       "\n",
       "                                                       url  \\\n",
       "2        https://www.goodreads.com/book/show/6066819-be...   \n",
       "7        https://www.goodreads.com/book/show/287149.The...   \n",
       "8        https://www.goodreads.com/book/show/6066814-cr...   \n",
       "13       https://www.goodreads.com/book/show/89375.90_M...   \n",
       "14        https://www.goodreads.com/book/show/89376.Heaven   \n",
       "...                                                    ...   \n",
       "1782548  https://www.goodreads.com/book/show/7195902-th...   \n",
       "1782550  https://www.goodreads.com/book/show/2527820.Go...   \n",
       "1782560  https://www.goodreads.com/book/show/26591045-t...   \n",
       "1782561  https://www.goodreads.com/book/show/25727303-m...   \n",
       "1782575  https://www.goodreads.com/book/show/26168430-s...   \n",
       "\n",
       "                                               cover_image  \\\n",
       "2        https://s.gr-assets.com/assets/nophoto/book/11...   \n",
       "7        https://images.gr-assets.com/books/1328768789m...   \n",
       "8        https://images.gr-assets.com/books/1328724803m...   \n",
       "13       https://s.gr-assets.com/assets/nophoto/book/11...   \n",
       "14       https://images.gr-assets.com/books/1406508230m...   \n",
       "...                                                    ...   \n",
       "1782548  https://images.gr-assets.com/books/1329637203m...   \n",
       "1782550  https://images.gr-assets.com/books/1346856168m...   \n",
       "1782560  https://images.gr-assets.com/books/1444637176m...   \n",
       "1782561  https://images.gr-assets.com/books/1434310664m...   \n",
       "1782575  https://images.gr-assets.com/books/1440592011m...   \n",
       "\n",
       "                                                 mod_title  \n",
       "2                                     best friends forever  \n",
       "7                                      the devils notebook  \n",
       "8                    crowner royal crowner john mystery 13  \n",
       "13       90 minutes in heaven a true story of death and...  \n",
       "14                                                  heaven  \n",
       "...                                                    ...  \n",
       "1782548           the short happy life of francis macomber  \n",
       "1782550                          gosick the novel gosick 1  \n",
       "1782560  the sensible necktie and other stories of sher...  \n",
       "1782561                             mrs hudson in new york  \n",
       "1782575                sherlock holmes and the july crisis  \n",
       "\n",
       "[381002 rows x 6 columns]"
      ]
     },
     "execution_count": 174,
     "metadata": {},
     "output_type": "execute_result"
    }
   ],
   "source": [
    "#encuentra todos los títulos que estén en las recomedaciones top\n",
    "\n",
    "books_titles[books_titles[\"book_id\"].isin(top_recs)]   #cuidado, VACÍO\n",
    "\n"
   ]
  },
  {
   "cell_type": "code",
   "execution_count": 161,
   "id": "95536ff6",
   "metadata": {},
   "outputs": [
    {
     "data": {
      "text/plain": [
       "88077    1694\n",
       "4671     1364\n",
       "5470     1361\n",
       "5107     1273\n",
       "7613     1207\n",
       "Name: book_id, dtype: int64"
      ]
     },
     "execution_count": 161,
     "metadata": {},
     "output_type": "execute_result"
    }
   ],
   "source": [
    "\n",
    "\n",
    "all_recs = recs[\"book_id\"].value_counts()\n",
    "all_recs.head()"
   ]
  },
  {
   "cell_type": "code",
   "execution_count": 162,
   "id": "b3be065e",
   "metadata": {},
   "outputs": [],
   "source": [
    "all_recs = all_recs.to_frame().reset_index()   \n",
    "all_recs.columns = [\"book_id\", \"book_count\"]   #renombrar porque book id estaba mal\n",
    "\n"
   ]
  },
  {
   "cell_type": "code",
   "execution_count": 163,
   "id": "f05b78ef",
   "metadata": {},
   "outputs": [
    {
     "data": {
      "text/html": [
       "<div>\n",
       "<style scoped>\n",
       "    .dataframe tbody tr th:only-of-type {\n",
       "        vertical-align: middle;\n",
       "    }\n",
       "\n",
       "    .dataframe tbody tr th {\n",
       "        vertical-align: top;\n",
       "    }\n",
       "\n",
       "    .dataframe thead th {\n",
       "        text-align: right;\n",
       "    }\n",
       "</style>\n",
       "<table border=\"1\" class=\"dataframe\">\n",
       "  <thead>\n",
       "    <tr style=\"text-align: right;\">\n",
       "      <th></th>\n",
       "      <th>book_id</th>\n",
       "      <th>book_count</th>\n",
       "    </tr>\n",
       "  </thead>\n",
       "  <tbody>\n",
       "    <tr>\n",
       "      <th>0</th>\n",
       "      <td>88077</td>\n",
       "      <td>1694</td>\n",
       "    </tr>\n",
       "    <tr>\n",
       "      <th>1</th>\n",
       "      <td>4671</td>\n",
       "      <td>1364</td>\n",
       "    </tr>\n",
       "    <tr>\n",
       "      <th>2</th>\n",
       "      <td>5470</td>\n",
       "      <td>1361</td>\n",
       "    </tr>\n",
       "    <tr>\n",
       "      <th>3</th>\n",
       "      <td>5107</td>\n",
       "      <td>1273</td>\n",
       "    </tr>\n",
       "    <tr>\n",
       "      <th>4</th>\n",
       "      <td>7613</td>\n",
       "      <td>1207</td>\n",
       "    </tr>\n",
       "  </tbody>\n",
       "</table>\n",
       "</div>"
      ],
      "text/plain": [
       "  book_id  book_count\n",
       "0   88077        1694\n",
       "1    4671        1364\n",
       "2    5470        1361\n",
       "3    5107        1273\n",
       "4    7613        1207"
      ]
     },
     "execution_count": 163,
     "metadata": {},
     "output_type": "execute_result"
    }
   ],
   "source": [
    "all_recs.head(5)\n"
   ]
  },
  {
   "cell_type": "code",
   "execution_count": 173,
   "id": "73b20fb4",
   "metadata": {},
   "outputs": [],
   "source": [
    "all_recs = all_recs.merge(books_titles, how=\"inner\", on=\"book_id\")   #el inner merge significa que si los datos no existen en los dos, que se borren\n"
   ]
  },
  {
   "cell_type": "code",
   "execution_count": 172,
   "id": "42c0d941",
   "metadata": {},
   "outputs": [],
   "source": [
    "all_recs[\"score\"] = all_recs[\"book_count\"] * (all_recs[\"book_count\"] / all_recs[\"ratings\"])\n",
    "\n",
    "\n"
   ]
  },
  {
   "cell_type": "code",
   "execution_count": 166,
   "id": "356382f3",
   "metadata": {},
   "outputs": [
    {
     "data": {
      "text/html": [
       "<div>\n",
       "<style scoped>\n",
       "    .dataframe tbody tr th:only-of-type {\n",
       "        vertical-align: middle;\n",
       "    }\n",
       "\n",
       "    .dataframe tbody tr th {\n",
       "        vertical-align: top;\n",
       "    }\n",
       "\n",
       "    .dataframe thead th {\n",
       "        text-align: right;\n",
       "    }\n",
       "</style>\n",
       "<table border=\"1\" class=\"dataframe\">\n",
       "  <thead>\n",
       "    <tr style=\"text-align: right;\">\n",
       "      <th></th>\n",
       "      <th>book_id</th>\n",
       "      <th>book_count</th>\n",
       "      <th>title</th>\n",
       "      <th>ratings</th>\n",
       "      <th>url</th>\n",
       "      <th>cover_image</th>\n",
       "      <th>mod_title</th>\n",
       "      <th>score</th>\n",
       "    </tr>\n",
       "  </thead>\n",
       "  <tbody>\n",
       "    <tr>\n",
       "      <th>0</th>\n",
       "      <td>88077</td>\n",
       "      <td>1694</td>\n",
       "      <td>The Magic Mountain</td>\n",
       "      <td>21536</td>\n",
       "      <td>https://www.goodreads.com/book/show/88077.The_...</td>\n",
       "      <td>https://images.gr-assets.com/books/1403170928m...</td>\n",
       "      <td>the magic mountain</td>\n",
       "      <td>133.248328</td>\n",
       "    </tr>\n",
       "    <tr>\n",
       "      <th>213</th>\n",
       "      <td>527756</td>\n",
       "      <td>345</td>\n",
       "      <td>The Man Without Qualities</td>\n",
       "      <td>3738</td>\n",
       "      <td>https://www.goodreads.com/book/show/527756.The...</td>\n",
       "      <td>https://images.gr-assets.com/books/1327330533m...</td>\n",
       "      <td>the man without qualities</td>\n",
       "      <td>31.841894</td>\n",
       "    </tr>\n",
       "    <tr>\n",
       "      <th>391</th>\n",
       "      <td>883438</td>\n",
       "      <td>240</td>\n",
       "      <td>East of Eden</td>\n",
       "      <td>2336</td>\n",
       "      <td>https://www.goodreads.com/book/show/883438.Eas...</td>\n",
       "      <td>https://images.gr-assets.com/books/1503315060m...</td>\n",
       "      <td>east of eden</td>\n",
       "      <td>24.657534</td>\n",
       "    </tr>\n",
       "    <tr>\n",
       "      <th>804</th>\n",
       "      <td>238367</td>\n",
       "      <td>145</td>\n",
       "      <td>The Sleepwalkers</td>\n",
       "      <td>890</td>\n",
       "      <td>https://www.goodreads.com/book/show/238367.The...</td>\n",
       "      <td>https://s.gr-assets.com/assets/nophoto/book/11...</td>\n",
       "      <td>the sleepwalkers</td>\n",
       "      <td>23.623596</td>\n",
       "    </tr>\n",
       "    <tr>\n",
       "      <th>172</th>\n",
       "      <td>34440</td>\n",
       "      <td>386</td>\n",
       "      <td>Doctor Faustus</td>\n",
       "      <td>6621</td>\n",
       "      <td>https://www.goodreads.com/book/show/34440.Doct...</td>\n",
       "      <td>https://images.gr-assets.com/books/1403189005m...</td>\n",
       "      <td>doctor faustus</td>\n",
       "      <td>22.503549</td>\n",
       "    </tr>\n",
       "    <tr>\n",
       "      <th>994</th>\n",
       "      <td>54008</td>\n",
       "      <td>123</td>\n",
       "      <td>Rayuela</td>\n",
       "      <td>806</td>\n",
       "      <td>https://www.goodreads.com/book/show/54008.Rayuela</td>\n",
       "      <td>https://images.gr-assets.com/books/1329416331m...</td>\n",
       "      <td>rayuela</td>\n",
       "      <td>18.770471</td>\n",
       "    </tr>\n",
       "    <tr>\n",
       "      <th>105</th>\n",
       "      <td>80890</td>\n",
       "      <td>482</td>\n",
       "      <td>Buddenbrooks: The Decline of a Family</td>\n",
       "      <td>12428</td>\n",
       "      <td>https://www.goodreads.com/book/show/80890.Budd...</td>\n",
       "      <td>https://images.gr-assets.com/books/1337128414m...</td>\n",
       "      <td>buddenbrooks the decline of a family</td>\n",
       "      <td>18.693595</td>\n",
       "    </tr>\n",
       "    <tr>\n",
       "      <th>1347</th>\n",
       "      <td>27426</td>\n",
       "      <td>98</td>\n",
       "      <td>The Death of Virgil</td>\n",
       "      <td>658</td>\n",
       "      <td>https://www.goodreads.com/book/show/27426.The_...</td>\n",
       "      <td>https://s.gr-assets.com/assets/nophoto/book/11...</td>\n",
       "      <td>the death of virgil</td>\n",
       "      <td>14.595745</td>\n",
       "    </tr>\n",
       "    <tr>\n",
       "      <th>1022</th>\n",
       "      <td>88076</td>\n",
       "      <td>120</td>\n",
       "      <td>Joseph and His Brothers</td>\n",
       "      <td>1111</td>\n",
       "      <td>https://www.goodreads.com/book/show/88076.Jose...</td>\n",
       "      <td>https://images.gr-assets.com/books/1320550455m...</td>\n",
       "      <td>joseph and his brothers</td>\n",
       "      <td>12.961296</td>\n",
       "    </tr>\n",
       "    <tr>\n",
       "      <th>8994</th>\n",
       "      <td>9624993</td>\n",
       "      <td>21</td>\n",
       "      <td>The Mirror and the Light (Thomas Cromwell, #3)</td>\n",
       "      <td>40</td>\n",
       "      <td>https://www.goodreads.com/book/show/9624993-th...</td>\n",
       "      <td>https://s.gr-assets.com/assets/nophoto/book/11...</td>\n",
       "      <td>the mirror and the light thomas cromwell 3</td>\n",
       "      <td>11.025000</td>\n",
       "    </tr>\n",
       "  </tbody>\n",
       "</table>\n",
       "</div>"
      ],
      "text/plain": [
       "      book_id  book_count                                           title  \\\n",
       "0       88077        1694                              The Magic Mountain   \n",
       "213    527756         345                       The Man Without Qualities   \n",
       "391    883438         240                                    East of Eden   \n",
       "804    238367         145                                The Sleepwalkers   \n",
       "172     34440         386                                  Doctor Faustus   \n",
       "994     54008         123                                         Rayuela   \n",
       "105     80890         482           Buddenbrooks: The Decline of a Family   \n",
       "1347    27426          98                             The Death of Virgil   \n",
       "1022    88076         120                         Joseph and His Brothers   \n",
       "8994  9624993          21  The Mirror and the Light (Thomas Cromwell, #3)   \n",
       "\n",
       "      ratings                                                url  \\\n",
       "0       21536  https://www.goodreads.com/book/show/88077.The_...   \n",
       "213      3738  https://www.goodreads.com/book/show/527756.The...   \n",
       "391      2336  https://www.goodreads.com/book/show/883438.Eas...   \n",
       "804       890  https://www.goodreads.com/book/show/238367.The...   \n",
       "172      6621  https://www.goodreads.com/book/show/34440.Doct...   \n",
       "994       806  https://www.goodreads.com/book/show/54008.Rayuela   \n",
       "105     12428  https://www.goodreads.com/book/show/80890.Budd...   \n",
       "1347      658  https://www.goodreads.com/book/show/27426.The_...   \n",
       "1022     1111  https://www.goodreads.com/book/show/88076.Jose...   \n",
       "8994       40  https://www.goodreads.com/book/show/9624993-th...   \n",
       "\n",
       "                                            cover_image  \\\n",
       "0     https://images.gr-assets.com/books/1403170928m...   \n",
       "213   https://images.gr-assets.com/books/1327330533m...   \n",
       "391   https://images.gr-assets.com/books/1503315060m...   \n",
       "804   https://s.gr-assets.com/assets/nophoto/book/11...   \n",
       "172   https://images.gr-assets.com/books/1403189005m...   \n",
       "994   https://images.gr-assets.com/books/1329416331m...   \n",
       "105   https://images.gr-assets.com/books/1337128414m...   \n",
       "1347  https://s.gr-assets.com/assets/nophoto/book/11...   \n",
       "1022  https://images.gr-assets.com/books/1320550455m...   \n",
       "8994  https://s.gr-assets.com/assets/nophoto/book/11...   \n",
       "\n",
       "                                       mod_title       score  \n",
       "0                             the magic mountain  133.248328  \n",
       "213                    the man without qualities   31.841894  \n",
       "391                                 east of eden   24.657534  \n",
       "804                             the sleepwalkers   23.623596  \n",
       "172                               doctor faustus   22.503549  \n",
       "994                                      rayuela   18.770471  \n",
       "105         buddenbrooks the decline of a family   18.693595  \n",
       "1347                         the death of virgil   14.595745  \n",
       "1022                     joseph and his brothers   12.961296  \n",
       "8994  the mirror and the light thomas cromwell 3   11.025000  "
      ]
     },
     "execution_count": 166,
     "metadata": {},
     "output_type": "execute_result"
    }
   ],
   "source": [
    "all_recs.sort_values(\"score\", ascending=False).head(10)\n"
   ]
  },
  {
   "cell_type": "code",
   "execution_count": 168,
   "id": "33bee405",
   "metadata": {},
   "outputs": [
    {
     "data": {
      "text/html": [
       "<div>\n",
       "<style scoped>\n",
       "    .dataframe tbody tr th:only-of-type {\n",
       "        vertical-align: middle;\n",
       "    }\n",
       "\n",
       "    .dataframe tbody tr th {\n",
       "        vertical-align: top;\n",
       "    }\n",
       "\n",
       "    .dataframe thead th {\n",
       "        text-align: right;\n",
       "    }\n",
       "</style>\n",
       "<table border=\"1\" class=\"dataframe\">\n",
       "  <thead>\n",
       "    <tr style=\"text-align: right;\">\n",
       "      <th></th>\n",
       "      <th>book_id</th>\n",
       "      <th>book_count</th>\n",
       "      <th>title</th>\n",
       "      <th>ratings</th>\n",
       "      <th>url</th>\n",
       "      <th>cover_image</th>\n",
       "      <th>mod_title</th>\n",
       "      <th>score</th>\n",
       "    </tr>\n",
       "  </thead>\n",
       "  <tbody>\n",
       "    <tr>\n",
       "      <th>0</th>\n",
       "      <td>88077</td>\n",
       "      <td>1694</td>\n",
       "      <td>The Magic Mountain</td>\n",
       "      <td>21536</td>\n",
       "      <td>https://www.goodreads.com/book/show/88077.The_...</td>\n",
       "      <td>https://images.gr-assets.com/books/1403170928m...</td>\n",
       "      <td>the magic mountain</td>\n",
       "      <td>133.248328</td>\n",
       "    </tr>\n",
       "    <tr>\n",
       "      <th>213</th>\n",
       "      <td>527756</td>\n",
       "      <td>345</td>\n",
       "      <td>The Man Without Qualities</td>\n",
       "      <td>3738</td>\n",
       "      <td>https://www.goodreads.com/book/show/527756.The...</td>\n",
       "      <td>https://images.gr-assets.com/books/1327330533m...</td>\n",
       "      <td>the man without qualities</td>\n",
       "      <td>31.841894</td>\n",
       "    </tr>\n",
       "    <tr>\n",
       "      <th>391</th>\n",
       "      <td>883438</td>\n",
       "      <td>240</td>\n",
       "      <td>East of Eden</td>\n",
       "      <td>2336</td>\n",
       "      <td>https://www.goodreads.com/book/show/883438.Eas...</td>\n",
       "      <td>https://images.gr-assets.com/books/1503315060m...</td>\n",
       "      <td>east of eden</td>\n",
       "      <td>24.657534</td>\n",
       "    </tr>\n",
       "    <tr>\n",
       "      <th>172</th>\n",
       "      <td>34440</td>\n",
       "      <td>386</td>\n",
       "      <td>Doctor Faustus</td>\n",
       "      <td>6621</td>\n",
       "      <td>https://www.goodreads.com/book/show/34440.Doct...</td>\n",
       "      <td>https://images.gr-assets.com/books/1403189005m...</td>\n",
       "      <td>doctor faustus</td>\n",
       "      <td>22.503549</td>\n",
       "    </tr>\n",
       "    <tr>\n",
       "      <th>105</th>\n",
       "      <td>80890</td>\n",
       "      <td>482</td>\n",
       "      <td>Buddenbrooks: The Decline of a Family</td>\n",
       "      <td>12428</td>\n",
       "      <td>https://www.goodreads.com/book/show/80890.Budd...</td>\n",
       "      <td>https://images.gr-assets.com/books/1337128414m...</td>\n",
       "      <td>buddenbrooks the decline of a family</td>\n",
       "      <td>18.693595</td>\n",
       "    </tr>\n",
       "    <tr>\n",
       "      <th>374</th>\n",
       "      <td>18796</td>\n",
       "      <td>247</td>\n",
       "      <td>In Search of Lost Time  (À la recherche du tem...</td>\n",
       "      <td>6670</td>\n",
       "      <td>https://www.goodreads.com/book/show/18796.In_S...</td>\n",
       "      <td>https://images.gr-assets.com/books/1352231701m...</td>\n",
       "      <td>in search of lost time   la recherche du temps...</td>\n",
       "      <td>9.146777</td>\n",
       "    </tr>\n",
       "    <tr>\n",
       "      <th>112</th>\n",
       "      <td>12749</td>\n",
       "      <td>470</td>\n",
       "      <td>Swann's Way (In Search of Lost Time, #1)</td>\n",
       "      <td>25329</td>\n",
       "      <td>https://www.goodreads.com/book/show/12749.Swan...</td>\n",
       "      <td>https://images.gr-assets.com/books/1452956236m...</td>\n",
       "      <td>swanns way in search of lost time 1</td>\n",
       "      <td>8.721229</td>\n",
       "    </tr>\n",
       "    <tr>\n",
       "      <th>258</th>\n",
       "      <td>53064</td>\n",
       "      <td>313</td>\n",
       "      <td>Death in Venice and Other Tales</td>\n",
       "      <td>12215</td>\n",
       "      <td>https://www.goodreads.com/book/show/53064.Deat...</td>\n",
       "      <td>https://images.gr-assets.com/books/1309376701m...</td>\n",
       "      <td>death in venice and other tales</td>\n",
       "      <td>8.020385</td>\n",
       "    </tr>\n",
       "    <tr>\n",
       "      <th>182</th>\n",
       "      <td>53061</td>\n",
       "      <td>375</td>\n",
       "      <td>Death in Venice</td>\n",
       "      <td>17958</td>\n",
       "      <td>https://www.goodreads.com/book/show/53061.Deat...</td>\n",
       "      <td>https://images.gr-assets.com/books/1410132000m...</td>\n",
       "      <td>death in venice</td>\n",
       "      <td>7.830772</td>\n",
       "    </tr>\n",
       "    <tr>\n",
       "      <th>144</th>\n",
       "      <td>35743</td>\n",
       "      <td>414</td>\n",
       "      <td>The Tin Drum</td>\n",
       "      <td>25915</td>\n",
       "      <td>https://www.goodreads.com/book/show/35743.The_...</td>\n",
       "      <td>https://images.gr-assets.com/books/1327945103m...</td>\n",
       "      <td>the tin drum</td>\n",
       "      <td>6.613776</td>\n",
       "    </tr>\n",
       "  </tbody>\n",
       "</table>\n",
       "</div>"
      ],
      "text/plain": [
       "    book_id  book_count                                              title  \\\n",
       "0     88077        1694                                 The Magic Mountain   \n",
       "213  527756         345                          The Man Without Qualities   \n",
       "391  883438         240                                       East of Eden   \n",
       "172   34440         386                                     Doctor Faustus   \n",
       "105   80890         482              Buddenbrooks: The Decline of a Family   \n",
       "374   18796         247  In Search of Lost Time  (À la recherche du tem...   \n",
       "112   12749         470           Swann's Way (In Search of Lost Time, #1)   \n",
       "258   53064         313                    Death in Venice and Other Tales   \n",
       "182   53061         375                                    Death in Venice   \n",
       "144   35743         414                                       The Tin Drum   \n",
       "\n",
       "     ratings                                                url  \\\n",
       "0      21536  https://www.goodreads.com/book/show/88077.The_...   \n",
       "213     3738  https://www.goodreads.com/book/show/527756.The...   \n",
       "391     2336  https://www.goodreads.com/book/show/883438.Eas...   \n",
       "172     6621  https://www.goodreads.com/book/show/34440.Doct...   \n",
       "105    12428  https://www.goodreads.com/book/show/80890.Budd...   \n",
       "374     6670  https://www.goodreads.com/book/show/18796.In_S...   \n",
       "112    25329  https://www.goodreads.com/book/show/12749.Swan...   \n",
       "258    12215  https://www.goodreads.com/book/show/53064.Deat...   \n",
       "182    17958  https://www.goodreads.com/book/show/53061.Deat...   \n",
       "144    25915  https://www.goodreads.com/book/show/35743.The_...   \n",
       "\n",
       "                                           cover_image  \\\n",
       "0    https://images.gr-assets.com/books/1403170928m...   \n",
       "213  https://images.gr-assets.com/books/1327330533m...   \n",
       "391  https://images.gr-assets.com/books/1503315060m...   \n",
       "172  https://images.gr-assets.com/books/1403189005m...   \n",
       "105  https://images.gr-assets.com/books/1337128414m...   \n",
       "374  https://images.gr-assets.com/books/1352231701m...   \n",
       "112  https://images.gr-assets.com/books/1452956236m...   \n",
       "258  https://images.gr-assets.com/books/1309376701m...   \n",
       "182  https://images.gr-assets.com/books/1410132000m...   \n",
       "144  https://images.gr-assets.com/books/1327945103m...   \n",
       "\n",
       "                                             mod_title       score  \n",
       "0                                   the magic mountain  133.248328  \n",
       "213                          the man without qualities   31.841894  \n",
       "391                                       east of eden   24.657534  \n",
       "172                                     doctor faustus   22.503549  \n",
       "105               buddenbrooks the decline of a family   18.693595  \n",
       "374  in search of lost time   la recherche du temps...    9.146777  \n",
       "112                swanns way in search of lost time 1    8.721229  \n",
       "258                    death in venice and other tales    8.020385  \n",
       "182                                    death in venice    7.830772  \n",
       "144                                       the tin drum    6.613776  "
      ]
     },
     "execution_count": 168,
     "metadata": {},
     "output_type": "execute_result"
    }
   ],
   "source": [
    "all_recs[all_recs[\"book_count\"] > 200].sort_values(\"score\", ascending=False).head(10)\n"
   ]
  },
  {
   "cell_type": "code",
   "execution_count": null,
   "id": "b58d3df4",
   "metadata": {},
   "outputs": [],
   "source": []
  },
  {
   "cell_type": "code",
   "execution_count": 169,
   "id": "529622b1",
   "metadata": {},
   "outputs": [],
   "source": [
    "popular_recs = all_recs[all_recs[\"book_count\"] > 200].sort_values(\"score\", ascending=False)  #esto ordena top 10\n"
   ]
  },
  {
   "cell_type": "code",
   "execution_count": null,
   "id": "fdef6918",
   "metadata": {},
   "outputs": [],
   "source": []
  },
  {
   "cell_type": "code",
   "execution_count": 182,
   "id": "9e8e4cde",
   "metadata": {},
   "outputs": [
    {
     "data": {
      "text/html": [
       "<style type=\"text/css\">\n",
       "</style>\n",
       "<table id=\"T_e1293_\">\n",
       "  <thead>\n",
       "    <tr>\n",
       "      <th class=\"blank level0\" >&nbsp;</th>\n",
       "      <th class=\"col_heading level0 col0\" >book_id</th>\n",
       "      <th class=\"col_heading level0 col1\" >book_count</th>\n",
       "      <th class=\"col_heading level0 col2\" >title</th>\n",
       "      <th class=\"col_heading level0 col3\" >ratings</th>\n",
       "      <th class=\"col_heading level0 col4\" >url</th>\n",
       "      <th class=\"col_heading level0 col5\" >cover_image</th>\n",
       "      <th class=\"col_heading level0 col6\" >mod_title</th>\n",
       "      <th class=\"col_heading level0 col7\" >score</th>\n",
       "    </tr>\n",
       "  </thead>\n",
       "  <tbody>\n",
       "    <tr>\n",
       "      <th id=\"T_e1293_level0_row0\" class=\"row_heading level0 row0\" >213</th>\n",
       "      <td id=\"T_e1293_row0_col0\" class=\"data row0 col0\" >527756</td>\n",
       "      <td id=\"T_e1293_row0_col1\" class=\"data row0 col1\" >345</td>\n",
       "      <td id=\"T_e1293_row0_col2\" class=\"data row0 col2\" >The Man Without Qualities</td>\n",
       "      <td id=\"T_e1293_row0_col3\" class=\"data row0 col3\" >3738</td>\n",
       "      <td id=\"T_e1293_row0_col4\" class=\"data row0 col4\" ><a target=\"_blank\" href=\"https://www.goodreads.com/book/show/527756.The_Man_Without_Qualities\">Goodreads</a></td>\n",
       "      <td id=\"T_e1293_row0_col5\" class=\"data row0 col5\" ><a href=\"https://images.gr-assets.com/books/1327330533m/527756.jpg\"><img src=\"https://images.gr-assets.com/books/1327330533m/527756.jpg\" width=50></img></a></td>\n",
       "      <td id=\"T_e1293_row0_col6\" class=\"data row0 col6\" >the man without qualities</td>\n",
       "      <td id=\"T_e1293_row0_col7\" class=\"data row0 col7\" >31.841894</td>\n",
       "    </tr>\n",
       "    <tr>\n",
       "      <th id=\"T_e1293_level0_row1\" class=\"row_heading level0 row1\" >172</th>\n",
       "      <td id=\"T_e1293_row1_col0\" class=\"data row1 col0\" >34440</td>\n",
       "      <td id=\"T_e1293_row1_col1\" class=\"data row1 col1\" >386</td>\n",
       "      <td id=\"T_e1293_row1_col2\" class=\"data row1 col2\" >Doctor Faustus</td>\n",
       "      <td id=\"T_e1293_row1_col3\" class=\"data row1 col3\" >6621</td>\n",
       "      <td id=\"T_e1293_row1_col4\" class=\"data row1 col4\" ><a target=\"_blank\" href=\"https://www.goodreads.com/book/show/34440.Doctor_Faustus\">Goodreads</a></td>\n",
       "      <td id=\"T_e1293_row1_col5\" class=\"data row1 col5\" ><a href=\"https://images.gr-assets.com/books/1403189005m/34440.jpg\"><img src=\"https://images.gr-assets.com/books/1403189005m/34440.jpg\" width=50></img></a></td>\n",
       "      <td id=\"T_e1293_row1_col6\" class=\"data row1 col6\" >doctor faustus</td>\n",
       "      <td id=\"T_e1293_row1_col7\" class=\"data row1 col7\" >22.503549</td>\n",
       "    </tr>\n",
       "    <tr>\n",
       "      <th id=\"T_e1293_level0_row2\" class=\"row_heading level0 row2\" >105</th>\n",
       "      <td id=\"T_e1293_row2_col0\" class=\"data row2 col0\" >80890</td>\n",
       "      <td id=\"T_e1293_row2_col1\" class=\"data row2 col1\" >482</td>\n",
       "      <td id=\"T_e1293_row2_col2\" class=\"data row2 col2\" >Buddenbrooks: The Decline of a Family</td>\n",
       "      <td id=\"T_e1293_row2_col3\" class=\"data row2 col3\" >12428</td>\n",
       "      <td id=\"T_e1293_row2_col4\" class=\"data row2 col4\" ><a target=\"_blank\" href=\"https://www.goodreads.com/book/show/80890.Buddenbrooks\">Goodreads</a></td>\n",
       "      <td id=\"T_e1293_row2_col5\" class=\"data row2 col5\" ><a href=\"https://images.gr-assets.com/books/1337128414m/80890.jpg\"><img src=\"https://images.gr-assets.com/books/1337128414m/80890.jpg\" width=50></img></a></td>\n",
       "      <td id=\"T_e1293_row2_col6\" class=\"data row2 col6\" >buddenbrooks the decline of a family</td>\n",
       "      <td id=\"T_e1293_row2_col7\" class=\"data row2 col7\" >18.693595</td>\n",
       "    </tr>\n",
       "    <tr>\n",
       "      <th id=\"T_e1293_level0_row3\" class=\"row_heading level0 row3\" >374</th>\n",
       "      <td id=\"T_e1293_row3_col0\" class=\"data row3 col0\" >18796</td>\n",
       "      <td id=\"T_e1293_row3_col1\" class=\"data row3 col1\" >247</td>\n",
       "      <td id=\"T_e1293_row3_col2\" class=\"data row3 col2\" >In Search of Lost Time  (À la recherche du temps perdu #1-7)</td>\n",
       "      <td id=\"T_e1293_row3_col3\" class=\"data row3 col3\" >6670</td>\n",
       "      <td id=\"T_e1293_row3_col4\" class=\"data row3 col4\" ><a target=\"_blank\" href=\"https://www.goodreads.com/book/show/18796.In_Search_of_Lost_Time\">Goodreads</a></td>\n",
       "      <td id=\"T_e1293_row3_col5\" class=\"data row3 col5\" ><a href=\"https://images.gr-assets.com/books/1352231701m/18796.jpg\"><img src=\"https://images.gr-assets.com/books/1352231701m/18796.jpg\" width=50></img></a></td>\n",
       "      <td id=\"T_e1293_row3_col6\" class=\"data row3 col6\" >in search of lost time   la recherche du temps perdu 17</td>\n",
       "      <td id=\"T_e1293_row3_col7\" class=\"data row3 col7\" >9.146777</td>\n",
       "    </tr>\n",
       "    <tr>\n",
       "      <th id=\"T_e1293_level0_row4\" class=\"row_heading level0 row4\" >112</th>\n",
       "      <td id=\"T_e1293_row4_col0\" class=\"data row4 col0\" >12749</td>\n",
       "      <td id=\"T_e1293_row4_col1\" class=\"data row4 col1\" >470</td>\n",
       "      <td id=\"T_e1293_row4_col2\" class=\"data row4 col2\" >Swann's Way (In Search of Lost Time, #1)</td>\n",
       "      <td id=\"T_e1293_row4_col3\" class=\"data row4 col3\" >25329</td>\n",
       "      <td id=\"T_e1293_row4_col4\" class=\"data row4 col4\" ><a target=\"_blank\" href=\"https://www.goodreads.com/book/show/12749.Swann_s_Way\">Goodreads</a></td>\n",
       "      <td id=\"T_e1293_row4_col5\" class=\"data row4 col5\" ><a href=\"https://images.gr-assets.com/books/1452956236m/12749.jpg\"><img src=\"https://images.gr-assets.com/books/1452956236m/12749.jpg\" width=50></img></a></td>\n",
       "      <td id=\"T_e1293_row4_col6\" class=\"data row4 col6\" >swanns way in search of lost time 1</td>\n",
       "      <td id=\"T_e1293_row4_col7\" class=\"data row4 col7\" >8.721229</td>\n",
       "    </tr>\n",
       "    <tr>\n",
       "      <th id=\"T_e1293_level0_row5\" class=\"row_heading level0 row5\" >258</th>\n",
       "      <td id=\"T_e1293_row5_col0\" class=\"data row5 col0\" >53064</td>\n",
       "      <td id=\"T_e1293_row5_col1\" class=\"data row5 col1\" >313</td>\n",
       "      <td id=\"T_e1293_row5_col2\" class=\"data row5 col2\" >Death in Venice and Other Tales</td>\n",
       "      <td id=\"T_e1293_row5_col3\" class=\"data row5 col3\" >12215</td>\n",
       "      <td id=\"T_e1293_row5_col4\" class=\"data row5 col4\" ><a target=\"_blank\" href=\"https://www.goodreads.com/book/show/53064.Death_in_Venice_and_Other_Tales\">Goodreads</a></td>\n",
       "      <td id=\"T_e1293_row5_col5\" class=\"data row5 col5\" ><a href=\"https://images.gr-assets.com/books/1309376701m/53064.jpg\"><img src=\"https://images.gr-assets.com/books/1309376701m/53064.jpg\" width=50></img></a></td>\n",
       "      <td id=\"T_e1293_row5_col6\" class=\"data row5 col6\" >death in venice and other tales</td>\n",
       "      <td id=\"T_e1293_row5_col7\" class=\"data row5 col7\" >8.020385</td>\n",
       "    </tr>\n",
       "    <tr>\n",
       "      <th id=\"T_e1293_level0_row6\" class=\"row_heading level0 row6\" >182</th>\n",
       "      <td id=\"T_e1293_row6_col0\" class=\"data row6 col0\" >53061</td>\n",
       "      <td id=\"T_e1293_row6_col1\" class=\"data row6 col1\" >375</td>\n",
       "      <td id=\"T_e1293_row6_col2\" class=\"data row6 col2\" >Death in Venice</td>\n",
       "      <td id=\"T_e1293_row6_col3\" class=\"data row6 col3\" >17958</td>\n",
       "      <td id=\"T_e1293_row6_col4\" class=\"data row6 col4\" ><a target=\"_blank\" href=\"https://www.goodreads.com/book/show/53061.Death_in_Venice\">Goodreads</a></td>\n",
       "      <td id=\"T_e1293_row6_col5\" class=\"data row6 col5\" ><a href=\"https://images.gr-assets.com/books/1410132000m/53061.jpg\"><img src=\"https://images.gr-assets.com/books/1410132000m/53061.jpg\" width=50></img></a></td>\n",
       "      <td id=\"T_e1293_row6_col6\" class=\"data row6 col6\" >death in venice</td>\n",
       "      <td id=\"T_e1293_row6_col7\" class=\"data row6 col7\" >7.830772</td>\n",
       "    </tr>\n",
       "    <tr>\n",
       "      <th id=\"T_e1293_level0_row7\" class=\"row_heading level0 row7\" >144</th>\n",
       "      <td id=\"T_e1293_row7_col0\" class=\"data row7 col0\" >35743</td>\n",
       "      <td id=\"T_e1293_row7_col1\" class=\"data row7 col1\" >414</td>\n",
       "      <td id=\"T_e1293_row7_col2\" class=\"data row7 col2\" >The Tin Drum</td>\n",
       "      <td id=\"T_e1293_row7_col3\" class=\"data row7 col3\" >25915</td>\n",
       "      <td id=\"T_e1293_row7_col4\" class=\"data row7 col4\" ><a target=\"_blank\" href=\"https://www.goodreads.com/book/show/35743.The_Tin_Drum\">Goodreads</a></td>\n",
       "      <td id=\"T_e1293_row7_col5\" class=\"data row7 col5\" ><a href=\"https://images.gr-assets.com/books/1327945103m/35743.jpg\"><img src=\"https://images.gr-assets.com/books/1327945103m/35743.jpg\" width=50></img></a></td>\n",
       "      <td id=\"T_e1293_row7_col6\" class=\"data row7 col6\" >the tin drum</td>\n",
       "      <td id=\"T_e1293_row7_col7\" class=\"data row7 col7\" >6.613776</td>\n",
       "    </tr>\n",
       "    <tr>\n",
       "      <th id=\"T_e1293_level0_row8\" class=\"row_heading level0 row8\" >225</th>\n",
       "      <td id=\"T_e1293_row8_col0\" class=\"data row8 col0\" >12395</td>\n",
       "      <td id=\"T_e1293_row8_col1\" class=\"data row8 col1\" >336</td>\n",
       "      <td id=\"T_e1293_row8_col2\" class=\"data row8 col2\" >Journey to the End of the Night</td>\n",
       "      <td id=\"T_e1293_row8_col3\" class=\"data row8 col3\" >17889</td>\n",
       "      <td id=\"T_e1293_row8_col4\" class=\"data row8 col4\" ><a target=\"_blank\" href=\"https://www.goodreads.com/book/show/12395.Journey_to_the_End_of_the_Night\">Goodreads</a></td>\n",
       "      <td id=\"T_e1293_row8_col5\" class=\"data row8 col5\" ><a href=\"https://images.gr-assets.com/books/1462934409m/12395.jpg\"><img src=\"https://images.gr-assets.com/books/1462934409m/12395.jpg\" width=50></img></a></td>\n",
       "      <td id=\"T_e1293_row8_col6\" class=\"data row8 col6\" >journey to the end of the night</td>\n",
       "      <td id=\"T_e1293_row8_col7\" class=\"data row8 col7\" >6.310917</td>\n",
       "    </tr>\n",
       "    <tr>\n",
       "      <th id=\"T_e1293_level0_row9\" class=\"row_heading level0 row9\" >117</th>\n",
       "      <td id=\"T_e1293_row9_col0\" class=\"data row9 col0\" >14662</td>\n",
       "      <td id=\"T_e1293_row9_col1\" class=\"data row9 col1\" >459</td>\n",
       "      <td id=\"T_e1293_row9_col2\" class=\"data row9 col2\" >The Red and the Black</td>\n",
       "      <td id=\"T_e1293_row9_col3\" class=\"data row9 col3\" >34172</td>\n",
       "      <td id=\"T_e1293_row9_col4\" class=\"data row9 col4\" ><a target=\"_blank\" href=\"https://www.goodreads.com/book/show/14662.The_Red_and_the_Black\">Goodreads</a></td>\n",
       "      <td id=\"T_e1293_row9_col5\" class=\"data row9 col5\" ><a href=\"https://s.gr-assets.com/assets/nophoto/book/111x148-bcc042a9c91a29c1d680899eff700a03.png\"><img src=\"https://s.gr-assets.com/assets/nophoto/book/111x148-bcc042a9c91a29c1d680899eff700a03.png\" width=50></img></a></td>\n",
       "      <td id=\"T_e1293_row9_col6\" class=\"data row9 col6\" >the red and the black</td>\n",
       "      <td id=\"T_e1293_row9_col7\" class=\"data row9 col7\" >6.165311</td>\n",
       "    </tr>\n",
       "  </tbody>\n",
       "</table>\n"
      ],
      "text/plain": [
       "<pandas.io.formats.style.Styler at 0x7fb642c01340>"
      ]
     },
     "execution_count": 182,
     "metadata": {},
     "output_type": "execute_result"
    }
   ],
   "source": [
    "#esta función hace clockable y eso. usadas antes tambíen\n",
    "#Y sí, las recomendaciones corresponden 🙃\n",
    "\n",
    "def make_clickable(val):\n",
    "    return '<a target=\"_blank\" href=\"{}\">Goodreads</a>'.format(val, val)\n",
    "\n",
    "def show_image(val):\n",
    "    return '<a href=\"{}\"><img src=\"{}\" width=50></img></a>'.format(val, val)\n",
    "\n",
    "#Usar  las formulas para que se muestre en plan bonito\n",
    "#filtra donde el boook id esté, para que no muestre libros que ya hemos leído y le damos formato\n",
    "\n",
    "popular_recs[~popular_recs[\"book_id\"].isin(liked_books)].head(10).style.format({'url': make_clickable, 'cover_image': show_image})\n",
    "\n",
    "\n"
   ]
  },
  {
   "cell_type": "code",
   "execution_count": null,
   "id": "17917198",
   "metadata": {},
   "outputs": [],
   "source": [
    "# próximos pasos\n",
    "#Se puede hacer filtro colaborativo"
   ]
  },
  {
   "cell_type": "code",
   "execution_count": null,
   "id": "2daa8450",
   "metadata": {},
   "outputs": [],
   "source": []
  },
  {
   "cell_type": "code",
   "execution_count": 187,
   "id": "cc332e46",
   "metadata": {},
   "outputs": [
    {
     "data": {
      "text/plain": [
       "6"
      ]
     },
     "execution_count": 187,
     "metadata": {},
     "output_type": "execute_result"
    }
   ],
   "source": []
  },
  {
   "cell_type": "markdown",
   "id": "835bb23c",
   "metadata": {},
   "source": [
    "# Filtro colaborativo"
   ]
  },
  {
   "cell_type": "code",
   "execution_count": 239,
   "id": "aa2c2dc5",
   "metadata": {},
   "outputs": [],
   "source": [
    "# book_id_map.csv une book id csd y book id. \n"
   ]
  },
  {
   "cell_type": "code",
   "execution_count": 243,
   "id": "835fe4da",
   "metadata": {},
   "outputs": [],
   "source": [
    "import numpy as np"
   ]
  },
  {
   "cell_type": "code",
   "execution_count": 240,
   "id": "a2ee55c9",
   "metadata": {},
   "outputs": [],
   "source": [
    "from scipy.sparse import coo_matrix"
   ]
  },
  {
   "cell_type": "code",
   "execution_count": 244,
   "id": "fc390cb5",
   "metadata": {},
   "outputs": [],
   "source": [
    "from sklearn.metrics.pairwise import cosine_similarity"
   ]
  },
  {
   "cell_type": "code",
   "execution_count": 202,
   "id": "d6314364",
   "metadata": {},
   "outputs": [],
   "source": [
    "#pd.read_csv('../data/Wholesale customers data.csv')\n",
    "my_books = pd.read_csv(\"liked_books.csv\", sep=';')\n"
   ]
  },
  {
   "cell_type": "code",
   "execution_count": 205,
   "id": "790cb1b6",
   "metadata": {},
   "outputs": [
    {
     "data": {
      "text/html": [
       "<div>\n",
       "<style scoped>\n",
       "    .dataframe tbody tr th:only-of-type {\n",
       "        vertical-align: middle;\n",
       "    }\n",
       "\n",
       "    .dataframe tbody tr th {\n",
       "        vertical-align: top;\n",
       "    }\n",
       "\n",
       "    .dataframe thead th {\n",
       "        text-align: right;\n",
       "    }\n",
       "</style>\n",
       "<table border=\"1\" class=\"dataframe\">\n",
       "  <thead>\n",
       "    <tr style=\"text-align: right;\">\n",
       "      <th></th>\n",
       "      <th>user_id</th>\n",
       "      <th>book_id</th>\n",
       "      <th>rating</th>\n",
       "      <th>title</th>\n",
       "    </tr>\n",
       "  </thead>\n",
       "  <tbody>\n",
       "    <tr>\n",
       "      <th>0</th>\n",
       "      <td>-1</td>\n",
       "      <td>77920</td>\n",
       "      <td>5</td>\n",
       "      <td>Yerma</td>\n",
       "    </tr>\n",
       "    <tr>\n",
       "      <th>1</th>\n",
       "      <td>-1</td>\n",
       "      <td>16009563</td>\n",
       "      <td>5</td>\n",
       "      <td>Fun Home</td>\n",
       "    </tr>\n",
       "    <tr>\n",
       "      <th>2</th>\n",
       "      <td>-1</td>\n",
       "      <td>4443927</td>\n",
       "      <td>5</td>\n",
       "      <td>Zaratustra</td>\n",
       "    </tr>\n",
       "    <tr>\n",
       "      <th>3</th>\n",
       "      <td>-1</td>\n",
       "      <td>322</td>\n",
       "      <td>5</td>\n",
       "      <td>Cien años de soledad</td>\n",
       "    </tr>\n",
       "    <tr>\n",
       "      <th>5</th>\n",
       "      <td>-1</td>\n",
       "      <td>54008</td>\n",
       "      <td>5</td>\n",
       "      <td>Rayuela</td>\n",
       "    </tr>\n",
       "  </tbody>\n",
       "</table>\n",
       "</div>"
      ],
      "text/plain": [
       "   user_id   book_id  rating                 title\n",
       "0       -1     77920       5                 Yerma\n",
       "1       -1  16009563       5              Fun Home\n",
       "2       -1   4443927       5            Zaratustra\n",
       "3       -1       322       5  Cien años de soledad\n",
       "5       -1     54008       5               Rayuela"
      ]
     },
     "execution_count": 205,
     "metadata": {},
     "output_type": "execute_result"
    }
   ],
   "source": [
    "my_books.head()  "
   ]
  },
  {
   "cell_type": "code",
   "execution_count": 208,
   "id": "8a4af2f9",
   "metadata": {},
   "outputs": [],
   "source": [
    "my_books['book_id'] = my_books['book_id'].astype(str)   #Tiene que ser una string porque así es coko lo unimos book_id en otros files\n",
    "\n",
    "\n"
   ]
  },
  {
   "cell_type": "code",
   "execution_count": 212,
   "id": "2bdf64c3",
   "metadata": {},
   "outputs": [],
   "source": [
    "#Encontrando usuarios similares\n",
    "\n",
    "csv_book_mapping = {}   #mapeo ids del json y el csv \n",
    "\n",
    "with open(\"book_id_map.csv\", \"r\") as f:\n",
    "    while True:\n",
    "        line = f.readline()   #es muy largo, lo lee línea a línea y después terminal el loop. Lo de arriba, vaya\n",
    "        if not line:\n",
    "            break\n",
    "        csv_id, book_id = line.strip().split(\",\")\n",
    "        csv_book_mapping[csv_id] = book_id   #dictio\n",
    "#mapeo\n"
   ]
  },
  {
   "cell_type": "code",
   "execution_count": 217,
   "id": "28fdcf62",
   "metadata": {},
   "outputs": [],
   "source": [
    "\n",
    "book_set = set(my_books['book_id']) #un set es más o menos como una lista pero cada elemento es único"
   ]
  },
  {
   "cell_type": "code",
   "execution_count": 218,
   "id": "43099b8d",
   "metadata": {},
   "outputs": [
    {
     "name": "stdout",
     "output_type": "stream",
     "text": [
      "user_id,book_id,is_read,rating,is_reviewed\r\n",
      "0,948,1,5,0\r\n",
      "0,947,1,5,1\r\n",
      "0,946,1,5,0\r\n",
      "0,945,1,5,0\r\n",
      "0,944,1,5,0\r\n",
      "0,943,1,5,0\r\n",
      "0,942,1,5,0\r\n",
      "0,941,1,5,0\r\n",
      "0,940,1,5,0\r\n"
     ]
    }
   ],
   "source": [
    "!head goodreads_interactions.csv"
   ]
  },
  {
   "cell_type": "code",
   "execution_count": 216,
   "id": "3aed4c5a",
   "metadata": {},
   "outputs": [],
   "source": [
    "#tarda SIGLOS en correr\n",
    "\n",
    "overlap_users = {}   #DICTIO usuarios que han leído el mismo libro que nosotros\n",
    "\n",
    "with open(\"goodreads_interactions.csv\", 'r') as f:\n",
    "    while True:\n",
    "        line = f.readline()\n",
    "        if not line:\n",
    "            break\n",
    "        user_id, csv_id, _, rating, _ = line.split(\",\")   #lo mismo de antes. arriba\n",
    "        \n",
    "        book_id = csv_book_mapping.get(csv_id)   #csv_id pero con el book_id\n",
    "        \n",
    "        if book_id in book_set:    #si es uno de los libros que hemos leído (en liked_books) entonces añadimos al usuario en los superpuestos, overlap\n",
    "            if user_id not in overlap_users:\n",
    "                overlap_users[user_id] = 1\n",
    "            else:\n",
    "                overlap_users[user_id] += 1\n",
    "                \n",
    "                \n",
    "#overlap_users va a ser un dictio. Las keys son los user ids y values son \n",
    "#value el número de veces que ese usuario ha leído un libro que tenemos en nuestra lista\n",
    "\n",
    "\n"
   ]
  },
  {
   "cell_type": "code",
   "execution_count": 221,
   "id": "e3316909",
   "metadata": {},
   "outputs": [
    {
     "data": {
      "text/plain": [
       "208318"
      ]
     },
     "execution_count": 221,
     "metadata": {},
     "output_type": "execute_result"
    }
   ],
   "source": [
    "len(overlap_users)   "
   ]
  },
  {
   "cell_type": "code",
   "execution_count": 222,
   "id": "bf0e7c7f",
   "metadata": {},
   "outputs": [],
   "source": [
    "#Ahora vamos a buscar los usuarios que hayan leído alguno de los libros que hemos leído "
   ]
  },
  {
   "cell_type": "code",
   "execution_count": 226,
   "id": "0e48edc3",
   "metadata": {},
   "outputs": [],
   "source": [
    "filtered_overlap_users = set([k for k in overlap_users if overlap_users[k] > my_books.shape[0]/5])  #rebajar el número "
   ]
  },
  {
   "cell_type": "code",
   "execution_count": null,
   "id": "727b4ab3",
   "metadata": {},
   "outputs": [],
   "source": []
  },
  {
   "cell_type": "code",
   "execution_count": 227,
   "id": "d0ffa94d",
   "metadata": {},
   "outputs": [],
   "source": [
    "#buscar ratings similares"
   ]
  },
  {
   "cell_type": "code",
   "execution_count": 228,
   "id": "421ddf4e",
   "metadata": {},
   "outputs": [],
   "source": [
    "#construir nuestras recomendaciones\n",
    "\n",
    "\n",
    "interactions_list=[]     #user_id, book_id y rating. volvemos a hacer el loop por filas con el código de arriba\n",
    "\n",
    "with open(\"goodreads_interactions.csv\", 'r') as f:\n",
    "    while True:\n",
    "        line = f.readline()\n",
    "        if not line:\n",
    "            break\n",
    "\n",
    "        user_id, csv_id, _, rating, _ = line.split(\",\")   #lo mismo de antes. arriba\n",
    "        \n",
    "        if user_id in filtered_overlap_users:   #si el usuario está en la lista de users que se sobreponían lo añadimos a la sista\n",
    "            book_id = csv_book_mapping[csv_id]\n",
    "            interactions_list.append([user_id, book_id, rating])\n",
    "            \n",
    "            \n",
    "            \n",
    "            "
   ]
  },
  {
   "cell_type": "code",
   "execution_count": 230,
   "id": "3f62bb6f",
   "metadata": {},
   "outputs": [
    {
     "data": {
      "text/plain": [
       "3198"
      ]
     },
     "execution_count": 230,
     "metadata": {},
     "output_type": "execute_result"
    }
   ],
   "source": [
    "len(interactions_list) #ha bajadooooo "
   ]
  },
  {
   "cell_type": "markdown",
   "id": "aad82315",
   "metadata": {},
   "source": [
    "### Matriz usuario - libro"
   ]
  },
  {
   "cell_type": "markdown",
   "id": "c1879574",
   "metadata": {},
   "source": [
    "Cada fila de la matriz va a ser un usuario y cada columna un libro. Las celdas contienn el rating que cada usuario le ha dado al libro, si hay muchos se hace inmensa y por eso lo hemos rebajado antes"
   ]
  },
  {
   "cell_type": "code",
   "execution_count": 245,
   "id": "b7423379",
   "metadata": {},
   "outputs": [
    {
     "data": {
      "text/plain": [
       "['71190', '2612', '4']"
      ]
     },
     "execution_count": 245,
     "metadata": {},
     "output_type": "execute_result"
    }
   ],
   "source": [
    "#primer item \n",
    "\n",
    "interactions_list[0]"
   ]
  },
  {
   "cell_type": "code",
   "execution_count": 246,
   "id": "b48b7ec1",
   "metadata": {},
   "outputs": [],
   "source": [
    "#lo pasamos a df y le damos columnas\n",
    "\n",
    "interactions = pd.DataFrame(interactions_list, columns=[\"user_id\", \"book_id\", \"rating\"])"
   ]
  },
  {
   "cell_type": "code",
   "execution_count": 248,
   "id": "26d32053",
   "metadata": {},
   "outputs": [],
   "source": [
    "#Valoraciones propias. Lo concatenamos con las interacciones\n",
    "#cuando creemos la matriz va a ser una fila en la matriz\n",
    "\n",
    "interactions = pd.concat([my_books[[\"user_id\", \"book_id\", \"rating\"]], interactions])"
   ]
  },
  {
   "cell_type": "code",
   "execution_count": 250,
   "id": "4e49abac",
   "metadata": {},
   "outputs": [
    {
     "data": {
      "text/html": [
       "<div>\n",
       "<style scoped>\n",
       "    .dataframe tbody tr th:only-of-type {\n",
       "        vertical-align: middle;\n",
       "    }\n",
       "\n",
       "    .dataframe tbody tr th {\n",
       "        vertical-align: top;\n",
       "    }\n",
       "\n",
       "    .dataframe thead th {\n",
       "        text-align: right;\n",
       "    }\n",
       "</style>\n",
       "<table border=\"1\" class=\"dataframe\">\n",
       "  <thead>\n",
       "    <tr style=\"text-align: right;\">\n",
       "      <th></th>\n",
       "      <th>user_id</th>\n",
       "      <th>book_id</th>\n",
       "      <th>rating</th>\n",
       "    </tr>\n",
       "  </thead>\n",
       "  <tbody>\n",
       "    <tr>\n",
       "      <th>0</th>\n",
       "      <td>-1</td>\n",
       "      <td>77920</td>\n",
       "      <td>5</td>\n",
       "    </tr>\n",
       "    <tr>\n",
       "      <th>1</th>\n",
       "      <td>-1</td>\n",
       "      <td>16009563</td>\n",
       "      <td>5</td>\n",
       "    </tr>\n",
       "    <tr>\n",
       "      <th>2</th>\n",
       "      <td>-1</td>\n",
       "      <td>4443927</td>\n",
       "      <td>5</td>\n",
       "    </tr>\n",
       "    <tr>\n",
       "      <th>3</th>\n",
       "      <td>-1</td>\n",
       "      <td>322</td>\n",
       "      <td>5</td>\n",
       "    </tr>\n",
       "    <tr>\n",
       "      <th>5</th>\n",
       "      <td>-1</td>\n",
       "      <td>54008</td>\n",
       "      <td>5</td>\n",
       "    </tr>\n",
       "  </tbody>\n",
       "</table>\n",
       "</div>"
      ],
      "text/plain": [
       "  user_id   book_id rating\n",
       "0      -1     77920      5\n",
       "1      -1  16009563      5\n",
       "2      -1   4443927      5\n",
       "3      -1       322      5\n",
       "5      -1     54008      5"
      ]
     },
     "execution_count": 250,
     "metadata": {},
     "output_type": "execute_result"
    }
   ],
   "source": [
    "# nosotoros somos el user -1\n",
    "\n",
    "\n",
    "interactions.head()"
   ]
  },
  {
   "cell_type": "code",
   "execution_count": 253,
   "id": "2f8346d5",
   "metadata": {},
   "outputs": [],
   "source": [
    "#le damos forma de strings porque así está también en el archivo json\n",
    "\n",
    "\n",
    "interactions[\"book_id\"] = interactions[\"book_id\"].astype(str)\n",
    "interactions[\"user_id\"] = interactions[\"user_id\"].astype(str)\n",
    "interactions[\"rating\"] = pd.to_numeric(interactions[\"rating\"])  #tiene que ser numérico "
   ]
  },
  {
   "cell_type": "code",
   "execution_count": 252,
   "id": "0718751b",
   "metadata": {},
   "outputs": [
    {
     "data": {
      "text/plain": [
       "array(['-1', '71190', '99693'], dtype=object)"
      ]
     },
     "execution_count": 252,
     "metadata": {},
     "output_type": "execute_result"
    }
   ],
   "source": [
    "interactions['user_id'].unique()    #esto da algo raro creo"
   ]
  },
  {
   "cell_type": "code",
   "execution_count": 255,
   "id": "92835d5f",
   "metadata": {},
   "outputs": [],
   "source": [
    "interactions[\"user_index\"] = interactions[\"user_id\"].astype(\"category\").cat.codes   #unica categoría. \n",
    "#se puede asignar a una categoría en ua matriz"
   ]
  },
  {
   "cell_type": "code",
   "execution_count": 261,
   "id": "0e6c06cd",
   "metadata": {},
   "outputs": [
    {
     "data": {
      "text/plain": [
       "array([0, 1, 2], dtype=int8)"
      ]
     },
     "execution_count": 261,
     "metadata": {},
     "output_type": "execute_result"
    }
   ],
   "source": [
    "interactions['user_index'].unique()  #❗️"
   ]
  },
  {
   "cell_type": "code",
   "execution_count": 262,
   "id": "f5715f51",
   "metadata": {},
   "outputs": [],
   "source": [
    "#lo mismo con el book id\n",
    "\n",
    "interactions[\"book_index\"] = interactions[\"book_id\"].astype(\"category\").cat.codes\n"
   ]
  },
  {
   "cell_type": "markdown",
   "id": "fb8729b9",
   "metadata": {},
   "source": [
    "ESTRUCTURA DE LA MATRIZ: id a posición\n",
    "Sparse matriz, se llama en español una matriz DISPERSA\n",
    "Vemos cuántos libros únicos y usuarios tenemos (en interactions). Con estos, hay menos usuarios que librs (claro\n",
    "Pero si se multiplica se ve que el tamaño de la matriz es gigante, en lugar de esto se construye una matriz dispersa. Si no hay valor en una celda determinada lo deja en blanco. NO USA MEMORIA"
   ]
  },
  {
   "cell_type": "code",
   "execution_count": 263,
   "id": "e277fa9f",
   "metadata": {},
   "outputs": [],
   "source": [
    "#crear matriz.\n",
    "#coo matrix = A sparse matrix in COOrdinate format"
   ]
  },
  {
   "cell_type": "code",
   "execution_count": 265,
   "id": "d9c269f9",
   "metadata": {},
   "outputs": [],
   "source": [
    "#se le pasa un arry o lista de los datos que queremos (ratings) luego las posiciones de las filas (index) \n",
    "#y luego las columnas\n",
    "\n",
    "ratings_mat_coo = coo_matrix((interactions[\"rating\"], (interactions[\"user_index\"], interactions[\"book_index\"])))\n"
   ]
  },
  {
   "cell_type": "code",
   "execution_count": 268,
   "id": "7cd4fb64",
   "metadata": {},
   "outputs": [
    {
     "data": {
      "text/plain": [
       "<3x3106 sparse matrix of type '<class 'numpy.int64'>'\n",
       "\twith 3252 stored elements in COOrdinate format>"
      ]
     },
     "execution_count": 268,
     "metadata": {},
     "output_type": "execute_result"
    }
   ],
   "source": [
    "ratings_mat_coo"
   ]
  },
  {
   "cell_type": "code",
   "execution_count": 269,
   "id": "34bd5343",
   "metadata": {},
   "outputs": [
    {
     "data": {
      "text/plain": [
       "(3, 3106)"
      ]
     },
     "execution_count": 269,
     "metadata": {},
     "output_type": "execute_result"
    }
   ],
   "source": [
    "ratings_mat_coo.shape"
   ]
  },
  {
   "cell_type": "code",
   "execution_count": 271,
   "id": "ddb43ac1",
   "metadata": {},
   "outputs": [],
   "source": [
    "ratings_mat = ratings_mat_coo.tocsr()   #lo vamos a converit a una matriz csr (Compressed Sparse Row matrix)"
   ]
  },
  {
   "cell_type": "markdown",
   "id": "ecc0a37d",
   "metadata": {},
   "source": [
    "## encontrar a los usuarios parecidos a nosotros"
   ]
  },
  {
   "cell_type": "code",
   "execution_count": 273,
   "id": "2e769b98",
   "metadata": {},
   "outputs": [
    {
     "data": {
      "text/plain": [
       "54"
      ]
     },
     "execution_count": 273,
     "metadata": {},
     "output_type": "execute_result"
    }
   ],
   "source": [
    "len(interactions[interactions[\"user_id\"] == \"-1\"])   #nuestro usuario"
   ]
  },
  {
   "cell_type": "code",
   "execution_count": 275,
   "id": "a725ed3f",
   "metadata": {},
   "outputs": [],
   "source": [
    "my_index = 0"
   ]
  },
  {
   "cell_type": "code",
   "execution_count": 276,
   "id": "712020f5",
   "metadata": {},
   "outputs": [],
   "source": [
    "#cada columnna es un libro cada fila es un usuario\n",
    "#cuantas más valoraciones tenga un usuario más parecido será a nosotros\n",
    "\n",
    "#coge mis preferencias de libros y los une con \n",
    "\n",
    "similarity = cosine_similarity(ratings_mat[my_index,:], ratings_mat).flatten()"
   ]
  },
  {
   "cell_type": "code",
   "execution_count": 277,
   "id": "bda6705d",
   "metadata": {},
   "outputs": [
    {
     "data": {
      "text/plain": [
       "array([1.        , 0.01261583, 0.02454549])"
      ]
     },
     "execution_count": 277,
     "metadata": {},
     "output_type": "execute_result"
    }
   ],
   "source": [
    "similarity"
   ]
  },
  {
   "cell_type": "code",
   "execution_count": 281,
   "id": "74367364",
   "metadata": {},
   "outputs": [
    {
     "data": {
      "text/plain": [
       "0.024545492905494456"
      ]
     },
     "execution_count": 281,
     "metadata": {},
     "output_type": "execute_result"
    }
   ],
   "source": [
    "similarity[2]   #la matriz tiene tamaño 3. Solo hay 3 usuarios como nosottros!"
   ]
  },
  {
   "cell_type": "code",
   "execution_count": 285,
   "id": "b1b7c739",
   "metadata": {},
   "outputs": [
    {
     "data": {
      "text/plain": [
       "array([1, 0, 2])"
      ]
     },
     "execution_count": 285,
     "metadata": {},
     "output_type": "execute_result"
    }
   ],
   "source": [
    "indices = np.argpartition(similarity, -3)[-3:]\n",
    "indices"
   ]
  },
  {
   "cell_type": "code",
   "execution_count": 286,
   "id": "49e49a7a",
   "metadata": {},
   "outputs": [],
   "source": [
    "#encontrar sus user id"
   ]
  },
  {
   "cell_type": "code",
   "execution_count": 288,
   "id": "e21369cd",
   "metadata": {},
   "outputs": [],
   "source": [
    "#encuentra todas las interacciones donde el indice de usuario esté en nuestro índice\n",
    "#copy para que no de error\n",
    "\n",
    "similar_users =interactions[interactions[\"user_index\"].isin(indices)].copy()"
   ]
  },
  {
   "cell_type": "code",
   "execution_count": 290,
   "id": "53ac6309",
   "metadata": {},
   "outputs": [],
   "source": [
    "similar_users = similar_users[similar_users[\"user_id\"]!=\"-1\"]"
   ]
  },
  {
   "cell_type": "code",
   "execution_count": 291,
   "id": "348d7256",
   "metadata": {},
   "outputs": [
    {
     "data": {
      "text/html": [
       "<div>\n",
       "<style scoped>\n",
       "    .dataframe tbody tr th:only-of-type {\n",
       "        vertical-align: middle;\n",
       "    }\n",
       "\n",
       "    .dataframe tbody tr th {\n",
       "        vertical-align: top;\n",
       "    }\n",
       "\n",
       "    .dataframe thead th {\n",
       "        text-align: right;\n",
       "    }\n",
       "</style>\n",
       "<table border=\"1\" class=\"dataframe\">\n",
       "  <thead>\n",
       "    <tr style=\"text-align: right;\">\n",
       "      <th></th>\n",
       "      <th>user_id</th>\n",
       "      <th>book_id</th>\n",
       "      <th>rating</th>\n",
       "      <th>user_index</th>\n",
       "      <th>book_index</th>\n",
       "    </tr>\n",
       "  </thead>\n",
       "  <tbody>\n",
       "    <tr>\n",
       "      <th>0</th>\n",
       "      <td>71190</td>\n",
       "      <td>2612</td>\n",
       "      <td>4</td>\n",
       "      <td>1</td>\n",
       "      <td>1459</td>\n",
       "    </tr>\n",
       "    <tr>\n",
       "      <th>1</th>\n",
       "      <td>71190</td>\n",
       "      <td>6411961</td>\n",
       "      <td>4</td>\n",
       "      <td>1</td>\n",
       "      <td>2498</td>\n",
       "    </tr>\n",
       "    <tr>\n",
       "      <th>2</th>\n",
       "      <td>71190</td>\n",
       "      <td>56454</td>\n",
       "      <td>3</td>\n",
       "      <td>1</td>\n",
       "      <td>2303</td>\n",
       "    </tr>\n",
       "    <tr>\n",
       "      <th>3</th>\n",
       "      <td>71190</td>\n",
       "      <td>36072</td>\n",
       "      <td>5</td>\n",
       "      <td>1</td>\n",
       "      <td>1887</td>\n",
       "    </tr>\n",
       "    <tr>\n",
       "      <th>4</th>\n",
       "      <td>71190</td>\n",
       "      <td>3228917</td>\n",
       "      <td>4</td>\n",
       "      <td>1</td>\n",
       "      <td>1757</td>\n",
       "    </tr>\n",
       "    <tr>\n",
       "      <th>...</th>\n",
       "      <td>...</td>\n",
       "      <td>...</td>\n",
       "      <td>...</td>\n",
       "      <td>...</td>\n",
       "      <td>...</td>\n",
       "    </tr>\n",
       "    <tr>\n",
       "      <th>3193</th>\n",
       "      <td>99693</td>\n",
       "      <td>7650765</td>\n",
       "      <td>0</td>\n",
       "      <td>2</td>\n",
       "      <td>2734</td>\n",
       "    </tr>\n",
       "    <tr>\n",
       "      <th>3194</th>\n",
       "      <td>99693</td>\n",
       "      <td>226711</td>\n",
       "      <td>0</td>\n",
       "      <td>2</td>\n",
       "      <td>1171</td>\n",
       "    </tr>\n",
       "    <tr>\n",
       "      <th>3195</th>\n",
       "      <td>99693</td>\n",
       "      <td>221711</td>\n",
       "      <td>0</td>\n",
       "      <td>2</td>\n",
       "      <td>1127</td>\n",
       "    </tr>\n",
       "    <tr>\n",
       "      <th>3196</th>\n",
       "      <td>99693</td>\n",
       "      <td>13459189</td>\n",
       "      <td>0</td>\n",
       "      <td>2</td>\n",
       "      <td>401</td>\n",
       "    </tr>\n",
       "    <tr>\n",
       "      <th>3197</th>\n",
       "      <td>99693</td>\n",
       "      <td>782061</td>\n",
       "      <td>0</td>\n",
       "      <td>2</td>\n",
       "      <td>2790</td>\n",
       "    </tr>\n",
       "  </tbody>\n",
       "</table>\n",
       "<p>3198 rows × 5 columns</p>\n",
       "</div>"
      ],
      "text/plain": [
       "     user_id   book_id  rating  user_index  book_index\n",
       "0      71190      2612       4           1        1459\n",
       "1      71190   6411961       4           1        2498\n",
       "2      71190     56454       3           1        2303\n",
       "3      71190     36072       5           1        1887\n",
       "4      71190   3228917       4           1        1757\n",
       "...      ...       ...     ...         ...         ...\n",
       "3193   99693   7650765       0           2        2734\n",
       "3194   99693    226711       0           2        1171\n",
       "3195   99693    221711       0           2        1127\n",
       "3196   99693  13459189       0           2         401\n",
       "3197   99693    782061       0           2        2790\n",
       "\n",
       "[3198 rows x 5 columns]"
      ]
     },
     "execution_count": 291,
     "metadata": {},
     "output_type": "execute_result"
    }
   ],
   "source": [
    "similar_users   #se ven las filas de libros que potencialmente nos gustarían"
   ]
  },
  {
   "cell_type": "code",
   "execution_count": 294,
   "id": "be688770",
   "metadata": {},
   "outputs": [],
   "source": [
    "#estos son los usuarios más parecidos a nosotros"
   ]
  },
  {
   "cell_type": "markdown",
   "id": "1ecece1d",
   "metadata": {},
   "source": [
    "## Recomendacio´n de libros!"
   ]
  },
  {
   "cell_type": "code",
   "execution_count": 300,
   "id": "8daee7c4",
   "metadata": {},
   "outputs": [],
   "source": [
    "\n",
    "book_recs = similar_users.groupby(\"book_id\").rating.agg(['count', 'mean'])\n",
    "\n"
   ]
  },
  {
   "cell_type": "code",
   "execution_count": 297,
   "id": "bbacdc35",
   "metadata": {},
   "outputs": [
    {
     "data": {
      "text/html": [
       "<div>\n",
       "<style scoped>\n",
       "    .dataframe tbody tr th:only-of-type {\n",
       "        vertical-align: middle;\n",
       "    }\n",
       "\n",
       "    .dataframe tbody tr th {\n",
       "        vertical-align: top;\n",
       "    }\n",
       "\n",
       "    .dataframe thead th {\n",
       "        text-align: right;\n",
       "    }\n",
       "</style>\n",
       "<table border=\"1\" class=\"dataframe\">\n",
       "  <thead>\n",
       "    <tr style=\"text-align: right;\">\n",
       "      <th></th>\n",
       "      <th>count</th>\n",
       "      <th>mean</th>\n",
       "    </tr>\n",
       "    <tr>\n",
       "      <th>book_id</th>\n",
       "      <th></th>\n",
       "      <th></th>\n",
       "    </tr>\n",
       "  </thead>\n",
       "  <tbody>\n",
       "    <tr>\n",
       "      <th>10000</th>\n",
       "      <td>1</td>\n",
       "      <td>0.0</td>\n",
       "    </tr>\n",
       "    <tr>\n",
       "      <th>100017</th>\n",
       "      <td>1</td>\n",
       "      <td>0.0</td>\n",
       "    </tr>\n",
       "    <tr>\n",
       "      <th>10004</th>\n",
       "      <td>1</td>\n",
       "      <td>0.0</td>\n",
       "    </tr>\n",
       "    <tr>\n",
       "      <th>10006</th>\n",
       "      <td>1</td>\n",
       "      <td>0.0</td>\n",
       "    </tr>\n",
       "    <tr>\n",
       "      <th>10009</th>\n",
       "      <td>1</td>\n",
       "      <td>0.0</td>\n",
       "    </tr>\n",
       "  </tbody>\n",
       "</table>\n",
       "</div>"
      ],
      "text/plain": [
       "         count  mean\n",
       "book_id             \n",
       "10000        1   0.0\n",
       "100017       1   0.0\n",
       "10004        1   0.0\n",
       "10006        1   0.0\n",
       "10009        1   0.0"
      ]
     },
     "execution_count": 297,
     "metadata": {},
     "output_type": "execute_result"
    }
   ],
   "source": [
    "book_recs.head()   #esto es un libro en específico que nos recomiendan"
   ]
  },
  {
   "cell_type": "code",
   "execution_count": 298,
   "id": "1220aee4",
   "metadata": {},
   "outputs": [
    {
     "data": {
      "text/plain": [
       "(3089, 2)"
      ]
     },
     "execution_count": 298,
     "metadata": {},
     "output_type": "execute_result"
    }
   ],
   "source": [
    "book_recs.shape"
   ]
  },
  {
   "cell_type": "code",
   "execution_count": 302,
   "id": "cf29e745",
   "metadata": {},
   "outputs": [],
   "source": [
    "books_titles = pd.read_json(\"boks_titles.json\")    #cuidado con el nombre mal escrito\n",
    "books_titles[\"book_id\"] = books_titles[\"book_id\"].astype(str)  #asegurarnos de que es una string\n",
    "\n"
   ]
  },
  {
   "cell_type": "code",
   "execution_count": 304,
   "id": "82a310c8",
   "metadata": {},
   "outputs": [],
   "source": [
    "#mergeamos los dos datasts para poner los títulos en las recomendacions\n",
    "\n",
    "book_recs = book_recs.merge(books_titles, how=\"inner\", on=\"book_id\")\n",
    "\n",
    "\n",
    "#es el mismo merge que antes y que en sql si no está ese campo en las dos tablas no lo une"
   ]
  },
  {
   "cell_type": "code",
   "execution_count": 307,
   "id": "deb13dc8",
   "metadata": {},
   "outputs": [
    {
     "data": {
      "text/html": [
       "<div>\n",
       "<style scoped>\n",
       "    .dataframe tbody tr th:only-of-type {\n",
       "        vertical-align: middle;\n",
       "    }\n",
       "\n",
       "    .dataframe tbody tr th {\n",
       "        vertical-align: top;\n",
       "    }\n",
       "\n",
       "    .dataframe thead th {\n",
       "        text-align: right;\n",
       "    }\n",
       "</style>\n",
       "<table border=\"1\" class=\"dataframe\">\n",
       "  <thead>\n",
       "    <tr style=\"text-align: right;\">\n",
       "      <th></th>\n",
       "      <th>book_id</th>\n",
       "      <th>count</th>\n",
       "      <th>mean</th>\n",
       "      <th>title</th>\n",
       "      <th>ratings</th>\n",
       "      <th>url</th>\n",
       "      <th>cover_image</th>\n",
       "      <th>mod_title</th>\n",
       "    </tr>\n",
       "  </thead>\n",
       "  <tbody>\n",
       "    <tr>\n",
       "      <th>0</th>\n",
       "      <td>10000</td>\n",
       "      <td>1</td>\n",
       "      <td>0.0</td>\n",
       "      <td>The Face of Another</td>\n",
       "      <td>2079</td>\n",
       "      <td>https://www.goodreads.com/book/show/10000.The_...</td>\n",
       "      <td>https://images.gr-assets.com/books/1320415026m...</td>\n",
       "      <td>the face of another</td>\n",
       "    </tr>\n",
       "    <tr>\n",
       "      <th>1</th>\n",
       "      <td>100017</td>\n",
       "      <td>1</td>\n",
       "      <td>0.0</td>\n",
       "      <td>Continental Philosophy: A Very Short Introduction</td>\n",
       "      <td>479</td>\n",
       "      <td>https://www.goodreads.com/book/show/100017.Con...</td>\n",
       "      <td>https://images.gr-assets.com/books/1411930999m...</td>\n",
       "      <td>continental philosophy a very short introduction</td>\n",
       "    </tr>\n",
       "    <tr>\n",
       "      <th>2</th>\n",
       "      <td>10004</td>\n",
       "      <td>1</td>\n",
       "      <td>0.0</td>\n",
       "      <td>Secret Rendezvous</td>\n",
       "      <td>827</td>\n",
       "      <td>https://www.goodreads.com/book/show/10004.Secr...</td>\n",
       "      <td>https://images.gr-assets.com/books/1320463330m...</td>\n",
       "      <td>secret rendezvous</td>\n",
       "    </tr>\n",
       "    <tr>\n",
       "      <th>3</th>\n",
       "      <td>10006</td>\n",
       "      <td>1</td>\n",
       "      <td>0.0</td>\n",
       "      <td>Oracle Night</td>\n",
       "      <td>8972</td>\n",
       "      <td>https://www.goodreads.com/book/show/10006.Orac...</td>\n",
       "      <td>https://images.gr-assets.com/books/1328287302m...</td>\n",
       "      <td>oracle night</td>\n",
       "    </tr>\n",
       "    <tr>\n",
       "      <th>4</th>\n",
       "      <td>10009</td>\n",
       "      <td>1</td>\n",
       "      <td>0.0</td>\n",
       "      <td>Homo Faber</td>\n",
       "      <td>9652</td>\n",
       "      <td>https://www.goodreads.com/book/show/10009.Homo...</td>\n",
       "      <td>https://s.gr-assets.com/assets/nophoto/book/11...</td>\n",
       "      <td>homo faber</td>\n",
       "    </tr>\n",
       "  </tbody>\n",
       "</table>\n",
       "</div>"
      ],
      "text/plain": [
       "  book_id  count  mean                                              title  \\\n",
       "0   10000      1   0.0                                The Face of Another   \n",
       "1  100017      1   0.0  Continental Philosophy: A Very Short Introduction   \n",
       "2   10004      1   0.0                                  Secret Rendezvous   \n",
       "3   10006      1   0.0                                       Oracle Night   \n",
       "4   10009      1   0.0                                         Homo Faber   \n",
       "\n",
       "   ratings                                                url  \\\n",
       "0     2079  https://www.goodreads.com/book/show/10000.The_...   \n",
       "1      479  https://www.goodreads.com/book/show/100017.Con...   \n",
       "2      827  https://www.goodreads.com/book/show/10004.Secr...   \n",
       "3     8972  https://www.goodreads.com/book/show/10006.Orac...   \n",
       "4     9652  https://www.goodreads.com/book/show/10009.Homo...   \n",
       "\n",
       "                                         cover_image  \\\n",
       "0  https://images.gr-assets.com/books/1320415026m...   \n",
       "1  https://images.gr-assets.com/books/1411930999m...   \n",
       "2  https://images.gr-assets.com/books/1320463330m...   \n",
       "3  https://images.gr-assets.com/books/1328287302m...   \n",
       "4  https://s.gr-assets.com/assets/nophoto/book/11...   \n",
       "\n",
       "                                          mod_title  \n",
       "0                               the face of another  \n",
       "1  continental philosophy a very short introduction  \n",
       "2                                 secret rendezvous  \n",
       "3                                      oracle night  \n",
       "4                                        homo faber  "
      ]
     },
     "execution_count": 307,
     "metadata": {},
     "output_type": "execute_result"
    }
   ],
   "source": [
    "book_recs.head()   #vamos!"
   ]
  },
  {
   "cell_type": "markdown",
   "id": "7823e882",
   "metadata": {},
   "source": [
    "## ranking our book recommendations"
   ]
  },
  {
   "cell_type": "code",
   "execution_count": 316,
   "id": "b49bfa80",
   "metadata": {},
   "outputs": [],
   "source": [
    "#que recomendaciones son las más relevantes para nosotros\n",
    "\n",
    "\n",
    "#un count normalizado para saber  cuantas veces el libro aparece entre la gente y las votaciones. Por eso se divide\n",
    "#queremos lbros que sean muy votados por usuarios como nosotros PERO no en usuarios diferentes \n",
    "\n",
    "\n",
    "book_recs[\"adjusted_count\"] = book_recs[\"count\"] * (book_recs[\"count\"] / book_recs[\"ratings\"])\n",
    "\n",
    "\n"
   ]
  },
  {
   "cell_type": "code",
   "execution_count": 314,
   "id": "17fefe96",
   "metadata": {},
   "outputs": [
    {
     "name": "stderr",
     "output_type": "stream",
     "text": [
      "/var/folders/bp/5cqvvvwn7p14588p725frs740000gn/T/ipykernel_4870/3149077395.py:1: SettingWithCopyWarning: \n",
      "A value is trying to be set on a copy of a slice from a DataFrame.\n",
      "Try using .loc[row_indexer,col_indexer] = value instead\n",
      "\n",
      "See the caveats in the documentation: https://pandas.pydata.org/pandas-docs/stable/user_guide/indexing.html#returning-a-view-versus-a-copy\n",
      "  book_recs[\"score\"] = book_recs[\"mean\"] * book_recs[\"adjusted_count\"]\n"
     ]
    }
   ],
   "source": [
    "book_recs[\"score\"] = book_recs[\"mean\"] * book_recs[\"adjusted_count\"]\n"
   ]
  },
  {
   "cell_type": "code",
   "execution_count": 317,
   "id": "1066c97d",
   "metadata": {},
   "outputs": [],
   "source": [
    "#isin porque tiene que coincidir con lo que hayamos leído\n",
    "\n",
    "book_recs = book_recs[~book_recs[\"book_id\"].isin(my_books[\"book_id\"])]\n"
   ]
  },
  {
   "cell_type": "code",
   "execution_count": 323,
   "id": "6b5b45b3",
   "metadata": {},
   "outputs": [],
   "source": [
    "#quitamos libros donde el titulo coincida. PORQUE ids duplicadas. y min\n",
    "\n",
    "my_books[\"mod_title\"] = my_books[\"title\"].str.replace(\"[^a-zA-Z0-9 ]\", \"\", regex=True).str.lower()"
   ]
  },
  {
   "cell_type": "code",
   "execution_count": 324,
   "id": "5e7bae4a",
   "metadata": {},
   "outputs": [
    {
     "data": {
      "text/html": [
       "<div>\n",
       "<style scoped>\n",
       "    .dataframe tbody tr th:only-of-type {\n",
       "        vertical-align: middle;\n",
       "    }\n",
       "\n",
       "    .dataframe tbody tr th {\n",
       "        vertical-align: top;\n",
       "    }\n",
       "\n",
       "    .dataframe thead th {\n",
       "        text-align: right;\n",
       "    }\n",
       "</style>\n",
       "<table border=\"1\" class=\"dataframe\">\n",
       "  <thead>\n",
       "    <tr style=\"text-align: right;\">\n",
       "      <th></th>\n",
       "      <th>book_id</th>\n",
       "      <th>count</th>\n",
       "      <th>mean</th>\n",
       "      <th>title</th>\n",
       "      <th>ratings</th>\n",
       "      <th>url</th>\n",
       "      <th>cover_image</th>\n",
       "      <th>mod_title</th>\n",
       "      <th>adjusted_count</th>\n",
       "      <th>score</th>\n",
       "    </tr>\n",
       "  </thead>\n",
       "  <tbody>\n",
       "    <tr>\n",
       "      <th>0</th>\n",
       "      <td>10000</td>\n",
       "      <td>1</td>\n",
       "      <td>0.0</td>\n",
       "      <td>The Face of Another</td>\n",
       "      <td>2079</td>\n",
       "      <td>https://www.goodreads.com/book/show/10000.The_...</td>\n",
       "      <td>https://images.gr-assets.com/books/1320415026m...</td>\n",
       "      <td>the face of another</td>\n",
       "      <td>0.000481</td>\n",
       "      <td>0.0</td>\n",
       "    </tr>\n",
       "    <tr>\n",
       "      <th>1</th>\n",
       "      <td>100017</td>\n",
       "      <td>1</td>\n",
       "      <td>0.0</td>\n",
       "      <td>Continental Philosophy: A Very Short Introduction</td>\n",
       "      <td>479</td>\n",
       "      <td>https://www.goodreads.com/book/show/100017.Con...</td>\n",
       "      <td>https://images.gr-assets.com/books/1411930999m...</td>\n",
       "      <td>continental philosophy a very short introduction</td>\n",
       "      <td>0.002088</td>\n",
       "      <td>0.0</td>\n",
       "    </tr>\n",
       "    <tr>\n",
       "      <th>2</th>\n",
       "      <td>10004</td>\n",
       "      <td>1</td>\n",
       "      <td>0.0</td>\n",
       "      <td>Secret Rendezvous</td>\n",
       "      <td>827</td>\n",
       "      <td>https://www.goodreads.com/book/show/10004.Secr...</td>\n",
       "      <td>https://images.gr-assets.com/books/1320463330m...</td>\n",
       "      <td>secret rendezvous</td>\n",
       "      <td>0.001209</td>\n",
       "      <td>0.0</td>\n",
       "    </tr>\n",
       "    <tr>\n",
       "      <th>3</th>\n",
       "      <td>10006</td>\n",
       "      <td>1</td>\n",
       "      <td>0.0</td>\n",
       "      <td>Oracle Night</td>\n",
       "      <td>8972</td>\n",
       "      <td>https://www.goodreads.com/book/show/10006.Orac...</td>\n",
       "      <td>https://images.gr-assets.com/books/1328287302m...</td>\n",
       "      <td>oracle night</td>\n",
       "      <td>0.000111</td>\n",
       "      <td>0.0</td>\n",
       "    </tr>\n",
       "    <tr>\n",
       "      <th>4</th>\n",
       "      <td>10009</td>\n",
       "      <td>1</td>\n",
       "      <td>0.0</td>\n",
       "      <td>Homo Faber</td>\n",
       "      <td>9652</td>\n",
       "      <td>https://www.goodreads.com/book/show/10009.Homo...</td>\n",
       "      <td>https://s.gr-assets.com/assets/nophoto/book/11...</td>\n",
       "      <td>homo faber</td>\n",
       "      <td>0.000104</td>\n",
       "      <td>0.0</td>\n",
       "    </tr>\n",
       "  </tbody>\n",
       "</table>\n",
       "</div>"
      ],
      "text/plain": [
       "  book_id  count  mean                                              title  \\\n",
       "0   10000      1   0.0                                The Face of Another   \n",
       "1  100017      1   0.0  Continental Philosophy: A Very Short Introduction   \n",
       "2   10004      1   0.0                                  Secret Rendezvous   \n",
       "3   10006      1   0.0                                       Oracle Night   \n",
       "4   10009      1   0.0                                         Homo Faber   \n",
       "\n",
       "   ratings                                                url  \\\n",
       "0     2079  https://www.goodreads.com/book/show/10000.The_...   \n",
       "1      479  https://www.goodreads.com/book/show/100017.Con...   \n",
       "2      827  https://www.goodreads.com/book/show/10004.Secr...   \n",
       "3     8972  https://www.goodreads.com/book/show/10006.Orac...   \n",
       "4     9652  https://www.goodreads.com/book/show/10009.Homo...   \n",
       "\n",
       "                                         cover_image  \\\n",
       "0  https://images.gr-assets.com/books/1320415026m...   \n",
       "1  https://images.gr-assets.com/books/1411930999m...   \n",
       "2  https://images.gr-assets.com/books/1320463330m...   \n",
       "3  https://images.gr-assets.com/books/1328287302m...   \n",
       "4  https://s.gr-assets.com/assets/nophoto/book/11...   \n",
       "\n",
       "                                          mod_title  adjusted_count  score  \n",
       "0                               the face of another        0.000481    0.0  \n",
       "1  continental philosophy a very short introduction        0.002088    0.0  \n",
       "2                                 secret rendezvous        0.001209    0.0  \n",
       "3                                      oracle night        0.000111    0.0  \n",
       "4                                        homo faber        0.000104    0.0  "
      ]
     },
     "execution_count": 324,
     "metadata": {},
     "output_type": "execute_result"
    }
   ],
   "source": [
    "book_recs.head()"
   ]
  },
  {
   "cell_type": "code",
   "execution_count": 325,
   "id": "5cdd718f",
   "metadata": {},
   "outputs": [],
   "source": [
    "#quitar espacios\n",
    "\n",
    "my_books[\"mod_title\"] = my_books[\"mod_title\"].str.replace(\"\\s+\", \" \", regex=True)\n"
   ]
  },
  {
   "cell_type": "code",
   "execution_count": 326,
   "id": "dd6e2bee",
   "metadata": {},
   "outputs": [],
   "source": []
  },
  {
   "cell_type": "code",
   "execution_count": 329,
   "id": "5341fc9b",
   "metadata": {},
   "outputs": [],
   "source": [
    "\n",
    "#quitar de recom donde el mod title sea los libros que hemos leido ya\n",
    "#las partes\n",
    "#donde el título en recomendaciones sea el mismo o isin mod_title = books we liked\n",
    "\n",
    "book_recs = book_recs[~book_recs[\"mod_title\"].isin(my_books[\"mod_title\"])]\n",
    "\n"
   ]
  },
  {
   "cell_type": "code",
   "execution_count": 333,
   "id": "7762f730",
   "metadata": {},
   "outputs": [],
   "source": [
    "book_recs = book_recs[book_recs[\"mean\"] >=4]   #ncuentra dodnde la media sea  recs mayores que 4"
   ]
  },
  {
   "cell_type": "code",
   "execution_count": 334,
   "id": "79cd5b60",
   "metadata": {},
   "outputs": [],
   "source": [
    "book_recs = book_recs[book_recs[\"count\"]>2]   #quitar lo que aparezca 2 o menos. que al menos se lo hayan leído dos veces\n",
    "\n"
   ]
  },
  {
   "cell_type": "code",
   "execution_count": 335,
   "id": "b1b50c60",
   "metadata": {},
   "outputs": [],
   "source": [
    "top_recs = book_recs.sort_values(\"mean\", ascending=False)"
   ]
  },
  {
   "cell_type": "code",
   "execution_count": 336,
   "id": "f469ae72",
   "metadata": {},
   "outputs": [
    {
     "data": {
      "text/html": [
       "<div>\n",
       "<style scoped>\n",
       "    .dataframe tbody tr th:only-of-type {\n",
       "        vertical-align: middle;\n",
       "    }\n",
       "\n",
       "    .dataframe tbody tr th {\n",
       "        vertical-align: top;\n",
       "    }\n",
       "\n",
       "    .dataframe thead th {\n",
       "        text-align: right;\n",
       "    }\n",
       "</style>\n",
       "<table border=\"1\" class=\"dataframe\">\n",
       "  <thead>\n",
       "    <tr style=\"text-align: right;\">\n",
       "      <th></th>\n",
       "      <th>book_id</th>\n",
       "      <th>count</th>\n",
       "      <th>mean</th>\n",
       "      <th>title</th>\n",
       "      <th>ratings</th>\n",
       "      <th>url</th>\n",
       "      <th>cover_image</th>\n",
       "      <th>mod_title</th>\n",
       "      <th>adjusted_count</th>\n",
       "      <th>score</th>\n",
       "    </tr>\n",
       "  </thead>\n",
       "  <tbody>\n",
       "  </tbody>\n",
       "</table>\n",
       "</div>"
      ],
      "text/plain": [
       "Empty DataFrame\n",
       "Columns: [book_id, count, mean, title, ratings, url, cover_image, mod_title, adjusted_count, score]\n",
       "Index: []"
      ]
     },
     "execution_count": 336,
     "metadata": {},
     "output_type": "execute_result"
    }
   ],
   "source": [
    "top_recs.head()  #muchas condiciones y sale vacío porque solo hay 3 usuarios.\n",
    "\n",
    "Hay que cambiar el df con los libros favs\n"
   ]
  },
  {
   "cell_type": "code",
   "execution_count": null,
   "id": "42f28ea4",
   "metadata": {},
   "outputs": [],
   "source": []
  },
  {
   "cell_type": "code",
   "execution_count": null,
   "id": "54b13285",
   "metadata": {},
   "outputs": [],
   "source": []
  },
  {
   "cell_type": "code",
   "execution_count": null,
   "id": "9b3ea2a0",
   "metadata": {},
   "outputs": [],
   "source": [
    "#Esto es lo mismo que hemos hecho en el engine anterior para poner bonito el resultado\n",
    "\n",
    "\n",
    "def make_clickable(val):\n",
    "    return '<a target=\"_blank\" href=\"{}\">Goodreads</a>'.format(val, val)\n",
    "\n",
    "def show_image(val):\n",
    "    return '<a href=\"{}\"><img src=\"{}\" width=50></img></a>'.format(val, val)\n",
    "\n",
    "top_recs.style.format({'url': make_clickable, 'cover_image': show_image})"
   ]
  },
  {
   "cell_type": "code",
   "execution_count": null,
   "id": "f70ab2df",
   "metadata": {},
   "outputs": [],
   "source": []
  },
  {
   "cell_type": "code",
   "execution_count": null,
   "id": "e5b0ffd0",
   "metadata": {},
   "outputs": [],
   "source": []
  },
  {
   "cell_type": "code",
   "execution_count": null,
   "id": "2cffdd01",
   "metadata": {},
   "outputs": [],
   "source": []
  },
  {
   "cell_type": "code",
   "execution_count": null,
   "id": "aeb3d96b",
   "metadata": {},
   "outputs": [],
   "source": []
  },
  {
   "cell_type": "code",
   "execution_count": null,
   "id": "9a79e08e",
   "metadata": {},
   "outputs": [],
   "source": []
  },
  {
   "cell_type": "code",
   "execution_count": null,
   "id": "c20e4c14",
   "metadata": {},
   "outputs": [],
   "source": []
  },
  {
   "cell_type": "code",
   "execution_count": null,
   "id": "fd683e3d",
   "metadata": {},
   "outputs": [],
   "source": []
  },
  {
   "cell_type": "code",
   "execution_count": null,
   "id": "39490cb4",
   "metadata": {},
   "outputs": [],
   "source": []
  },
  {
   "cell_type": "code",
   "execution_count": null,
   "id": "853807f3",
   "metadata": {},
   "outputs": [],
   "source": []
  },
  {
   "cell_type": "code",
   "execution_count": null,
   "id": "5c2d053e",
   "metadata": {},
   "outputs": [],
   "source": []
  },
  {
   "cell_type": "code",
   "execution_count": null,
   "id": "27ab1c92",
   "metadata": {},
   "outputs": [],
   "source": []
  },
  {
   "cell_type": "code",
   "execution_count": null,
   "id": "93ced84b",
   "metadata": {},
   "outputs": [],
   "source": []
  },
  {
   "cell_type": "code",
   "execution_count": null,
   "id": "7fd0aae5",
   "metadata": {},
   "outputs": [],
   "source": []
  },
  {
   "cell_type": "code",
   "execution_count": null,
   "id": "c1baeb76",
   "metadata": {},
   "outputs": [],
   "source": []
  },
  {
   "cell_type": "code",
   "execution_count": null,
   "id": "c63a83a7",
   "metadata": {},
   "outputs": [],
   "source": []
  },
  {
   "cell_type": "code",
   "execution_count": null,
   "id": "6326459a",
   "metadata": {},
   "outputs": [],
   "source": []
  },
  {
   "cell_type": "code",
   "execution_count": null,
   "id": "01ed0516",
   "metadata": {},
   "outputs": [],
   "source": []
  },
  {
   "cell_type": "code",
   "execution_count": null,
   "id": "0af6abf7",
   "metadata": {},
   "outputs": [],
   "source": []
  },
  {
   "cell_type": "code",
   "execution_count": null,
   "id": "3d14363d",
   "metadata": {},
   "outputs": [],
   "source": []
  },
  {
   "cell_type": "code",
   "execution_count": null,
   "id": "6f691623",
   "metadata": {},
   "outputs": [],
   "source": []
  },
  {
   "cell_type": "code",
   "execution_count": null,
   "id": "13b1983b",
   "metadata": {},
   "outputs": [],
   "source": []
  },
  {
   "cell_type": "code",
   "execution_count": null,
   "id": "eede4892",
   "metadata": {},
   "outputs": [],
   "source": []
  },
  {
   "cell_type": "code",
   "execution_count": null,
   "id": "87ff813a",
   "metadata": {},
   "outputs": [],
   "source": []
  }
 ],
 "metadata": {
  "kernelspec": {
   "display_name": "Python 3 (ipykernel)",
   "language": "python",
   "name": "python3"
  },
  "language_info": {
   "codemirror_mode": {
    "name": "ipython",
    "version": 3
   },
   "file_extension": ".py",
   "mimetype": "text/x-python",
   "name": "python",
   "nbconvert_exporter": "python",
   "pygments_lexer": "ipython3",
   "version": "3.9.7"
  }
 },
 "nbformat": 4,
 "nbformat_minor": 5
}
