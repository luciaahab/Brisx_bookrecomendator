{
 "cells": [
  {
   "cell_type": "markdown",
   "id": "475bc46a",
   "metadata": {},
   "source": [
    "# 🤓 recomendations"
   ]
  },
  {
   "cell_type": "markdown",
   "id": "81ba0554",
   "metadata": {},
   "source": [
    "### Encontrar usuarios a quienes les gusta lo mismo que a nosotros ✌🏼"
   ]
  },
  {
   "cell_type": "code",
   "execution_count": null,
   "id": "1180de23",
   "metadata": {},
   "outputs": [],
   "source": [
    "#esta lista viene de search\n",
    "\n",
    "\n",
    "liked_books = ['883438','544058','88077','4395','16097870','2391','54008', '15846226','17899021']"
   ]
  },
  {
   "cell_type": "code",
   "execution_count": null,
   "id": "4e00287b",
   "metadata": {},
   "outputs": [],
   "source": [
    "#buscamos todos los usuarios a los que les ha gustado los libros"
   ]
  },
  {
   "cell_type": "code",
   "execution_count": 1,
   "id": "c182c472",
   "metadata": {},
   "outputs": [
    {
     "name": "stdout",
     "output_type": "stream",
     "text": [
      "book_id_csv,book_id\r\n",
      "0,34684622\r\n",
      "1,34536488\r\n",
      "2,34017076\r\n",
      "3,71730\r\n",
      "4,30422361\r\n",
      "5,33503613\r\n",
      "6,33517540\r\n",
      "7,34467031\r\n",
      "8,6383669\r\n"
     ]
    }
   ],
   "source": [
    "!head book_id_map.csv    #abrimos en streaming"
   ]
  },
  {
   "cell_type": "code",
   "execution_count": 9,
   "id": "28a7bfa8",
   "metadata": {},
   "outputs": [],
   "source": [
    "\n",
    "\n",
    "csv_book_mapping = {} #esta es la misma forma de hacerlon que antes en search\n",
    "\n",
    "with open(\"book_id_map.csv\", \"r\") as f:\n",
    "    while True:\n",
    "        line = f.readline()\n",
    "        if not line:\n",
    "            break\n",
    "        csv_id, book_id = line.strip().split(\",\")   #va a hacer el split en la coma\n",
    "        csv_book_mapping[csv_id] = book_id   #este dictionario las keys serán csv_id y los valores seran los valores seran los del book metadata file \n",
    "        \n",
    "        \n",
    "        "
   ]
  },
  {
   "cell_type": "code",
   "execution_count": 11,
   "id": "2c3cdca2",
   "metadata": {},
   "outputs": [
    {
     "data": {
      "text/plain": [
       "2360651"
      ]
     },
     "execution_count": 11,
     "metadata": {},
     "output_type": "execute_result"
    }
   ],
   "source": [
    "len(csv_book_mapping)   #trocotro"
   ]
  },
  {
   "cell_type": "code",
   "execution_count": 14,
   "id": "91ad37fd",
   "metadata": {},
   "outputs": [
    {
     "name": "stdout",
     "output_type": "stream",
     "text": [
      " 228648343 goodreads_interactions.csv\r\n"
     ]
    }
   ],
   "source": [
    "!wc -l goodreads_interactions.csv     #tamaño"
   ]
  },
  {
   "cell_type": "code",
   "execution_count": 15,
   "id": "c0c69dc5",
   "metadata": {},
   "outputs": [
    {
     "name": "stdout",
     "output_type": "stream",
     "text": [
      "-rw-r--r--@ 1 lucia  staff   4,0G 27 jul 21:17 goodreads_interactions.csv\r\n"
     ]
    }
   ],
   "source": [
    " !ls -lh | grep goodreads_interactions   #peso "
   ]
  },
  {
   "cell_type": "code",
   "execution_count": 25,
   "id": "a8a14efa",
   "metadata": {},
   "outputs": [],
   "source": [
    "#Se podría leer así pero PESA MUCHO"
   ]
  },
  {
   "cell_type": "code",
   "execution_count": null,
   "id": "a3ccf81e",
   "metadata": {},
   "outputs": [],
   "source": [
    "!head head_goodreads_interactions.csv.  #cada usuario con cada voto para 1 libro tiene una fila. Cómo ha votado cada usuario "
   ]
  },
  {
   "cell_type": "code",
   "execution_count": null,
   "id": "08fa24e0",
   "metadata": {},
   "outputs": [],
   "source": [
    "overlap_users = set()\n",
    "with open('goodreads_interactions.csv', 'r') as f:\n",
    "    while True: \n",
    "        line = f.readline()\n",
    "        if not line:\n",
    "            break\n",
    "        user_id, csv_id, _, rating, _ = line.split(\",\")   # el underscore significa que no importan los campos\n",
    "        \n",
    "        if user_id in overlap_users:   #si se solapan no necesita seguir procesando \n",
    "            continue\n",
    "            \n",
    "        try:   #parsear nuesto rating, como int\n",
    "            rating = int(rating)\n",
    "        except ValueError:\n",
    "            continue\n",
    "            \n",
    "#convertir el csv id en un book_id porque el book ib es lo que hemos usado para los libros que nos han gustado\n",
    "            \n",
    "            book_id = csv_book_mapping[csv_id]   \n",
    "            \n",
    "            if book_id in liked_books and rating >=4: #si el libro mayor que 4, le gusta y lo añade a overlap\n",
    "                overlap_users.add(used_id)"
   ]
  },
  {
   "cell_type": "code",
   "execution_count": null,
   "id": "e4fcc4bd",
   "metadata": {},
   "outputs": [],
   "source": []
  },
  {
   "cell_type": "code",
   "execution_count": null,
   "id": "0716ca39",
   "metadata": {},
   "outputs": [],
   "source": [
    "\n"
   ]
  },
  {
   "cell_type": "code",
   "execution_count": null,
   "id": "49f41eb4",
   "metadata": {},
   "outputs": [],
   "source": []
  },
  {
   "cell_type": "code",
   "execution_count": null,
   "id": "06f53a27",
   "metadata": {},
   "outputs": [],
   "source": []
  },
  {
   "cell_type": "code",
   "execution_count": null,
   "id": "f24e7e0a",
   "metadata": {},
   "outputs": [],
   "source": []
  },
  {
   "cell_type": "code",
   "execution_count": null,
   "id": "01886d05",
   "metadata": {},
   "outputs": [],
   "source": []
  },
  {
   "cell_type": "code",
   "execution_count": null,
   "id": "60ea12e6",
   "metadata": {},
   "outputs": [],
   "source": []
  },
  {
   "cell_type": "code",
   "execution_count": null,
   "id": "3814ee64",
   "metadata": {},
   "outputs": [],
   "source": []
  },
  {
   "cell_type": "code",
   "execution_count": null,
   "id": "497fc699",
   "metadata": {},
   "outputs": [],
   "source": []
  }
 ],
 "metadata": {
  "kernelspec": {
   "display_name": "Python 3 (ipykernel)",
   "language": "python",
   "name": "python3"
  },
  "language_info": {
   "codemirror_mode": {
    "name": "ipython",
    "version": 3
   },
   "file_extension": ".py",
   "mimetype": "text/x-python",
   "name": "python",
   "nbconvert_exporter": "python",
   "pygments_lexer": "ipython3",
   "version": "3.9.7"
  }
 },
 "nbformat": 4,
 "nbformat_minor": 5
}
