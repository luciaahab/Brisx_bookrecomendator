{
 "cells": [
  {
   "cell_type": "markdown",
   "id": "b1742ac6",
   "metadata": {},
   "source": [
    "# 🤓 recomendations"
   ]
  },
  {
   "cell_type": "code",
   "execution_count": null,
   "id": "399c37f2",
   "metadata": {},
   "outputs": [],
   "source": [
    "#esta lista viene de search\n",
    "\n",
    "\n",
    "liked_books = ['883438','544058','88077','4395','16097870','2391','54008', '15846226','17899021']"
   ]
  },
  {
   "cell_type": "code",
   "execution_count": null,
   "id": "6edcdd96",
   "metadata": {},
   "outputs": [],
   "source": [
    "#buscamos todos los usuarios a los que les ha gustado los libros"
   ]
  },
  {
   "cell_type": "code",
   "execution_count": 1,
   "id": "72a9fd48",
   "metadata": {},
   "outputs": [
    {
     "name": "stdout",
     "output_type": "stream",
     "text": [
      "book_id_csv,book_id\r\n",
      "0,34684622\r\n",
      "1,34536488\r\n",
      "2,34017076\r\n",
      "3,71730\r\n",
      "4,30422361\r\n",
      "5,33503613\r\n",
      "6,33517540\r\n",
      "7,34467031\r\n",
      "8,6383669\r\n"
     ]
    }
   ],
   "source": [
    "!head book_id_map.csv"
   ]
  },
  {
   "cell_type": "code",
   "execution_count": 9,
   "id": "4207d655",
   "metadata": {},
   "outputs": [],
   "source": [
    "\n",
    "\n",
    "csv_book_mapping = {} #esta es la misma forma de hacerlon que antes en search\n",
    "\n",
    "with open(\"book_id_map.csv\", \"r\") as f:\n",
    "    while True:\n",
    "        line = f.readline()\n",
    "        if not line:\n",
    "            break\n",
    "        csv_id, book_id = line.strip().split(\",\")   #va a hacer el split en la coma\n",
    "        csv_book_mapping[csv_id] = book_id   #este dictionario las keys serán csv_id y los valores seran los valores seran los del book metadata file \n",
    "        \n",
    "        \n",
    "        "
   ]
  },
  {
   "cell_type": "code",
   "execution_count": 11,
   "id": "c2d9315b",
   "metadata": {},
   "outputs": [
    {
     "data": {
      "text/plain": [
       "2360651"
      ]
     },
     "execution_count": 11,
     "metadata": {},
     "output_type": "execute_result"
    }
   ],
   "source": [
    "len(csv_book_mapping)   #trocotro"
   ]
  },
  {
   "cell_type": "code",
   "execution_count": 14,
   "id": "83148452",
   "metadata": {},
   "outputs": [
    {
     "name": "stdout",
     "output_type": "stream",
     "text": [
      " 228648343 goodreads_interactions.csv\r\n"
     ]
    }
   ],
   "source": [
    "!wc -l goodreads_interactions.csv     #tamaño"
   ]
  },
  {
   "cell_type": "code",
   "execution_count": 15,
   "id": "44418e9c",
   "metadata": {},
   "outputs": [
    {
     "name": "stdout",
     "output_type": "stream",
     "text": [
      "-rw-r--r--@ 1 lucia  staff   4,0G 27 jul 21:17 goodreads_interactions.csv\r\n"
     ]
    }
   ],
   "source": [
    " !ls -lh | grep goodreads_interactions   #peso "
   ]
  },
  {
   "cell_type": "code",
   "execution_count": 16,
   "id": "69e81230",
   "metadata": {},
   "outputs": [],
   "source": [
    "#Se podría leer así pero PESA MUCHO"
   ]
  },
  {
   "cell_type": "code",
   "execution_count": 24,
   "id": "19f8c0ed",
   "metadata": {},
   "outputs": [],
   "source": [
    "overlap_users = set()\n",
    "with open('goodreads_interactions.csv', 'r') as f:\n",
    "    while True: \n",
    "        line = f.readline()\n",
    "        if not line:\n",
    "            break\n",
    "        user_id, csv_id, _, rating, _ = line.split(\",\")   # el underscore significa que \n",
    "        \n",
    "        if user_id in overlap_users:\n",
    "            book_id = csv_book_mapping[csv_id]\n",
    "            rec_lines.append([user_id, book_id, rating])  "
   ]
  },
  {
   "cell_type": "code",
   "execution_count": null,
   "id": "0326ef3f",
   "metadata": {},
   "outputs": [],
   "source": []
  },
  {
   "cell_type": "code",
   "execution_count": null,
   "id": "f8a5481c",
   "metadata": {},
   "outputs": [],
   "source": [
    "\n"
   ]
  },
  {
   "cell_type": "code",
   "execution_count": null,
   "id": "1a456c7c",
   "metadata": {},
   "outputs": [],
   "source": []
  },
  {
   "cell_type": "code",
   "execution_count": null,
   "id": "1e8ec61e",
   "metadata": {},
   "outputs": [],
   "source": []
  },
  {
   "cell_type": "code",
   "execution_count": null,
   "id": "4da3dfcc",
   "metadata": {},
   "outputs": [],
   "source": []
  },
  {
   "cell_type": "code",
   "execution_count": null,
   "id": "1649ed38",
   "metadata": {},
   "outputs": [],
   "source": []
  },
  {
   "cell_type": "code",
   "execution_count": null,
   "id": "71d22dff",
   "metadata": {},
   "outputs": [],
   "source": []
  },
  {
   "cell_type": "code",
   "execution_count": null,
   "id": "282049a4",
   "metadata": {},
   "outputs": [],
   "source": []
  },
  {
   "cell_type": "code",
   "execution_count": null,
   "id": "8bb0bb7d",
   "metadata": {},
   "outputs": [],
   "source": []
  }
 ],
 "metadata": {
  "kernelspec": {
   "display_name": "Python 3 (ipykernel)",
   "language": "python",
   "name": "python3"
  },
  "language_info": {
   "codemirror_mode": {
    "name": "ipython",
    "version": 3
   },
   "file_extension": ".py",
   "mimetype": "text/x-python",
   "name": "python",
   "nbconvert_exporter": "python",
   "pygments_lexer": "ipython3",
   "version": "3.9.7"
  }
 },
 "nbformat": 4,
 "nbformat_minor": 5
}
