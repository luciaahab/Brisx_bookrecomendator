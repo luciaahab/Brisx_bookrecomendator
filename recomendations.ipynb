{
 "cells": [
  {
   "cell_type": "markdown",
   "id": "11798be1",
   "metadata": {},
   "source": [
    "# 🤓 recomendations"
   ]
  },
  {
   "cell_type": "markdown",
   "id": "23f8143a",
   "metadata": {},
   "source": [
    "### Encontrar recomendaciones en función de usuarios similares a nosotros ✌🏼"
   ]
  },
  {
   "cell_type": "code",
   "execution_count": 119,
   "id": "45395e5f",
   "metadata": {},
   "outputs": [],
   "source": [
    "#esta lista viene de search\n",
    "\n",
    "\n",
    "liked_books = ['883438','88077','16097870','2391','54008','17899021']\n",
    "#liked_books = [\"4408\", \"31147619\", \"29983711\", \"9401317\", \"9317691\", \"8153988\", \"20494944\"]"
   ]
  },
  {
   "cell_type": "code",
   "execution_count": 92,
   "id": "3a02486d",
   "metadata": {},
   "outputs": [],
   "source": [
    "#buscamos todos los usuarios a los que les ha gustado los libros"
   ]
  },
  {
   "cell_type": "code",
   "execution_count": 93,
   "id": "1e71f59a",
   "metadata": {},
   "outputs": [
    {
     "name": "stdout",
     "output_type": "stream",
     "text": [
      "book_id_csv,book_id\r\n",
      "0,34684622\r\n",
      "1,34536488\r\n",
      "2,34017076\r\n",
      "3,71730\r\n",
      "4,30422361\r\n",
      "5,33503613\r\n",
      "6,33517540\r\n",
      "7,34467031\r\n",
      "8,6383669\r\n"
     ]
    }
   ],
   "source": [
    "!head book_id_map.csv    #abrimos en streaming"
   ]
  },
  {
   "cell_type": "code",
   "execution_count": 127,
   "id": "0ec15b28",
   "metadata": {},
   "outputs": [],
   "source": [
    "    \n",
    "csv_book_mapping = {}   #esta es la misma forma de hacerlon que antes en search\n",
    "\n",
    "with open(\"book_id_map.csv\", \"r\") as f:\n",
    "    while True:\n",
    "        line = f.readline()\n",
    "        if not line:\n",
    "            break\n",
    "        csv_id, book_id = line.strip().split(\",\")  #va a hacer el split en la coma\n",
    "        csv_book_mapping[csv_id] = book_id    #este dictionario las keys serán csv_id y los valores seran los valores se\n",
    "    "
   ]
  },
  {
   "cell_type": "code",
   "execution_count": 128,
   "id": "149c3e6e",
   "metadata": {},
   "outputs": [
    {
     "data": {
      "text/plain": [
       "'34684622'"
      ]
     },
     "execution_count": 128,
     "metadata": {},
     "output_type": "execute_result"
    }
   ],
   "source": [
    "csv_book_mapping['0']"
   ]
  },
  {
   "cell_type": "code",
   "execution_count": 129,
   "id": "ffde9a05",
   "metadata": {},
   "outputs": [
    {
     "data": {
      "text/plain": [
       "2360651"
      ]
     },
     "execution_count": 129,
     "metadata": {},
     "output_type": "execute_result"
    }
   ],
   "source": [
    "len(csv_book_mapping)   #trocotro\n"
   ]
  },
  {
   "cell_type": "code",
   "execution_count": 96,
   "id": "e7d562e7",
   "metadata": {},
   "outputs": [
    {
     "name": "stdout",
     "output_type": "stream",
     "text": [
      " 228648343 goodreads_interactions.csv\r\n"
     ]
    }
   ],
   "source": [
    "!wc -l goodreads_interactions.csv     #tamaño"
   ]
  },
  {
   "cell_type": "code",
   "execution_count": 97,
   "id": "30a70140",
   "metadata": {},
   "outputs": [
    {
     "name": "stdout",
     "output_type": "stream",
     "text": [
      "-rw-r--r--@ 1 lucia  staff   4,0G 27 jul 21:17 goodreads_interactions.csv\r\n"
     ]
    }
   ],
   "source": [
    " !ls -lh | grep goodreads_interactions   #peso "
   ]
  },
  {
   "cell_type": "code",
   "execution_count": 98,
   "id": "b6de17c3",
   "metadata": {},
   "outputs": [],
   "source": [
    "#Se podría leer así pero PESA MUCHO"
   ]
  },
  {
   "cell_type": "code",
   "execution_count": 99,
   "id": "532a4c84",
   "metadata": {},
   "outputs": [
    {
     "name": "stdout",
     "output_type": "stream",
     "text": [
      "user_id,book_id,is_read,rating,is_reviewed\r\n",
      "0,948,1,5,0\r\n",
      "0,947,1,5,1\r\n",
      "0,946,1,5,0\r\n",
      "0,945,1,5,0\r\n",
      "0,944,1,5,0\r\n",
      "0,943,1,5,0\r\n",
      "0,942,1,5,0\r\n",
      "0,941,1,5,0\r\n",
      "0,940,1,5,0\r\n"
     ]
    }
   ],
   "source": [
    "!head goodreads_interactions.csv  #Es el archivo que dice Cómo ha votado cada usuario\n",
    "#cada usuario con cada voto para 1 libro tiene una fila\n",
    "\n",
    "#si la puntuación es alta aquí significa que  coincide con nosotrxs\n",
    "\n",
    "#Si vamos línea a línea lo que vemos es que chequeamos el libro y vemos si está en nuesta lista de libros y si está:\n",
    "#significa que tal vez tenga un gusto parecido al nuestro y les añadimis a nuestro set gustos parecidos\n"
   ]
  },
  {
   "cell_type": "code",
   "execution_count": 131,
   "id": "11561062",
   "metadata": {},
   "outputs": [
    {
     "name": "stdout",
     "output_type": "stream",
     "text": [
      "cuidaito, no encontrado\n"
     ]
    }
   ],
   "source": [
    "'''\n",
    "\n",
    "overlap_users = set()\n",
    "with open('goodreads_interactions.csv', 'r') as f:\n",
    "    while True: \n",
    "        line = f.readline()\n",
    "        if not line:\n",
    "            break\n",
    "        user_id, csv_id, _, rating, _ = line.split(\",\")   # el underscore significa que no importan los campos\n",
    "        \n",
    "        if user_id in overlap_users:   #si se solapan no necesita seguir procesando \n",
    "            continue\n",
    "            \n",
    "        try:   #parsear nuesto rating, como int\n",
    "            rating = int(rating)\n",
    "        except ValueError:\n",
    "            print('cuidaito, no encontrado')\n",
    "            continue \n",
    "            \n",
    "#convertir el csv id en un book_id porque el book ib es lo que hemos usado para los libros que nos han gustado\n",
    "            \n",
    "            book_id = csv_book_mapping[csv_id]   \n",
    "            \n",
    "            if book_id in liked_books and rating >=4: #si el libro mayor que 4, le gusta y lo añade a overlap\n",
    "                overlap_users.add(user_id)\n",
    "                \n",
    "#el problema está aquí\n",
    "'''"
   ]
  },
  {
   "cell_type": "code",
   "execution_count": 132,
   "id": "548a4689",
   "metadata": {},
   "outputs": [],
   "source": [
    "#redone\n",
    "\n",
    "overlap_users = set()\n",
    "\n",
    "with open(\"goodreads_interactions.csv\", 'r') as f:\n",
    "    while True:\n",
    "        line = f.readline()\n",
    "        if not line:\n",
    "            break\n",
    "        user_id, csv_id, _, rating, _ = line.split(\",\")\n",
    "        \n",
    "        if user_id in overlap_users:\n",
    "            continue\n",
    "\n",
    "        try:\n",
    "            rating = int(rating)\n",
    "        except ValueError:\n",
    "            print('cuidaito, no encontrado')\n",
    "            continue\n",
    "        \n",
    "        book_id = csv_book_mapping[csv_id]\n",
    "        \n",
    "        if book_id in liked_books and rating >= 4:\n",
    "                overlap_users.add(user_id)"
   ]
  },
  {
   "cell_type": "markdown",
   "id": "bc49775b",
   "metadata": {},
   "source": [
    "### Ver qué libros les han gustado a esos usuarios que se parecen a nosotros"
   ]
  },
  {
   "cell_type": "code",
   "execution_count": 101,
   "id": "523f16a9",
   "metadata": {},
   "outputs": [],
   "source": [
    "#Se van a crear dos loops porque si no se hace así se pueden perder valores"
   ]
  },
  {
   "cell_type": "code",
   "execution_count": 102,
   "id": "0131cee8",
   "metadata": {},
   "outputs": [],
   "source": [
    "#encontrar qué libros han leído\n",
    "# Vamos iterar por el dataset de goodreads, así que se puede copiar y pegar de la función anterior\n",
    "\n",
    "\n",
    "rec_lines = []  #libros que usuarios parecidos a nosotoros han leído\n",
    "\n",
    "\n",
    "with open('goodreads_interactions.csv', 'r') as f:\n",
    "    while True: \n",
    "        line = f.readline()\n",
    "        if not line:\n",
    "            break    #copiado de arribaç\n",
    "        user_id, csv_id, _, rating, _ = line.split(\",\")\n",
    "        \n",
    "        if user_id in overlap_users:\n",
    "            book_id = csv_book_mapping[csv_id]     #parseamos\n",
    "            rec_lines.append([user_id, book_id, rating])  #lo añadimos las los libros libros que usuarios parecidos a nosotros han leído también = rec_lines\n",
    "        \n",
    "    \n",
    "    \n",
    "    "
   ]
  },
  {
   "cell_type": "code",
   "execution_count": 103,
   "id": "2b01589c",
   "metadata": {},
   "outputs": [],
   "source": [
    "#rank the recommenadtions"
   ]
  },
  {
   "cell_type": "code",
   "execution_count": 133,
   "id": "552fe2e2",
   "metadata": {},
   "outputs": [
    {
     "data": {
      "text/plain": [
       "2130"
      ]
     },
     "execution_count": 133,
     "metadata": {},
     "output_type": "execute_result"
    }
   ],
   "source": [
    "len(overlap_users)  #vacío pq?"
   ]
  },
  {
   "cell_type": "code",
   "execution_count": 134,
   "id": "e5faff1e",
   "metadata": {},
   "outputs": [
    {
     "data": {
      "text/plain": [
       "1481120"
      ]
     },
     "execution_count": 134,
     "metadata": {},
     "output_type": "execute_result"
    }
   ],
   "source": [
    "len(rec_lines)"
   ]
  },
  {
   "cell_type": "code",
   "execution_count": 106,
   "id": "61d7b6d2",
   "metadata": {},
   "outputs": [],
   "source": [
    "import pandas as pd"
   ]
  },
  {
   "cell_type": "code",
   "execution_count": 135,
   "id": "c1bfadfa",
   "metadata": {},
   "outputs": [],
   "source": [
    "#cuidado, está vacío!!!!\n",
    "\n",
    "recs = pd.DataFrame(rec_lines, columns=['user_id', 'book_id', 'rating'])  #es más fácil trabajar con un df\n",
    "recs['book_id'] =recs['book_id'].astype(str)    #Esto va a hacer nuestro rec_lines en un df"
   ]
  },
  {
   "cell_type": "code",
   "execution_count": 138,
   "id": "29542a9c",
   "metadata": {},
   "outputs": [
    {
     "data": {
      "text/html": [
       "<div>\n",
       "<style scoped>\n",
       "    .dataframe tbody tr th:only-of-type {\n",
       "        vertical-align: middle;\n",
       "    }\n",
       "\n",
       "    .dataframe tbody tr th {\n",
       "        vertical-align: top;\n",
       "    }\n",
       "\n",
       "    .dataframe thead th {\n",
       "        text-align: right;\n",
       "    }\n",
       "</style>\n",
       "<table border=\"1\" class=\"dataframe\">\n",
       "  <thead>\n",
       "    <tr style=\"text-align: right;\">\n",
       "      <th></th>\n",
       "      <th>user_id</th>\n",
       "      <th>book_id</th>\n",
       "      <th>rating</th>\n",
       "    </tr>\n",
       "  </thead>\n",
       "  <tbody>\n",
       "    <tr>\n",
       "      <th>0</th>\n",
       "      <td>77</td>\n",
       "      <td>1199161</td>\n",
       "      <td>3</td>\n",
       "    </tr>\n",
       "    <tr>\n",
       "      <th>1</th>\n",
       "      <td>77</td>\n",
       "      <td>18749</td>\n",
       "      <td>4</td>\n",
       "    </tr>\n",
       "    <tr>\n",
       "      <th>2</th>\n",
       "      <td>77</td>\n",
       "      <td>101094</td>\n",
       "      <td>5</td>\n",
       "    </tr>\n",
       "    <tr>\n",
       "      <th>3</th>\n",
       "      <td>77</td>\n",
       "      <td>16902</td>\n",
       "      <td>3</td>\n",
       "    </tr>\n",
       "    <tr>\n",
       "      <th>4</th>\n",
       "      <td>77</td>\n",
       "      <td>7575487</td>\n",
       "      <td>0</td>\n",
       "    </tr>\n",
       "  </tbody>\n",
       "</table>\n",
       "</div>"
      ],
      "text/plain": [
       "  user_id  book_id rating\n",
       "0      77  1199161      3\n",
       "1      77    18749      4\n",
       "2      77   101094      5\n",
       "3      77    16902      3\n",
       "4      77  7575487      0"
      ]
     },
     "execution_count": 138,
     "metadata": {},
     "output_type": "execute_result"
    }
   ],
   "source": [
    "recs.head()"
   ]
  },
  {
   "cell_type": "code",
   "execution_count": 155,
   "id": "8ec439e4",
   "metadata": {},
   "outputs": [
    {
     "data": {
      "text/plain": [
       "88077    1694\n",
       "4671     1364\n",
       "5470     1361\n",
       "5107     1273\n",
       "7613     1207\n",
       "Name: book_id, dtype: int64"
      ]
     },
     "execution_count": 155,
     "metadata": {},
     "output_type": "execute_result"
    }
   ],
   "source": [
    "top_recs = recs['book_id'].value_counts()      #de qué valor hay más, más frecuentres\n",
    "top_recs.head()"
   ]
  },
  {
   "cell_type": "code",
   "execution_count": 178,
   "id": "397276d4",
   "metadata": {},
   "outputs": [
    {
     "ename": "AttributeError",
     "evalue": "'numpy.ndarray' object has no attribute 'index'",
     "output_type": "error",
     "traceback": [
      "\u001b[0;31m---------------------------------------------------------------------------\u001b[0m",
      "\u001b[0;31mAttributeError\u001b[0m                            Traceback (most recent call last)",
      "\u001b[0;32m/var/folders/bp/5cqvvvwn7p14588p725frs740000gn/T/ipykernel_4870/3850094685.py\u001b[0m in \u001b[0;36m<module>\u001b[0;34m\u001b[0m\n\u001b[0;32m----> 1\u001b[0;31m \u001b[0mtop_recs\u001b[0m \u001b[0;34m=\u001b[0m \u001b[0mtop_recs\u001b[0m\u001b[0;34m.\u001b[0m\u001b[0mindex\u001b[0m\u001b[0;34m.\u001b[0m\u001b[0mvalues\u001b[0m\u001b[0;34m\u001b[0m\u001b[0;34m\u001b[0m\u001b[0m\n\u001b[0m",
      "\u001b[0;31mAttributeError\u001b[0m: 'numpy.ndarray' object has no attribute 'index'"
     ]
    }
   ],
   "source": [
    "top_recs = top_recs.index.values   #añadido después de empezar a const el rec inicial. Da los valores del índice"
   ]
  },
  {
   "cell_type": "code",
   "execution_count": 179,
   "id": "ca243dc1",
   "metadata": {},
   "outputs": [],
   "source": [
    "books_titles = pd.read_json(\"boks_titles.json\")\n",
    "books_titles[\"book_id\"] = books_titles[\"book_id\"].astype(str)   #todo tiene el mismo tipo"
   ]
  },
  {
   "cell_type": "code",
   "execution_count": 181,
   "id": "c1ccad4c",
   "metadata": {},
   "outputs": [
    {
     "data": {
      "text/plain": [
       "2130"
      ]
     },
     "execution_count": 181,
     "metadata": {},
     "output_type": "execute_result"
    }
   ],
   "source": [
    "len(overlap_users)\n"
   ]
  },
  {
   "cell_type": "code",
   "execution_count": 175,
   "id": "55a16a43",
   "metadata": {},
   "outputs": [
    {
     "data": {
      "text/html": [
       "<div>\n",
       "<style scoped>\n",
       "    .dataframe tbody tr th:only-of-type {\n",
       "        vertical-align: middle;\n",
       "    }\n",
       "\n",
       "    .dataframe tbody tr th {\n",
       "        vertical-align: top;\n",
       "    }\n",
       "\n",
       "    .dataframe thead th {\n",
       "        text-align: right;\n",
       "    }\n",
       "</style>\n",
       "<table border=\"1\" class=\"dataframe\">\n",
       "  <thead>\n",
       "    <tr style=\"text-align: right;\">\n",
       "      <th></th>\n",
       "      <th>book_id</th>\n",
       "      <th>title</th>\n",
       "      <th>ratings</th>\n",
       "      <th>url</th>\n",
       "      <th>cover_image</th>\n",
       "      <th>mod_title</th>\n",
       "    </tr>\n",
       "  </thead>\n",
       "  <tbody>\n",
       "    <tr>\n",
       "      <th>0</th>\n",
       "      <td>1333909</td>\n",
       "      <td>Good Harbor</td>\n",
       "      <td>10</td>\n",
       "      <td>https://www.goodreads.com/book/show/1333909.Go...</td>\n",
       "      <td>https://s.gr-assets.com/assets/nophoto/book/11...</td>\n",
       "      <td>good harbor</td>\n",
       "    </tr>\n",
       "    <tr>\n",
       "      <th>1</th>\n",
       "      <td>7327624</td>\n",
       "      <td>The Unschooled Wizard (Sun Wolf and Starhawk, ...</td>\n",
       "      <td>140</td>\n",
       "      <td>https://www.goodreads.com/book/show/7327624-th...</td>\n",
       "      <td>https://images.gr-assets.com/books/1304100136m...</td>\n",
       "      <td>the unschooled wizard sun wolf and starhawk 12</td>\n",
       "    </tr>\n",
       "    <tr>\n",
       "      <th>2</th>\n",
       "      <td>6066819</td>\n",
       "      <td>Best Friends Forever</td>\n",
       "      <td>51184</td>\n",
       "      <td>https://www.goodreads.com/book/show/6066819-be...</td>\n",
       "      <td>https://s.gr-assets.com/assets/nophoto/book/11...</td>\n",
       "      <td>best friends forever</td>\n",
       "    </tr>\n",
       "    <tr>\n",
       "      <th>3</th>\n",
       "      <td>287140</td>\n",
       "      <td>Runic Astrology: Starcraft and Timekeeping in ...</td>\n",
       "      <td>15</td>\n",
       "      <td>https://www.goodreads.com/book/show/287140.Run...</td>\n",
       "      <td>https://images.gr-assets.com/books/1413219371m...</td>\n",
       "      <td>runic astrology starcraft and timekeeping in t...</td>\n",
       "    </tr>\n",
       "    <tr>\n",
       "      <th>4</th>\n",
       "      <td>287141</td>\n",
       "      <td>The Aeneid for Boys and Girls</td>\n",
       "      <td>46</td>\n",
       "      <td>https://www.goodreads.com/book/show/287141.The...</td>\n",
       "      <td>https://s.gr-assets.com/assets/nophoto/book/11...</td>\n",
       "      <td>the aeneid for boys and girls</td>\n",
       "    </tr>\n",
       "  </tbody>\n",
       "</table>\n",
       "</div>"
      ],
      "text/plain": [
       "   book_id                                              title  ratings  \\\n",
       "0  1333909                                        Good Harbor       10   \n",
       "1  7327624  The Unschooled Wizard (Sun Wolf and Starhawk, ...      140   \n",
       "2  6066819                               Best Friends Forever    51184   \n",
       "3   287140  Runic Astrology: Starcraft and Timekeeping in ...       15   \n",
       "4   287141                      The Aeneid for Boys and Girls       46   \n",
       "\n",
       "                                                 url  \\\n",
       "0  https://www.goodreads.com/book/show/1333909.Go...   \n",
       "1  https://www.goodreads.com/book/show/7327624-th...   \n",
       "2  https://www.goodreads.com/book/show/6066819-be...   \n",
       "3  https://www.goodreads.com/book/show/287140.Run...   \n",
       "4  https://www.goodreads.com/book/show/287141.The...   \n",
       "\n",
       "                                         cover_image  \\\n",
       "0  https://s.gr-assets.com/assets/nophoto/book/11...   \n",
       "1  https://images.gr-assets.com/books/1304100136m...   \n",
       "2  https://s.gr-assets.com/assets/nophoto/book/11...   \n",
       "3  https://images.gr-assets.com/books/1413219371m...   \n",
       "4  https://s.gr-assets.com/assets/nophoto/book/11...   \n",
       "\n",
       "                                           mod_title  \n",
       "0                                        good harbor  \n",
       "1     the unschooled wizard sun wolf and starhawk 12  \n",
       "2                               best friends forever  \n",
       "3  runic astrology starcraft and timekeeping in t...  \n",
       "4                      the aeneid for boys and girls  "
      ]
     },
     "execution_count": 175,
     "metadata": {},
     "output_type": "execute_result"
    }
   ],
   "source": [
    "books_titles.head()   #yess"
   ]
  },
  {
   "cell_type": "markdown",
   "id": "8320f3b6",
   "metadata": {},
   "source": [
    "## Construir un rec inicial"
   ]
  },
  {
   "cell_type": "code",
   "execution_count": null,
   "id": "59f9c238",
   "metadata": {},
   "outputs": [],
   "source": []
  },
  {
   "cell_type": "code",
   "execution_count": null,
   "id": "7dffe6dc",
   "metadata": {},
   "outputs": [],
   "source": []
  },
  {
   "cell_type": "code",
   "execution_count": 174,
   "id": "1c69f4b2",
   "metadata": {},
   "outputs": [
    {
     "data": {
      "text/html": [
       "<div>\n",
       "<style scoped>\n",
       "    .dataframe tbody tr th:only-of-type {\n",
       "        vertical-align: middle;\n",
       "    }\n",
       "\n",
       "    .dataframe tbody tr th {\n",
       "        vertical-align: top;\n",
       "    }\n",
       "\n",
       "    .dataframe thead th {\n",
       "        text-align: right;\n",
       "    }\n",
       "</style>\n",
       "<table border=\"1\" class=\"dataframe\">\n",
       "  <thead>\n",
       "    <tr style=\"text-align: right;\">\n",
       "      <th></th>\n",
       "      <th>book_id</th>\n",
       "      <th>title</th>\n",
       "      <th>ratings</th>\n",
       "      <th>url</th>\n",
       "      <th>cover_image</th>\n",
       "      <th>mod_title</th>\n",
       "    </tr>\n",
       "  </thead>\n",
       "  <tbody>\n",
       "    <tr>\n",
       "      <th>2</th>\n",
       "      <td>6066819</td>\n",
       "      <td>Best Friends Forever</td>\n",
       "      <td>51184</td>\n",
       "      <td>https://www.goodreads.com/book/show/6066819-be...</td>\n",
       "      <td>https://s.gr-assets.com/assets/nophoto/book/11...</td>\n",
       "      <td>best friends forever</td>\n",
       "    </tr>\n",
       "    <tr>\n",
       "      <th>7</th>\n",
       "      <td>287149</td>\n",
       "      <td>The Devil's Notebook</td>\n",
       "      <td>986</td>\n",
       "      <td>https://www.goodreads.com/book/show/287149.The...</td>\n",
       "      <td>https://images.gr-assets.com/books/1328768789m...</td>\n",
       "      <td>the devils notebook</td>\n",
       "    </tr>\n",
       "    <tr>\n",
       "      <th>8</th>\n",
       "      <td>6066814</td>\n",
       "      <td>Crowner Royal (Crowner John Mystery, #13)</td>\n",
       "      <td>186</td>\n",
       "      <td>https://www.goodreads.com/book/show/6066814-cr...</td>\n",
       "      <td>https://images.gr-assets.com/books/1328724803m...</td>\n",
       "      <td>crowner royal crowner john mystery 13</td>\n",
       "    </tr>\n",
       "    <tr>\n",
       "      <th>13</th>\n",
       "      <td>89375</td>\n",
       "      <td>90 Minutes in Heaven: A True Story of Death an...</td>\n",
       "      <td>68157</td>\n",
       "      <td>https://www.goodreads.com/book/show/89375.90_M...</td>\n",
       "      <td>https://s.gr-assets.com/assets/nophoto/book/11...</td>\n",
       "      <td>90 minutes in heaven a true story of death and...</td>\n",
       "    </tr>\n",
       "    <tr>\n",
       "      <th>14</th>\n",
       "      <td>89376</td>\n",
       "      <td>Heaven</td>\n",
       "      <td>7345</td>\n",
       "      <td>https://www.goodreads.com/book/show/89376.Heaven</td>\n",
       "      <td>https://images.gr-assets.com/books/1406508230m...</td>\n",
       "      <td>heaven</td>\n",
       "    </tr>\n",
       "    <tr>\n",
       "      <th>...</th>\n",
       "      <td>...</td>\n",
       "      <td>...</td>\n",
       "      <td>...</td>\n",
       "      <td>...</td>\n",
       "      <td>...</td>\n",
       "      <td>...</td>\n",
       "    </tr>\n",
       "    <tr>\n",
       "      <th>1782548</th>\n",
       "      <td>7195902</td>\n",
       "      <td>The Short Happy Life of Francis Macomber</td>\n",
       "      <td>290</td>\n",
       "      <td>https://www.goodreads.com/book/show/7195902-th...</td>\n",
       "      <td>https://images.gr-assets.com/books/1329637203m...</td>\n",
       "      <td>the short happy life of francis macomber</td>\n",
       "    </tr>\n",
       "    <tr>\n",
       "      <th>1782550</th>\n",
       "      <td>2527820</td>\n",
       "      <td>Gosick: The Novel (Gosick, #1)</td>\n",
       "      <td>557</td>\n",
       "      <td>https://www.goodreads.com/book/show/2527820.Go...</td>\n",
       "      <td>https://images.gr-assets.com/books/1346856168m...</td>\n",
       "      <td>gosick the novel gosick 1</td>\n",
       "    </tr>\n",
       "    <tr>\n",
       "      <th>1782560</th>\n",
       "      <td>26591045</td>\n",
       "      <td>The Sensible Necktie and Other Stories of Sher...</td>\n",
       "      <td>16</td>\n",
       "      <td>https://www.goodreads.com/book/show/26591045-t...</td>\n",
       "      <td>https://images.gr-assets.com/books/1444637176m...</td>\n",
       "      <td>the sensible necktie and other stories of sher...</td>\n",
       "    </tr>\n",
       "    <tr>\n",
       "      <th>1782561</th>\n",
       "      <td>25727303</td>\n",
       "      <td>Mrs. Hudson in New York</td>\n",
       "      <td>6</td>\n",
       "      <td>https://www.goodreads.com/book/show/25727303-m...</td>\n",
       "      <td>https://images.gr-assets.com/books/1434310664m...</td>\n",
       "      <td>mrs hudson in new york</td>\n",
       "    </tr>\n",
       "    <tr>\n",
       "      <th>1782575</th>\n",
       "      <td>26168430</td>\n",
       "      <td>Sherlock Holmes and the July Crisis</td>\n",
       "      <td>6</td>\n",
       "      <td>https://www.goodreads.com/book/show/26168430-s...</td>\n",
       "      <td>https://images.gr-assets.com/books/1440592011m...</td>\n",
       "      <td>sherlock holmes and the july crisis</td>\n",
       "    </tr>\n",
       "  </tbody>\n",
       "</table>\n",
       "<p>381002 rows × 6 columns</p>\n",
       "</div>"
      ],
      "text/plain": [
       "          book_id                                              title  ratings  \\\n",
       "2         6066819                               Best Friends Forever    51184   \n",
       "7          287149                               The Devil's Notebook      986   \n",
       "8         6066814          Crowner Royal (Crowner John Mystery, #13)      186   \n",
       "13          89375  90 Minutes in Heaven: A True Story of Death an...    68157   \n",
       "14          89376                                             Heaven     7345   \n",
       "...           ...                                                ...      ...   \n",
       "1782548   7195902           The Short Happy Life of Francis Macomber      290   \n",
       "1782550   2527820                     Gosick: The Novel (Gosick, #1)      557   \n",
       "1782560  26591045  The Sensible Necktie and Other Stories of Sher...       16   \n",
       "1782561  25727303                            Mrs. Hudson in New York        6   \n",
       "1782575  26168430                Sherlock Holmes and the July Crisis        6   \n",
       "\n",
       "                                                       url  \\\n",
       "2        https://www.goodreads.com/book/show/6066819-be...   \n",
       "7        https://www.goodreads.com/book/show/287149.The...   \n",
       "8        https://www.goodreads.com/book/show/6066814-cr...   \n",
       "13       https://www.goodreads.com/book/show/89375.90_M...   \n",
       "14        https://www.goodreads.com/book/show/89376.Heaven   \n",
       "...                                                    ...   \n",
       "1782548  https://www.goodreads.com/book/show/7195902-th...   \n",
       "1782550  https://www.goodreads.com/book/show/2527820.Go...   \n",
       "1782560  https://www.goodreads.com/book/show/26591045-t...   \n",
       "1782561  https://www.goodreads.com/book/show/25727303-m...   \n",
       "1782575  https://www.goodreads.com/book/show/26168430-s...   \n",
       "\n",
       "                                               cover_image  \\\n",
       "2        https://s.gr-assets.com/assets/nophoto/book/11...   \n",
       "7        https://images.gr-assets.com/books/1328768789m...   \n",
       "8        https://images.gr-assets.com/books/1328724803m...   \n",
       "13       https://s.gr-assets.com/assets/nophoto/book/11...   \n",
       "14       https://images.gr-assets.com/books/1406508230m...   \n",
       "...                                                    ...   \n",
       "1782548  https://images.gr-assets.com/books/1329637203m...   \n",
       "1782550  https://images.gr-assets.com/books/1346856168m...   \n",
       "1782560  https://images.gr-assets.com/books/1444637176m...   \n",
       "1782561  https://images.gr-assets.com/books/1434310664m...   \n",
       "1782575  https://images.gr-assets.com/books/1440592011m...   \n",
       "\n",
       "                                                 mod_title  \n",
       "2                                     best friends forever  \n",
       "7                                      the devils notebook  \n",
       "8                    crowner royal crowner john mystery 13  \n",
       "13       90 minutes in heaven a true story of death and...  \n",
       "14                                                  heaven  \n",
       "...                                                    ...  \n",
       "1782548           the short happy life of francis macomber  \n",
       "1782550                          gosick the novel gosick 1  \n",
       "1782560  the sensible necktie and other stories of sher...  \n",
       "1782561                             mrs hudson in new york  \n",
       "1782575                sherlock holmes and the july crisis  \n",
       "\n",
       "[381002 rows x 6 columns]"
      ]
     },
     "execution_count": 174,
     "metadata": {},
     "output_type": "execute_result"
    }
   ],
   "source": [
    "#encuentra todos los títulos que estén en las recomedaciones top\n",
    "\n",
    "books_titles[books_titles[\"book_id\"].isin(top_recs)]   #cuidado, VACÍO\n",
    "\n"
   ]
  },
  {
   "cell_type": "code",
   "execution_count": 161,
   "id": "34f7b371",
   "metadata": {},
   "outputs": [
    {
     "data": {
      "text/plain": [
       "88077    1694\n",
       "4671     1364\n",
       "5470     1361\n",
       "5107     1273\n",
       "7613     1207\n",
       "Name: book_id, dtype: int64"
      ]
     },
     "execution_count": 161,
     "metadata": {},
     "output_type": "execute_result"
    }
   ],
   "source": [
    "\n",
    "\n",
    "all_recs = recs[\"book_id\"].value_counts()\n",
    "all_recs.head()"
   ]
  },
  {
   "cell_type": "code",
   "execution_count": 162,
   "id": "09e7e183",
   "metadata": {},
   "outputs": [],
   "source": [
    "all_recs = all_recs.to_frame().reset_index()   \n",
    "all_recs.columns = [\"book_id\", \"book_count\"]   #renombrar porque book id estaba mal\n",
    "\n"
   ]
  },
  {
   "cell_type": "code",
   "execution_count": 163,
   "id": "86848c28",
   "metadata": {},
   "outputs": [
    {
     "data": {
      "text/html": [
       "<div>\n",
       "<style scoped>\n",
       "    .dataframe tbody tr th:only-of-type {\n",
       "        vertical-align: middle;\n",
       "    }\n",
       "\n",
       "    .dataframe tbody tr th {\n",
       "        vertical-align: top;\n",
       "    }\n",
       "\n",
       "    .dataframe thead th {\n",
       "        text-align: right;\n",
       "    }\n",
       "</style>\n",
       "<table border=\"1\" class=\"dataframe\">\n",
       "  <thead>\n",
       "    <tr style=\"text-align: right;\">\n",
       "      <th></th>\n",
       "      <th>book_id</th>\n",
       "      <th>book_count</th>\n",
       "    </tr>\n",
       "  </thead>\n",
       "  <tbody>\n",
       "    <tr>\n",
       "      <th>0</th>\n",
       "      <td>88077</td>\n",
       "      <td>1694</td>\n",
       "    </tr>\n",
       "    <tr>\n",
       "      <th>1</th>\n",
       "      <td>4671</td>\n",
       "      <td>1364</td>\n",
       "    </tr>\n",
       "    <tr>\n",
       "      <th>2</th>\n",
       "      <td>5470</td>\n",
       "      <td>1361</td>\n",
       "    </tr>\n",
       "    <tr>\n",
       "      <th>3</th>\n",
       "      <td>5107</td>\n",
       "      <td>1273</td>\n",
       "    </tr>\n",
       "    <tr>\n",
       "      <th>4</th>\n",
       "      <td>7613</td>\n",
       "      <td>1207</td>\n",
       "    </tr>\n",
       "  </tbody>\n",
       "</table>\n",
       "</div>"
      ],
      "text/plain": [
       "  book_id  book_count\n",
       "0   88077        1694\n",
       "1    4671        1364\n",
       "2    5470        1361\n",
       "3    5107        1273\n",
       "4    7613        1207"
      ]
     },
     "execution_count": 163,
     "metadata": {},
     "output_type": "execute_result"
    }
   ],
   "source": [
    "all_recs.head(5)\n"
   ]
  },
  {
   "cell_type": "code",
   "execution_count": 173,
   "id": "9363ecf1",
   "metadata": {},
   "outputs": [],
   "source": [
    "all_recs = all_recs.merge(books_titles, how=\"inner\", on=\"book_id\")   #el inner merge significa que si los datos no existen en los dos, que se borren\n"
   ]
  },
  {
   "cell_type": "code",
   "execution_count": 172,
   "id": "a0931674",
   "metadata": {},
   "outputs": [],
   "source": [
    "all_recs[\"score\"] = all_recs[\"book_count\"] * (all_recs[\"book_count\"] / all_recs[\"ratings\"])\n",
    "\n",
    "\n"
   ]
  },
  {
   "cell_type": "code",
   "execution_count": 166,
   "id": "1c9c6ef1",
   "metadata": {},
   "outputs": [
    {
     "data": {
      "text/html": [
       "<div>\n",
       "<style scoped>\n",
       "    .dataframe tbody tr th:only-of-type {\n",
       "        vertical-align: middle;\n",
       "    }\n",
       "\n",
       "    .dataframe tbody tr th {\n",
       "        vertical-align: top;\n",
       "    }\n",
       "\n",
       "    .dataframe thead th {\n",
       "        text-align: right;\n",
       "    }\n",
       "</style>\n",
       "<table border=\"1\" class=\"dataframe\">\n",
       "  <thead>\n",
       "    <tr style=\"text-align: right;\">\n",
       "      <th></th>\n",
       "      <th>book_id</th>\n",
       "      <th>book_count</th>\n",
       "      <th>title</th>\n",
       "      <th>ratings</th>\n",
       "      <th>url</th>\n",
       "      <th>cover_image</th>\n",
       "      <th>mod_title</th>\n",
       "      <th>score</th>\n",
       "    </tr>\n",
       "  </thead>\n",
       "  <tbody>\n",
       "    <tr>\n",
       "      <th>0</th>\n",
       "      <td>88077</td>\n",
       "      <td>1694</td>\n",
       "      <td>The Magic Mountain</td>\n",
       "      <td>21536</td>\n",
       "      <td>https://www.goodreads.com/book/show/88077.The_...</td>\n",
       "      <td>https://images.gr-assets.com/books/1403170928m...</td>\n",
       "      <td>the magic mountain</td>\n",
       "      <td>133.248328</td>\n",
       "    </tr>\n",
       "    <tr>\n",
       "      <th>213</th>\n",
       "      <td>527756</td>\n",
       "      <td>345</td>\n",
       "      <td>The Man Without Qualities</td>\n",
       "      <td>3738</td>\n",
       "      <td>https://www.goodreads.com/book/show/527756.The...</td>\n",
       "      <td>https://images.gr-assets.com/books/1327330533m...</td>\n",
       "      <td>the man without qualities</td>\n",
       "      <td>31.841894</td>\n",
       "    </tr>\n",
       "    <tr>\n",
       "      <th>391</th>\n",
       "      <td>883438</td>\n",
       "      <td>240</td>\n",
       "      <td>East of Eden</td>\n",
       "      <td>2336</td>\n",
       "      <td>https://www.goodreads.com/book/show/883438.Eas...</td>\n",
       "      <td>https://images.gr-assets.com/books/1503315060m...</td>\n",
       "      <td>east of eden</td>\n",
       "      <td>24.657534</td>\n",
       "    </tr>\n",
       "    <tr>\n",
       "      <th>804</th>\n",
       "      <td>238367</td>\n",
       "      <td>145</td>\n",
       "      <td>The Sleepwalkers</td>\n",
       "      <td>890</td>\n",
       "      <td>https://www.goodreads.com/book/show/238367.The...</td>\n",
       "      <td>https://s.gr-assets.com/assets/nophoto/book/11...</td>\n",
       "      <td>the sleepwalkers</td>\n",
       "      <td>23.623596</td>\n",
       "    </tr>\n",
       "    <tr>\n",
       "      <th>172</th>\n",
       "      <td>34440</td>\n",
       "      <td>386</td>\n",
       "      <td>Doctor Faustus</td>\n",
       "      <td>6621</td>\n",
       "      <td>https://www.goodreads.com/book/show/34440.Doct...</td>\n",
       "      <td>https://images.gr-assets.com/books/1403189005m...</td>\n",
       "      <td>doctor faustus</td>\n",
       "      <td>22.503549</td>\n",
       "    </tr>\n",
       "    <tr>\n",
       "      <th>994</th>\n",
       "      <td>54008</td>\n",
       "      <td>123</td>\n",
       "      <td>Rayuela</td>\n",
       "      <td>806</td>\n",
       "      <td>https://www.goodreads.com/book/show/54008.Rayuela</td>\n",
       "      <td>https://images.gr-assets.com/books/1329416331m...</td>\n",
       "      <td>rayuela</td>\n",
       "      <td>18.770471</td>\n",
       "    </tr>\n",
       "    <tr>\n",
       "      <th>105</th>\n",
       "      <td>80890</td>\n",
       "      <td>482</td>\n",
       "      <td>Buddenbrooks: The Decline of a Family</td>\n",
       "      <td>12428</td>\n",
       "      <td>https://www.goodreads.com/book/show/80890.Budd...</td>\n",
       "      <td>https://images.gr-assets.com/books/1337128414m...</td>\n",
       "      <td>buddenbrooks the decline of a family</td>\n",
       "      <td>18.693595</td>\n",
       "    </tr>\n",
       "    <tr>\n",
       "      <th>1347</th>\n",
       "      <td>27426</td>\n",
       "      <td>98</td>\n",
       "      <td>The Death of Virgil</td>\n",
       "      <td>658</td>\n",
       "      <td>https://www.goodreads.com/book/show/27426.The_...</td>\n",
       "      <td>https://s.gr-assets.com/assets/nophoto/book/11...</td>\n",
       "      <td>the death of virgil</td>\n",
       "      <td>14.595745</td>\n",
       "    </tr>\n",
       "    <tr>\n",
       "      <th>1022</th>\n",
       "      <td>88076</td>\n",
       "      <td>120</td>\n",
       "      <td>Joseph and His Brothers</td>\n",
       "      <td>1111</td>\n",
       "      <td>https://www.goodreads.com/book/show/88076.Jose...</td>\n",
       "      <td>https://images.gr-assets.com/books/1320550455m...</td>\n",
       "      <td>joseph and his brothers</td>\n",
       "      <td>12.961296</td>\n",
       "    </tr>\n",
       "    <tr>\n",
       "      <th>8994</th>\n",
       "      <td>9624993</td>\n",
       "      <td>21</td>\n",
       "      <td>The Mirror and the Light (Thomas Cromwell, #3)</td>\n",
       "      <td>40</td>\n",
       "      <td>https://www.goodreads.com/book/show/9624993-th...</td>\n",
       "      <td>https://s.gr-assets.com/assets/nophoto/book/11...</td>\n",
       "      <td>the mirror and the light thomas cromwell 3</td>\n",
       "      <td>11.025000</td>\n",
       "    </tr>\n",
       "  </tbody>\n",
       "</table>\n",
       "</div>"
      ],
      "text/plain": [
       "      book_id  book_count                                           title  \\\n",
       "0       88077        1694                              The Magic Mountain   \n",
       "213    527756         345                       The Man Without Qualities   \n",
       "391    883438         240                                    East of Eden   \n",
       "804    238367         145                                The Sleepwalkers   \n",
       "172     34440         386                                  Doctor Faustus   \n",
       "994     54008         123                                         Rayuela   \n",
       "105     80890         482           Buddenbrooks: The Decline of a Family   \n",
       "1347    27426          98                             The Death of Virgil   \n",
       "1022    88076         120                         Joseph and His Brothers   \n",
       "8994  9624993          21  The Mirror and the Light (Thomas Cromwell, #3)   \n",
       "\n",
       "      ratings                                                url  \\\n",
       "0       21536  https://www.goodreads.com/book/show/88077.The_...   \n",
       "213      3738  https://www.goodreads.com/book/show/527756.The...   \n",
       "391      2336  https://www.goodreads.com/book/show/883438.Eas...   \n",
       "804       890  https://www.goodreads.com/book/show/238367.The...   \n",
       "172      6621  https://www.goodreads.com/book/show/34440.Doct...   \n",
       "994       806  https://www.goodreads.com/book/show/54008.Rayuela   \n",
       "105     12428  https://www.goodreads.com/book/show/80890.Budd...   \n",
       "1347      658  https://www.goodreads.com/book/show/27426.The_...   \n",
       "1022     1111  https://www.goodreads.com/book/show/88076.Jose...   \n",
       "8994       40  https://www.goodreads.com/book/show/9624993-th...   \n",
       "\n",
       "                                            cover_image  \\\n",
       "0     https://images.gr-assets.com/books/1403170928m...   \n",
       "213   https://images.gr-assets.com/books/1327330533m...   \n",
       "391   https://images.gr-assets.com/books/1503315060m...   \n",
       "804   https://s.gr-assets.com/assets/nophoto/book/11...   \n",
       "172   https://images.gr-assets.com/books/1403189005m...   \n",
       "994   https://images.gr-assets.com/books/1329416331m...   \n",
       "105   https://images.gr-assets.com/books/1337128414m...   \n",
       "1347  https://s.gr-assets.com/assets/nophoto/book/11...   \n",
       "1022  https://images.gr-assets.com/books/1320550455m...   \n",
       "8994  https://s.gr-assets.com/assets/nophoto/book/11...   \n",
       "\n",
       "                                       mod_title       score  \n",
       "0                             the magic mountain  133.248328  \n",
       "213                    the man without qualities   31.841894  \n",
       "391                                 east of eden   24.657534  \n",
       "804                             the sleepwalkers   23.623596  \n",
       "172                               doctor faustus   22.503549  \n",
       "994                                      rayuela   18.770471  \n",
       "105         buddenbrooks the decline of a family   18.693595  \n",
       "1347                         the death of virgil   14.595745  \n",
       "1022                     joseph and his brothers   12.961296  \n",
       "8994  the mirror and the light thomas cromwell 3   11.025000  "
      ]
     },
     "execution_count": 166,
     "metadata": {},
     "output_type": "execute_result"
    }
   ],
   "source": [
    "all_recs.sort_values(\"score\", ascending=False).head(10)\n"
   ]
  },
  {
   "cell_type": "code",
   "execution_count": 168,
   "id": "02b9f30a",
   "metadata": {},
   "outputs": [
    {
     "data": {
      "text/html": [
       "<div>\n",
       "<style scoped>\n",
       "    .dataframe tbody tr th:only-of-type {\n",
       "        vertical-align: middle;\n",
       "    }\n",
       "\n",
       "    .dataframe tbody tr th {\n",
       "        vertical-align: top;\n",
       "    }\n",
       "\n",
       "    .dataframe thead th {\n",
       "        text-align: right;\n",
       "    }\n",
       "</style>\n",
       "<table border=\"1\" class=\"dataframe\">\n",
       "  <thead>\n",
       "    <tr style=\"text-align: right;\">\n",
       "      <th></th>\n",
       "      <th>book_id</th>\n",
       "      <th>book_count</th>\n",
       "      <th>title</th>\n",
       "      <th>ratings</th>\n",
       "      <th>url</th>\n",
       "      <th>cover_image</th>\n",
       "      <th>mod_title</th>\n",
       "      <th>score</th>\n",
       "    </tr>\n",
       "  </thead>\n",
       "  <tbody>\n",
       "    <tr>\n",
       "      <th>0</th>\n",
       "      <td>88077</td>\n",
       "      <td>1694</td>\n",
       "      <td>The Magic Mountain</td>\n",
       "      <td>21536</td>\n",
       "      <td>https://www.goodreads.com/book/show/88077.The_...</td>\n",
       "      <td>https://images.gr-assets.com/books/1403170928m...</td>\n",
       "      <td>the magic mountain</td>\n",
       "      <td>133.248328</td>\n",
       "    </tr>\n",
       "    <tr>\n",
       "      <th>213</th>\n",
       "      <td>527756</td>\n",
       "      <td>345</td>\n",
       "      <td>The Man Without Qualities</td>\n",
       "      <td>3738</td>\n",
       "      <td>https://www.goodreads.com/book/show/527756.The...</td>\n",
       "      <td>https://images.gr-assets.com/books/1327330533m...</td>\n",
       "      <td>the man without qualities</td>\n",
       "      <td>31.841894</td>\n",
       "    </tr>\n",
       "    <tr>\n",
       "      <th>391</th>\n",
       "      <td>883438</td>\n",
       "      <td>240</td>\n",
       "      <td>East of Eden</td>\n",
       "      <td>2336</td>\n",
       "      <td>https://www.goodreads.com/book/show/883438.Eas...</td>\n",
       "      <td>https://images.gr-assets.com/books/1503315060m...</td>\n",
       "      <td>east of eden</td>\n",
       "      <td>24.657534</td>\n",
       "    </tr>\n",
       "    <tr>\n",
       "      <th>172</th>\n",
       "      <td>34440</td>\n",
       "      <td>386</td>\n",
       "      <td>Doctor Faustus</td>\n",
       "      <td>6621</td>\n",
       "      <td>https://www.goodreads.com/book/show/34440.Doct...</td>\n",
       "      <td>https://images.gr-assets.com/books/1403189005m...</td>\n",
       "      <td>doctor faustus</td>\n",
       "      <td>22.503549</td>\n",
       "    </tr>\n",
       "    <tr>\n",
       "      <th>105</th>\n",
       "      <td>80890</td>\n",
       "      <td>482</td>\n",
       "      <td>Buddenbrooks: The Decline of a Family</td>\n",
       "      <td>12428</td>\n",
       "      <td>https://www.goodreads.com/book/show/80890.Budd...</td>\n",
       "      <td>https://images.gr-assets.com/books/1337128414m...</td>\n",
       "      <td>buddenbrooks the decline of a family</td>\n",
       "      <td>18.693595</td>\n",
       "    </tr>\n",
       "    <tr>\n",
       "      <th>374</th>\n",
       "      <td>18796</td>\n",
       "      <td>247</td>\n",
       "      <td>In Search of Lost Time  (À la recherche du tem...</td>\n",
       "      <td>6670</td>\n",
       "      <td>https://www.goodreads.com/book/show/18796.In_S...</td>\n",
       "      <td>https://images.gr-assets.com/books/1352231701m...</td>\n",
       "      <td>in search of lost time   la recherche du temps...</td>\n",
       "      <td>9.146777</td>\n",
       "    </tr>\n",
       "    <tr>\n",
       "      <th>112</th>\n",
       "      <td>12749</td>\n",
       "      <td>470</td>\n",
       "      <td>Swann's Way (In Search of Lost Time, #1)</td>\n",
       "      <td>25329</td>\n",
       "      <td>https://www.goodreads.com/book/show/12749.Swan...</td>\n",
       "      <td>https://images.gr-assets.com/books/1452956236m...</td>\n",
       "      <td>swanns way in search of lost time 1</td>\n",
       "      <td>8.721229</td>\n",
       "    </tr>\n",
       "    <tr>\n",
       "      <th>258</th>\n",
       "      <td>53064</td>\n",
       "      <td>313</td>\n",
       "      <td>Death in Venice and Other Tales</td>\n",
       "      <td>12215</td>\n",
       "      <td>https://www.goodreads.com/book/show/53064.Deat...</td>\n",
       "      <td>https://images.gr-assets.com/books/1309376701m...</td>\n",
       "      <td>death in venice and other tales</td>\n",
       "      <td>8.020385</td>\n",
       "    </tr>\n",
       "    <tr>\n",
       "      <th>182</th>\n",
       "      <td>53061</td>\n",
       "      <td>375</td>\n",
       "      <td>Death in Venice</td>\n",
       "      <td>17958</td>\n",
       "      <td>https://www.goodreads.com/book/show/53061.Deat...</td>\n",
       "      <td>https://images.gr-assets.com/books/1410132000m...</td>\n",
       "      <td>death in venice</td>\n",
       "      <td>7.830772</td>\n",
       "    </tr>\n",
       "    <tr>\n",
       "      <th>144</th>\n",
       "      <td>35743</td>\n",
       "      <td>414</td>\n",
       "      <td>The Tin Drum</td>\n",
       "      <td>25915</td>\n",
       "      <td>https://www.goodreads.com/book/show/35743.The_...</td>\n",
       "      <td>https://images.gr-assets.com/books/1327945103m...</td>\n",
       "      <td>the tin drum</td>\n",
       "      <td>6.613776</td>\n",
       "    </tr>\n",
       "  </tbody>\n",
       "</table>\n",
       "</div>"
      ],
      "text/plain": [
       "    book_id  book_count                                              title  \\\n",
       "0     88077        1694                                 The Magic Mountain   \n",
       "213  527756         345                          The Man Without Qualities   \n",
       "391  883438         240                                       East of Eden   \n",
       "172   34440         386                                     Doctor Faustus   \n",
       "105   80890         482              Buddenbrooks: The Decline of a Family   \n",
       "374   18796         247  In Search of Lost Time  (À la recherche du tem...   \n",
       "112   12749         470           Swann's Way (In Search of Lost Time, #1)   \n",
       "258   53064         313                    Death in Venice and Other Tales   \n",
       "182   53061         375                                    Death in Venice   \n",
       "144   35743         414                                       The Tin Drum   \n",
       "\n",
       "     ratings                                                url  \\\n",
       "0      21536  https://www.goodreads.com/book/show/88077.The_...   \n",
       "213     3738  https://www.goodreads.com/book/show/527756.The...   \n",
       "391     2336  https://www.goodreads.com/book/show/883438.Eas...   \n",
       "172     6621  https://www.goodreads.com/book/show/34440.Doct...   \n",
       "105    12428  https://www.goodreads.com/book/show/80890.Budd...   \n",
       "374     6670  https://www.goodreads.com/book/show/18796.In_S...   \n",
       "112    25329  https://www.goodreads.com/book/show/12749.Swan...   \n",
       "258    12215  https://www.goodreads.com/book/show/53064.Deat...   \n",
       "182    17958  https://www.goodreads.com/book/show/53061.Deat...   \n",
       "144    25915  https://www.goodreads.com/book/show/35743.The_...   \n",
       "\n",
       "                                           cover_image  \\\n",
       "0    https://images.gr-assets.com/books/1403170928m...   \n",
       "213  https://images.gr-assets.com/books/1327330533m...   \n",
       "391  https://images.gr-assets.com/books/1503315060m...   \n",
       "172  https://images.gr-assets.com/books/1403189005m...   \n",
       "105  https://images.gr-assets.com/books/1337128414m...   \n",
       "374  https://images.gr-assets.com/books/1352231701m...   \n",
       "112  https://images.gr-assets.com/books/1452956236m...   \n",
       "258  https://images.gr-assets.com/books/1309376701m...   \n",
       "182  https://images.gr-assets.com/books/1410132000m...   \n",
       "144  https://images.gr-assets.com/books/1327945103m...   \n",
       "\n",
       "                                             mod_title       score  \n",
       "0                                   the magic mountain  133.248328  \n",
       "213                          the man without qualities   31.841894  \n",
       "391                                       east of eden   24.657534  \n",
       "172                                     doctor faustus   22.503549  \n",
       "105               buddenbrooks the decline of a family   18.693595  \n",
       "374  in search of lost time   la recherche du temps...    9.146777  \n",
       "112                swanns way in search of lost time 1    8.721229  \n",
       "258                    death in venice and other tales    8.020385  \n",
       "182                                    death in venice    7.830772  \n",
       "144                                       the tin drum    6.613776  "
      ]
     },
     "execution_count": 168,
     "metadata": {},
     "output_type": "execute_result"
    }
   ],
   "source": [
    "all_recs[all_recs[\"book_count\"] > 200].sort_values(\"score\", ascending=False).head(10)\n"
   ]
  },
  {
   "cell_type": "code",
   "execution_count": null,
   "id": "1cf99a98",
   "metadata": {},
   "outputs": [],
   "source": []
  },
  {
   "cell_type": "code",
   "execution_count": 169,
   "id": "b389bb28",
   "metadata": {},
   "outputs": [],
   "source": [
    "popular_recs = all_recs[all_recs[\"book_count\"] > 200].sort_values(\"score\", ascending=False)  #esto ordena top 10\n"
   ]
  },
  {
   "cell_type": "code",
   "execution_count": null,
   "id": "88b94eae",
   "metadata": {},
   "outputs": [],
   "source": []
  },
  {
   "cell_type": "code",
   "execution_count": 182,
   "id": "6db5599e",
   "metadata": {},
   "outputs": [
    {
     "data": {
      "text/html": [
       "<style type=\"text/css\">\n",
       "</style>\n",
       "<table id=\"T_e1293_\">\n",
       "  <thead>\n",
       "    <tr>\n",
       "      <th class=\"blank level0\" >&nbsp;</th>\n",
       "      <th class=\"col_heading level0 col0\" >book_id</th>\n",
       "      <th class=\"col_heading level0 col1\" >book_count</th>\n",
       "      <th class=\"col_heading level0 col2\" >title</th>\n",
       "      <th class=\"col_heading level0 col3\" >ratings</th>\n",
       "      <th class=\"col_heading level0 col4\" >url</th>\n",
       "      <th class=\"col_heading level0 col5\" >cover_image</th>\n",
       "      <th class=\"col_heading level0 col6\" >mod_title</th>\n",
       "      <th class=\"col_heading level0 col7\" >score</th>\n",
       "    </tr>\n",
       "  </thead>\n",
       "  <tbody>\n",
       "    <tr>\n",
       "      <th id=\"T_e1293_level0_row0\" class=\"row_heading level0 row0\" >213</th>\n",
       "      <td id=\"T_e1293_row0_col0\" class=\"data row0 col0\" >527756</td>\n",
       "      <td id=\"T_e1293_row0_col1\" class=\"data row0 col1\" >345</td>\n",
       "      <td id=\"T_e1293_row0_col2\" class=\"data row0 col2\" >The Man Without Qualities</td>\n",
       "      <td id=\"T_e1293_row0_col3\" class=\"data row0 col3\" >3738</td>\n",
       "      <td id=\"T_e1293_row0_col4\" class=\"data row0 col4\" ><a target=\"_blank\" href=\"https://www.goodreads.com/book/show/527756.The_Man_Without_Qualities\">Goodreads</a></td>\n",
       "      <td id=\"T_e1293_row0_col5\" class=\"data row0 col5\" ><a href=\"https://images.gr-assets.com/books/1327330533m/527756.jpg\"><img src=\"https://images.gr-assets.com/books/1327330533m/527756.jpg\" width=50></img></a></td>\n",
       "      <td id=\"T_e1293_row0_col6\" class=\"data row0 col6\" >the man without qualities</td>\n",
       "      <td id=\"T_e1293_row0_col7\" class=\"data row0 col7\" >31.841894</td>\n",
       "    </tr>\n",
       "    <tr>\n",
       "      <th id=\"T_e1293_level0_row1\" class=\"row_heading level0 row1\" >172</th>\n",
       "      <td id=\"T_e1293_row1_col0\" class=\"data row1 col0\" >34440</td>\n",
       "      <td id=\"T_e1293_row1_col1\" class=\"data row1 col1\" >386</td>\n",
       "      <td id=\"T_e1293_row1_col2\" class=\"data row1 col2\" >Doctor Faustus</td>\n",
       "      <td id=\"T_e1293_row1_col3\" class=\"data row1 col3\" >6621</td>\n",
       "      <td id=\"T_e1293_row1_col4\" class=\"data row1 col4\" ><a target=\"_blank\" href=\"https://www.goodreads.com/book/show/34440.Doctor_Faustus\">Goodreads</a></td>\n",
       "      <td id=\"T_e1293_row1_col5\" class=\"data row1 col5\" ><a href=\"https://images.gr-assets.com/books/1403189005m/34440.jpg\"><img src=\"https://images.gr-assets.com/books/1403189005m/34440.jpg\" width=50></img></a></td>\n",
       "      <td id=\"T_e1293_row1_col6\" class=\"data row1 col6\" >doctor faustus</td>\n",
       "      <td id=\"T_e1293_row1_col7\" class=\"data row1 col7\" >22.503549</td>\n",
       "    </tr>\n",
       "    <tr>\n",
       "      <th id=\"T_e1293_level0_row2\" class=\"row_heading level0 row2\" >105</th>\n",
       "      <td id=\"T_e1293_row2_col0\" class=\"data row2 col0\" >80890</td>\n",
       "      <td id=\"T_e1293_row2_col1\" class=\"data row2 col1\" >482</td>\n",
       "      <td id=\"T_e1293_row2_col2\" class=\"data row2 col2\" >Buddenbrooks: The Decline of a Family</td>\n",
       "      <td id=\"T_e1293_row2_col3\" class=\"data row2 col3\" >12428</td>\n",
       "      <td id=\"T_e1293_row2_col4\" class=\"data row2 col4\" ><a target=\"_blank\" href=\"https://www.goodreads.com/book/show/80890.Buddenbrooks\">Goodreads</a></td>\n",
       "      <td id=\"T_e1293_row2_col5\" class=\"data row2 col5\" ><a href=\"https://images.gr-assets.com/books/1337128414m/80890.jpg\"><img src=\"https://images.gr-assets.com/books/1337128414m/80890.jpg\" width=50></img></a></td>\n",
       "      <td id=\"T_e1293_row2_col6\" class=\"data row2 col6\" >buddenbrooks the decline of a family</td>\n",
       "      <td id=\"T_e1293_row2_col7\" class=\"data row2 col7\" >18.693595</td>\n",
       "    </tr>\n",
       "    <tr>\n",
       "      <th id=\"T_e1293_level0_row3\" class=\"row_heading level0 row3\" >374</th>\n",
       "      <td id=\"T_e1293_row3_col0\" class=\"data row3 col0\" >18796</td>\n",
       "      <td id=\"T_e1293_row3_col1\" class=\"data row3 col1\" >247</td>\n",
       "      <td id=\"T_e1293_row3_col2\" class=\"data row3 col2\" >In Search of Lost Time  (À la recherche du temps perdu #1-7)</td>\n",
       "      <td id=\"T_e1293_row3_col3\" class=\"data row3 col3\" >6670</td>\n",
       "      <td id=\"T_e1293_row3_col4\" class=\"data row3 col4\" ><a target=\"_blank\" href=\"https://www.goodreads.com/book/show/18796.In_Search_of_Lost_Time\">Goodreads</a></td>\n",
       "      <td id=\"T_e1293_row3_col5\" class=\"data row3 col5\" ><a href=\"https://images.gr-assets.com/books/1352231701m/18796.jpg\"><img src=\"https://images.gr-assets.com/books/1352231701m/18796.jpg\" width=50></img></a></td>\n",
       "      <td id=\"T_e1293_row3_col6\" class=\"data row3 col6\" >in search of lost time   la recherche du temps perdu 17</td>\n",
       "      <td id=\"T_e1293_row3_col7\" class=\"data row3 col7\" >9.146777</td>\n",
       "    </tr>\n",
       "    <tr>\n",
       "      <th id=\"T_e1293_level0_row4\" class=\"row_heading level0 row4\" >112</th>\n",
       "      <td id=\"T_e1293_row4_col0\" class=\"data row4 col0\" >12749</td>\n",
       "      <td id=\"T_e1293_row4_col1\" class=\"data row4 col1\" >470</td>\n",
       "      <td id=\"T_e1293_row4_col2\" class=\"data row4 col2\" >Swann's Way (In Search of Lost Time, #1)</td>\n",
       "      <td id=\"T_e1293_row4_col3\" class=\"data row4 col3\" >25329</td>\n",
       "      <td id=\"T_e1293_row4_col4\" class=\"data row4 col4\" ><a target=\"_blank\" href=\"https://www.goodreads.com/book/show/12749.Swann_s_Way\">Goodreads</a></td>\n",
       "      <td id=\"T_e1293_row4_col5\" class=\"data row4 col5\" ><a href=\"https://images.gr-assets.com/books/1452956236m/12749.jpg\"><img src=\"https://images.gr-assets.com/books/1452956236m/12749.jpg\" width=50></img></a></td>\n",
       "      <td id=\"T_e1293_row4_col6\" class=\"data row4 col6\" >swanns way in search of lost time 1</td>\n",
       "      <td id=\"T_e1293_row4_col7\" class=\"data row4 col7\" >8.721229</td>\n",
       "    </tr>\n",
       "    <tr>\n",
       "      <th id=\"T_e1293_level0_row5\" class=\"row_heading level0 row5\" >258</th>\n",
       "      <td id=\"T_e1293_row5_col0\" class=\"data row5 col0\" >53064</td>\n",
       "      <td id=\"T_e1293_row5_col1\" class=\"data row5 col1\" >313</td>\n",
       "      <td id=\"T_e1293_row5_col2\" class=\"data row5 col2\" >Death in Venice and Other Tales</td>\n",
       "      <td id=\"T_e1293_row5_col3\" class=\"data row5 col3\" >12215</td>\n",
       "      <td id=\"T_e1293_row5_col4\" class=\"data row5 col4\" ><a target=\"_blank\" href=\"https://www.goodreads.com/book/show/53064.Death_in_Venice_and_Other_Tales\">Goodreads</a></td>\n",
       "      <td id=\"T_e1293_row5_col5\" class=\"data row5 col5\" ><a href=\"https://images.gr-assets.com/books/1309376701m/53064.jpg\"><img src=\"https://images.gr-assets.com/books/1309376701m/53064.jpg\" width=50></img></a></td>\n",
       "      <td id=\"T_e1293_row5_col6\" class=\"data row5 col6\" >death in venice and other tales</td>\n",
       "      <td id=\"T_e1293_row5_col7\" class=\"data row5 col7\" >8.020385</td>\n",
       "    </tr>\n",
       "    <tr>\n",
       "      <th id=\"T_e1293_level0_row6\" class=\"row_heading level0 row6\" >182</th>\n",
       "      <td id=\"T_e1293_row6_col0\" class=\"data row6 col0\" >53061</td>\n",
       "      <td id=\"T_e1293_row6_col1\" class=\"data row6 col1\" >375</td>\n",
       "      <td id=\"T_e1293_row6_col2\" class=\"data row6 col2\" >Death in Venice</td>\n",
       "      <td id=\"T_e1293_row6_col3\" class=\"data row6 col3\" >17958</td>\n",
       "      <td id=\"T_e1293_row6_col4\" class=\"data row6 col4\" ><a target=\"_blank\" href=\"https://www.goodreads.com/book/show/53061.Death_in_Venice\">Goodreads</a></td>\n",
       "      <td id=\"T_e1293_row6_col5\" class=\"data row6 col5\" ><a href=\"https://images.gr-assets.com/books/1410132000m/53061.jpg\"><img src=\"https://images.gr-assets.com/books/1410132000m/53061.jpg\" width=50></img></a></td>\n",
       "      <td id=\"T_e1293_row6_col6\" class=\"data row6 col6\" >death in venice</td>\n",
       "      <td id=\"T_e1293_row6_col7\" class=\"data row6 col7\" >7.830772</td>\n",
       "    </tr>\n",
       "    <tr>\n",
       "      <th id=\"T_e1293_level0_row7\" class=\"row_heading level0 row7\" >144</th>\n",
       "      <td id=\"T_e1293_row7_col0\" class=\"data row7 col0\" >35743</td>\n",
       "      <td id=\"T_e1293_row7_col1\" class=\"data row7 col1\" >414</td>\n",
       "      <td id=\"T_e1293_row7_col2\" class=\"data row7 col2\" >The Tin Drum</td>\n",
       "      <td id=\"T_e1293_row7_col3\" class=\"data row7 col3\" >25915</td>\n",
       "      <td id=\"T_e1293_row7_col4\" class=\"data row7 col4\" ><a target=\"_blank\" href=\"https://www.goodreads.com/book/show/35743.The_Tin_Drum\">Goodreads</a></td>\n",
       "      <td id=\"T_e1293_row7_col5\" class=\"data row7 col5\" ><a href=\"https://images.gr-assets.com/books/1327945103m/35743.jpg\"><img src=\"https://images.gr-assets.com/books/1327945103m/35743.jpg\" width=50></img></a></td>\n",
       "      <td id=\"T_e1293_row7_col6\" class=\"data row7 col6\" >the tin drum</td>\n",
       "      <td id=\"T_e1293_row7_col7\" class=\"data row7 col7\" >6.613776</td>\n",
       "    </tr>\n",
       "    <tr>\n",
       "      <th id=\"T_e1293_level0_row8\" class=\"row_heading level0 row8\" >225</th>\n",
       "      <td id=\"T_e1293_row8_col0\" class=\"data row8 col0\" >12395</td>\n",
       "      <td id=\"T_e1293_row8_col1\" class=\"data row8 col1\" >336</td>\n",
       "      <td id=\"T_e1293_row8_col2\" class=\"data row8 col2\" >Journey to the End of the Night</td>\n",
       "      <td id=\"T_e1293_row8_col3\" class=\"data row8 col3\" >17889</td>\n",
       "      <td id=\"T_e1293_row8_col4\" class=\"data row8 col4\" ><a target=\"_blank\" href=\"https://www.goodreads.com/book/show/12395.Journey_to_the_End_of_the_Night\">Goodreads</a></td>\n",
       "      <td id=\"T_e1293_row8_col5\" class=\"data row8 col5\" ><a href=\"https://images.gr-assets.com/books/1462934409m/12395.jpg\"><img src=\"https://images.gr-assets.com/books/1462934409m/12395.jpg\" width=50></img></a></td>\n",
       "      <td id=\"T_e1293_row8_col6\" class=\"data row8 col6\" >journey to the end of the night</td>\n",
       "      <td id=\"T_e1293_row8_col7\" class=\"data row8 col7\" >6.310917</td>\n",
       "    </tr>\n",
       "    <tr>\n",
       "      <th id=\"T_e1293_level0_row9\" class=\"row_heading level0 row9\" >117</th>\n",
       "      <td id=\"T_e1293_row9_col0\" class=\"data row9 col0\" >14662</td>\n",
       "      <td id=\"T_e1293_row9_col1\" class=\"data row9 col1\" >459</td>\n",
       "      <td id=\"T_e1293_row9_col2\" class=\"data row9 col2\" >The Red and the Black</td>\n",
       "      <td id=\"T_e1293_row9_col3\" class=\"data row9 col3\" >34172</td>\n",
       "      <td id=\"T_e1293_row9_col4\" class=\"data row9 col4\" ><a target=\"_blank\" href=\"https://www.goodreads.com/book/show/14662.The_Red_and_the_Black\">Goodreads</a></td>\n",
       "      <td id=\"T_e1293_row9_col5\" class=\"data row9 col5\" ><a href=\"https://s.gr-assets.com/assets/nophoto/book/111x148-bcc042a9c91a29c1d680899eff700a03.png\"><img src=\"https://s.gr-assets.com/assets/nophoto/book/111x148-bcc042a9c91a29c1d680899eff700a03.png\" width=50></img></a></td>\n",
       "      <td id=\"T_e1293_row9_col6\" class=\"data row9 col6\" >the red and the black</td>\n",
       "      <td id=\"T_e1293_row9_col7\" class=\"data row9 col7\" >6.165311</td>\n",
       "    </tr>\n",
       "  </tbody>\n",
       "</table>\n"
      ],
      "text/plain": [
       "<pandas.io.formats.style.Styler at 0x7fb642c01340>"
      ]
     },
     "execution_count": 182,
     "metadata": {},
     "output_type": "execute_result"
    }
   ],
   "source": [
    "#esta función hace clockable y eso. usadas antes tambíen\n",
    "#Y sí, las recomendaciones corresponden 🙃\n",
    "\n",
    "def make_clickable(val):\n",
    "    return '<a target=\"_blank\" href=\"{}\">Goodreads</a>'.format(val, val)\n",
    "\n",
    "def show_image(val):\n",
    "    return '<a href=\"{}\"><img src=\"{}\" width=50></img></a>'.format(val, val)\n",
    "\n",
    "#Usar  las formulas para que se muestre en plan bonito\n",
    "#filtra donde el boook id esté, para que no muestre libros que ya hemos leído y le damos formato\n",
    "\n",
    "popular_recs[~popular_recs[\"book_id\"].isin(liked_books)].head(10).style.format({'url': make_clickable, 'cover_image': show_image})\n",
    "\n",
    "\n"
   ]
  },
  {
   "cell_type": "code",
   "execution_count": null,
   "id": "870f5ec9",
   "metadata": {},
   "outputs": [],
   "source": [
    "# próximos pasos\n",
    "#Se puede hacer filtro colaborativo"
   ]
  },
  {
   "cell_type": "code",
   "execution_count": null,
   "id": "d5cb66ed",
   "metadata": {},
   "outputs": [],
   "source": []
  },
  {
   "cell_type": "code",
   "execution_count": 187,
   "id": "7d922f7b",
   "metadata": {},
   "outputs": [
    {
     "data": {
      "text/plain": [
       "6"
      ]
     },
     "execution_count": 187,
     "metadata": {},
     "output_type": "execute_result"
    }
   ],
   "source": []
  },
  {
   "cell_type": "markdown",
   "id": "c1bcc1ed",
   "metadata": {},
   "source": [
    "# Filtro colaborativo"
   ]
  },
  {
   "cell_type": "code",
   "execution_count": 479,
   "id": "7b572050",
   "metadata": {},
   "outputs": [],
   "source": [
    "# book_id_map.csv une book id csd y book id. \n"
   ]
  },
  {
   "cell_type": "code",
   "execution_count": 480,
   "id": "73119e9c",
   "metadata": {},
   "outputs": [],
   "source": [
    "import numpy as np"
   ]
  },
  {
   "cell_type": "code",
   "execution_count": 481,
   "id": "4b0e60cd",
   "metadata": {},
   "outputs": [],
   "source": [
    "from scipy.sparse import coo_matrix"
   ]
  },
  {
   "cell_type": "code",
   "execution_count": 482,
   "id": "3bb3c62c",
   "metadata": {},
   "outputs": [],
   "source": [
    "from sklearn.metrics.pairwise import cosine_similarity"
   ]
  },
  {
   "cell_type": "code",
   "execution_count": 483,
   "id": "04dd7d33",
   "metadata": {},
   "outputs": [],
   "source": [
    "#pd.read_csv('../data/Wholesale customers data.csv')\n",
    "my_books = pd.read_csv(\"liked_books.csv\")\n"
   ]
  },
  {
   "cell_type": "code",
   "execution_count": 484,
   "id": "ed364ff0",
   "metadata": {},
   "outputs": [
    {
     "data": {
      "text/html": [
       "<div>\n",
       "<style scoped>\n",
       "    .dataframe tbody tr th:only-of-type {\n",
       "        vertical-align: middle;\n",
       "    }\n",
       "\n",
       "    .dataframe tbody tr th {\n",
       "        vertical-align: top;\n",
       "    }\n",
       "\n",
       "    .dataframe thead th {\n",
       "        text-align: right;\n",
       "    }\n",
       "</style>\n",
       "<table border=\"1\" class=\"dataframe\">\n",
       "  <thead>\n",
       "    <tr style=\"text-align: right;\">\n",
       "      <th></th>\n",
       "      <th>Unnamed: 0</th>\n",
       "      <th>user_id</th>\n",
       "      <th>book_id</th>\n",
       "      <th>rating</th>\n",
       "      <th>title</th>\n",
       "    </tr>\n",
       "  </thead>\n",
       "  <tbody>\n",
       "    <tr>\n",
       "      <th>0</th>\n",
       "      <td>0</td>\n",
       "      <td>-1</td>\n",
       "      <td>2517439</td>\n",
       "      <td>5</td>\n",
       "      <td>The Forever War  (The Forever War, #1)</td>\n",
       "    </tr>\n",
       "    <tr>\n",
       "      <th>1</th>\n",
       "      <td>1</td>\n",
       "      <td>-1</td>\n",
       "      <td>113576</td>\n",
       "      <td>5</td>\n",
       "      <td>The Smartest Guys in the Room: The Amazing Ris...</td>\n",
       "    </tr>\n",
       "    <tr>\n",
       "      <th>2</th>\n",
       "      <td>2</td>\n",
       "      <td>-1</td>\n",
       "      <td>35100</td>\n",
       "      <td>5</td>\n",
       "      <td>Battle Cry of Freedom</td>\n",
       "    </tr>\n",
       "    <tr>\n",
       "      <th>3</th>\n",
       "      <td>3</td>\n",
       "      <td>-1</td>\n",
       "      <td>228221</td>\n",
       "      <td>5</td>\n",
       "      <td>The Mask of Command</td>\n",
       "    </tr>\n",
       "    <tr>\n",
       "      <th>4</th>\n",
       "      <td>5</td>\n",
       "      <td>-1</td>\n",
       "      <td>17662739</td>\n",
       "      <td>5</td>\n",
       "      <td>2001: A Space Odyssey  (Space Odyssey, #1)</td>\n",
       "    </tr>\n",
       "    <tr>\n",
       "      <th>5</th>\n",
       "      <td>6</td>\n",
       "      <td>-1</td>\n",
       "      <td>356824</td>\n",
       "      <td>5</td>\n",
       "      <td>India After Gandhi: The History of the World's...</td>\n",
       "    </tr>\n",
       "    <tr>\n",
       "      <th>6</th>\n",
       "      <td>7</td>\n",
       "      <td>-1</td>\n",
       "      <td>12125412</td>\n",
       "      <td>5</td>\n",
       "      <td>The Lady or the Tiger?: and Other Logic Puzzles</td>\n",
       "    </tr>\n",
       "    <tr>\n",
       "      <th>7</th>\n",
       "      <td>8</td>\n",
       "      <td>-1</td>\n",
       "      <td>139069</td>\n",
       "      <td>5</td>\n",
       "      <td>Endurance: Shackleton's Incredible Voyage</td>\n",
       "    </tr>\n",
       "    <tr>\n",
       "      <th>8</th>\n",
       "      <td>10</td>\n",
       "      <td>-1</td>\n",
       "      <td>76680</td>\n",
       "      <td>5</td>\n",
       "      <td>Foundation  (Foundation, #1)</td>\n",
       "    </tr>\n",
       "    <tr>\n",
       "      <th>9</th>\n",
       "      <td>11</td>\n",
       "      <td>-1</td>\n",
       "      <td>1898</td>\n",
       "      <td>5</td>\n",
       "      <td>Into Thin Air: A Personal Account of the Mount...</td>\n",
       "    </tr>\n",
       "    <tr>\n",
       "      <th>10</th>\n",
       "      <td>12</td>\n",
       "      <td>-1</td>\n",
       "      <td>5096865</td>\n",
       "      <td>5</td>\n",
       "      <td>In Cold Blood</td>\n",
       "    </tr>\n",
       "    <tr>\n",
       "      <th>11</th>\n",
       "      <td>13</td>\n",
       "      <td>-1</td>\n",
       "      <td>228665</td>\n",
       "      <td>5</td>\n",
       "      <td>The Eye of the World  (The Wheel of Time, #1)</td>\n",
       "    </tr>\n",
       "    <tr>\n",
       "      <th>12</th>\n",
       "      <td>17</td>\n",
       "      <td>-1</td>\n",
       "      <td>437143</td>\n",
       "      <td>5</td>\n",
       "      <td>A Short History of Nearly Everything</td>\n",
       "    </tr>\n",
       "    <tr>\n",
       "      <th>13</th>\n",
       "      <td>18</td>\n",
       "      <td>-1</td>\n",
       "      <td>18949861</td>\n",
       "      <td>5</td>\n",
       "      <td>Contact</td>\n",
       "    </tr>\n",
       "    <tr>\n",
       "      <th>14</th>\n",
       "      <td>19</td>\n",
       "      <td>-1</td>\n",
       "      <td>2913377</td>\n",
       "      <td>5</td>\n",
       "      <td>The Name of the Wind  (The Kingkiller Chronicl...</td>\n",
       "    </tr>\n",
       "    <tr>\n",
       "      <th>15</th>\n",
       "      <td>20</td>\n",
       "      <td>-1</td>\n",
       "      <td>1215032</td>\n",
       "      <td>5</td>\n",
       "      <td>The Wise Man's Fear  (The Kingkiller Chronicle...</td>\n",
       "    </tr>\n",
       "    <tr>\n",
       "      <th>16</th>\n",
       "      <td>21</td>\n",
       "      <td>-1</td>\n",
       "      <td>883438</td>\n",
       "      <td>5</td>\n",
       "      <td>East of Eden</td>\n",
       "    </tr>\n",
       "    <tr>\n",
       "      <th>17</th>\n",
       "      <td>22</td>\n",
       "      <td>-1</td>\n",
       "      <td>5578108</td>\n",
       "      <td>5</td>\n",
       "      <td>From Colony to Superpower: U.S. Foreign Relati...</td>\n",
       "    </tr>\n",
       "    <tr>\n",
       "      <th>18</th>\n",
       "      <td>23</td>\n",
       "      <td>-1</td>\n",
       "      <td>128029</td>\n",
       "      <td>5</td>\n",
       "      <td>A Thousand Splendid Suns</td>\n",
       "    </tr>\n",
       "    <tr>\n",
       "      <th>19</th>\n",
       "      <td>24</td>\n",
       "      <td>-1</td>\n",
       "      <td>77203</td>\n",
       "      <td>5</td>\n",
       "      <td>The Kite Runner</td>\n",
       "    </tr>\n",
       "    <tr>\n",
       "      <th>20</th>\n",
       "      <td>25</td>\n",
       "      <td>-1</td>\n",
       "      <td>5439</td>\n",
       "      <td>5</td>\n",
       "      <td>Interpreter of Maladies</td>\n",
       "    </tr>\n",
       "    <tr>\n",
       "      <th>21</th>\n",
       "      <td>26</td>\n",
       "      <td>-1</td>\n",
       "      <td>1685995</td>\n",
       "      <td>5</td>\n",
       "      <td>Dune  (Dune #1)</td>\n",
       "    </tr>\n",
       "    <tr>\n",
       "      <th>22</th>\n",
       "      <td>27</td>\n",
       "      <td>-1</td>\n",
       "      <td>6448772</td>\n",
       "      <td>5</td>\n",
       "      <td>Quantum: Einstein, Bohr, and the Great Debate ...</td>\n",
       "    </tr>\n",
       "    <tr>\n",
       "      <th>23</th>\n",
       "      <td>527</td>\n",
       "      <td>-1</td>\n",
       "      <td>8161140</td>\n",
       "      <td>1</td>\n",
       "      <td>On the Beach</td>\n",
       "    </tr>\n",
       "    <tr>\n",
       "      <th>24</th>\n",
       "      <td>528</td>\n",
       "      <td>-1</td>\n",
       "      <td>28187</td>\n",
       "      <td>1</td>\n",
       "      <td>The Lightning Thief  (Percy Jackson and the Ol...</td>\n",
       "    </tr>\n",
       "    <tr>\n",
       "      <th>25</th>\n",
       "      <td>531</td>\n",
       "      <td>-1</td>\n",
       "      <td>25659450</td>\n",
       "      <td>1</td>\n",
       "      <td>Arkwright</td>\n",
       "    </tr>\n",
       "    <tr>\n",
       "      <th>26</th>\n",
       "      <td>532</td>\n",
       "      <td>-1</td>\n",
       "      <td>82599</td>\n",
       "      <td>1</td>\n",
       "      <td>Rabbits: A Novel</td>\n",
       "    </tr>\n",
       "  </tbody>\n",
       "</table>\n",
       "</div>"
      ],
      "text/plain": [
       "    Unnamed: 0  user_id   book_id  rating  \\\n",
       "0            0       -1   2517439       5   \n",
       "1            1       -1    113576       5   \n",
       "2            2       -1     35100       5   \n",
       "3            3       -1    228221       5   \n",
       "4            5       -1  17662739       5   \n",
       "5            6       -1    356824       5   \n",
       "6            7       -1  12125412       5   \n",
       "7            8       -1    139069       5   \n",
       "8           10       -1     76680       5   \n",
       "9           11       -1      1898       5   \n",
       "10          12       -1   5096865       5   \n",
       "11          13       -1    228665       5   \n",
       "12          17       -1    437143       5   \n",
       "13          18       -1  18949861       5   \n",
       "14          19       -1   2913377       5   \n",
       "15          20       -1   1215032       5   \n",
       "16          21       -1    883438       5   \n",
       "17          22       -1   5578108       5   \n",
       "18          23       -1    128029       5   \n",
       "19          24       -1     77203       5   \n",
       "20          25       -1      5439       5   \n",
       "21          26       -1   1685995       5   \n",
       "22          27       -1   6448772       5   \n",
       "23         527       -1   8161140       1   \n",
       "24         528       -1     28187       1   \n",
       "25         531       -1  25659450       1   \n",
       "26         532       -1     82599       1   \n",
       "\n",
       "                                                title  \n",
       "0              The Forever War  (The Forever War, #1)  \n",
       "1   The Smartest Guys in the Room: The Amazing Ris...  \n",
       "2                               Battle Cry of Freedom  \n",
       "3                                 The Mask of Command  \n",
       "4          2001: A Space Odyssey  (Space Odyssey, #1)  \n",
       "5   India After Gandhi: The History of the World's...  \n",
       "6     The Lady or the Tiger?: and Other Logic Puzzles  \n",
       "7           Endurance: Shackleton's Incredible Voyage  \n",
       "8                        Foundation  (Foundation, #1)  \n",
       "9   Into Thin Air: A Personal Account of the Mount...  \n",
       "10                                      In Cold Blood  \n",
       "11      The Eye of the World  (The Wheel of Time, #1)  \n",
       "12               A Short History of Nearly Everything  \n",
       "13                                            Contact  \n",
       "14  The Name of the Wind  (The Kingkiller Chronicl...  \n",
       "15  The Wise Man's Fear  (The Kingkiller Chronicle...  \n",
       "16                                       East of Eden  \n",
       "17  From Colony to Superpower: U.S. Foreign Relati...  \n",
       "18                           A Thousand Splendid Suns  \n",
       "19                                    The Kite Runner  \n",
       "20                            Interpreter of Maladies  \n",
       "21                                    Dune  (Dune #1)  \n",
       "22  Quantum: Einstein, Bohr, and the Great Debate ...  \n",
       "23                                       On the Beach  \n",
       "24  The Lightning Thief  (Percy Jackson and the Ol...  \n",
       "25                                          Arkwright  \n",
       "26                                   Rabbits: A Novel  "
      ]
     },
     "execution_count": 484,
     "metadata": {},
     "output_type": "execute_result"
    }
   ],
   "source": [
    "my_books"
   ]
  },
  {
   "cell_type": "code",
   "execution_count": 485,
   "id": "f5e89fe1",
   "metadata": {},
   "outputs": [],
   "source": [
    "my_books['book_id'] = my_books['book_id'].astype(str)   #Tiene que ser una string porque así es coko lo unimos book_id en otros files\n",
    "\n",
    "\n"
   ]
  },
  {
   "cell_type": "code",
   "execution_count": 486,
   "id": "3070762d",
   "metadata": {},
   "outputs": [],
   "source": [
    "#Encontrando usuarios similares\n",
    "\n",
    "csv_book_mapping = {}   #mapeo ids del json y el csv \n",
    "\n",
    "with open(\"book_id_map.csv\", \"r\") as f:\n",
    "    while True:\n",
    "        line = f.readline()   #es muy largo, lo lee línea a línea y después terminal el loop. Lo de arriba, vaya\n",
    "        if not line:\n",
    "            break\n",
    "        csv_id, book_id = line.strip().split(\",\")\n",
    "        csv_book_mapping[csv_id] = book_id   #dictio\n",
    "#mapeo\n"
   ]
  },
  {
   "cell_type": "code",
   "execution_count": 487,
   "id": "a7bdf47d",
   "metadata": {},
   "outputs": [],
   "source": [
    "\n",
    "book_set = set(my_books['book_id']) #un set es más o menos como una lista pero cada elemento es único"
   ]
  },
  {
   "cell_type": "code",
   "execution_count": 488,
   "id": "797918aa",
   "metadata": {},
   "outputs": [
    {
     "name": "stdout",
     "output_type": "stream",
     "text": [
      "user_id,book_id,is_read,rating,is_reviewed\r\n",
      "0,948,1,5,0\r\n",
      "0,947,1,5,1\r\n",
      "0,946,1,5,0\r\n",
      "0,945,1,5,0\r\n",
      "0,944,1,5,0\r\n",
      "0,943,1,5,0\r\n",
      "0,942,1,5,0\r\n",
      "0,941,1,5,0\r\n",
      "0,940,1,5,0\r\n"
     ]
    }
   ],
   "source": [
    "!head goodreads_interactions.csv"
   ]
  },
  {
   "cell_type": "code",
   "execution_count": 489,
   "id": "2e67021b",
   "metadata": {},
   "outputs": [],
   "source": [
    "#tarda SIGLOS en correr\n",
    "\n",
    "overlap_users = {}   #DICTIO usuarios que han leído el mismo libro que nosotros\n",
    "\n",
    "with open(\"goodreads_interactions.csv\", 'r') as f:\n",
    "    while True:\n",
    "        line = f.readline()\n",
    "        if not line:\n",
    "            break\n",
    "        user_id, csv_id, _, rating, _ = line.split(\",\")   #lo mismo de antes. arriba\n",
    "        \n",
    "        book_id = csv_book_mapping.get(csv_id)   #csv_id pero con el book_id\n",
    "        \n",
    "        if book_id in book_set:    #si es uno de los libros que hemos leído (en liked_books) entonces añadimos al usuario en los superpuestos, overlap\n",
    "            if user_id not in overlap_users:\n",
    "                overlap_users[user_id] = 1\n",
    "            else:\n",
    "                overlap_users[user_id] += 1\n",
    "                \n",
    "                \n",
    "#overlap_users va a ser un dictio. Las keys son los user ids y values son \n",
    "#value el número de veces que ese usuario ha leído un libro que tenemos en nuestra lista\n",
    "\n",
    "\n"
   ]
  },
  {
   "cell_type": "code",
   "execution_count": 490,
   "id": "2069dff3",
   "metadata": {},
   "outputs": [
    {
     "data": {
      "text/plain": [
       "316341"
      ]
     },
     "execution_count": 490,
     "metadata": {},
     "output_type": "execute_result"
    }
   ],
   "source": [
    "len(overlap_users)   "
   ]
  },
  {
   "cell_type": "code",
   "execution_count": 491,
   "id": "6beaecf8",
   "metadata": {},
   "outputs": [],
   "source": [
    "#Ahora vamos a buscar los usuarios que hayan leído alguno de los libros que hemos leído "
   ]
  },
  {
   "cell_type": "code",
   "execution_count": 492,
   "id": "33dff16e",
   "metadata": {},
   "outputs": [],
   "source": [
    "filtered_overlap_users = set([k for k in overlap_users if overlap_users[k] > my_books.shape[0]/5])  #rebajar el número "
   ]
  },
  {
   "cell_type": "code",
   "execution_count": null,
   "id": "d3b2c35f",
   "metadata": {},
   "outputs": [],
   "source": []
  },
  {
   "cell_type": "code",
   "execution_count": 493,
   "id": "98edfdb4",
   "metadata": {},
   "outputs": [],
   "source": [
    "#buscar ratings similares"
   ]
  },
  {
   "cell_type": "code",
   "execution_count": 494,
   "id": "78c3bf10",
   "metadata": {},
   "outputs": [],
   "source": [
    "#construir nuestras recomendaciones\n",
    "\n",
    "\n",
    "interactions_list=[]     #user_id, book_id y rating. volvemos a hacer el loop por filas con el código de arriba\n",
    "\n",
    "with open(\"goodreads_interactions.csv\", 'r') as f:\n",
    "    while True:\n",
    "        line = f.readline()\n",
    "        if not line:\n",
    "            break\n",
    "\n",
    "        user_id, csv_id, _, rating, _ = line.split(\",\")   #lo mismo de antes. arriba\n",
    "        \n",
    "        if user_id in filtered_overlap_users:   #si el usuario está en la lista de users que se sobreponían lo añadimos a la sista\n",
    "            book_id = csv_book_mapping[csv_id]\n",
    "            interactions_list.append([user_id, book_id, rating])\n",
    "            \n",
    "            \n",
    "            \n",
    "            "
   ]
  },
  {
   "cell_type": "code",
   "execution_count": 495,
   "id": "2a13f28e",
   "metadata": {},
   "outputs": [
    {
     "data": {
      "text/plain": [
       "5638701"
      ]
     },
     "execution_count": 495,
     "metadata": {},
     "output_type": "execute_result"
    }
   ],
   "source": [
    "len(interactions_list) #ha bajadooooo "
   ]
  },
  {
   "cell_type": "markdown",
   "id": "05fa53e0",
   "metadata": {},
   "source": [
    "### Matriz usuario - libro"
   ]
  },
  {
   "cell_type": "markdown",
   "id": "d9a71397",
   "metadata": {},
   "source": [
    "Cada fila de la matriz va a ser un usuario y cada columna un libro. Las celdas contienn el rating que cada usuario le ha dado al libro, si hay muchos se hace inmensa y por eso lo hemos rebajado antes"
   ]
  },
  {
   "cell_type": "code",
   "execution_count": 496,
   "id": "572df30b",
   "metadata": {},
   "outputs": [
    {
     "data": {
      "text/plain": [
       "['282', '627206', '4']"
      ]
     },
     "execution_count": 496,
     "metadata": {},
     "output_type": "execute_result"
    }
   ],
   "source": [
    "#primer item \n",
    "\n",
    "interactions_list[0]"
   ]
  },
  {
   "cell_type": "code",
   "execution_count": 497,
   "id": "90545738",
   "metadata": {},
   "outputs": [],
   "source": [
    "#lo pasamos a df y le damos columnas\n",
    "\n",
    "interactions = pd.DataFrame(interactions_list, columns=[\"user_id\", \"book_id\", \"rating\"])"
   ]
  },
  {
   "cell_type": "code",
   "execution_count": 498,
   "id": "2966bec0",
   "metadata": {},
   "outputs": [],
   "source": [
    "#Valoraciones propias. Lo concatenamos con las interacciones\n",
    "#cuando creemos la matriz va a ser una fila en la matriz\n",
    "\n",
    "interactions = pd.concat([my_books[[\"user_id\", \"book_id\", \"rating\"]], interactions])"
   ]
  },
  {
   "cell_type": "code",
   "execution_count": 499,
   "id": "32cb1bcb",
   "metadata": {},
   "outputs": [
    {
     "data": {
      "text/html": [
       "<div>\n",
       "<style scoped>\n",
       "    .dataframe tbody tr th:only-of-type {\n",
       "        vertical-align: middle;\n",
       "    }\n",
       "\n",
       "    .dataframe tbody tr th {\n",
       "        vertical-align: top;\n",
       "    }\n",
       "\n",
       "    .dataframe thead th {\n",
       "        text-align: right;\n",
       "    }\n",
       "</style>\n",
       "<table border=\"1\" class=\"dataframe\">\n",
       "  <thead>\n",
       "    <tr style=\"text-align: right;\">\n",
       "      <th></th>\n",
       "      <th>user_id</th>\n",
       "      <th>book_id</th>\n",
       "      <th>rating</th>\n",
       "    </tr>\n",
       "  </thead>\n",
       "  <tbody>\n",
       "    <tr>\n",
       "      <th>0</th>\n",
       "      <td>-1</td>\n",
       "      <td>2517439</td>\n",
       "      <td>5</td>\n",
       "    </tr>\n",
       "    <tr>\n",
       "      <th>1</th>\n",
       "      <td>-1</td>\n",
       "      <td>113576</td>\n",
       "      <td>5</td>\n",
       "    </tr>\n",
       "    <tr>\n",
       "      <th>2</th>\n",
       "      <td>-1</td>\n",
       "      <td>35100</td>\n",
       "      <td>5</td>\n",
       "    </tr>\n",
       "    <tr>\n",
       "      <th>3</th>\n",
       "      <td>-1</td>\n",
       "      <td>228221</td>\n",
       "      <td>5</td>\n",
       "    </tr>\n",
       "    <tr>\n",
       "      <th>4</th>\n",
       "      <td>-1</td>\n",
       "      <td>17662739</td>\n",
       "      <td>5</td>\n",
       "    </tr>\n",
       "  </tbody>\n",
       "</table>\n",
       "</div>"
      ],
      "text/plain": [
       "  user_id   book_id rating\n",
       "0      -1   2517439      5\n",
       "1      -1    113576      5\n",
       "2      -1     35100      5\n",
       "3      -1    228221      5\n",
       "4      -1  17662739      5"
      ]
     },
     "execution_count": 499,
     "metadata": {},
     "output_type": "execute_result"
    }
   ],
   "source": [
    "# nosotoros somos el user -1\n",
    "\n",
    "\n",
    "interactions.head()"
   ]
  },
  {
   "cell_type": "code",
   "execution_count": 500,
   "id": "775d9ecb",
   "metadata": {},
   "outputs": [],
   "source": [
    "#le damos forma de strings porque así está también en el archivo json\n",
    "\n",
    "\n",
    "interactions[\"book_id\"] = interactions[\"book_id\"].astype(str)\n",
    "interactions[\"user_id\"] = interactions[\"user_id\"].astype(str)\n",
    "interactions[\"rating\"] = pd.to_numeric(interactions[\"rating\"])  #tiene que ser numérico "
   ]
  },
  {
   "cell_type": "code",
   "execution_count": 501,
   "id": "ef97af2c",
   "metadata": {},
   "outputs": [
    {
     "data": {
      "text/plain": [
       "array(['-1', '282', '874', ..., '442043', '712588', '804100'],\n",
       "      dtype=object)"
      ]
     },
     "execution_count": 501,
     "metadata": {},
     "output_type": "execute_result"
    }
   ],
   "source": [
    "interactions['user_id'].unique()    #esto da algo raro creo"
   ]
  },
  {
   "cell_type": "code",
   "execution_count": 502,
   "id": "4edaebee",
   "metadata": {},
   "outputs": [],
   "source": [
    "interactions[\"user_index\"] = interactions[\"user_id\"].astype(\"category\").cat.codes   #unica categoría. \n",
    "#se puede asignar a una categoría en ua matriz"
   ]
  },
  {
   "cell_type": "code",
   "execution_count": 503,
   "id": "fcb0733e",
   "metadata": {},
   "outputs": [
    {
     "data": {
      "text/plain": [
       "array([   0,  555, 1216, ..., 1054, 1143, 1183], dtype=int16)"
      ]
     },
     "execution_count": 503,
     "metadata": {},
     "output_type": "execute_result"
    }
   ],
   "source": [
    "interactions['user_index'].unique()  #❗️"
   ]
  },
  {
   "cell_type": "code",
   "execution_count": 504,
   "id": "93ce7fa2",
   "metadata": {},
   "outputs": [],
   "source": [
    "#lo mismo con el book id\n",
    "\n",
    "interactions[\"book_index\"] = interactions[\"book_id\"].astype(\"category\").cat.codes\n"
   ]
  },
  {
   "cell_type": "markdown",
   "id": "0a2d8adf",
   "metadata": {},
   "source": [
    "ESTRUCTURA DE LA MATRIZ: id a posición\n",
    "Sparse matriz, se llama en español una matriz DISPERSA\n",
    "Vemos cuántos libros únicos y usuarios tenemos (en interactions). Con estos, hay menos usuarios que librs (claro\n",
    "Pero si se multiplica se ve que el tamaño de la matriz es gigante, en lugar de esto se construye una matriz dispersa. Si no hay valor en una celda determinada lo deja en blanco. NO USA MEMORIA"
   ]
  },
  {
   "cell_type": "code",
   "execution_count": 505,
   "id": "61aaf156",
   "metadata": {},
   "outputs": [],
   "source": [
    "#crear matriz.\n",
    "#coo matrix = A sparse matrix in COOrdinate format"
   ]
  },
  {
   "cell_type": "code",
   "execution_count": 506,
   "id": "dc4ce8a6",
   "metadata": {},
   "outputs": [],
   "source": [
    "#se le pasa un arry o lista de los datos que queremos (ratings) luego las posiciones de las filas (index) \n",
    "#y luego las columnas\n",
    "\n",
    "ratings_mat_coo = coo_matrix((interactions[\"rating\"], (interactions[\"user_index\"], interactions[\"book_index\"])))\n"
   ]
  },
  {
   "cell_type": "code",
   "execution_count": 507,
   "id": "43864d47",
   "metadata": {},
   "outputs": [
    {
     "data": {
      "text/plain": [
       "<1259x802870 sparse matrix of type '<class 'numpy.int64'>'\n",
       "\twith 5638728 stored elements in COOrdinate format>"
      ]
     },
     "execution_count": 507,
     "metadata": {},
     "output_type": "execute_result"
    }
   ],
   "source": [
    "ratings_mat_coo"
   ]
  },
  {
   "cell_type": "code",
   "execution_count": 508,
   "id": "0e6d43b0",
   "metadata": {},
   "outputs": [
    {
     "data": {
      "text/plain": [
       "(1259, 802870)"
      ]
     },
     "execution_count": 508,
     "metadata": {},
     "output_type": "execute_result"
    }
   ],
   "source": [
    "ratings_mat_coo.shape"
   ]
  },
  {
   "cell_type": "code",
   "execution_count": 509,
   "id": "19e69fc2",
   "metadata": {},
   "outputs": [],
   "source": [
    "ratings_mat = ratings_mat_coo.tocsr()   #lo vamos a converit a una matriz csr (Compressed Sparse Row matrix)"
   ]
  },
  {
   "cell_type": "markdown",
   "id": "9325822d",
   "metadata": {},
   "source": [
    "## encontrar a los usuarios parecidos a nosotros"
   ]
  },
  {
   "cell_type": "code",
   "execution_count": 510,
   "id": "40f3cc00",
   "metadata": {},
   "outputs": [
    {
     "data": {
      "text/plain": [
       "27"
      ]
     },
     "execution_count": 510,
     "metadata": {},
     "output_type": "execute_result"
    }
   ],
   "source": [
    "len(interactions[interactions[\"user_id\"] == \"-1\"])   #nuestro usuario"
   ]
  },
  {
   "cell_type": "code",
   "execution_count": 511,
   "id": "f612c742",
   "metadata": {},
   "outputs": [],
   "source": [
    "my_index = 0"
   ]
  },
  {
   "cell_type": "code",
   "execution_count": 512,
   "id": "1ce3099b",
   "metadata": {},
   "outputs": [],
   "source": [
    "#cada columnna es un libro cada fila es un usuario\n",
    "#cuantas más valoraciones tenga un usuario más parecido será a nosotros\n",
    "\n",
    "#coge mis preferencias de libros y los une con \n",
    "\n",
    "similarity = cosine_similarity(ratings_mat[my_index,:], ratings_mat).flatten()"
   ]
  },
  {
   "cell_type": "code",
   "execution_count": 513,
   "id": "27aaa3e5",
   "metadata": {},
   "outputs": [
    {
     "data": {
      "text/plain": [
       "array([1.        , 0.04579826, 0.06143443, ..., 0.        , 0.00393254,\n",
       "       0.02317069])"
      ]
     },
     "execution_count": 513,
     "metadata": {},
     "output_type": "execute_result"
    }
   ],
   "source": [
    "similarity"
   ]
  },
  {
   "cell_type": "code",
   "execution_count": 514,
   "id": "fedf2fa3",
   "metadata": {},
   "outputs": [
    {
     "data": {
      "text/plain": [
       "0.06143442518998915"
      ]
     },
     "execution_count": 514,
     "metadata": {},
     "output_type": "execute_result"
    }
   ],
   "source": [
    "similarity[2]   #la matriz tiene tamaño 3. Solo hay 3 usuarios como nosottros!"
   ]
  },
  {
   "cell_type": "code",
   "execution_count": 515,
   "id": "4185ed4a",
   "metadata": {},
   "outputs": [
    {
     "data": {
      "text/plain": [
       "array([ 862, 1143,    0])"
      ]
     },
     "execution_count": 515,
     "metadata": {},
     "output_type": "execute_result"
    }
   ],
   "source": [
    "indices = np.argpartition(similarity, -3)[-3:]\n",
    "indices"
   ]
  },
  {
   "cell_type": "code",
   "execution_count": 516,
   "id": "101b02f1",
   "metadata": {},
   "outputs": [],
   "source": [
    "#encontrar sus user id"
   ]
  },
  {
   "cell_type": "code",
   "execution_count": 517,
   "id": "e3af249c",
   "metadata": {},
   "outputs": [],
   "source": [
    "#encuentra todas las interacciones donde el indice de usuario esté en nuestro índice\n",
    "#copy para que no de error\n",
    "\n",
    "similar_users =interactions[interactions[\"user_index\"].isin(indices)].copy()"
   ]
  },
  {
   "cell_type": "code",
   "execution_count": 518,
   "id": "2266120d",
   "metadata": {},
   "outputs": [],
   "source": [
    "similar_users = similar_users[similar_users[\"user_id\"]!=\"-1\"]"
   ]
  },
  {
   "cell_type": "code",
   "execution_count": 519,
   "id": "a6e8df26",
   "metadata": {},
   "outputs": [
    {
     "data": {
      "text/html": [
       "<div>\n",
       "<style scoped>\n",
       "    .dataframe tbody tr th:only-of-type {\n",
       "        vertical-align: middle;\n",
       "    }\n",
       "\n",
       "    .dataframe tbody tr th {\n",
       "        vertical-align: top;\n",
       "    }\n",
       "\n",
       "    .dataframe thead th {\n",
       "        text-align: right;\n",
       "    }\n",
       "</style>\n",
       "<table border=\"1\" class=\"dataframe\">\n",
       "  <thead>\n",
       "    <tr style=\"text-align: right;\">\n",
       "      <th></th>\n",
       "      <th>user_id</th>\n",
       "      <th>book_id</th>\n",
       "      <th>rating</th>\n",
       "      <th>user_index</th>\n",
       "      <th>book_index</th>\n",
       "    </tr>\n",
       "  </thead>\n",
       "  <tbody>\n",
       "    <tr>\n",
       "      <th>4888563</th>\n",
       "      <td>390255</td>\n",
       "      <td>7604</td>\n",
       "      <td>0</td>\n",
       "      <td>862</td>\n",
       "      <td>719547</td>\n",
       "    </tr>\n",
       "    <tr>\n",
       "      <th>4888564</th>\n",
       "      <td>390255</td>\n",
       "      <td>5907</td>\n",
       "      <td>0</td>\n",
       "      <td>862</td>\n",
       "      <td>645289</td>\n",
       "    </tr>\n",
       "    <tr>\n",
       "      <th>4888565</th>\n",
       "      <td>390255</td>\n",
       "      <td>3</td>\n",
       "      <td>0</td>\n",
       "      <td>862</td>\n",
       "      <td>511149</td>\n",
       "    </tr>\n",
       "    <tr>\n",
       "      <th>4888566</th>\n",
       "      <td>390255</td>\n",
       "      <td>2767052</td>\n",
       "      <td>0</td>\n",
       "      <td>862</td>\n",
       "      <td>472031</td>\n",
       "    </tr>\n",
       "    <tr>\n",
       "      <th>4888567</th>\n",
       "      <td>390255</td>\n",
       "      <td>41865</td>\n",
       "      <td>0</td>\n",
       "      <td>862</td>\n",
       "      <td>602955</td>\n",
       "    </tr>\n",
       "    <tr>\n",
       "      <th>...</th>\n",
       "      <td>...</td>\n",
       "      <td>...</td>\n",
       "      <td>...</td>\n",
       "      <td>...</td>\n",
       "      <td>...</td>\n",
       "    </tr>\n",
       "    <tr>\n",
       "      <th>5638521</th>\n",
       "      <td>712588</td>\n",
       "      <td>32388712</td>\n",
       "      <td>3</td>\n",
       "      <td>1143</td>\n",
       "      <td>543119</td>\n",
       "    </tr>\n",
       "    <tr>\n",
       "      <th>5638522</th>\n",
       "      <td>712588</td>\n",
       "      <td>16322</td>\n",
       "      <td>5</td>\n",
       "      <td>1143</td>\n",
       "      <td>183365</td>\n",
       "    </tr>\n",
       "    <tr>\n",
       "      <th>5638523</th>\n",
       "      <td>712588</td>\n",
       "      <td>860543</td>\n",
       "      <td>0</td>\n",
       "      <td>1143</td>\n",
       "      <td>759827</td>\n",
       "    </tr>\n",
       "    <tr>\n",
       "      <th>5638524</th>\n",
       "      <td>712588</td>\n",
       "      <td>853510</td>\n",
       "      <td>5</td>\n",
       "      <td>1143</td>\n",
       "      <td>756768</td>\n",
       "    </tr>\n",
       "    <tr>\n",
       "      <th>5638525</th>\n",
       "      <td>712588</td>\n",
       "      <td>13890</td>\n",
       "      <td>4</td>\n",
       "      <td>1143</td>\n",
       "      <td>124251</td>\n",
       "    </tr>\n",
       "  </tbody>\n",
       "</table>\n",
       "<p>510 rows × 5 columns</p>\n",
       "</div>"
      ],
      "text/plain": [
       "        user_id   book_id  rating  user_index  book_index\n",
       "4888563  390255      7604       0         862      719547\n",
       "4888564  390255      5907       0         862      645289\n",
       "4888565  390255         3       0         862      511149\n",
       "4888566  390255   2767052       0         862      472031\n",
       "4888567  390255     41865       0         862      602955\n",
       "...         ...       ...     ...         ...         ...\n",
       "5638521  712588  32388712       3        1143      543119\n",
       "5638522  712588     16322       5        1143      183365\n",
       "5638523  712588    860543       0        1143      759827\n",
       "5638524  712588    853510       5        1143      756768\n",
       "5638525  712588     13890       4        1143      124251\n",
       "\n",
       "[510 rows x 5 columns]"
      ]
     },
     "execution_count": 519,
     "metadata": {},
     "output_type": "execute_result"
    }
   ],
   "source": [
    "similar_users   #se ven las filas de libros que potencialmente nos gustarían"
   ]
  },
  {
   "cell_type": "code",
   "execution_count": 520,
   "id": "9be6f715",
   "metadata": {},
   "outputs": [],
   "source": [
    "#estos son los usuarios más parecidos a nosotros"
   ]
  },
  {
   "cell_type": "markdown",
   "id": "9cd96aad",
   "metadata": {},
   "source": [
    "## Recomendacio´n de libros!"
   ]
  },
  {
   "cell_type": "code",
   "execution_count": 625,
   "id": "505b7a35",
   "metadata": {},
   "outputs": [],
   "source": [
    "#❇️❇️❇️\n",
    "\n",
    "\n",
    "book_recs = similar_users.groupby(\"book_id\").rating.agg(['count', 'mean'])\n",
    "\n"
   ]
  },
  {
   "cell_type": "code",
   "execution_count": 626,
   "id": "b66f90d5",
   "metadata": {},
   "outputs": [
    {
     "data": {
      "text/html": [
       "<div>\n",
       "<style scoped>\n",
       "    .dataframe tbody tr th:only-of-type {\n",
       "        vertical-align: middle;\n",
       "    }\n",
       "\n",
       "    .dataframe tbody tr th {\n",
       "        vertical-align: top;\n",
       "    }\n",
       "\n",
       "    .dataframe thead th {\n",
       "        text-align: right;\n",
       "    }\n",
       "</style>\n",
       "<table border=\"1\" class=\"dataframe\">\n",
       "  <thead>\n",
       "    <tr style=\"text-align: right;\">\n",
       "      <th></th>\n",
       "      <th>count</th>\n",
       "      <th>mean</th>\n",
       "    </tr>\n",
       "    <tr>\n",
       "      <th>book_id</th>\n",
       "      <th></th>\n",
       "      <th></th>\n",
       "    </tr>\n",
       "  </thead>\n",
       "  <tbody>\n",
       "    <tr>\n",
       "      <th>1</th>\n",
       "      <td>1</td>\n",
       "      <td>0.0</td>\n",
       "    </tr>\n",
       "    <tr>\n",
       "      <th>100915</th>\n",
       "      <td>1</td>\n",
       "      <td>0.0</td>\n",
       "    </tr>\n",
       "    <tr>\n",
       "      <th>10210</th>\n",
       "      <td>1</td>\n",
       "      <td>0.0</td>\n",
       "    </tr>\n",
       "    <tr>\n",
       "      <th>10310</th>\n",
       "      <td>1</td>\n",
       "      <td>5.0</td>\n",
       "    </tr>\n",
       "    <tr>\n",
       "      <th>10534</th>\n",
       "      <td>1</td>\n",
       "      <td>0.0</td>\n",
       "    </tr>\n",
       "  </tbody>\n",
       "</table>\n",
       "</div>"
      ],
      "text/plain": [
       "         count  mean\n",
       "book_id             \n",
       "1            1   0.0\n",
       "100915       1   0.0\n",
       "10210        1   0.0\n",
       "10310        1   5.0\n",
       "10534        1   0.0"
      ]
     },
     "execution_count": 626,
     "metadata": {},
     "output_type": "execute_result"
    }
   ],
   "source": [
    "book_recs.head()   #esto es un libro en específico que nos recomiendan"
   ]
  },
  {
   "cell_type": "code",
   "execution_count": 627,
   "id": "6ebd3db4",
   "metadata": {},
   "outputs": [
    {
     "data": {
      "text/plain": [
       "(472, 2)"
      ]
     },
     "execution_count": 627,
     "metadata": {},
     "output_type": "execute_result"
    }
   ],
   "source": [
    "book_recs.shape"
   ]
  },
  {
   "cell_type": "code",
   "execution_count": 628,
   "id": "b71f8668",
   "metadata": {},
   "outputs": [],
   "source": [
    "books_titles = pd.read_json(\"boks_titles.json\")    #cuidado con el nombre mal escrito\n",
    "books_titles[\"book_id\"] = books_titles[\"book_id\"].astype(str)  #asegurarnos de que es una string\n",
    "\n"
   ]
  },
  {
   "cell_type": "code",
   "execution_count": 629,
   "id": "02013c8c",
   "metadata": {},
   "outputs": [],
   "source": [
    "#mergeamos los dos datasts para poner los títulos en las recomendacions\n",
    "\n",
    "book_recs = book_recs.merge(books_titles, how=\"inner\", on=\"book_id\")\n",
    "\n",
    "\n",
    "#es el mismo merge que antes y que en sql si no está ese campo en las dos tablas no lo une"
   ]
  },
  {
   "cell_type": "code",
   "execution_count": 630,
   "id": "8b3e4611",
   "metadata": {},
   "outputs": [
    {
     "data": {
      "text/html": [
       "<div>\n",
       "<style scoped>\n",
       "    .dataframe tbody tr th:only-of-type {\n",
       "        vertical-align: middle;\n",
       "    }\n",
       "\n",
       "    .dataframe tbody tr th {\n",
       "        vertical-align: top;\n",
       "    }\n",
       "\n",
       "    .dataframe thead th {\n",
       "        text-align: right;\n",
       "    }\n",
       "</style>\n",
       "<table border=\"1\" class=\"dataframe\">\n",
       "  <thead>\n",
       "    <tr style=\"text-align: right;\">\n",
       "      <th></th>\n",
       "      <th>book_id</th>\n",
       "      <th>count</th>\n",
       "      <th>mean</th>\n",
       "      <th>title</th>\n",
       "      <th>ratings</th>\n",
       "      <th>url</th>\n",
       "      <th>cover_image</th>\n",
       "      <th>mod_title</th>\n",
       "    </tr>\n",
       "  </thead>\n",
       "  <tbody>\n",
       "    <tr>\n",
       "      <th>0</th>\n",
       "      <td>1</td>\n",
       "      <td>1</td>\n",
       "      <td>0.0</td>\n",
       "      <td>Harry Potter and the Half-Blood Prince (Harry ...</td>\n",
       "      <td>1713866</td>\n",
       "      <td>https://www.goodreads.com/book/show/1.Harry_Po...</td>\n",
       "      <td>https://images.gr-assets.com/books/1361039191m...</td>\n",
       "      <td>harry potter and the halfblood prince harry po...</td>\n",
       "    </tr>\n",
       "    <tr>\n",
       "      <th>1</th>\n",
       "      <td>100915</td>\n",
       "      <td>1</td>\n",
       "      <td>0.0</td>\n",
       "      <td>The Lion, the Witch, and the Wardrobe (Chronic...</td>\n",
       "      <td>1575387</td>\n",
       "      <td>https://www.goodreads.com/book/show/100915.The...</td>\n",
       "      <td>https://images.gr-assets.com/books/1353029077m...</td>\n",
       "      <td>the lion the witch and the wardrobe chronicles...</td>\n",
       "    </tr>\n",
       "    <tr>\n",
       "      <th>2</th>\n",
       "      <td>10210</td>\n",
       "      <td>1</td>\n",
       "      <td>0.0</td>\n",
       "      <td>Jane Eyre</td>\n",
       "      <td>1207986</td>\n",
       "      <td>https://www.goodreads.com/book/show/10210.Jane...</td>\n",
       "      <td>https://images.gr-assets.com/books/1327867269m...</td>\n",
       "      <td>jane eyre</td>\n",
       "    </tr>\n",
       "    <tr>\n",
       "      <th>3</th>\n",
       "      <td>10310</td>\n",
       "      <td>1</td>\n",
       "      <td>5.0</td>\n",
       "      <td>The Argumentative Indian: Writings on Indian H...</td>\n",
       "      <td>5597</td>\n",
       "      <td>https://www.goodreads.com/book/show/10310.The_...</td>\n",
       "      <td>https://s.gr-assets.com/assets/nophoto/book/11...</td>\n",
       "      <td>the argumentative indian writings on indian hi...</td>\n",
       "    </tr>\n",
       "    <tr>\n",
       "      <th>4</th>\n",
       "      <td>10534</td>\n",
       "      <td>1</td>\n",
       "      <td>0.0</td>\n",
       "      <td>The Art of War</td>\n",
       "      <td>174266</td>\n",
       "      <td>https://www.goodreads.com/book/show/10534.The_...</td>\n",
       "      <td>https://images.gr-assets.com/books/1453417993m...</td>\n",
       "      <td>the art of war</td>\n",
       "    </tr>\n",
       "  </tbody>\n",
       "</table>\n",
       "</div>"
      ],
      "text/plain": [
       "  book_id  count  mean                                              title  \\\n",
       "0       1      1   0.0  Harry Potter and the Half-Blood Prince (Harry ...   \n",
       "1  100915      1   0.0  The Lion, the Witch, and the Wardrobe (Chronic...   \n",
       "2   10210      1   0.0                                          Jane Eyre   \n",
       "3   10310      1   5.0  The Argumentative Indian: Writings on Indian H...   \n",
       "4   10534      1   0.0                                     The Art of War   \n",
       "\n",
       "   ratings                                                url  \\\n",
       "0  1713866  https://www.goodreads.com/book/show/1.Harry_Po...   \n",
       "1  1575387  https://www.goodreads.com/book/show/100915.The...   \n",
       "2  1207986  https://www.goodreads.com/book/show/10210.Jane...   \n",
       "3     5597  https://www.goodreads.com/book/show/10310.The_...   \n",
       "4   174266  https://www.goodreads.com/book/show/10534.The_...   \n",
       "\n",
       "                                         cover_image  \\\n",
       "0  https://images.gr-assets.com/books/1361039191m...   \n",
       "1  https://images.gr-assets.com/books/1353029077m...   \n",
       "2  https://images.gr-assets.com/books/1327867269m...   \n",
       "3  https://s.gr-assets.com/assets/nophoto/book/11...   \n",
       "4  https://images.gr-assets.com/books/1453417993m...   \n",
       "\n",
       "                                           mod_title  \n",
       "0  harry potter and the halfblood prince harry po...  \n",
       "1  the lion the witch and the wardrobe chronicles...  \n",
       "2                                          jane eyre  \n",
       "3  the argumentative indian writings on indian hi...  \n",
       "4                                     the art of war  "
      ]
     },
     "execution_count": 630,
     "metadata": {},
     "output_type": "execute_result"
    }
   ],
   "source": [
    "book_recs.head()   #vamos!"
   ]
  },
  {
   "cell_type": "markdown",
   "id": "159f6a94",
   "metadata": {},
   "source": [
    "## ranking our book recommendations"
   ]
  },
  {
   "cell_type": "code",
   "execution_count": 631,
   "id": "946b227f",
   "metadata": {},
   "outputs": [],
   "source": [
    "#que recomendaciones son las más relevantes para nosotros\n",
    "\n",
    "\n",
    "#un count normalizado para saber  cuantas veces el libro aparece entre la gente y las votaciones. Por eso se divide\n",
    "#queremos lbros que sean muy votados por usuarios como nosotros PERO no en usuarios diferentes \n",
    "\n",
    "\n",
    "book_recs[\"adjusted_count\"] = book_recs[\"count\"] * (book_recs[\"count\"] / book_recs[\"ratings\"])\n",
    "\n",
    "\n"
   ]
  },
  {
   "cell_type": "code",
   "execution_count": 632,
   "id": "364cb742",
   "metadata": {},
   "outputs": [],
   "source": [
    "book_recs[\"score\"] = book_recs[\"mean\"] * book_recs[\"adjusted_count\"]\n"
   ]
  },
  {
   "cell_type": "code",
   "execution_count": 633,
   "id": "094a58e9",
   "metadata": {},
   "outputs": [],
   "source": [
    "#isin porque tiene que coincidir con lo que hayamos leído\n",
    "\n",
    "book_recs = book_recs[~book_recs[\"book_id\"].isin(my_books[\"book_id\"])]\n"
   ]
  },
  {
   "cell_type": "code",
   "execution_count": 634,
   "id": "b4ce684b",
   "metadata": {},
   "outputs": [
    {
     "data": {
      "text/html": [
       "<div>\n",
       "<style scoped>\n",
       "    .dataframe tbody tr th:only-of-type {\n",
       "        vertical-align: middle;\n",
       "    }\n",
       "\n",
       "    .dataframe tbody tr th {\n",
       "        vertical-align: top;\n",
       "    }\n",
       "\n",
       "    .dataframe thead th {\n",
       "        text-align: right;\n",
       "    }\n",
       "</style>\n",
       "<table border=\"1\" class=\"dataframe\">\n",
       "  <thead>\n",
       "    <tr style=\"text-align: right;\">\n",
       "      <th></th>\n",
       "      <th>book_id</th>\n",
       "      <th>count</th>\n",
       "      <th>mean</th>\n",
       "      <th>title</th>\n",
       "      <th>ratings</th>\n",
       "      <th>url</th>\n",
       "      <th>cover_image</th>\n",
       "      <th>mod_title</th>\n",
       "      <th>adjusted_count</th>\n",
       "      <th>score</th>\n",
       "    </tr>\n",
       "  </thead>\n",
       "  <tbody>\n",
       "    <tr>\n",
       "      <th>0</th>\n",
       "      <td>1</td>\n",
       "      <td>1</td>\n",
       "      <td>0.0</td>\n",
       "      <td>Harry Potter and the Half-Blood Prince (Harry ...</td>\n",
       "      <td>1713866</td>\n",
       "      <td>https://www.goodreads.com/book/show/1.Harry_Po...</td>\n",
       "      <td>https://images.gr-assets.com/books/1361039191m...</td>\n",
       "      <td>harry potter and the halfblood prince harry po...</td>\n",
       "      <td>5.834762e-07</td>\n",
       "      <td>0.000000</td>\n",
       "    </tr>\n",
       "    <tr>\n",
       "      <th>1</th>\n",
       "      <td>100915</td>\n",
       "      <td>1</td>\n",
       "      <td>0.0</td>\n",
       "      <td>The Lion, the Witch, and the Wardrobe (Chronic...</td>\n",
       "      <td>1575387</td>\n",
       "      <td>https://www.goodreads.com/book/show/100915.The...</td>\n",
       "      <td>https://images.gr-assets.com/books/1353029077m...</td>\n",
       "      <td>the lion the witch and the wardrobe chronicles...</td>\n",
       "      <td>6.347647e-07</td>\n",
       "      <td>0.000000</td>\n",
       "    </tr>\n",
       "    <tr>\n",
       "      <th>2</th>\n",
       "      <td>10210</td>\n",
       "      <td>1</td>\n",
       "      <td>0.0</td>\n",
       "      <td>Jane Eyre</td>\n",
       "      <td>1207986</td>\n",
       "      <td>https://www.goodreads.com/book/show/10210.Jane...</td>\n",
       "      <td>https://images.gr-assets.com/books/1327867269m...</td>\n",
       "      <td>jane eyre</td>\n",
       "      <td>8.278242e-07</td>\n",
       "      <td>0.000000</td>\n",
       "    </tr>\n",
       "    <tr>\n",
       "      <th>3</th>\n",
       "      <td>10310</td>\n",
       "      <td>1</td>\n",
       "      <td>5.0</td>\n",
       "      <td>The Argumentative Indian: Writings on Indian H...</td>\n",
       "      <td>5597</td>\n",
       "      <td>https://www.goodreads.com/book/show/10310.The_...</td>\n",
       "      <td>https://s.gr-assets.com/assets/nophoto/book/11...</td>\n",
       "      <td>the argumentative indian writings on indian hi...</td>\n",
       "      <td>1.786671e-04</td>\n",
       "      <td>0.000893</td>\n",
       "    </tr>\n",
       "    <tr>\n",
       "      <th>4</th>\n",
       "      <td>10534</td>\n",
       "      <td>1</td>\n",
       "      <td>0.0</td>\n",
       "      <td>The Art of War</td>\n",
       "      <td>174266</td>\n",
       "      <td>https://www.goodreads.com/book/show/10534.The_...</td>\n",
       "      <td>https://images.gr-assets.com/books/1453417993m...</td>\n",
       "      <td>the art of war</td>\n",
       "      <td>5.738354e-06</td>\n",
       "      <td>0.000000</td>\n",
       "    </tr>\n",
       "  </tbody>\n",
       "</table>\n",
       "</div>"
      ],
      "text/plain": [
       "  book_id  count  mean                                              title  \\\n",
       "0       1      1   0.0  Harry Potter and the Half-Blood Prince (Harry ...   \n",
       "1  100915      1   0.0  The Lion, the Witch, and the Wardrobe (Chronic...   \n",
       "2   10210      1   0.0                                          Jane Eyre   \n",
       "3   10310      1   5.0  The Argumentative Indian: Writings on Indian H...   \n",
       "4   10534      1   0.0                                     The Art of War   \n",
       "\n",
       "   ratings                                                url  \\\n",
       "0  1713866  https://www.goodreads.com/book/show/1.Harry_Po...   \n",
       "1  1575387  https://www.goodreads.com/book/show/100915.The...   \n",
       "2  1207986  https://www.goodreads.com/book/show/10210.Jane...   \n",
       "3     5597  https://www.goodreads.com/book/show/10310.The_...   \n",
       "4   174266  https://www.goodreads.com/book/show/10534.The_...   \n",
       "\n",
       "                                         cover_image  \\\n",
       "0  https://images.gr-assets.com/books/1361039191m...   \n",
       "1  https://images.gr-assets.com/books/1353029077m...   \n",
       "2  https://images.gr-assets.com/books/1327867269m...   \n",
       "3  https://s.gr-assets.com/assets/nophoto/book/11...   \n",
       "4  https://images.gr-assets.com/books/1453417993m...   \n",
       "\n",
       "                                           mod_title  adjusted_count     score  \n",
       "0  harry potter and the halfblood prince harry po...    5.834762e-07  0.000000  \n",
       "1  the lion the witch and the wardrobe chronicles...    6.347647e-07  0.000000  \n",
       "2                                          jane eyre    8.278242e-07  0.000000  \n",
       "3  the argumentative indian writings on indian hi...    1.786671e-04  0.000893  \n",
       "4                                     the art of war    5.738354e-06  0.000000  "
      ]
     },
     "execution_count": 634,
     "metadata": {},
     "output_type": "execute_result"
    }
   ],
   "source": [
    "book_recs.head()  #✅"
   ]
  },
  {
   "cell_type": "code",
   "execution_count": null,
   "id": "98ca8227",
   "metadata": {},
   "outputs": [],
   "source": []
  },
  {
   "cell_type": "code",
   "execution_count": null,
   "id": "4c24a1a7",
   "metadata": {},
   "outputs": [],
   "source": [
    "#duplicado for some reason comentar abajo"
   ]
  },
  {
   "cell_type": "code",
   "execution_count": 530,
   "id": "662d7422",
   "metadata": {},
   "outputs": [],
   "source": [
    "#quitamos libros donde el titulo coincida. PORQUE ids duplicadas. y min\n",
    "\n",
    "#my_books[\"mod_title\"] = my_books[\"title\"].str.replace(\"[^a-zA-Z0-9 ]\", \"\", regex=True).str.lower()"
   ]
  },
  {
   "cell_type": "code",
   "execution_count": 635,
   "id": "5484834c",
   "metadata": {},
   "outputs": [],
   "source": [
    "#quitar espacios\n",
    "\n",
    "my_books[\"mod_title\"] = my_books[\"mod_title\"].str.replace(\"\\s+\", \" \", regex=True)\n"
   ]
  },
  {
   "cell_type": "code",
   "execution_count": 636,
   "id": "8b5d08d4",
   "metadata": {},
   "outputs": [
    {
     "data": {
      "text/html": [
       "<div>\n",
       "<style scoped>\n",
       "    .dataframe tbody tr th:only-of-type {\n",
       "        vertical-align: middle;\n",
       "    }\n",
       "\n",
       "    .dataframe tbody tr th {\n",
       "        vertical-align: top;\n",
       "    }\n",
       "\n",
       "    .dataframe thead th {\n",
       "        text-align: right;\n",
       "    }\n",
       "</style>\n",
       "<table border=\"1\" class=\"dataframe\">\n",
       "  <thead>\n",
       "    <tr style=\"text-align: right;\">\n",
       "      <th></th>\n",
       "      <th>Unnamed: 0</th>\n",
       "      <th>user_id</th>\n",
       "      <th>book_id</th>\n",
       "      <th>rating</th>\n",
       "      <th>title</th>\n",
       "      <th>mod_title</th>\n",
       "    </tr>\n",
       "  </thead>\n",
       "  <tbody>\n",
       "    <tr>\n",
       "      <th>0</th>\n",
       "      <td>0</td>\n",
       "      <td>-1</td>\n",
       "      <td>2517439</td>\n",
       "      <td>5</td>\n",
       "      <td>The Forever War  (The Forever War, #1)</td>\n",
       "      <td>the forever war the forever war 1</td>\n",
       "    </tr>\n",
       "    <tr>\n",
       "      <th>1</th>\n",
       "      <td>1</td>\n",
       "      <td>-1</td>\n",
       "      <td>113576</td>\n",
       "      <td>5</td>\n",
       "      <td>The Smartest Guys in the Room: The Amazing Ris...</td>\n",
       "      <td>the smartest guys in the room the amazing rise...</td>\n",
       "    </tr>\n",
       "    <tr>\n",
       "      <th>2</th>\n",
       "      <td>2</td>\n",
       "      <td>-1</td>\n",
       "      <td>35100</td>\n",
       "      <td>5</td>\n",
       "      <td>Battle Cry of Freedom</td>\n",
       "      <td>battle cry of freedom</td>\n",
       "    </tr>\n",
       "    <tr>\n",
       "      <th>3</th>\n",
       "      <td>3</td>\n",
       "      <td>-1</td>\n",
       "      <td>228221</td>\n",
       "      <td>5</td>\n",
       "      <td>The Mask of Command</td>\n",
       "      <td>the mask of command</td>\n",
       "    </tr>\n",
       "    <tr>\n",
       "      <th>4</th>\n",
       "      <td>5</td>\n",
       "      <td>-1</td>\n",
       "      <td>17662739</td>\n",
       "      <td>5</td>\n",
       "      <td>2001: A Space Odyssey  (Space Odyssey, #1)</td>\n",
       "      <td>2001 a space odyssey space odyssey 1</td>\n",
       "    </tr>\n",
       "  </tbody>\n",
       "</table>\n",
       "</div>"
      ],
      "text/plain": [
       "   Unnamed: 0  user_id   book_id  rating  \\\n",
       "0           0       -1   2517439       5   \n",
       "1           1       -1    113576       5   \n",
       "2           2       -1     35100       5   \n",
       "3           3       -1    228221       5   \n",
       "4           5       -1  17662739       5   \n",
       "\n",
       "                                               title  \\\n",
       "0             The Forever War  (The Forever War, #1)   \n",
       "1  The Smartest Guys in the Room: The Amazing Ris...   \n",
       "2                              Battle Cry of Freedom   \n",
       "3                                The Mask of Command   \n",
       "4         2001: A Space Odyssey  (Space Odyssey, #1)   \n",
       "\n",
       "                                           mod_title  \n",
       "0                  the forever war the forever war 1  \n",
       "1  the smartest guys in the room the amazing rise...  \n",
       "2                              battle cry of freedom  \n",
       "3                                the mask of command  \n",
       "4               2001 a space odyssey space odyssey 1  "
      ]
     },
     "execution_count": 636,
     "metadata": {},
     "output_type": "execute_result"
    }
   ],
   "source": [
    "my_books.head()#✅"
   ]
  },
  {
   "cell_type": "code",
   "execution_count": 577,
   "id": "750b1587",
   "metadata": {},
   "outputs": [],
   "source": [
    "\n",
    "#quitar de recom donde el mod title sea los libros que hemos leido ya\n",
    "#las partes\n",
    "#donde el título en recomendaciones sea el mismo o isin mod_title = books we liked\n",
    "\n"
   ]
  },
  {
   "cell_type": "code",
   "execution_count": null,
   "id": "cd97fb1c",
   "metadata": {},
   "outputs": [],
   "source": []
  },
  {
   "cell_type": "code",
   "execution_count": 618,
   "id": "fed3a192",
   "metadata": {},
   "outputs": [],
   "source": [
    "   #AQUÍ EMPIEZA A FALLAR! ‼️  El problema es con la variable"
   ]
  },
  {
   "cell_type": "code",
   "execution_count": null,
   "id": "efc24d73",
   "metadata": {},
   "outputs": [],
   "source": []
  },
  {
   "cell_type": "code",
   "execution_count": 647,
   "id": "56e0a2db",
   "metadata": {},
   "outputs": [],
   "source": [
    "book_recs = book_recs[book_recs[\"count\"]>1]   \n",
    "\n",
    "#aquí es donde falla. ❌❌\n",
    "#quitar lo que aparezca 2 o menos. que al menos se lo hayan leído dos veces\n",
    "\n"
   ]
  },
  {
   "cell_type": "code",
   "execution_count": 637,
   "id": "91c32e62",
   "metadata": {},
   "outputs": [
    {
     "data": {
      "text/html": [
       "<div>\n",
       "<style scoped>\n",
       "    .dataframe tbody tr th:only-of-type {\n",
       "        vertical-align: middle;\n",
       "    }\n",
       "\n",
       "    .dataframe tbody tr th {\n",
       "        vertical-align: top;\n",
       "    }\n",
       "\n",
       "    .dataframe thead th {\n",
       "        text-align: right;\n",
       "    }\n",
       "</style>\n",
       "<table border=\"1\" class=\"dataframe\">\n",
       "  <thead>\n",
       "    <tr style=\"text-align: right;\">\n",
       "      <th></th>\n",
       "      <th>book_id</th>\n",
       "      <th>count</th>\n",
       "      <th>mean</th>\n",
       "      <th>title</th>\n",
       "      <th>ratings</th>\n",
       "      <th>url</th>\n",
       "      <th>cover_image</th>\n",
       "      <th>mod_title</th>\n",
       "      <th>adjusted_count</th>\n",
       "      <th>score</th>\n",
       "    </tr>\n",
       "  </thead>\n",
       "  <tbody>\n",
       "    <tr>\n",
       "      <th>0</th>\n",
       "      <td>1</td>\n",
       "      <td>1</td>\n",
       "      <td>0.0</td>\n",
       "      <td>Harry Potter and the Half-Blood Prince (Harry ...</td>\n",
       "      <td>1713866</td>\n",
       "      <td>https://www.goodreads.com/book/show/1.Harry_Po...</td>\n",
       "      <td>https://images.gr-assets.com/books/1361039191m...</td>\n",
       "      <td>harry potter and the halfblood prince harry po...</td>\n",
       "      <td>5.834762e-07</td>\n",
       "      <td>0.000000</td>\n",
       "    </tr>\n",
       "    <tr>\n",
       "      <th>1</th>\n",
       "      <td>100915</td>\n",
       "      <td>1</td>\n",
       "      <td>0.0</td>\n",
       "      <td>The Lion, the Witch, and the Wardrobe (Chronic...</td>\n",
       "      <td>1575387</td>\n",
       "      <td>https://www.goodreads.com/book/show/100915.The...</td>\n",
       "      <td>https://images.gr-assets.com/books/1353029077m...</td>\n",
       "      <td>the lion the witch and the wardrobe chronicles...</td>\n",
       "      <td>6.347647e-07</td>\n",
       "      <td>0.000000</td>\n",
       "    </tr>\n",
       "    <tr>\n",
       "      <th>2</th>\n",
       "      <td>10210</td>\n",
       "      <td>1</td>\n",
       "      <td>0.0</td>\n",
       "      <td>Jane Eyre</td>\n",
       "      <td>1207986</td>\n",
       "      <td>https://www.goodreads.com/book/show/10210.Jane...</td>\n",
       "      <td>https://images.gr-assets.com/books/1327867269m...</td>\n",
       "      <td>jane eyre</td>\n",
       "      <td>8.278242e-07</td>\n",
       "      <td>0.000000</td>\n",
       "    </tr>\n",
       "    <tr>\n",
       "      <th>3</th>\n",
       "      <td>10310</td>\n",
       "      <td>1</td>\n",
       "      <td>5.0</td>\n",
       "      <td>The Argumentative Indian: Writings on Indian H...</td>\n",
       "      <td>5597</td>\n",
       "      <td>https://www.goodreads.com/book/show/10310.The_...</td>\n",
       "      <td>https://s.gr-assets.com/assets/nophoto/book/11...</td>\n",
       "      <td>the argumentative indian writings on indian hi...</td>\n",
       "      <td>1.786671e-04</td>\n",
       "      <td>0.000893</td>\n",
       "    </tr>\n",
       "    <tr>\n",
       "      <th>4</th>\n",
       "      <td>10534</td>\n",
       "      <td>1</td>\n",
       "      <td>0.0</td>\n",
       "      <td>The Art of War</td>\n",
       "      <td>174266</td>\n",
       "      <td>https://www.goodreads.com/book/show/10534.The_...</td>\n",
       "      <td>https://images.gr-assets.com/books/1453417993m...</td>\n",
       "      <td>the art of war</td>\n",
       "      <td>5.738354e-06</td>\n",
       "      <td>0.000000</td>\n",
       "    </tr>\n",
       "    <tr>\n",
       "      <th>...</th>\n",
       "      <td>...</td>\n",
       "      <td>...</td>\n",
       "      <td>...</td>\n",
       "      <td>...</td>\n",
       "      <td>...</td>\n",
       "      <td>...</td>\n",
       "      <td>...</td>\n",
       "      <td>...</td>\n",
       "      <td>...</td>\n",
       "      <td>...</td>\n",
       "    </tr>\n",
       "    <tr>\n",
       "      <th>467</th>\n",
       "      <td>9777</td>\n",
       "      <td>1</td>\n",
       "      <td>4.0</td>\n",
       "      <td>The God of Small Things</td>\n",
       "      <td>169282</td>\n",
       "      <td>https://www.goodreads.com/book/show/9777.The_G...</td>\n",
       "      <td>https://images.gr-assets.com/books/1436217001m...</td>\n",
       "      <td>the god of small things</td>\n",
       "      <td>5.907303e-06</td>\n",
       "      <td>0.000024</td>\n",
       "    </tr>\n",
       "    <tr>\n",
       "      <th>468</th>\n",
       "      <td>9814682</td>\n",
       "      <td>1</td>\n",
       "      <td>0.0</td>\n",
       "      <td>A Song of Ice and Fire (A Song of Ice and Fire...</td>\n",
       "      <td>28978</td>\n",
       "      <td>https://www.goodreads.com/book/show/9814682-a-...</td>\n",
       "      <td>https://images.gr-assets.com/books/1328046798m...</td>\n",
       "      <td>a song of ice and fire a song of ice and fire 14</td>\n",
       "      <td>3.450894e-05</td>\n",
       "      <td>0.000000</td>\n",
       "    </tr>\n",
       "    <tr>\n",
       "      <th>469</th>\n",
       "      <td>991197</td>\n",
       "      <td>1</td>\n",
       "      <td>0.0</td>\n",
       "      <td>The Complete Persepolis</td>\n",
       "      <td>73851</td>\n",
       "      <td>https://www.goodreads.com/book/show/991197.The...</td>\n",
       "      <td>https://images.gr-assets.com/books/1327876995m...</td>\n",
       "      <td>the complete persepolis</td>\n",
       "      <td>1.354078e-05</td>\n",
       "      <td>0.000000</td>\n",
       "    </tr>\n",
       "    <tr>\n",
       "      <th>470</th>\n",
       "      <td>99383</td>\n",
       "      <td>1</td>\n",
       "      <td>0.0</td>\n",
       "      <td>Blood Rites (The Dresden Files, #6)</td>\n",
       "      <td>81169</td>\n",
       "      <td>https://www.goodreads.com/book/show/99383.Bloo...</td>\n",
       "      <td>https://images.gr-assets.com/books/1345557965m...</td>\n",
       "      <td>blood rites the dresden files 6</td>\n",
       "      <td>1.231997e-05</td>\n",
       "      <td>0.000000</td>\n",
       "    </tr>\n",
       "    <tr>\n",
       "      <th>471</th>\n",
       "      <td>9938498</td>\n",
       "      <td>1</td>\n",
       "      <td>0.0</td>\n",
       "      <td>In the Garden of Beasts: Love, Terror, and an ...</td>\n",
       "      <td>112419</td>\n",
       "      <td>https://www.goodreads.com/book/show/9938498-in...</td>\n",
       "      <td>https://images.gr-assets.com/books/1327864303m...</td>\n",
       "      <td>in the garden of beasts love terror and an ame...</td>\n",
       "      <td>8.895294e-06</td>\n",
       "      <td>0.000000</td>\n",
       "    </tr>\n",
       "  </tbody>\n",
       "</table>\n",
       "<p>465 rows × 10 columns</p>\n",
       "</div>"
      ],
      "text/plain": [
       "     book_id  count  mean                                              title  \\\n",
       "0          1      1   0.0  Harry Potter and the Half-Blood Prince (Harry ...   \n",
       "1     100915      1   0.0  The Lion, the Witch, and the Wardrobe (Chronic...   \n",
       "2      10210      1   0.0                                          Jane Eyre   \n",
       "3      10310      1   5.0  The Argumentative Indian: Writings on Indian H...   \n",
       "4      10534      1   0.0                                     The Art of War   \n",
       "..       ...    ...   ...                                                ...   \n",
       "467     9777      1   4.0                            The God of Small Things   \n",
       "468  9814682      1   0.0  A Song of Ice and Fire (A Song of Ice and Fire...   \n",
       "469   991197      1   0.0                            The Complete Persepolis   \n",
       "470    99383      1   0.0                Blood Rites (The Dresden Files, #6)   \n",
       "471  9938498      1   0.0  In the Garden of Beasts: Love, Terror, and an ...   \n",
       "\n",
       "     ratings                                                url  \\\n",
       "0    1713866  https://www.goodreads.com/book/show/1.Harry_Po...   \n",
       "1    1575387  https://www.goodreads.com/book/show/100915.The...   \n",
       "2    1207986  https://www.goodreads.com/book/show/10210.Jane...   \n",
       "3       5597  https://www.goodreads.com/book/show/10310.The_...   \n",
       "4     174266  https://www.goodreads.com/book/show/10534.The_...   \n",
       "..       ...                                                ...   \n",
       "467   169282  https://www.goodreads.com/book/show/9777.The_G...   \n",
       "468    28978  https://www.goodreads.com/book/show/9814682-a-...   \n",
       "469    73851  https://www.goodreads.com/book/show/991197.The...   \n",
       "470    81169  https://www.goodreads.com/book/show/99383.Bloo...   \n",
       "471   112419  https://www.goodreads.com/book/show/9938498-in...   \n",
       "\n",
       "                                           cover_image  \\\n",
       "0    https://images.gr-assets.com/books/1361039191m...   \n",
       "1    https://images.gr-assets.com/books/1353029077m...   \n",
       "2    https://images.gr-assets.com/books/1327867269m...   \n",
       "3    https://s.gr-assets.com/assets/nophoto/book/11...   \n",
       "4    https://images.gr-assets.com/books/1453417993m...   \n",
       "..                                                 ...   \n",
       "467  https://images.gr-assets.com/books/1436217001m...   \n",
       "468  https://images.gr-assets.com/books/1328046798m...   \n",
       "469  https://images.gr-assets.com/books/1327876995m...   \n",
       "470  https://images.gr-assets.com/books/1345557965m...   \n",
       "471  https://images.gr-assets.com/books/1327864303m...   \n",
       "\n",
       "                                             mod_title  adjusted_count  \\\n",
       "0    harry potter and the halfblood prince harry po...    5.834762e-07   \n",
       "1    the lion the witch and the wardrobe chronicles...    6.347647e-07   \n",
       "2                                            jane eyre    8.278242e-07   \n",
       "3    the argumentative indian writings on indian hi...    1.786671e-04   \n",
       "4                                       the art of war    5.738354e-06   \n",
       "..                                                 ...             ...   \n",
       "467                            the god of small things    5.907303e-06   \n",
       "468   a song of ice and fire a song of ice and fire 14    3.450894e-05   \n",
       "469                            the complete persepolis    1.354078e-05   \n",
       "470                    blood rites the dresden files 6    1.231997e-05   \n",
       "471  in the garden of beasts love terror and an ame...    8.895294e-06   \n",
       "\n",
       "        score  \n",
       "0    0.000000  \n",
       "1    0.000000  \n",
       "2    0.000000  \n",
       "3    0.000893  \n",
       "4    0.000000  \n",
       "..        ...  \n",
       "467  0.000024  \n",
       "468  0.000000  \n",
       "469  0.000000  \n",
       "470  0.000000  \n",
       "471  0.000000  \n",
       "\n",
       "[465 rows x 10 columns]"
      ]
     },
     "execution_count": 637,
     "metadata": {},
     "output_type": "execute_result"
    }
   ],
   "source": [
    "book_recs"
   ]
  },
  {
   "cell_type": "code",
   "execution_count": 648,
   "id": "aef82666",
   "metadata": {},
   "outputs": [],
   "source": [
    "book_recs = book_recs[book_recs[\"mean\"] >=4]   #ncuentra dodnde la media sea  recs mayores que 4"
   ]
  },
  {
   "cell_type": "code",
   "execution_count": 649,
   "id": "5f86e51f",
   "metadata": {},
   "outputs": [
    {
     "data": {
      "text/html": [
       "<div>\n",
       "<style scoped>\n",
       "    .dataframe tbody tr th:only-of-type {\n",
       "        vertical-align: middle;\n",
       "    }\n",
       "\n",
       "    .dataframe tbody tr th {\n",
       "        vertical-align: top;\n",
       "    }\n",
       "\n",
       "    .dataframe thead th {\n",
       "        text-align: right;\n",
       "    }\n",
       "</style>\n",
       "<table border=\"1\" class=\"dataframe\">\n",
       "  <thead>\n",
       "    <tr style=\"text-align: right;\">\n",
       "      <th></th>\n",
       "      <th>book_id</th>\n",
       "      <th>count</th>\n",
       "      <th>mean</th>\n",
       "      <th>title</th>\n",
       "      <th>ratings</th>\n",
       "      <th>url</th>\n",
       "      <th>cover_image</th>\n",
       "      <th>mod_title</th>\n",
       "      <th>adjusted_count</th>\n",
       "      <th>score</th>\n",
       "    </tr>\n",
       "  </thead>\n",
       "  <tbody>\n",
       "    <tr>\n",
       "      <th>127</th>\n",
       "      <td>18007564</td>\n",
       "      <td>2</td>\n",
       "      <td>4.0</td>\n",
       "      <td>The Martian</td>\n",
       "      <td>435440</td>\n",
       "      <td>https://www.goodreads.com/book/show/18007564-t...</td>\n",
       "      <td>https://images.gr-assets.com/books/1413706054m...</td>\n",
       "      <td>the martian</td>\n",
       "      <td>0.000009</td>\n",
       "      <td>0.000037</td>\n",
       "    </tr>\n",
       "    <tr>\n",
       "      <th>142</th>\n",
       "      <td>186074</td>\n",
       "      <td>2</td>\n",
       "      <td>5.0</td>\n",
       "      <td>The Name of the Wind (The Kingkiller Chronicle...</td>\n",
       "      <td>416634</td>\n",
       "      <td>https://www.goodreads.com/book/show/186074.The...</td>\n",
       "      <td>https://images.gr-assets.com/books/1472068073m...</td>\n",
       "      <td>the name of the wind the kingkiller chronicle 1</td>\n",
       "      <td>0.000010</td>\n",
       "      <td>0.000048</td>\n",
       "    </tr>\n",
       "  </tbody>\n",
       "</table>\n",
       "</div>"
      ],
      "text/plain": [
       "      book_id  count  mean                                              title  \\\n",
       "127  18007564      2   4.0                                        The Martian   \n",
       "142    186074      2   5.0  The Name of the Wind (The Kingkiller Chronicle...   \n",
       "\n",
       "     ratings                                                url  \\\n",
       "127   435440  https://www.goodreads.com/book/show/18007564-t...   \n",
       "142   416634  https://www.goodreads.com/book/show/186074.The...   \n",
       "\n",
       "                                           cover_image  \\\n",
       "127  https://images.gr-assets.com/books/1413706054m...   \n",
       "142  https://images.gr-assets.com/books/1472068073m...   \n",
       "\n",
       "                                           mod_title  adjusted_count     score  \n",
       "127                                      the martian        0.000009  0.000037  \n",
       "142  the name of the wind the kingkiller chronicle 1        0.000010  0.000048  "
      ]
     },
     "execution_count": 649,
     "metadata": {},
     "output_type": "execute_result"
    }
   ],
   "source": [
    "book_recs.head()"
   ]
  },
  {
   "cell_type": "code",
   "execution_count": 650,
   "id": "21c7cedd",
   "metadata": {},
   "outputs": [],
   "source": [
    "top_recs = book_recs.sort_values(\"mean\", ascending=False)"
   ]
  },
  {
   "cell_type": "code",
   "execution_count": 651,
   "id": "ea976ae4",
   "metadata": {},
   "outputs": [
    {
     "data": {
      "text/html": [
       "<div>\n",
       "<style scoped>\n",
       "    .dataframe tbody tr th:only-of-type {\n",
       "        vertical-align: middle;\n",
       "    }\n",
       "\n",
       "    .dataframe tbody tr th {\n",
       "        vertical-align: top;\n",
       "    }\n",
       "\n",
       "    .dataframe thead th {\n",
       "        text-align: right;\n",
       "    }\n",
       "</style>\n",
       "<table border=\"1\" class=\"dataframe\">\n",
       "  <thead>\n",
       "    <tr style=\"text-align: right;\">\n",
       "      <th></th>\n",
       "      <th>book_id</th>\n",
       "      <th>count</th>\n",
       "      <th>mean</th>\n",
       "      <th>title</th>\n",
       "      <th>ratings</th>\n",
       "      <th>url</th>\n",
       "      <th>cover_image</th>\n",
       "      <th>mod_title</th>\n",
       "      <th>adjusted_count</th>\n",
       "      <th>score</th>\n",
       "    </tr>\n",
       "  </thead>\n",
       "  <tbody>\n",
       "    <tr>\n",
       "      <th>142</th>\n",
       "      <td>186074</td>\n",
       "      <td>2</td>\n",
       "      <td>5.0</td>\n",
       "      <td>The Name of the Wind (The Kingkiller Chronicle...</td>\n",
       "      <td>416634</td>\n",
       "      <td>https://www.goodreads.com/book/show/186074.The...</td>\n",
       "      <td>https://images.gr-assets.com/books/1472068073m...</td>\n",
       "      <td>the name of the wind the kingkiller chronicle 1</td>\n",
       "      <td>0.000010</td>\n",
       "      <td>0.000048</td>\n",
       "    </tr>\n",
       "    <tr>\n",
       "      <th>127</th>\n",
       "      <td>18007564</td>\n",
       "      <td>2</td>\n",
       "      <td>4.0</td>\n",
       "      <td>The Martian</td>\n",
       "      <td>435440</td>\n",
       "      <td>https://www.goodreads.com/book/show/18007564-t...</td>\n",
       "      <td>https://images.gr-assets.com/books/1413706054m...</td>\n",
       "      <td>the martian</td>\n",
       "      <td>0.000009</td>\n",
       "      <td>0.000037</td>\n",
       "    </tr>\n",
       "  </tbody>\n",
       "</table>\n",
       "</div>"
      ],
      "text/plain": [
       "      book_id  count  mean                                              title  \\\n",
       "142    186074      2   5.0  The Name of the Wind (The Kingkiller Chronicle...   \n",
       "127  18007564      2   4.0                                        The Martian   \n",
       "\n",
       "     ratings                                                url  \\\n",
       "142   416634  https://www.goodreads.com/book/show/186074.The...   \n",
       "127   435440  https://www.goodreads.com/book/show/18007564-t...   \n",
       "\n",
       "                                           cover_image  \\\n",
       "142  https://images.gr-assets.com/books/1472068073m...   \n",
       "127  https://images.gr-assets.com/books/1413706054m...   \n",
       "\n",
       "                                           mod_title  adjusted_count     score  \n",
       "142  the name of the wind the kingkiller chronicle 1        0.000010  0.000048  \n",
       "127                                      the martian        0.000009  0.000037  "
      ]
     },
     "execution_count": 651,
     "metadata": {},
     "output_type": "execute_result"
    }
   ],
   "source": [
    "top_recs.head()  #muchas condiciones y sale vacío porque solo hay 3 usuarios.\n",
    "\n",
    "#Hay que cambiar el df con los libros favs\n"
   ]
  },
  {
   "cell_type": "code",
   "execution_count": null,
   "id": "70b34196",
   "metadata": {},
   "outputs": [],
   "source": []
  },
  {
   "cell_type": "code",
   "execution_count": null,
   "id": "2f61361b",
   "metadata": {},
   "outputs": [],
   "source": []
  },
  {
   "cell_type": "code",
   "execution_count": 652,
   "id": "4af5c252",
   "metadata": {},
   "outputs": [
    {
     "data": {
      "text/html": [
       "<style type=\"text/css\">\n",
       "</style>\n",
       "<table id=\"T_f3a78_\">\n",
       "  <thead>\n",
       "    <tr>\n",
       "      <th class=\"blank level0\" >&nbsp;</th>\n",
       "      <th class=\"col_heading level0 col0\" >book_id</th>\n",
       "      <th class=\"col_heading level0 col1\" >count</th>\n",
       "      <th class=\"col_heading level0 col2\" >mean</th>\n",
       "      <th class=\"col_heading level0 col3\" >title</th>\n",
       "      <th class=\"col_heading level0 col4\" >ratings</th>\n",
       "      <th class=\"col_heading level0 col5\" >url</th>\n",
       "      <th class=\"col_heading level0 col6\" >cover_image</th>\n",
       "      <th class=\"col_heading level0 col7\" >mod_title</th>\n",
       "      <th class=\"col_heading level0 col8\" >adjusted_count</th>\n",
       "      <th class=\"col_heading level0 col9\" >score</th>\n",
       "    </tr>\n",
       "  </thead>\n",
       "  <tbody>\n",
       "    <tr>\n",
       "      <th id=\"T_f3a78_level0_row0\" class=\"row_heading level0 row0\" >142</th>\n",
       "      <td id=\"T_f3a78_row0_col0\" class=\"data row0 col0\" >186074</td>\n",
       "      <td id=\"T_f3a78_row0_col1\" class=\"data row0 col1\" >2</td>\n",
       "      <td id=\"T_f3a78_row0_col2\" class=\"data row0 col2\" >5.000000</td>\n",
       "      <td id=\"T_f3a78_row0_col3\" class=\"data row0 col3\" >The Name of the Wind (The Kingkiller Chronicle, #1)</td>\n",
       "      <td id=\"T_f3a78_row0_col4\" class=\"data row0 col4\" >416634</td>\n",
       "      <td id=\"T_f3a78_row0_col5\" class=\"data row0 col5\" ><a target=\"_blank\" href=\"https://www.goodreads.com/book/show/186074.The_Name_of_the_Wind\">Goodreads</a></td>\n",
       "      <td id=\"T_f3a78_row0_col6\" class=\"data row0 col6\" ><a href=\"https://images.gr-assets.com/books/1472068073m/186074.jpg\"><img src=\"https://images.gr-assets.com/books/1472068073m/186074.jpg\" width=50></img></a></td>\n",
       "      <td id=\"T_f3a78_row0_col7\" class=\"data row0 col7\" >the name of the wind the kingkiller chronicle 1</td>\n",
       "      <td id=\"T_f3a78_row0_col8\" class=\"data row0 col8\" >0.000010</td>\n",
       "      <td id=\"T_f3a78_row0_col9\" class=\"data row0 col9\" >0.000048</td>\n",
       "    </tr>\n",
       "    <tr>\n",
       "      <th id=\"T_f3a78_level0_row1\" class=\"row_heading level0 row1\" >127</th>\n",
       "      <td id=\"T_f3a78_row1_col0\" class=\"data row1 col0\" >18007564</td>\n",
       "      <td id=\"T_f3a78_row1_col1\" class=\"data row1 col1\" >2</td>\n",
       "      <td id=\"T_f3a78_row1_col2\" class=\"data row1 col2\" >4.000000</td>\n",
       "      <td id=\"T_f3a78_row1_col3\" class=\"data row1 col3\" >The Martian</td>\n",
       "      <td id=\"T_f3a78_row1_col4\" class=\"data row1 col4\" >435440</td>\n",
       "      <td id=\"T_f3a78_row1_col5\" class=\"data row1 col5\" ><a target=\"_blank\" href=\"https://www.goodreads.com/book/show/18007564-the-martian\">Goodreads</a></td>\n",
       "      <td id=\"T_f3a78_row1_col6\" class=\"data row1 col6\" ><a href=\"https://images.gr-assets.com/books/1413706054m/18007564.jpg\"><img src=\"https://images.gr-assets.com/books/1413706054m/18007564.jpg\" width=50></img></a></td>\n",
       "      <td id=\"T_f3a78_row1_col7\" class=\"data row1 col7\" >the martian</td>\n",
       "      <td id=\"T_f3a78_row1_col8\" class=\"data row1 col8\" >0.000009</td>\n",
       "      <td id=\"T_f3a78_row1_col9\" class=\"data row1 col9\" >0.000037</td>\n",
       "    </tr>\n",
       "  </tbody>\n",
       "</table>\n"
      ],
      "text/plain": [
       "<pandas.io.formats.style.Styler at 0x7fb7bdcdf5e0>"
      ]
     },
     "execution_count": 652,
     "metadata": {},
     "output_type": "execute_result"
    }
   ],
   "source": [
    "#Esto es lo mismo que hemos hecho en el engine anterior para poner bonito el resultado\n",
    "\n",
    "\n",
    "def make_clickable(val):\n",
    "    return '<a target=\"_blank\" href=\"{}\">Goodreads</a>'.format(val, val)\n",
    "\n",
    "def show_image(val):\n",
    "    return '<a href=\"{}\"><img src=\"{}\" width=50></img></a>'.format(val, val)\n",
    "\n",
    "top_recs.style.format({'url': make_clickable, 'cover_image': show_image})"
   ]
  },
  {
   "cell_type": "code",
   "execution_count": null,
   "id": "bfefc034",
   "metadata": {},
   "outputs": [],
   "source": []
  },
  {
   "cell_type": "code",
   "execution_count": null,
   "id": "b89a66e8",
   "metadata": {},
   "outputs": [],
   "source": []
  },
  {
   "cell_type": "code",
   "execution_count": null,
   "id": "753845df",
   "metadata": {},
   "outputs": [],
   "source": []
  },
  {
   "cell_type": "code",
   "execution_count": null,
   "id": "fe520fcf",
   "metadata": {},
   "outputs": [],
   "source": []
  },
  {
   "cell_type": "code",
   "execution_count": null,
   "id": "77b46e1f",
   "metadata": {},
   "outputs": [],
   "source": []
  },
  {
   "cell_type": "code",
   "execution_count": null,
   "id": "1b65bece",
   "metadata": {},
   "outputs": [],
   "source": []
  },
  {
   "cell_type": "code",
   "execution_count": null,
   "id": "b4c23cb2",
   "metadata": {},
   "outputs": [],
   "source": []
  },
  {
   "cell_type": "code",
   "execution_count": null,
   "id": "1c0f717e",
   "metadata": {},
   "outputs": [],
   "source": []
  },
  {
   "cell_type": "code",
   "execution_count": null,
   "id": "267b97cc",
   "metadata": {},
   "outputs": [],
   "source": []
  },
  {
   "cell_type": "code",
   "execution_count": null,
   "id": "21e8c873",
   "metadata": {},
   "outputs": [],
   "source": []
  },
  {
   "cell_type": "code",
   "execution_count": null,
   "id": "400f4d41",
   "metadata": {},
   "outputs": [],
   "source": []
  },
  {
   "cell_type": "code",
   "execution_count": null,
   "id": "144583de",
   "metadata": {},
   "outputs": [],
   "source": []
  },
  {
   "cell_type": "code",
   "execution_count": null,
   "id": "9cfa50f0",
   "metadata": {},
   "outputs": [],
   "source": []
  },
  {
   "cell_type": "code",
   "execution_count": null,
   "id": "e11be706",
   "metadata": {},
   "outputs": [],
   "source": []
  },
  {
   "cell_type": "code",
   "execution_count": null,
   "id": "04847ebb",
   "metadata": {},
   "outputs": [],
   "source": []
  },
  {
   "cell_type": "code",
   "execution_count": null,
   "id": "2cef4312",
   "metadata": {},
   "outputs": [],
   "source": []
  },
  {
   "cell_type": "code",
   "execution_count": null,
   "id": "8111a418",
   "metadata": {},
   "outputs": [],
   "source": []
  },
  {
   "cell_type": "code",
   "execution_count": null,
   "id": "af524a7f",
   "metadata": {},
   "outputs": [],
   "source": []
  },
  {
   "cell_type": "code",
   "execution_count": null,
   "id": "f465cd5f",
   "metadata": {},
   "outputs": [],
   "source": []
  },
  {
   "cell_type": "code",
   "execution_count": null,
   "id": "970f6b45",
   "metadata": {},
   "outputs": [],
   "source": []
  },
  {
   "cell_type": "code",
   "execution_count": null,
   "id": "7e2dda06",
   "metadata": {},
   "outputs": [],
   "source": []
  },
  {
   "cell_type": "code",
   "execution_count": null,
   "id": "5b3ba705",
   "metadata": {},
   "outputs": [],
   "source": []
  },
  {
   "cell_type": "code",
   "execution_count": null,
   "id": "3ba635bb",
   "metadata": {},
   "outputs": [],
   "source": []
  }
 ],
 "metadata": {
  "kernelspec": {
   "display_name": "Python 3 (ipykernel)",
   "language": "python",
   "name": "python3"
  },
  "language_info": {
   "codemirror_mode": {
    "name": "ipython",
    "version": 3
   },
   "file_extension": ".py",
   "mimetype": "text/x-python",
   "name": "python",
   "nbconvert_exporter": "python",
   "pygments_lexer": "ipython3",
   "version": "3.9.7"
  }
 },
 "nbformat": 4,
 "nbformat_minor": 5
}
