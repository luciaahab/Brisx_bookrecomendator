{
 "cells": [
  {
   "cell_type": "markdown",
   "id": "ae9212ea",
   "metadata": {},
   "source": [
    "# 🤓 recomendations"
   ]
  },
  {
   "cell_type": "markdown",
   "id": "7c7fe811",
   "metadata": {},
   "source": [
    "### Encontrar usuarios a quienes les gusta lo mismo que a nosotros ✌🏼"
   ]
  },
  {
   "cell_type": "code",
   "execution_count": 119,
   "id": "a5434672",
   "metadata": {},
   "outputs": [],
   "source": [
    "#esta lista viene de search\n",
    "\n",
    "\n",
    "liked_books = ['883438','88077','16097870','2391','54008','17899021']\n",
    "#liked_books = [\"4408\", \"31147619\", \"29983711\", \"9401317\", \"9317691\", \"8153988\", \"20494944\"]"
   ]
  },
  {
   "cell_type": "code",
   "execution_count": 92,
   "id": "a68a5eb3",
   "metadata": {},
   "outputs": [],
   "source": [
    "#buscamos todos los usuarios a los que les ha gustado los libros"
   ]
  },
  {
   "cell_type": "code",
   "execution_count": 93,
   "id": "751ed5ca",
   "metadata": {},
   "outputs": [
    {
     "name": "stdout",
     "output_type": "stream",
     "text": [
      "book_id_csv,book_id\r\n",
      "0,34684622\r\n",
      "1,34536488\r\n",
      "2,34017076\r\n",
      "3,71730\r\n",
      "4,30422361\r\n",
      "5,33503613\r\n",
      "6,33517540\r\n",
      "7,34467031\r\n",
      "8,6383669\r\n"
     ]
    }
   ],
   "source": [
    "!head book_id_map.csv    #abrimos en streaming"
   ]
  },
  {
   "cell_type": "code",
   "execution_count": 127,
   "id": "0aa0d177",
   "metadata": {},
   "outputs": [],
   "source": [
    "    \n",
    "csv_book_mapping = {}   #esta es la misma forma de hacerlon que antes en search\n",
    "\n",
    "with open(\"book_id_map.csv\", \"r\") as f:\n",
    "    while True:\n",
    "        line = f.readline()\n",
    "        if not line:\n",
    "            break\n",
    "        csv_id, book_id = line.strip().split(\",\")  #va a hacer el split en la coma\n",
    "        csv_book_mapping[csv_id] = book_id    #este dictionario las keys serán csv_id y los valores seran los valores se\n",
    "    "
   ]
  },
  {
   "cell_type": "code",
   "execution_count": 128,
   "id": "c38e072b",
   "metadata": {},
   "outputs": [
    {
     "data": {
      "text/plain": [
       "'34684622'"
      ]
     },
     "execution_count": 128,
     "metadata": {},
     "output_type": "execute_result"
    }
   ],
   "source": [
    "csv_book_mapping['0']"
   ]
  },
  {
   "cell_type": "code",
   "execution_count": 129,
   "id": "64e309bf",
   "metadata": {},
   "outputs": [
    {
     "data": {
      "text/plain": [
       "2360651"
      ]
     },
     "execution_count": 129,
     "metadata": {},
     "output_type": "execute_result"
    }
   ],
   "source": [
    "len(csv_book_mapping)   #trocotro\n"
   ]
  },
  {
   "cell_type": "code",
   "execution_count": 96,
   "id": "9a0c72b2",
   "metadata": {},
   "outputs": [
    {
     "name": "stdout",
     "output_type": "stream",
     "text": [
      " 228648343 goodreads_interactions.csv\r\n"
     ]
    }
   ],
   "source": [
    "!wc -l goodreads_interactions.csv     #tamaño"
   ]
  },
  {
   "cell_type": "code",
   "execution_count": 97,
   "id": "cece3560",
   "metadata": {},
   "outputs": [
    {
     "name": "stdout",
     "output_type": "stream",
     "text": [
      "-rw-r--r--@ 1 lucia  staff   4,0G 27 jul 21:17 goodreads_interactions.csv\r\n"
     ]
    }
   ],
   "source": [
    " !ls -lh | grep goodreads_interactions   #peso "
   ]
  },
  {
   "cell_type": "code",
   "execution_count": 98,
   "id": "cc0490b3",
   "metadata": {},
   "outputs": [],
   "source": [
    "#Se podría leer así pero PESA MUCHO"
   ]
  },
  {
   "cell_type": "code",
   "execution_count": 99,
   "id": "49238f1d",
   "metadata": {},
   "outputs": [
    {
     "name": "stdout",
     "output_type": "stream",
     "text": [
      "user_id,book_id,is_read,rating,is_reviewed\r\n",
      "0,948,1,5,0\r\n",
      "0,947,1,5,1\r\n",
      "0,946,1,5,0\r\n",
      "0,945,1,5,0\r\n",
      "0,944,1,5,0\r\n",
      "0,943,1,5,0\r\n",
      "0,942,1,5,0\r\n",
      "0,941,1,5,0\r\n",
      "0,940,1,5,0\r\n"
     ]
    }
   ],
   "source": [
    "!head goodreads_interactions.csv  #Es el archivo que dice Cómo ha votado cada usuario\n",
    "#cada usuario con cada voto para 1 libro tiene una fila\n",
    "\n",
    "#si la puntuación es alta aquí significa que  coincide con nosotrxs\n",
    "\n",
    "#Si vamos línea a línea lo que vemos es que chequeamos el libro y vemos si está en nuesta lista de libros y si está:\n",
    "#significa que tal vez tenga un gusto parecido al nuestro y les añadimis a nuestro set gustos parecidos\n"
   ]
  },
  {
   "cell_type": "code",
   "execution_count": 131,
   "id": "1021ad74",
   "metadata": {},
   "outputs": [
    {
     "name": "stdout",
     "output_type": "stream",
     "text": [
      "cuidaito, no encontrado\n"
     ]
    }
   ],
   "source": [
    "'''\n",
    "\n",
    "overlap_users = set()\n",
    "with open('goodreads_interactions.csv', 'r') as f:\n",
    "    while True: \n",
    "        line = f.readline()\n",
    "        if not line:\n",
    "            break\n",
    "        user_id, csv_id, _, rating, _ = line.split(\",\")   # el underscore significa que no importan los campos\n",
    "        \n",
    "        if user_id in overlap_users:   #si se solapan no necesita seguir procesando \n",
    "            continue\n",
    "            \n",
    "        try:   #parsear nuesto rating, como int\n",
    "            rating = int(rating)\n",
    "        except ValueError:\n",
    "            print('cuidaito, no encontrado')\n",
    "            continue \n",
    "            \n",
    "#convertir el csv id en un book_id porque el book ib es lo que hemos usado para los libros que nos han gustado\n",
    "            \n",
    "            book_id = csv_book_mapping[csv_id]   \n",
    "            \n",
    "            if book_id in liked_books and rating >=4: #si el libro mayor que 4, le gusta y lo añade a overlap\n",
    "                overlap_users.add(user_id)\n",
    "                \n",
    "#el problema está aquí\n",
    "'''"
   ]
  },
  {
   "cell_type": "code",
   "execution_count": 132,
   "id": "902bc8e8",
   "metadata": {},
   "outputs": [],
   "source": [
    "#redone\n",
    "\n",
    "overlap_users = set()\n",
    "\n",
    "with open(\"goodreads_interactions.csv\", 'r') as f:\n",
    "    while True:\n",
    "        line = f.readline()\n",
    "        if not line:\n",
    "            break\n",
    "        user_id, csv_id, _, rating, _ = line.split(\",\")\n",
    "        \n",
    "        if user_id in overlap_users:\n",
    "            continue\n",
    "\n",
    "        try:\n",
    "            rating = int(rating)\n",
    "        except ValueError:\n",
    "            print('cuidaito, no encontrado')\n",
    "            continue\n",
    "        \n",
    "        book_id = csv_book_mapping[csv_id]\n",
    "        \n",
    "        if book_id in liked_books and rating >= 4:\n",
    "                overlap_users.add(user_id)"
   ]
  },
  {
   "cell_type": "markdown",
   "id": "47486817",
   "metadata": {},
   "source": [
    "### Ver qué libros les han gustado a esos usuarios que se parecen a nosotros"
   ]
  },
  {
   "cell_type": "code",
   "execution_count": 101,
   "id": "1483a4a2",
   "metadata": {},
   "outputs": [],
   "source": [
    "#Se van a crear dos loops porque si no se hace así se pueden perder valores"
   ]
  },
  {
   "cell_type": "code",
   "execution_count": 102,
   "id": "c18c5873",
   "metadata": {},
   "outputs": [],
   "source": [
    "#encontrar qué libros han leído\n",
    "# Vamos iterar por el dataset de goodreads, así que se puede copiar y pegar de la función anterior\n",
    "\n",
    "\n",
    "rec_lines = []  #libros que usuarios parecidos a nosotoros han leído\n",
    "\n",
    "\n",
    "with open('goodreads_interactions.csv', 'r') as f:\n",
    "    while True: \n",
    "        line = f.readline()\n",
    "        if not line:\n",
    "            break    #copiado de arribaç\n",
    "        user_id, csv_id, _, rating, _ = line.split(\",\")\n",
    "        \n",
    "        if user_id in overlap_users:\n",
    "            book_id = csv_book_mapping[csv_id]     #parseamos\n",
    "            rec_lines.append([user_id, book_id, rating])  #lo añadimos las los libros libros que usuarios parecidos a nosotros han leído también = rec_lines\n",
    "        \n",
    "    \n",
    "    \n",
    "    "
   ]
  },
  {
   "cell_type": "code",
   "execution_count": 103,
   "id": "2a7c9b7f",
   "metadata": {},
   "outputs": [],
   "source": [
    "#rank the recommenadtions"
   ]
  },
  {
   "cell_type": "code",
   "execution_count": 133,
   "id": "1f211d7c",
   "metadata": {},
   "outputs": [
    {
     "data": {
      "text/plain": [
       "2130"
      ]
     },
     "execution_count": 133,
     "metadata": {},
     "output_type": "execute_result"
    }
   ],
   "source": [
    "len(overlap_users)  #vacío pq?"
   ]
  },
  {
   "cell_type": "code",
   "execution_count": 134,
   "id": "aad98583",
   "metadata": {},
   "outputs": [
    {
     "data": {
      "text/plain": [
       "1481120"
      ]
     },
     "execution_count": 134,
     "metadata": {},
     "output_type": "execute_result"
    }
   ],
   "source": [
    "len(rec_lines)"
   ]
  },
  {
   "cell_type": "code",
   "execution_count": 106,
   "id": "45bc9fa4",
   "metadata": {},
   "outputs": [],
   "source": [
    "import pandas as pd"
   ]
  },
  {
   "cell_type": "code",
   "execution_count": 135,
   "id": "1e9dadbb",
   "metadata": {},
   "outputs": [],
   "source": [
    "#cuidado, está vacío!!!!\n",
    "\n",
    "recs = pd.DataFrame(rec_lines, columns=['user_id', 'book_id', 'rating'])  #es más fácil trabajar con un df\n",
    "recs['book_id'] =recs['book_id'].astype(str)    #Esto va a hacer nuestro rec_lines en un df"
   ]
  },
  {
   "cell_type": "code",
   "execution_count": 138,
   "id": "e3240cd4",
   "metadata": {},
   "outputs": [
    {
     "data": {
      "text/html": [
       "<div>\n",
       "<style scoped>\n",
       "    .dataframe tbody tr th:only-of-type {\n",
       "        vertical-align: middle;\n",
       "    }\n",
       "\n",
       "    .dataframe tbody tr th {\n",
       "        vertical-align: top;\n",
       "    }\n",
       "\n",
       "    .dataframe thead th {\n",
       "        text-align: right;\n",
       "    }\n",
       "</style>\n",
       "<table border=\"1\" class=\"dataframe\">\n",
       "  <thead>\n",
       "    <tr style=\"text-align: right;\">\n",
       "      <th></th>\n",
       "      <th>user_id</th>\n",
       "      <th>book_id</th>\n",
       "      <th>rating</th>\n",
       "    </tr>\n",
       "  </thead>\n",
       "  <tbody>\n",
       "    <tr>\n",
       "      <th>0</th>\n",
       "      <td>77</td>\n",
       "      <td>1199161</td>\n",
       "      <td>3</td>\n",
       "    </tr>\n",
       "    <tr>\n",
       "      <th>1</th>\n",
       "      <td>77</td>\n",
       "      <td>18749</td>\n",
       "      <td>4</td>\n",
       "    </tr>\n",
       "    <tr>\n",
       "      <th>2</th>\n",
       "      <td>77</td>\n",
       "      <td>101094</td>\n",
       "      <td>5</td>\n",
       "    </tr>\n",
       "    <tr>\n",
       "      <th>3</th>\n",
       "      <td>77</td>\n",
       "      <td>16902</td>\n",
       "      <td>3</td>\n",
       "    </tr>\n",
       "    <tr>\n",
       "      <th>4</th>\n",
       "      <td>77</td>\n",
       "      <td>7575487</td>\n",
       "      <td>0</td>\n",
       "    </tr>\n",
       "  </tbody>\n",
       "</table>\n",
       "</div>"
      ],
      "text/plain": [
       "  user_id  book_id rating\n",
       "0      77  1199161      3\n",
       "1      77    18749      4\n",
       "2      77   101094      5\n",
       "3      77    16902      3\n",
       "4      77  7575487      0"
      ]
     },
     "execution_count": 138,
     "metadata": {},
     "output_type": "execute_result"
    }
   ],
   "source": [
    "recs.head()"
   ]
  },
  {
   "cell_type": "code",
   "execution_count": 140,
   "id": "cccccb3d",
   "metadata": {},
   "outputs": [
    {
     "data": {
      "text/plain": [
       "88077    1694\n",
       "4671     1364\n",
       "5470     1361\n",
       "5107     1273\n",
       "7613     1207\n",
       "Name: book_id, dtype: int64"
      ]
     },
     "execution_count": 140,
     "metadata": {},
     "output_type": "execute_result"
    }
   ],
   "source": [
    "top_recs = recs['book_id'].value_counts()      #de qué valor hay más, más frecuentres\n",
    "top_recs.head()"
   ]
  },
  {
   "cell_type": "code",
   "execution_count": 141,
   "id": "84032387",
   "metadata": {},
   "outputs": [],
   "source": [
    "books_titles = pd.read_json(\"boks_titles.json\")\n",
    "books_titles[\"bok_id\"] = books_titles[\"book_id\"].astype(str)   #todo tiene el mismo tipo"
   ]
  },
  {
   "cell_type": "code",
   "execution_count": 142,
   "id": "1242fca6",
   "metadata": {},
   "outputs": [
    {
     "data": {
      "text/plain": [
       "2130"
      ]
     },
     "execution_count": 142,
     "metadata": {},
     "output_type": "execute_result"
    }
   ],
   "source": [
    "len(overlap_users)\n"
   ]
  },
  {
   "cell_type": "code",
   "execution_count": null,
   "id": "1bfd5c0a",
   "metadata": {},
   "outputs": [],
   "source": []
  },
  {
   "cell_type": "code",
   "execution_count": null,
   "id": "7f519626",
   "metadata": {},
   "outputs": [],
   "source": []
  },
  {
   "cell_type": "code",
   "execution_count": null,
   "id": "84dafb91",
   "metadata": {},
   "outputs": [],
   "source": []
  },
  {
   "cell_type": "code",
   "execution_count": null,
   "id": "dbcc4533",
   "metadata": {},
   "outputs": [],
   "source": []
  },
  {
   "cell_type": "code",
   "execution_count": null,
   "id": "12e945b9",
   "metadata": {},
   "outputs": [],
   "source": []
  },
  {
   "cell_type": "code",
   "execution_count": null,
   "id": "b5ae4d71",
   "metadata": {},
   "outputs": [],
   "source": []
  },
  {
   "cell_type": "code",
   "execution_count": null,
   "id": "3909ca89",
   "metadata": {},
   "outputs": [],
   "source": []
  },
  {
   "cell_type": "code",
   "execution_count": null,
   "id": "b82f37a4",
   "metadata": {},
   "outputs": [],
   "source": []
  },
  {
   "cell_type": "code",
   "execution_count": null,
   "id": "8a0f3c1c",
   "metadata": {},
   "outputs": [],
   "source": []
  }
 ],
 "metadata": {
  "kernelspec": {
   "display_name": "Python 3 (ipykernel)",
   "language": "python",
   "name": "python3"
  },
  "language_info": {
   "codemirror_mode": {
    "name": "ipython",
    "version": 3
   },
   "file_extension": ".py",
   "mimetype": "text/x-python",
   "name": "python",
   "nbconvert_exporter": "python",
   "pygments_lexer": "ipython3",
   "version": "3.9.7"
  }
 },
 "nbformat": 4,
 "nbformat_minor": 5
}
