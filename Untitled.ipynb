{
 "cells": [
  {
   "cell_type": "markdown",
   "id": "591eb4af",
   "metadata": {},
   "source": [
    "# Book recomendator\n"
   ]
  },
  {
   "cell_type": "code",
   "execution_count": 1,
   "id": "8df5e564",
   "metadata": {},
   "outputs": [],
   "source": [
    "import gzip  #para no leer el doc entero"
   ]
  },
  {
   "cell_type": "code",
   "execution_count": 2,
   "id": "4d447338",
   "metadata": {},
   "outputs": [],
   "source": [
    "import pandas as pd"
   ]
  },
  {
   "cell_type": "code",
   "execution_count": 3,
   "id": "31915768",
   "metadata": {},
   "outputs": [],
   "source": [
    "with gzip.open(\"goodreads_books.json.gz\") as f:    #lee una sola línea del zip GIGANTESCO\n",
    "    line = f.readline()"
   ]
  },
  {
   "cell_type": "code",
   "execution_count": 4,
   "id": "2f1c25ae",
   "metadata": {},
   "outputs": [
    {
     "data": {
      "text/plain": [
       "b'{\"isbn\": \"0312853122\", \"text_reviews_count\": \"1\", \"series\": [], \"country_code\": \"US\", \"language_code\": \"\", \"popular_shelves\": [{\"count\": \"3\", \"name\": \"to-read\"}, {\"count\": \"1\", \"name\": \"p\"}, {\"count\": \"1\", \"name\": \"collection\"}, {\"count\": \"1\", \"name\": \"w-c-fields\"}, {\"count\": \"1\", \"name\": \"biography\"}], \"asin\": \"\", \"is_ebook\": \"false\", \"average_rating\": \"4.00\", \"kindle_asin\": \"\", \"similar_books\": [], \"description\": \"\", \"format\": \"Paperback\", \"link\": \"https://www.goodreads.com/book/show/5333265-w-c-fields\", \"authors\": [{\"author_id\": \"604031\", \"role\": \"\"}], \"publisher\": \"St. Martin\\'s Press\", \"num_pages\": \"256\", \"publication_day\": \"1\", \"isbn13\": \"9780312853129\", \"publication_month\": \"9\", \"edition_information\": \"\", \"publication_year\": \"1984\", \"url\": \"https://www.goodreads.com/book/show/5333265-w-c-fields\", \"image_url\": \"https://images.gr-assets.com/books/1310220028m/5333265.jpg\", \"book_id\": \"5333265\", \"ratings_count\": \"3\", \"work_id\": \"5400751\", \"title\": \"W.C. Fields: A Life on Film\", \"title_without_series\": \"W.C. Fields: A Life on Film\"}\\n'"
      ]
     },
     "execution_count": 4,
     "metadata": {},
     "output_type": "execute_result"
    }
   ],
   "source": [
    "line"
   ]
  },
  {
   "cell_type": "code",
   "execution_count": 5,
   "id": "c67bc11a",
   "metadata": {},
   "outputs": [],
   "source": [
    "import json "
   ]
  },
  {
   "cell_type": "code",
   "execution_count": 6,
   "id": "f541f520",
   "metadata": {},
   "outputs": [
    {
     "data": {
      "text/plain": [
       "{'isbn': '0312853122',\n",
       " 'text_reviews_count': '1',\n",
       " 'series': [],\n",
       " 'country_code': 'US',\n",
       " 'language_code': '',\n",
       " 'popular_shelves': [{'count': '3', 'name': 'to-read'},\n",
       "  {'count': '1', 'name': 'p'},\n",
       "  {'count': '1', 'name': 'collection'},\n",
       "  {'count': '1', 'name': 'w-c-fields'},\n",
       "  {'count': '1', 'name': 'biography'}],\n",
       " 'asin': '',\n",
       " 'is_ebook': 'false',\n",
       " 'average_rating': '4.00',\n",
       " 'kindle_asin': '',\n",
       " 'similar_books': [],\n",
       " 'description': '',\n",
       " 'format': 'Paperback',\n",
       " 'link': 'https://www.goodreads.com/book/show/5333265-w-c-fields',\n",
       " 'authors': [{'author_id': '604031', 'role': ''}],\n",
       " 'publisher': \"St. Martin's Press\",\n",
       " 'num_pages': '256',\n",
       " 'publication_day': '1',\n",
       " 'isbn13': '9780312853129',\n",
       " 'publication_month': '9',\n",
       " 'edition_information': '',\n",
       " 'publication_year': '1984',\n",
       " 'url': 'https://www.goodreads.com/book/show/5333265-w-c-fields',\n",
       " 'image_url': 'https://images.gr-assets.com/books/1310220028m/5333265.jpg',\n",
       " 'book_id': '5333265',\n",
       " 'ratings_count': '3',\n",
       " 'work_id': '5400751',\n",
       " 'title': 'W.C. Fields: A Life on Film',\n",
       " 'title_without_series': 'W.C. Fields: A Life on Film'}"
      ]
     },
     "execution_count": 6,
     "metadata": {},
     "output_type": "execute_result"
    }
   ],
   "source": [
    "json.loads(line)    #lo lee como json que se puede pasar a un dictio"
   ]
  },
  {
   "cell_type": "code",
   "execution_count": null,
   "id": "3c7241ec",
   "metadata": {},
   "outputs": [],
   "source": []
  },
  {
   "cell_type": "code",
   "execution_count": 7,
   "id": "84c3d6c9",
   "metadata": {},
   "outputs": [],
   "source": [
    "#funcion que coge una línea y devuelve solo las que nos interesa\n",
    "\n",
    "\n",
    "def parse_fields(line):\n",
    "    data = json.loads(line)\n",
    "    return {\n",
    "        \"book_id\": data[\"book_id\"], \n",
    "        \"title\": data[\"title_without_series\"], \n",
    "        \"ratings\": data[\"ratings_count\"], \n",
    "        \"url\": data[\"url\"], \n",
    "        \"cover_image\": data[\"image_url\"]\n",
    "    }"
   ]
  },
  {
   "cell_type": "code",
   "execution_count": 8,
   "id": "a77f053e",
   "metadata": {},
   "outputs": [],
   "source": [
    "\n",
    "books_titles = []\n",
    "with gzip.open(\"goodreads_books.json.gz\") as f:\n",
    "    while True:\n",
    "        line = f.readline()\n",
    "        if not line:\n",
    "            break   #que si hay alguna línea que no funcione pare, mejor que dropearlas después\n",
    "        fields = parse_fields(line)\n",
    "        try:\n",
    "            ratings = int(fields[\"ratings\"])   #hay libros que NO tienen valoraciones y esos no los queremos\n",
    "        except ValueError:\n",
    "            continue\n",
    "        if ratings > 5:\n",
    "            books_titles.append(fields)   #se está recortando mucho el df\n",
    "\n",
    "\n",
    "            \n",
    "#Esto plo vamos a pasar a un dataframe        "
   ]
  },
  {
   "cell_type": "code",
   "execution_count": 9,
   "id": "1a937e70",
   "metadata": {},
   "outputs": [],
   "source": [
    "titles = pd.DataFrame.from_dict(books_titles)"
   ]
  },
  {
   "cell_type": "code",
   "execution_count": 10,
   "id": "4ce18e54",
   "metadata": {},
   "outputs": [
    {
     "data": {
      "text/plain": [
       "(1782579, 5)"
      ]
     },
     "execution_count": 10,
     "metadata": {},
     "output_type": "execute_result"
    }
   ],
   "source": [
    "titles.shape    #huge"
   ]
  },
  {
   "cell_type": "code",
   "execution_count": 11,
   "id": "87f15cd4",
   "metadata": {},
   "outputs": [
    {
     "data": {
      "text/plain": [
       "Index(['book_id', 'title', 'ratings', 'url', 'cover_image'], dtype='object')"
      ]
     },
     "execution_count": 11,
     "metadata": {},
     "output_type": "execute_result"
    }
   ],
   "source": [
    "titles.columns"
   ]
  },
  {
   "cell_type": "code",
   "execution_count": 12,
   "id": "2c5d8a62",
   "metadata": {},
   "outputs": [],
   "source": [
    "titles['ratings'] = pd.to_numeric(titles['ratings'])    #hacerlo numérico\n"
   ]
  },
  {
   "cell_type": "markdown",
   "id": "b04f1c23",
   "metadata": {},
   "source": [
    "Para construir el motor de búsqueda hay que minimizar el espacio de búsqueda. PAra esto se baja el número de caracteres. Homogeneizar las formas de escribir, porque si no el motor los va a tratar como si fueran iguales"
   ]
  },
  {
   "cell_type": "code",
   "execution_count": 13,
   "id": "e74f99af",
   "metadata": {},
   "outputs": [],
   "source": [
    "titles['mod_title'] = titles['title'].str.replace(\"[^a-zA-Z0-9 ]\", \"\", regex=True)  #Todo lo que nose adapte a esto lo cambia\n",
    "\n",
    "\n"
   ]
  },
  {
   "cell_type": "code",
   "execution_count": 14,
   "id": "10656b36",
   "metadata": {},
   "outputs": [
    {
     "data": {
      "text/html": [
       "<div>\n",
       "<style scoped>\n",
       "    .dataframe tbody tr th:only-of-type {\n",
       "        vertical-align: middle;\n",
       "    }\n",
       "\n",
       "    .dataframe tbody tr th {\n",
       "        vertical-align: top;\n",
       "    }\n",
       "\n",
       "    .dataframe thead th {\n",
       "        text-align: right;\n",
       "    }\n",
       "</style>\n",
       "<table border=\"1\" class=\"dataframe\">\n",
       "  <thead>\n",
       "    <tr style=\"text-align: right;\">\n",
       "      <th></th>\n",
       "      <th>book_id</th>\n",
       "      <th>title</th>\n",
       "      <th>ratings</th>\n",
       "      <th>url</th>\n",
       "      <th>cover_image</th>\n",
       "      <th>mod_title</th>\n",
       "    </tr>\n",
       "  </thead>\n",
       "  <tbody>\n",
       "    <tr>\n",
       "      <th>0</th>\n",
       "      <td>1333909</td>\n",
       "      <td>Good Harbor</td>\n",
       "      <td>10</td>\n",
       "      <td>https://www.goodreads.com/book/show/1333909.Go...</td>\n",
       "      <td>https://s.gr-assets.com/assets/nophoto/book/11...</td>\n",
       "      <td>Good Harbor</td>\n",
       "    </tr>\n",
       "    <tr>\n",
       "      <th>1</th>\n",
       "      <td>7327624</td>\n",
       "      <td>The Unschooled Wizard (Sun Wolf and Starhawk, ...</td>\n",
       "      <td>140</td>\n",
       "      <td>https://www.goodreads.com/book/show/7327624-th...</td>\n",
       "      <td>https://images.gr-assets.com/books/1304100136m...</td>\n",
       "      <td>The Unschooled Wizard Sun Wolf and Starhawk 12</td>\n",
       "    </tr>\n",
       "    <tr>\n",
       "      <th>2</th>\n",
       "      <td>6066819</td>\n",
       "      <td>Best Friends Forever</td>\n",
       "      <td>51184</td>\n",
       "      <td>https://www.goodreads.com/book/show/6066819-be...</td>\n",
       "      <td>https://s.gr-assets.com/assets/nophoto/book/11...</td>\n",
       "      <td>Best Friends Forever</td>\n",
       "    </tr>\n",
       "    <tr>\n",
       "      <th>3</th>\n",
       "      <td>287140</td>\n",
       "      <td>Runic Astrology: Starcraft and Timekeeping in ...</td>\n",
       "      <td>15</td>\n",
       "      <td>https://www.goodreads.com/book/show/287140.Run...</td>\n",
       "      <td>https://images.gr-assets.com/books/1413219371m...</td>\n",
       "      <td>Runic Astrology Starcraft and Timekeeping in t...</td>\n",
       "    </tr>\n",
       "    <tr>\n",
       "      <th>4</th>\n",
       "      <td>287141</td>\n",
       "      <td>The Aeneid for Boys and Girls</td>\n",
       "      <td>46</td>\n",
       "      <td>https://www.goodreads.com/book/show/287141.The...</td>\n",
       "      <td>https://s.gr-assets.com/assets/nophoto/book/11...</td>\n",
       "      <td>The Aeneid for Boys and Girls</td>\n",
       "    </tr>\n",
       "  </tbody>\n",
       "</table>\n",
       "</div>"
      ],
      "text/plain": [
       "   book_id                                              title  ratings  \\\n",
       "0  1333909                                        Good Harbor       10   \n",
       "1  7327624  The Unschooled Wizard (Sun Wolf and Starhawk, ...      140   \n",
       "2  6066819                               Best Friends Forever    51184   \n",
       "3   287140  Runic Astrology: Starcraft and Timekeeping in ...       15   \n",
       "4   287141                      The Aeneid for Boys and Girls       46   \n",
       "\n",
       "                                                 url  \\\n",
       "0  https://www.goodreads.com/book/show/1333909.Go...   \n",
       "1  https://www.goodreads.com/book/show/7327624-th...   \n",
       "2  https://www.goodreads.com/book/show/6066819-be...   \n",
       "3  https://www.goodreads.com/book/show/287140.Run...   \n",
       "4  https://www.goodreads.com/book/show/287141.The...   \n",
       "\n",
       "                                         cover_image  \\\n",
       "0  https://s.gr-assets.com/assets/nophoto/book/11...   \n",
       "1  https://images.gr-assets.com/books/1304100136m...   \n",
       "2  https://s.gr-assets.com/assets/nophoto/book/11...   \n",
       "3  https://images.gr-assets.com/books/1413219371m...   \n",
       "4  https://s.gr-assets.com/assets/nophoto/book/11...   \n",
       "\n",
       "                                           mod_title  \n",
       "0                                        Good Harbor  \n",
       "1     The Unschooled Wizard Sun Wolf and Starhawk 12  \n",
       "2                               Best Friends Forever  \n",
       "3  Runic Astrology Starcraft and Timekeeping in t...  \n",
       "4                      The Aeneid for Boys and Girls  "
      ]
     },
     "execution_count": 14,
     "metadata": {},
     "output_type": "execute_result"
    }
   ],
   "source": [
    "titles.head()"
   ]
  },
  {
   "cell_type": "code",
   "execution_count": 15,
   "id": "636604c0",
   "metadata": {},
   "outputs": [],
   "source": [
    "titles['mod_title'] = titles['mod_title'].str.lower()   #lowercaserizar. Va a reducir el número de filas en la matriz para después\n"
   ]
  },
  {
   "cell_type": "code",
   "execution_count": 16,
   "id": "e6259bab",
   "metadata": {},
   "outputs": [
    {
     "data": {
      "text/html": [
       "<div>\n",
       "<style scoped>\n",
       "    .dataframe tbody tr th:only-of-type {\n",
       "        vertical-align: middle;\n",
       "    }\n",
       "\n",
       "    .dataframe tbody tr th {\n",
       "        vertical-align: top;\n",
       "    }\n",
       "\n",
       "    .dataframe thead th {\n",
       "        text-align: right;\n",
       "    }\n",
       "</style>\n",
       "<table border=\"1\" class=\"dataframe\">\n",
       "  <thead>\n",
       "    <tr style=\"text-align: right;\">\n",
       "      <th></th>\n",
       "      <th>book_id</th>\n",
       "      <th>title</th>\n",
       "      <th>ratings</th>\n",
       "      <th>url</th>\n",
       "      <th>cover_image</th>\n",
       "      <th>mod_title</th>\n",
       "    </tr>\n",
       "  </thead>\n",
       "  <tbody>\n",
       "    <tr>\n",
       "      <th>0</th>\n",
       "      <td>1333909</td>\n",
       "      <td>Good Harbor</td>\n",
       "      <td>10</td>\n",
       "      <td>https://www.goodreads.com/book/show/1333909.Go...</td>\n",
       "      <td>https://s.gr-assets.com/assets/nophoto/book/11...</td>\n",
       "      <td>good harbor</td>\n",
       "    </tr>\n",
       "    <tr>\n",
       "      <th>1</th>\n",
       "      <td>7327624</td>\n",
       "      <td>The Unschooled Wizard (Sun Wolf and Starhawk, ...</td>\n",
       "      <td>140</td>\n",
       "      <td>https://www.goodreads.com/book/show/7327624-th...</td>\n",
       "      <td>https://images.gr-assets.com/books/1304100136m...</td>\n",
       "      <td>the unschooled wizard sun wolf and starhawk 12</td>\n",
       "    </tr>\n",
       "    <tr>\n",
       "      <th>2</th>\n",
       "      <td>6066819</td>\n",
       "      <td>Best Friends Forever</td>\n",
       "      <td>51184</td>\n",
       "      <td>https://www.goodreads.com/book/show/6066819-be...</td>\n",
       "      <td>https://s.gr-assets.com/assets/nophoto/book/11...</td>\n",
       "      <td>best friends forever</td>\n",
       "    </tr>\n",
       "    <tr>\n",
       "      <th>3</th>\n",
       "      <td>287140</td>\n",
       "      <td>Runic Astrology: Starcraft and Timekeeping in ...</td>\n",
       "      <td>15</td>\n",
       "      <td>https://www.goodreads.com/book/show/287140.Run...</td>\n",
       "      <td>https://images.gr-assets.com/books/1413219371m...</td>\n",
       "      <td>runic astrology starcraft and timekeeping in t...</td>\n",
       "    </tr>\n",
       "    <tr>\n",
       "      <th>4</th>\n",
       "      <td>287141</td>\n",
       "      <td>The Aeneid for Boys and Girls</td>\n",
       "      <td>46</td>\n",
       "      <td>https://www.goodreads.com/book/show/287141.The...</td>\n",
       "      <td>https://s.gr-assets.com/assets/nophoto/book/11...</td>\n",
       "      <td>the aeneid for boys and girls</td>\n",
       "    </tr>\n",
       "  </tbody>\n",
       "</table>\n",
       "</div>"
      ],
      "text/plain": [
       "   book_id                                              title  ratings  \\\n",
       "0  1333909                                        Good Harbor       10   \n",
       "1  7327624  The Unschooled Wizard (Sun Wolf and Starhawk, ...      140   \n",
       "2  6066819                               Best Friends Forever    51184   \n",
       "3   287140  Runic Astrology: Starcraft and Timekeeping in ...       15   \n",
       "4   287141                      The Aeneid for Boys and Girls       46   \n",
       "\n",
       "                                                 url  \\\n",
       "0  https://www.goodreads.com/book/show/1333909.Go...   \n",
       "1  https://www.goodreads.com/book/show/7327624-th...   \n",
       "2  https://www.goodreads.com/book/show/6066819-be...   \n",
       "3  https://www.goodreads.com/book/show/287140.Run...   \n",
       "4  https://www.goodreads.com/book/show/287141.The...   \n",
       "\n",
       "                                         cover_image  \\\n",
       "0  https://s.gr-assets.com/assets/nophoto/book/11...   \n",
       "1  https://images.gr-assets.com/books/1304100136m...   \n",
       "2  https://s.gr-assets.com/assets/nophoto/book/11...   \n",
       "3  https://images.gr-assets.com/books/1413219371m...   \n",
       "4  https://s.gr-assets.com/assets/nophoto/book/11...   \n",
       "\n",
       "                                           mod_title  \n",
       "0                                        good harbor  \n",
       "1     the unschooled wizard sun wolf and starhawk 12  \n",
       "2                               best friends forever  \n",
       "3  runic astrology starcraft and timekeeping in t...  \n",
       "4                      the aeneid for boys and girls  "
      ]
     },
     "execution_count": 16,
     "metadata": {},
     "output_type": "execute_result"
    }
   ],
   "source": [
    "titles.head()"
   ]
  },
  {
   "cell_type": "code",
   "execution_count": 17,
   "id": "20f5e649",
   "metadata": {},
   "outputs": [],
   "source": [
    "#quitar espacios extras en filas y muchos espacios que sean solo 1\n",
    "titles['mod_title'] = titles['mod_title'].str.replace('\\s', ' ', regex = True)"
   ]
  },
  {
   "cell_type": "code",
   "execution_count": 18,
   "id": "3746cdd0",
   "metadata": {},
   "outputs": [],
   "source": [
    "titles = titles[titles['mod_title'].str.len() >0 ]  #quitar lo que esté vacío"
   ]
  },
  {
   "cell_type": "code",
   "execution_count": null,
   "id": "069a43ed",
   "metadata": {},
   "outputs": [],
   "source": []
  },
  {
   "cell_type": "code",
   "execution_count": 19,
   "id": "6b8c74ed",
   "metadata": {},
   "outputs": [],
   "source": [
    "titles.to_json('boks_titles.json')"
   ]
  },
  {
   "cell_type": "code",
   "execution_count": 20,
   "id": "b6e4d996",
   "metadata": {},
   "outputs": [
    {
     "data": {
      "text/html": [
       "<div>\n",
       "<style scoped>\n",
       "    .dataframe tbody tr th:only-of-type {\n",
       "        vertical-align: middle;\n",
       "    }\n",
       "\n",
       "    .dataframe tbody tr th {\n",
       "        vertical-align: top;\n",
       "    }\n",
       "\n",
       "    .dataframe thead th {\n",
       "        text-align: right;\n",
       "    }\n",
       "</style>\n",
       "<table border=\"1\" class=\"dataframe\">\n",
       "  <thead>\n",
       "    <tr style=\"text-align: right;\">\n",
       "      <th></th>\n",
       "      <th>book_id</th>\n",
       "      <th>title</th>\n",
       "      <th>ratings</th>\n",
       "      <th>url</th>\n",
       "      <th>cover_image</th>\n",
       "      <th>mod_title</th>\n",
       "    </tr>\n",
       "  </thead>\n",
       "  <tbody>\n",
       "    <tr>\n",
       "      <th>0</th>\n",
       "      <td>1333909</td>\n",
       "      <td>Good Harbor</td>\n",
       "      <td>10</td>\n",
       "      <td>https://www.goodreads.com/book/show/1333909.Go...</td>\n",
       "      <td>https://s.gr-assets.com/assets/nophoto/book/11...</td>\n",
       "      <td>good harbor</td>\n",
       "    </tr>\n",
       "    <tr>\n",
       "      <th>1</th>\n",
       "      <td>7327624</td>\n",
       "      <td>The Unschooled Wizard (Sun Wolf and Starhawk, ...</td>\n",
       "      <td>140</td>\n",
       "      <td>https://www.goodreads.com/book/show/7327624-th...</td>\n",
       "      <td>https://images.gr-assets.com/books/1304100136m...</td>\n",
       "      <td>the unschooled wizard sun wolf and starhawk 12</td>\n",
       "    </tr>\n",
       "    <tr>\n",
       "      <th>2</th>\n",
       "      <td>6066819</td>\n",
       "      <td>Best Friends Forever</td>\n",
       "      <td>51184</td>\n",
       "      <td>https://www.goodreads.com/book/show/6066819-be...</td>\n",
       "      <td>https://s.gr-assets.com/assets/nophoto/book/11...</td>\n",
       "      <td>best friends forever</td>\n",
       "    </tr>\n",
       "    <tr>\n",
       "      <th>3</th>\n",
       "      <td>287140</td>\n",
       "      <td>Runic Astrology: Starcraft and Timekeeping in ...</td>\n",
       "      <td>15</td>\n",
       "      <td>https://www.goodreads.com/book/show/287140.Run...</td>\n",
       "      <td>https://images.gr-assets.com/books/1413219371m...</td>\n",
       "      <td>runic astrology starcraft and timekeeping in t...</td>\n",
       "    </tr>\n",
       "    <tr>\n",
       "      <th>4</th>\n",
       "      <td>287141</td>\n",
       "      <td>The Aeneid for Boys and Girls</td>\n",
       "      <td>46</td>\n",
       "      <td>https://www.goodreads.com/book/show/287141.The...</td>\n",
       "      <td>https://s.gr-assets.com/assets/nophoto/book/11...</td>\n",
       "      <td>the aeneid for boys and girls</td>\n",
       "    </tr>\n",
       "  </tbody>\n",
       "</table>\n",
       "</div>"
      ],
      "text/plain": [
       "   book_id                                              title  ratings  \\\n",
       "0  1333909                                        Good Harbor       10   \n",
       "1  7327624  The Unschooled Wizard (Sun Wolf and Starhawk, ...      140   \n",
       "2  6066819                               Best Friends Forever    51184   \n",
       "3   287140  Runic Astrology: Starcraft and Timekeeping in ...       15   \n",
       "4   287141                      The Aeneid for Boys and Girls       46   \n",
       "\n",
       "                                                 url  \\\n",
       "0  https://www.goodreads.com/book/show/1333909.Go...   \n",
       "1  https://www.goodreads.com/book/show/7327624-th...   \n",
       "2  https://www.goodreads.com/book/show/6066819-be...   \n",
       "3  https://www.goodreads.com/book/show/287140.Run...   \n",
       "4  https://www.goodreads.com/book/show/287141.The...   \n",
       "\n",
       "                                         cover_image  \\\n",
       "0  https://s.gr-assets.com/assets/nophoto/book/11...   \n",
       "1  https://images.gr-assets.com/books/1304100136m...   \n",
       "2  https://s.gr-assets.com/assets/nophoto/book/11...   \n",
       "3  https://images.gr-assets.com/books/1413219371m...   \n",
       "4  https://s.gr-assets.com/assets/nophoto/book/11...   \n",
       "\n",
       "                                           mod_title  \n",
       "0                                        good harbor  \n",
       "1     the unschooled wizard sun wolf and starhawk 12  \n",
       "2                               best friends forever  \n",
       "3  runic astrology starcraft and timekeeping in t...  \n",
       "4                      the aeneid for boys and girls  "
      ]
     },
     "execution_count": 20,
     "metadata": {},
     "output_type": "execute_result"
    }
   ],
   "source": [
    "titles.head()"
   ]
  },
  {
   "cell_type": "code",
   "execution_count": 21,
   "id": "802db110",
   "metadata": {},
   "outputs": [
    {
     "data": {
      "text/plain": [
       "(1773389, 6)"
      ]
     },
     "execution_count": 21,
     "metadata": {},
     "output_type": "execute_result"
    }
   ],
   "source": [
    "titles.shape  #antes (1782579, 5)"
   ]
  },
  {
   "cell_type": "markdown",
   "id": "28fd774a",
   "metadata": {},
   "source": [
    "\n",
    "# 🎛 SEARCH ENGINE \n"
   ]
  },
  {
   "cell_type": "markdown",
   "id": "11bc1747",
   "metadata": {},
   "source": [
    "+ buscar una frecuencia de términos. Ver cómo de frecuentes son, con una matriz \n",
    "+ Después habrá que construir la inversa. \n",
    "+ Hay que minimizar el número de súper frecuesntes, como 'the'\n",
    "+ Se buscan las más similares"
   ]
  },
  {
   "cell_type": "code",
   "execution_count": 22,
   "id": "27111c26",
   "metadata": {},
   "outputs": [],
   "source": [
    "from sklearn.feature_extraction.text import TfidfVectorizer"
   ]
  },
  {
   "cell_type": "code",
   "execution_count": 23,
   "id": "ab2a8c98",
   "metadata": {},
   "outputs": [],
   "source": [
    "vectorizer = TfidfVectorizer()  #instancia de la clase vectorizer\n",
    "tfidf = vectorizer.fit_transform(titles['mod_title']) \n",
    "\n"
   ]
  },
  {
   "cell_type": "code",
   "execution_count": 24,
   "id": "2ec5cf90",
   "metadata": {},
   "outputs": [],
   "source": [
    "#una línea de búsqueda en un vector y relacionarlo con la matri con la matriz"
   ]
  },
  {
   "cell_type": "code",
   "execution_count": 25,
   "id": "0b716950",
   "metadata": {},
   "outputs": [],
   "source": [
    "from sklearn.metrics.pairwise import cosine_similarity\n",
    "import numpy as np\n",
    "import re"
   ]
  },
  {
   "cell_type": "code",
   "execution_count": 35,
   "id": "5fd504a3",
   "metadata": {},
   "outputs": [
    {
     "data": {
      "text/plain": [
       "'\\n#query\\n#Paso a paso para la matriz\\n\\nquery = \\'fire upon the deep\\'\\nprocessed = re.sub(\"[^a-zA-Z0-9 ]\", \"\", query.lower())  #procesamos la query\\nquery_vec = vectorizer.transform([processed])   #pasamos la query a un vector\\nsimilarity = cosine_similarity(query_vec, tfidf)  #encontrar las similitudes utilizando el vector. Le pasakmos el vector \\n#nos dicecuánto se parece cada fila. nos da un numpy array\\nindices = np.argpartition(similarity, -10)[-10:]   #queremos encontrar los índices y lo metem\\nresults = titles.iloc[indices]  #da la fila con los títulos de libros\\n\\n'"
      ]
     },
     "execution_count": 35,
     "metadata": {},
     "output_type": "execute_result"
    }
   ],
   "source": [
    "'''\n",
    "#query\n",
    "#Paso a paso para la matriz\n",
    "\n",
    "query = 'fire upon the deep'\n",
    "processed = re.sub(\"[^a-zA-Z0-9 ]\", \"\", query.lower())  #procesamos la query\n",
    "query_vec = vectorizer.transform([processed])   #pasamos la query a un vector\n",
    "similarity = cosine_similarity(query_vec, tfidf)  #encontrar las similitudes utilizando el vector. Le pasakmos el vector \n",
    "#nos dicecuánto se parece cada fila. nos da un numpy array\n",
    "indices = np.argpartition(similarity, -10)[-10:]   #queremos encontrar los índices y lo metem\n",
    "results = titles.iloc[indices]  #da la fila con los títulos de libros\n",
    "\n",
    "'''\n",
    "\n"
   ]
  },
  {
   "cell_type": "code",
   "execution_count": null,
   "id": "74e4a8de",
   "metadata": {},
   "outputs": [],
   "source": []
  },
  {
   "cell_type": "code",
   "execution_count": null,
   "id": "40e24dd6",
   "metadata": {},
   "outputs": [],
   "source": [
    "similarity   #np array.  De ests números tenemos que llegar a los libros. Se puede usar el partition"
   ]
  },
  {
   "cell_type": "code",
   "execution_count": 27,
   "id": "b7b2c876",
   "metadata": {},
   "outputs": [
    {
     "ename": "NameError",
     "evalue": "name 'results' is not defined",
     "output_type": "error",
     "traceback": [
      "\u001b[0;31m---------------------------------------------------------------------------\u001b[0m",
      "\u001b[0;31mNameError\u001b[0m                                 Traceback (most recent call last)",
      "\u001b[0;32m/var/folders/bp/5cqvvvwn7p14588p725frs740000gn/T/ipykernel_4521/962467392.py\u001b[0m in \u001b[0;36m<module>\u001b[0;34m\u001b[0m\n\u001b[0;32m----> 1\u001b[0;31m \u001b[0mresults\u001b[0m\u001b[0;34m\u001b[0m\u001b[0;34m\u001b[0m\u001b[0m\n\u001b[0m",
      "\u001b[0;31mNameError\u001b[0m: name 'results' is not defined"
     ]
    }
   ],
   "source": [
    "results"
   ]
  },
  {
   "cell_type": "code",
   "execution_count": 28,
   "id": "6b4a6420",
   "metadata": {},
   "outputs": [],
   "source": [
    "from sklearn.metrics.pairwise import cosine_similarity\n",
    "import numpy as np\n",
    "import re\n",
    "\n",
    "def make_clickable(val):\n",
    "    return '<a target=\"_blank\" href=\"{}\">Goodreads</a>'.format(val, val)   #click #html\n",
    "\n",
    "def show_image(val):\n",
    "    return '<a href=\"{}\"><img src=\"{}\" width=50></img></a>'.format(val, val)   #muestra la portada\n",
    "\n",
    "def search(query,vectorizer):\n",
    "    processed = re.sub(\"[^a-zA-Z0-9 ]\", \"\", query.lower())\n",
    "    query_vec = vectorizer.transform([query])\n",
    "    similarity = cosine_similarity(query_vec, tfidf).flatten()\n",
    "    indices = np.argpartition(similarity, -10)[-10:]\n",
    "    results = titles.iloc[indices]\n",
    "    results = results.sort_values(\"ratings\", ascending=False)\n",
    "    \n",
    "    return results.head(5).style.format({'url': make_clickable, 'cover_image': show_image})   #hacderla clickable"
   ]
  },
  {
   "cell_type": "code",
   "execution_count": 78,
   "id": "ad94e7c1",
   "metadata": {},
   "outputs": [
    {
     "data": {
      "text/html": [
       "<style type=\"text/css\">\n",
       "</style>\n",
       "<table id=\"T_8646e_\">\n",
       "  <thead>\n",
       "    <tr>\n",
       "      <th class=\"blank level0\" >&nbsp;</th>\n",
       "      <th class=\"col_heading level0 col0\" >book_id</th>\n",
       "      <th class=\"col_heading level0 col1\" >title</th>\n",
       "      <th class=\"col_heading level0 col2\" >ratings</th>\n",
       "      <th class=\"col_heading level0 col3\" >url</th>\n",
       "      <th class=\"col_heading level0 col4\" >cover_image</th>\n",
       "      <th class=\"col_heading level0 col5\" >mod_title</th>\n",
       "    </tr>\n",
       "  </thead>\n",
       "  <tbody>\n",
       "    <tr>\n",
       "      <th id=\"T_8646e_level0_row0\" class=\"row_heading level0 row0\" >559587</th>\n",
       "      <td id=\"T_8646e_row0_col0\" class=\"data row0 col0\" >2391</td>\n",
       "      <td id=\"T_8646e_row0_col1\" class=\"data row0 col1\" >Moby Dick</td>\n",
       "      <td id=\"T_8646e_row0_col2\" class=\"data row0 col2\" >1780</td>\n",
       "      <td id=\"T_8646e_row0_col3\" class=\"data row0 col3\" ><a target=\"_blank\" href=\"https://www.goodreads.com/book/show/2391.Moby_Dick\">Goodreads</a></td>\n",
       "      <td id=\"T_8646e_row0_col4\" class=\"data row0 col4\" ><a href=\"https://images.gr-assets.com/books/1509908204m/2391.jpg\"><img src=\"https://images.gr-assets.com/books/1509908204m/2391.jpg\" width=50></img></a></td>\n",
       "      <td id=\"T_8646e_row0_col5\" class=\"data row0 col5\" >moby dick</td>\n",
       "    </tr>\n",
       "    <tr>\n",
       "      <th id=\"T_8646e_level0_row1\" class=\"row_heading level0 row1\" >1288711</th>\n",
       "      <td id=\"T_8646e_row1_col0\" class=\"data row1 col0\" >823573</td>\n",
       "      <td id=\"T_8646e_row1_col1\" class=\"data row1 col1\" >Moby Dick</td>\n",
       "      <td id=\"T_8646e_row1_col2\" class=\"data row1 col2\" >620</td>\n",
       "      <td id=\"T_8646e_row1_col3\" class=\"data row1 col3\" ><a target=\"_blank\" href=\"https://www.goodreads.com/book/show/823573.Moby_Dick\">Goodreads</a></td>\n",
       "      <td id=\"T_8646e_row1_col4\" class=\"data row1 col4\" ><a href=\"https://images.gr-assets.com/books/1391250547m/823573.jpg\"><img src=\"https://images.gr-assets.com/books/1391250547m/823573.jpg\" width=50></img></a></td>\n",
       "      <td id=\"T_8646e_row1_col5\" class=\"data row1 col5\" >moby dick</td>\n",
       "    </tr>\n",
       "    <tr>\n",
       "      <th id=\"T_8646e_level0_row2\" class=\"row_heading level0 row2\" >1086276</th>\n",
       "      <td id=\"T_8646e_row2_col0\" class=\"data row2 col0\" >1289792</td>\n",
       "      <td id=\"T_8646e_row2_col1\" class=\"data row2 col1\" >Moby Dick</td>\n",
       "      <td id=\"T_8646e_row2_col2\" class=\"data row2 col2\" >79</td>\n",
       "      <td id=\"T_8646e_row2_col3\" class=\"data row2 col3\" ><a target=\"_blank\" href=\"https://www.goodreads.com/book/show/1289792.Moby_Dick\">Goodreads</a></td>\n",
       "      <td id=\"T_8646e_row2_col4\" class=\"data row2 col4\" ><a href=\"https://s.gr-assets.com/assets/nophoto/book/111x148-bcc042a9c91a29c1d680899eff700a03.png\"><img src=\"https://s.gr-assets.com/assets/nophoto/book/111x148-bcc042a9c91a29c1d680899eff700a03.png\" width=50></img></a></td>\n",
       "      <td id=\"T_8646e_row2_col5\" class=\"data row2 col5\" >moby dick</td>\n",
       "    </tr>\n",
       "    <tr>\n",
       "      <th id=\"T_8646e_level0_row3\" class=\"row_heading level0 row3\" >408448</th>\n",
       "      <td id=\"T_8646e_row3_col0\" class=\"data row3 col0\" >9814468</td>\n",
       "      <td id=\"T_8646e_row3_col1\" class=\"data row3 col1\" >Moby Dick</td>\n",
       "      <td id=\"T_8646e_row3_col2\" class=\"data row3 col2\" >70</td>\n",
       "      <td id=\"T_8646e_row3_col3\" class=\"data row3 col3\" ><a target=\"_blank\" href=\"https://www.goodreads.com/book/show/9814468-moby-dick\">Goodreads</a></td>\n",
       "      <td id=\"T_8646e_row3_col4\" class=\"data row3 col4\" ><a href=\"https://images.gr-assets.com/books/1327927869m/9814468.jpg\"><img src=\"https://images.gr-assets.com/books/1327927869m/9814468.jpg\" width=50></img></a></td>\n",
       "      <td id=\"T_8646e_row3_col5\" class=\"data row3 col5\" >moby dick</td>\n",
       "    </tr>\n",
       "    <tr>\n",
       "      <th id=\"T_8646e_level0_row4\" class=\"row_heading level0 row4\" >1155118</th>\n",
       "      <td id=\"T_8646e_row4_col0\" class=\"data row4 col0\" >9677076</td>\n",
       "      <td id=\"T_8646e_row4_col1\" class=\"data row4 col1\" >Moby Dick</td>\n",
       "      <td id=\"T_8646e_row4_col2\" class=\"data row4 col2\" >60</td>\n",
       "      <td id=\"T_8646e_row4_col3\" class=\"data row4 col3\" ><a target=\"_blank\" href=\"https://www.goodreads.com/book/show/9677076-moby-dick\">Goodreads</a></td>\n",
       "      <td id=\"T_8646e_row4_col4\" class=\"data row4 col4\" ><a href=\"https://images.gr-assets.com/books/1300885098m/9677076.jpg\"><img src=\"https://images.gr-assets.com/books/1300885098m/9677076.jpg\" width=50></img></a></td>\n",
       "      <td id=\"T_8646e_row4_col5\" class=\"data row4 col5\" >moby dick</td>\n",
       "    </tr>\n",
       "  </tbody>\n",
       "</table>\n"
      ],
      "text/plain": [
       "<pandas.io.formats.style.Styler at 0x7f776f7c3850>"
      ]
     },
     "execution_count": 78,
     "metadata": {},
     "output_type": "execute_result"
    }
   ],
   "source": [
    "search('moby dick', vectorizer)   #parece que cada título tiene varias portadas"
   ]
  },
  {
   "cell_type": "code",
   "execution_count": 36,
   "id": "c4b2c97d",
   "metadata": {},
   "outputs": [
    {
     "data": {
      "text/html": [
       "<style type=\"text/css\">\n",
       "</style>\n",
       "<table id=\"T_4836d_\">\n",
       "  <thead>\n",
       "    <tr>\n",
       "      <th class=\"blank level0\" >&nbsp;</th>\n",
       "      <th class=\"col_heading level0 col0\" >book_id</th>\n",
       "      <th class=\"col_heading level0 col1\" >title</th>\n",
       "      <th class=\"col_heading level0 col2\" >ratings</th>\n",
       "      <th class=\"col_heading level0 col3\" >url</th>\n",
       "      <th class=\"col_heading level0 col4\" >cover_image</th>\n",
       "      <th class=\"col_heading level0 col5\" >mod_title</th>\n",
       "    </tr>\n",
       "  </thead>\n",
       "  <tbody>\n",
       "    <tr>\n",
       "      <th id=\"T_4836d_level0_row0\" class=\"row_heading level0 row0\" >546297</th>\n",
       "      <td id=\"T_4836d_row0_col0\" class=\"data row0 col0\" >5107</td>\n",
       "      <td id=\"T_4836d_row0_col1\" class=\"data row0 col1\" >The Catcher in the Rye</td>\n",
       "      <td id=\"T_4836d_row0_col2\" class=\"data row0 col2\" >2086945</td>\n",
       "      <td id=\"T_4836d_row0_col3\" class=\"data row0 col3\" ><a target=\"_blank\" href=\"https://www.goodreads.com/book/show/5107.The_Catcher_in_the_Rye\">Goodreads</a></td>\n",
       "      <td id=\"T_4836d_row0_col4\" class=\"data row0 col4\" ><a href=\"https://images.gr-assets.com/books/1398034300m/5107.jpg\"><img src=\"https://images.gr-assets.com/books/1398034300m/5107.jpg\" width=50></img></a></td>\n",
       "      <td id=\"T_4836d_row0_col5\" class=\"data row0 col5\" >the catcher in the rye</td>\n",
       "    </tr>\n",
       "    <tr>\n",
       "      <th id=\"T_4836d_level0_row1\" class=\"row_heading level0 row1\" >1170384</th>\n",
       "      <td id=\"T_4836d_row1_col0\" class=\"data row1 col0\" >544058</td>\n",
       "      <td id=\"T_4836d_row1_col1\" class=\"data row1 col1\" >The Catcher in the Rye</td>\n",
       "      <td id=\"T_4836d_row1_col2\" class=\"data row1 col2\" >1492</td>\n",
       "      <td id=\"T_4836d_row1_col3\" class=\"data row1 col3\" ><a target=\"_blank\" href=\"https://www.goodreads.com/book/show/544058.The_Catcher_in_the_Rye\">Goodreads</a></td>\n",
       "      <td id=\"T_4836d_row1_col4\" class=\"data row1 col4\" ><a href=\"https://images.gr-assets.com/books/1425597336m/544058.jpg\"><img src=\"https://images.gr-assets.com/books/1425597336m/544058.jpg\" width=50></img></a></td>\n",
       "      <td id=\"T_4836d_row1_col5\" class=\"data row1 col5\" >the catcher in the rye</td>\n",
       "    </tr>\n",
       "    <tr>\n",
       "      <th id=\"T_4836d_level0_row2\" class=\"row_heading level0 row2\" >1757137</th>\n",
       "      <td id=\"T_4836d_row2_col0\" class=\"data row2 col0\" >5122</td>\n",
       "      <td id=\"T_4836d_row2_col1\" class=\"data row2 col1\" >The Catcher in the Rye</td>\n",
       "      <td id=\"T_4836d_row2_col2\" class=\"data row2 col2\" >132</td>\n",
       "      <td id=\"T_4836d_row2_col3\" class=\"data row2 col3\" ><a target=\"_blank\" href=\"https://www.goodreads.com/book/show/5122.The_Catcher_in_the_Rye\">Goodreads</a></td>\n",
       "      <td id=\"T_4836d_row2_col4\" class=\"data row2 col4\" ><a href=\"https://images.gr-assets.com/books/1327939919m/5122.jpg\"><img src=\"https://images.gr-assets.com/books/1327939919m/5122.jpg\" width=50></img></a></td>\n",
       "      <td id=\"T_4836d_row2_col5\" class=\"data row2 col5\" >the catcher in the rye</td>\n",
       "    </tr>\n",
       "    <tr>\n",
       "      <th id=\"T_4836d_level0_row3\" class=\"row_heading level0 row3\" >195140</th>\n",
       "      <td id=\"T_4836d_row3_col0\" class=\"data row3 col0\" >1746083</td>\n",
       "      <td id=\"T_4836d_row3_col1\" class=\"data row3 col1\" >The Catcher in the Rye</td>\n",
       "      <td id=\"T_4836d_row3_col2\" class=\"data row3 col2\" >110</td>\n",
       "      <td id=\"T_4836d_row3_col3\" class=\"data row3 col3\" ><a target=\"_blank\" href=\"https://www.goodreads.com/book/show/1746083.The_Catcher_in_the_Rye\">Goodreads</a></td>\n",
       "      <td id=\"T_4836d_row3_col4\" class=\"data row3 col4\" ><a href=\"https://s.gr-assets.com/assets/nophoto/book/111x148-bcc042a9c91a29c1d680899eff700a03.png\"><img src=\"https://s.gr-assets.com/assets/nophoto/book/111x148-bcc042a9c91a29c1d680899eff700a03.png\" width=50></img></a></td>\n",
       "      <td id=\"T_4836d_row3_col5\" class=\"data row3 col5\" >the catcher in the rye</td>\n",
       "    </tr>\n",
       "    <tr>\n",
       "      <th id=\"T_4836d_level0_row4\" class=\"row_heading level0 row4\" >917215</th>\n",
       "      <td id=\"T_4836d_row4_col0\" class=\"data row4 col0\" >8507693</td>\n",
       "      <td id=\"T_4836d_row4_col1\" class=\"data row4 col1\" >The Catcher in the Rye</td>\n",
       "      <td id=\"T_4836d_row4_col2\" class=\"data row4 col2\" >105</td>\n",
       "      <td id=\"T_4836d_row4_col3\" class=\"data row4 col3\" ><a target=\"_blank\" href=\"https://www.goodreads.com/book/show/8507693-the-catcher-in-the-rye\">Goodreads</a></td>\n",
       "      <td id=\"T_4836d_row4_col4\" class=\"data row4 col4\" ><a href=\"https://s.gr-assets.com/assets/nophoto/book/111x148-bcc042a9c91a29c1d680899eff700a03.png\"><img src=\"https://s.gr-assets.com/assets/nophoto/book/111x148-bcc042a9c91a29c1d680899eff700a03.png\" width=50></img></a></td>\n",
       "      <td id=\"T_4836d_row4_col5\" class=\"data row4 col5\" >the catcher in the rye</td>\n",
       "    </tr>\n",
       "  </tbody>\n",
       "</table>\n"
      ],
      "text/plain": [
       "<pandas.io.formats.style.Styler at 0x7f7760705490>"
      ]
     },
     "execution_count": 36,
     "metadata": {},
     "output_type": "execute_result"
    }
   ],
   "source": [
    "search('the catcher in the rye', vectorizer)"
   ]
  },
  {
   "cell_type": "code",
   "execution_count": 46,
   "id": "1dbe1007",
   "metadata": {},
   "outputs": [
    {
     "data": {
      "text/html": [
       "<style type=\"text/css\">\n",
       "</style>\n",
       "<table id=\"T_57049_\">\n",
       "  <thead>\n",
       "    <tr>\n",
       "      <th class=\"blank level0\" >&nbsp;</th>\n",
       "      <th class=\"col_heading level0 col0\" >book_id</th>\n",
       "      <th class=\"col_heading level0 col1\" >title</th>\n",
       "      <th class=\"col_heading level0 col2\" >ratings</th>\n",
       "      <th class=\"col_heading level0 col3\" >url</th>\n",
       "      <th class=\"col_heading level0 col4\" >cover_image</th>\n",
       "      <th class=\"col_heading level0 col5\" >mod_title</th>\n",
       "    </tr>\n",
       "  </thead>\n",
       "  <tbody>\n",
       "    <tr>\n",
       "      <th id=\"T_57049_level0_row0\" class=\"row_heading level0 row0\" >1607837</th>\n",
       "      <td id=\"T_57049_row0_col0\" class=\"data row0 col0\" >88077</td>\n",
       "      <td id=\"T_57049_row0_col1\" class=\"data row0 col1\" >The Magic Mountain</td>\n",
       "      <td id=\"T_57049_row0_col2\" class=\"data row0 col2\" >21536</td>\n",
       "      <td id=\"T_57049_row0_col3\" class=\"data row0 col3\" ><a target=\"_blank\" href=\"https://www.goodreads.com/book/show/88077.The_Magic_Mountain\">Goodreads</a></td>\n",
       "      <td id=\"T_57049_row0_col4\" class=\"data row0 col4\" ><a href=\"https://images.gr-assets.com/books/1403170928m/88077.jpg\"><img src=\"https://images.gr-assets.com/books/1403170928m/88077.jpg\" width=50></img></a></td>\n",
       "      <td id=\"T_57049_row0_col5\" class=\"data row0 col5\" >the magic mountain</td>\n",
       "    </tr>\n",
       "    <tr>\n",
       "      <th id=\"T_57049_level0_row1\" class=\"row_heading level0 row1\" >1361620</th>\n",
       "      <td id=\"T_57049_row1_col0\" class=\"data row1 col0\" >116884</td>\n",
       "      <td id=\"T_57049_row1_col1\" class=\"data row1 col1\" >The Magic Mountain</td>\n",
       "      <td id=\"T_57049_row1_col2\" class=\"data row1 col2\" >284</td>\n",
       "      <td id=\"T_57049_row1_col3\" class=\"data row1 col3\" ><a target=\"_blank\" href=\"https://www.goodreads.com/book/show/116884.The_Magic_Mountain\">Goodreads</a></td>\n",
       "      <td id=\"T_57049_row1_col4\" class=\"data row1 col4\" ><a href=\"https://images.gr-assets.com/books/1320552861m/116884.jpg\"><img src=\"https://images.gr-assets.com/books/1320552861m/116884.jpg\" width=50></img></a></td>\n",
       "      <td id=\"T_57049_row1_col5\" class=\"data row1 col5\" >the magic mountain</td>\n",
       "    </tr>\n",
       "    <tr>\n",
       "      <th id=\"T_57049_level0_row2\" class=\"row_heading level0 row2\" >1434582</th>\n",
       "      <td id=\"T_57049_row2_col0\" class=\"data row2 col0\" >394713</td>\n",
       "      <td id=\"T_57049_row2_col1\" class=\"data row2 col1\" >The Magic Mountain</td>\n",
       "      <td id=\"T_57049_row2_col2\" class=\"data row2 col2\" >93</td>\n",
       "      <td id=\"T_57049_row2_col3\" class=\"data row2 col3\" ><a target=\"_blank\" href=\"https://www.goodreads.com/book/show/394713.The_Magic_Mountain\">Goodreads</a></td>\n",
       "      <td id=\"T_57049_row2_col4\" class=\"data row2 col4\" ><a href=\"https://s.gr-assets.com/assets/nophoto/book/111x148-bcc042a9c91a29c1d680899eff700a03.png\"><img src=\"https://s.gr-assets.com/assets/nophoto/book/111x148-bcc042a9c91a29c1d680899eff700a03.png\" width=50></img></a></td>\n",
       "      <td id=\"T_57049_row2_col5\" class=\"data row2 col5\" >the magic mountain</td>\n",
       "    </tr>\n",
       "    <tr>\n",
       "      <th id=\"T_57049_level0_row3\" class=\"row_heading level0 row3\" >115142</th>\n",
       "      <td id=\"T_57049_row3_col0\" class=\"data row3 col0\" >661418</td>\n",
       "      <td id=\"T_57049_row3_col1\" class=\"data row3 col1\" >The Magic Mountain</td>\n",
       "      <td id=\"T_57049_row3_col2\" class=\"data row3 col2\" >62</td>\n",
       "      <td id=\"T_57049_row3_col3\" class=\"data row3 col3\" ><a target=\"_blank\" href=\"https://www.goodreads.com/book/show/661418.The_Magic_Mountain\">Goodreads</a></td>\n",
       "      <td id=\"T_57049_row3_col4\" class=\"data row3 col4\" ><a href=\"https://images.gr-assets.com/books/1417038942m/661418.jpg\"><img src=\"https://images.gr-assets.com/books/1417038942m/661418.jpg\" width=50></img></a></td>\n",
       "      <td id=\"T_57049_row3_col5\" class=\"data row3 col5\" >the magic mountain</td>\n",
       "    </tr>\n",
       "    <tr>\n",
       "      <th id=\"T_57049_level0_row4\" class=\"row_heading level0 row4\" >1616700</th>\n",
       "      <td id=\"T_57049_row4_col0\" class=\"data row4 col0\" >616207</td>\n",
       "      <td id=\"T_57049_row4_col1\" class=\"data row4 col1\" >The Magic Mountain</td>\n",
       "      <td id=\"T_57049_row4_col2\" class=\"data row4 col2\" >44</td>\n",
       "      <td id=\"T_57049_row4_col3\" class=\"data row4 col3\" ><a target=\"_blank\" href=\"https://www.goodreads.com/book/show/616207.The_Magic_Mountain\">Goodreads</a></td>\n",
       "      <td id=\"T_57049_row4_col4\" class=\"data row4 col4\" ><a href=\"https://images.gr-assets.com/books/1358741551m/616207.jpg\"><img src=\"https://images.gr-assets.com/books/1358741551m/616207.jpg\" width=50></img></a></td>\n",
       "      <td id=\"T_57049_row4_col5\" class=\"data row4 col5\" >the magic mountain</td>\n",
       "    </tr>\n",
       "  </tbody>\n",
       "</table>\n"
      ],
      "text/plain": [
       "<pandas.io.formats.style.Styler at 0x7f77612d4820>"
      ]
     },
     "execution_count": 46,
     "metadata": {},
     "output_type": "execute_result"
    }
   ],
   "source": [
    "search('ThE MagiC MOUntAiN',vectorizer)   #yess, acepta min y may no discrimina\n",
    "#Si no encuentra una palabra en el título, porque lleva un número, por ejemplo, lo busca sin esa palabra"
   ]
  },
  {
   "cell_type": "code",
   "execution_count": 49,
   "id": "9837fa49",
   "metadata": {},
   "outputs": [
    {
     "data": {
      "text/html": [
       "<style type=\"text/css\">\n",
       "</style>\n",
       "<table id=\"T_ce876_\">\n",
       "  <thead>\n",
       "    <tr>\n",
       "      <th class=\"blank level0\" >&nbsp;</th>\n",
       "      <th class=\"col_heading level0 col0\" >book_id</th>\n",
       "      <th class=\"col_heading level0 col1\" >title</th>\n",
       "      <th class=\"col_heading level0 col2\" >ratings</th>\n",
       "      <th class=\"col_heading level0 col3\" >url</th>\n",
       "      <th class=\"col_heading level0 col4\" >cover_image</th>\n",
       "      <th class=\"col_heading level0 col5\" >mod_title</th>\n",
       "    </tr>\n",
       "  </thead>\n",
       "  <tbody>\n",
       "    <tr>\n",
       "      <th id=\"T_ce876_level0_row0\" class=\"row_heading level0 row0\" >599998</th>\n",
       "      <td id=\"T_ce876_row0_col0\" class=\"data row0 col0\" >4395</td>\n",
       "      <td id=\"T_ce876_row0_col1\" class=\"data row0 col1\" >The Grapes of Wrath</td>\n",
       "      <td id=\"T_ce876_row0_col2\" class=\"data row0 col2\" >322757</td>\n",
       "      <td id=\"T_ce876_row0_col3\" class=\"data row0 col3\" ><a target=\"_blank\" href=\"https://www.goodreads.com/book/show/4395.The_Grapes_of_Wrath\">Goodreads</a></td>\n",
       "      <td id=\"T_ce876_row0_col4\" class=\"data row0 col4\" ><a href=\"https://images.gr-assets.com/books/1352912927m/4395.jpg\"><img src=\"https://images.gr-assets.com/books/1352912927m/4395.jpg\" width=50></img></a></td>\n",
       "      <td id=\"T_ce876_row0_col5\" class=\"data row0 col5\" >the grapes of wrath</td>\n",
       "    </tr>\n",
       "    <tr>\n",
       "      <th id=\"T_ce876_level0_row1\" class=\"row_heading level0 row1\" >484583</th>\n",
       "      <td id=\"T_ce876_row1_col0\" class=\"data row1 col0\" >6055617</td>\n",
       "      <td id=\"T_ce876_row1_col1\" class=\"data row1 col1\" >The Grapes of Wrath</td>\n",
       "      <td id=\"T_ce876_row1_col2\" class=\"data row1 col2\" >2084</td>\n",
       "      <td id=\"T_ce876_row1_col3\" class=\"data row1 col3\" ><a target=\"_blank\" href=\"https://www.goodreads.com/book/show/6055617-the-grapes-of-wrath\">Goodreads</a></td>\n",
       "      <td id=\"T_ce876_row1_col4\" class=\"data row1 col4\" ><a href=\"https://images.gr-assets.com/books/1372553832m/6055617.jpg\"><img src=\"https://images.gr-assets.com/books/1372553832m/6055617.jpg\" width=50></img></a></td>\n",
       "      <td id=\"T_ce876_row1_col5\" class=\"data row1 col5\" >the grapes of wrath</td>\n",
       "    </tr>\n",
       "    <tr>\n",
       "      <th id=\"T_ce876_level0_row2\" class=\"row_heading level0 row2\" >1365886</th>\n",
       "      <td id=\"T_ce876_row2_col0\" class=\"data row2 col0\" >1391056</td>\n",
       "      <td id=\"T_ce876_row2_col1\" class=\"data row2 col1\" >The Grapes of Wrath</td>\n",
       "      <td id=\"T_ce876_row2_col2\" class=\"data row2 col2\" >1050</td>\n",
       "      <td id=\"T_ce876_row2_col3\" class=\"data row2 col3\" ><a target=\"_blank\" href=\"https://www.goodreads.com/book/show/1391056.The_Grapes_of_Wrath\">Goodreads</a></td>\n",
       "      <td id=\"T_ce876_row2_col4\" class=\"data row2 col4\" ><a href=\"https://s.gr-assets.com/assets/nophoto/book/111x148-bcc042a9c91a29c1d680899eff700a03.png\"><img src=\"https://s.gr-assets.com/assets/nophoto/book/111x148-bcc042a9c91a29c1d680899eff700a03.png\" width=50></img></a></td>\n",
       "      <td id=\"T_ce876_row2_col5\" class=\"data row2 col5\" >the grapes of wrath</td>\n",
       "    </tr>\n",
       "    <tr>\n",
       "      <th id=\"T_ce876_level0_row3\" class=\"row_heading level0 row3\" >362014</th>\n",
       "      <td id=\"T_ce876_row3_col0\" class=\"data row3 col0\" >595400</td>\n",
       "      <td id=\"T_ce876_row3_col1\" class=\"data row3 col1\" >The Grapes of Wrath</td>\n",
       "      <td id=\"T_ce876_row3_col2\" class=\"data row3 col2\" >390</td>\n",
       "      <td id=\"T_ce876_row3_col3\" class=\"data row3 col3\" ><a target=\"_blank\" href=\"https://www.goodreads.com/book/show/595400.The_Grapes_of_Wrath\">Goodreads</a></td>\n",
       "      <td id=\"T_ce876_row3_col4\" class=\"data row3 col4\" ><a href=\"https://s.gr-assets.com/assets/nophoto/book/111x148-bcc042a9c91a29c1d680899eff700a03.png\"><img src=\"https://s.gr-assets.com/assets/nophoto/book/111x148-bcc042a9c91a29c1d680899eff700a03.png\" width=50></img></a></td>\n",
       "      <td id=\"T_ce876_row3_col5\" class=\"data row3 col5\" >the grapes of wrath</td>\n",
       "    </tr>\n",
       "    <tr>\n",
       "      <th id=\"T_ce876_level0_row4\" class=\"row_heading level0 row4\" >1389033</th>\n",
       "      <td id=\"T_ce876_row4_col0\" class=\"data row4 col0\" >2058870</td>\n",
       "      <td id=\"T_ce876_row4_col1\" class=\"data row4 col1\" >The Grapes of Wrath</td>\n",
       "      <td id=\"T_ce876_row4_col2\" class=\"data row4 col2\" >308</td>\n",
       "      <td id=\"T_ce876_row4_col3\" class=\"data row4 col3\" ><a target=\"_blank\" href=\"https://www.goodreads.com/book/show/2058870.The_Grapes_of_Wrath\">Goodreads</a></td>\n",
       "      <td id=\"T_ce876_row4_col4\" class=\"data row4 col4\" ><a href=\"https://images.gr-assets.com/books/1333265266m/2058870.jpg\"><img src=\"https://images.gr-assets.com/books/1333265266m/2058870.jpg\" width=50></img></a></td>\n",
       "      <td id=\"T_ce876_row4_col5\" class=\"data row4 col5\" >the grapes of wrath</td>\n",
       "    </tr>\n",
       "  </tbody>\n",
       "</table>\n"
      ],
      "text/plain": [
       "<pandas.io.formats.style.Styler at 0x7f77612d0be0>"
      ]
     },
     "execution_count": 49,
     "metadata": {},
     "output_type": "execute_result"
    }
   ],
   "source": [
    "search('grapes of wrath', vectorizer)   #busca sin the's, lógicamente"
   ]
  },
  {
   "cell_type": "code",
   "execution_count": 52,
   "id": "b466f065",
   "metadata": {},
   "outputs": [
    {
     "data": {
      "text/html": [
       "<style type=\"text/css\">\n",
       "</style>\n",
       "<table id=\"T_7da43_\">\n",
       "  <thead>\n",
       "    <tr>\n",
       "      <th class=\"blank level0\" >&nbsp;</th>\n",
       "      <th class=\"col_heading level0 col0\" >book_id</th>\n",
       "      <th class=\"col_heading level0 col1\" >title</th>\n",
       "      <th class=\"col_heading level0 col2\" >ratings</th>\n",
       "      <th class=\"col_heading level0 col3\" >url</th>\n",
       "      <th class=\"col_heading level0 col4\" >cover_image</th>\n",
       "      <th class=\"col_heading level0 col5\" >mod_title</th>\n",
       "    </tr>\n",
       "  </thead>\n",
       "  <tbody>\n",
       "    <tr>\n",
       "      <th id=\"T_7da43_level0_row0\" class=\"row_heading level0 row0\" >766758</th>\n",
       "      <td id=\"T_7da43_row0_col0\" class=\"data row0 col0\" >788178</td>\n",
       "      <td id=\"T_7da43_row0_col1\" class=\"data row0 col1\" >Mafalda 6 (Mafalda, #6)</td>\n",
       "      <td id=\"T_7da43_row0_col2\" class=\"data row0 col2\" >371</td>\n",
       "      <td id=\"T_7da43_row0_col3\" class=\"data row0 col3\" ><a target=\"_blank\" href=\"https://www.goodreads.com/book/show/788178.Mafalda_6\">Goodreads</a></td>\n",
       "      <td id=\"T_7da43_row0_col4\" class=\"data row0 col4\" ><a href=\"https://s.gr-assets.com/assets/nophoto/book/111x148-bcc042a9c91a29c1d680899eff700a03.png\"><img src=\"https://s.gr-assets.com/assets/nophoto/book/111x148-bcc042a9c91a29c1d680899eff700a03.png\" width=50></img></a></td>\n",
       "      <td id=\"T_7da43_row0_col5\" class=\"data row0 col5\" >mafalda 6 mafalda 6</td>\n",
       "    </tr>\n",
       "    <tr>\n",
       "      <th id=\"T_7da43_level0_row1\" class=\"row_heading level0 row1\" >583925</th>\n",
       "      <td id=\"T_7da43_row1_col0\" class=\"data row1 col0\" >2371659</td>\n",
       "      <td id=\"T_7da43_row1_col1\" class=\"data row1 col1\" >Mafalda 6</td>\n",
       "      <td id=\"T_7da43_row1_col2\" class=\"data row1 col2\" >46</td>\n",
       "      <td id=\"T_7da43_row1_col3\" class=\"data row1 col3\" ><a target=\"_blank\" href=\"https://www.goodreads.com/book/show/2371659.Mafalda_6\">Goodreads</a></td>\n",
       "      <td id=\"T_7da43_row1_col4\" class=\"data row1 col4\" ><a href=\"https://images.gr-assets.com/books/1347342064m/2371659.jpg\"><img src=\"https://images.gr-assets.com/books/1347342064m/2371659.jpg\" width=50></img></a></td>\n",
       "      <td id=\"T_7da43_row1_col5\" class=\"data row1 col5\" >mafalda 6</td>\n",
       "    </tr>\n",
       "    <tr>\n",
       "      <th id=\"T_7da43_level0_row2\" class=\"row_heading level0 row2\" >1453130</th>\n",
       "      <td id=\"T_7da43_row2_col0\" class=\"data row2 col0\" >2371660</td>\n",
       "      <td id=\"T_7da43_row2_col1\" class=\"data row2 col1\" >Mafalda 7</td>\n",
       "      <td id=\"T_7da43_row2_col2\" class=\"data row2 col2\" >39</td>\n",
       "      <td id=\"T_7da43_row2_col3\" class=\"data row2 col3\" ><a target=\"_blank\" href=\"https://www.goodreads.com/book/show/2371660.Mafalda_7\">Goodreads</a></td>\n",
       "      <td id=\"T_7da43_row2_col4\" class=\"data row2 col4\" ><a href=\"https://images.gr-assets.com/books/1263273602m/2371660.jpg\"><img src=\"https://images.gr-assets.com/books/1263273602m/2371660.jpg\" width=50></img></a></td>\n",
       "      <td id=\"T_7da43_row2_col5\" class=\"data row2 col5\" >mafalda 7</td>\n",
       "    </tr>\n",
       "    <tr>\n",
       "      <th id=\"T_7da43_level0_row3\" class=\"row_heading level0 row3\" >1138707</th>\n",
       "      <td id=\"T_7da43_row3_col0\" class=\"data row3 col0\" >16097870</td>\n",
       "      <td id=\"T_7da43_row3_col1\" class=\"data row3 col1\" >Mafalda 1</td>\n",
       "      <td id=\"T_7da43_row3_col2\" class=\"data row3 col2\" >26</td>\n",
       "      <td id=\"T_7da43_row3_col3\" class=\"data row3 col3\" ><a target=\"_blank\" href=\"https://www.goodreads.com/book/show/16097870-mafalda-1\">Goodreads</a></td>\n",
       "      <td id=\"T_7da43_row3_col4\" class=\"data row3 col4\" ><a href=\"https://images.gr-assets.com/books/1350757118m/16097870.jpg\"><img src=\"https://images.gr-assets.com/books/1350757118m/16097870.jpg\" width=50></img></a></td>\n",
       "      <td id=\"T_7da43_row3_col5\" class=\"data row3 col5\" >mafalda 1</td>\n",
       "    </tr>\n",
       "    <tr>\n",
       "      <th id=\"T_7da43_level0_row4\" class=\"row_heading level0 row4\" >1495381</th>\n",
       "      <td id=\"T_7da43_row4_col0\" class=\"data row4 col0\" >9625874</td>\n",
       "      <td id=\"T_7da43_row4_col1\" class=\"data row4 col1\" >Mafalda 9</td>\n",
       "      <td id=\"T_7da43_row4_col2\" class=\"data row4 col2\" >26</td>\n",
       "      <td id=\"T_7da43_row4_col3\" class=\"data row4 col3\" ><a target=\"_blank\" href=\"https://www.goodreads.com/book/show/9625874-mafalda-9\">Goodreads</a></td>\n",
       "      <td id=\"T_7da43_row4_col4\" class=\"data row4 col4\" ><a href=\"https://images.gr-assets.com/books/1288954161m/9625874.jpg\"><img src=\"https://images.gr-assets.com/books/1288954161m/9625874.jpg\" width=50></img></a></td>\n",
       "      <td id=\"T_7da43_row4_col5\" class=\"data row4 col5\" >mafalda 9</td>\n",
       "    </tr>\n",
       "  </tbody>\n",
       "</table>\n"
      ],
      "text/plain": [
       "<pandas.io.formats.style.Styler at 0x7f7761048a90>"
      ]
     },
     "execution_count": 52,
     "metadata": {},
     "output_type": "execute_result"
    }
   ],
   "source": [
    "search('Mafalda', vectorizer)"
   ]
  },
  {
   "cell_type": "code",
   "execution_count": 55,
   "id": "d5fb83c9",
   "metadata": {},
   "outputs": [
    {
     "data": {
      "text/html": [
       "<style type=\"text/css\">\n",
       "</style>\n",
       "<table id=\"T_4be45_\">\n",
       "  <thead>\n",
       "    <tr>\n",
       "      <th class=\"blank level0\" >&nbsp;</th>\n",
       "      <th class=\"col_heading level0 col0\" >book_id</th>\n",
       "      <th class=\"col_heading level0 col1\" >title</th>\n",
       "      <th class=\"col_heading level0 col2\" >ratings</th>\n",
       "      <th class=\"col_heading level0 col3\" >url</th>\n",
       "      <th class=\"col_heading level0 col4\" >cover_image</th>\n",
       "      <th class=\"col_heading level0 col5\" >mod_title</th>\n",
       "    </tr>\n",
       "  </thead>\n",
       "  <tbody>\n",
       "    <tr>\n",
       "      <th id=\"T_4be45_level0_row0\" class=\"row_heading level0 row0\" >559587</th>\n",
       "      <td id=\"T_4be45_row0_col0\" class=\"data row0 col0\" >2391</td>\n",
       "      <td id=\"T_4be45_row0_col1\" class=\"data row0 col1\" >Moby Dick</td>\n",
       "      <td id=\"T_4be45_row0_col2\" class=\"data row0 col2\" >1780</td>\n",
       "      <td id=\"T_4be45_row0_col3\" class=\"data row0 col3\" ><a target=\"_blank\" href=\"https://www.goodreads.com/book/show/2391.Moby_Dick\">Goodreads</a></td>\n",
       "      <td id=\"T_4be45_row0_col4\" class=\"data row0 col4\" ><a href=\"https://images.gr-assets.com/books/1509908204m/2391.jpg\"><img src=\"https://images.gr-assets.com/books/1509908204m/2391.jpg\" width=50></img></a></td>\n",
       "      <td id=\"T_4be45_row0_col5\" class=\"data row0 col5\" >moby dick</td>\n",
       "    </tr>\n",
       "    <tr>\n",
       "      <th id=\"T_4be45_level0_row1\" class=\"row_heading level0 row1\" >1288711</th>\n",
       "      <td id=\"T_4be45_row1_col0\" class=\"data row1 col0\" >823573</td>\n",
       "      <td id=\"T_4be45_row1_col1\" class=\"data row1 col1\" >Moby Dick</td>\n",
       "      <td id=\"T_4be45_row1_col2\" class=\"data row1 col2\" >620</td>\n",
       "      <td id=\"T_4be45_row1_col3\" class=\"data row1 col3\" ><a target=\"_blank\" href=\"https://www.goodreads.com/book/show/823573.Moby_Dick\">Goodreads</a></td>\n",
       "      <td id=\"T_4be45_row1_col4\" class=\"data row1 col4\" ><a href=\"https://images.gr-assets.com/books/1391250547m/823573.jpg\"><img src=\"https://images.gr-assets.com/books/1391250547m/823573.jpg\" width=50></img></a></td>\n",
       "      <td id=\"T_4be45_row1_col5\" class=\"data row1 col5\" >moby dick</td>\n",
       "    </tr>\n",
       "    <tr>\n",
       "      <th id=\"T_4be45_level0_row2\" class=\"row_heading level0 row2\" >1086276</th>\n",
       "      <td id=\"T_4be45_row2_col0\" class=\"data row2 col0\" >1289792</td>\n",
       "      <td id=\"T_4be45_row2_col1\" class=\"data row2 col1\" >Moby Dick</td>\n",
       "      <td id=\"T_4be45_row2_col2\" class=\"data row2 col2\" >79</td>\n",
       "      <td id=\"T_4be45_row2_col3\" class=\"data row2 col3\" ><a target=\"_blank\" href=\"https://www.goodreads.com/book/show/1289792.Moby_Dick\">Goodreads</a></td>\n",
       "      <td id=\"T_4be45_row2_col4\" class=\"data row2 col4\" ><a href=\"https://s.gr-assets.com/assets/nophoto/book/111x148-bcc042a9c91a29c1d680899eff700a03.png\"><img src=\"https://s.gr-assets.com/assets/nophoto/book/111x148-bcc042a9c91a29c1d680899eff700a03.png\" width=50></img></a></td>\n",
       "      <td id=\"T_4be45_row2_col5\" class=\"data row2 col5\" >moby dick</td>\n",
       "    </tr>\n",
       "    <tr>\n",
       "      <th id=\"T_4be45_level0_row3\" class=\"row_heading level0 row3\" >408448</th>\n",
       "      <td id=\"T_4be45_row3_col0\" class=\"data row3 col0\" >9814468</td>\n",
       "      <td id=\"T_4be45_row3_col1\" class=\"data row3 col1\" >Moby Dick</td>\n",
       "      <td id=\"T_4be45_row3_col2\" class=\"data row3 col2\" >70</td>\n",
       "      <td id=\"T_4be45_row3_col3\" class=\"data row3 col3\" ><a target=\"_blank\" href=\"https://www.goodreads.com/book/show/9814468-moby-dick\">Goodreads</a></td>\n",
       "      <td id=\"T_4be45_row3_col4\" class=\"data row3 col4\" ><a href=\"https://images.gr-assets.com/books/1327927869m/9814468.jpg\"><img src=\"https://images.gr-assets.com/books/1327927869m/9814468.jpg\" width=50></img></a></td>\n",
       "      <td id=\"T_4be45_row3_col5\" class=\"data row3 col5\" >moby dick</td>\n",
       "    </tr>\n",
       "    <tr>\n",
       "      <th id=\"T_4be45_level0_row4\" class=\"row_heading level0 row4\" >1155118</th>\n",
       "      <td id=\"T_4be45_row4_col0\" class=\"data row4 col0\" >9677076</td>\n",
       "      <td id=\"T_4be45_row4_col1\" class=\"data row4 col1\" >Moby Dick</td>\n",
       "      <td id=\"T_4be45_row4_col2\" class=\"data row4 col2\" >60</td>\n",
       "      <td id=\"T_4be45_row4_col3\" class=\"data row4 col3\" ><a target=\"_blank\" href=\"https://www.goodreads.com/book/show/9677076-moby-dick\">Goodreads</a></td>\n",
       "      <td id=\"T_4be45_row4_col4\" class=\"data row4 col4\" ><a href=\"https://images.gr-assets.com/books/1300885098m/9677076.jpg\"><img src=\"https://images.gr-assets.com/books/1300885098m/9677076.jpg\" width=50></img></a></td>\n",
       "      <td id=\"T_4be45_row4_col5\" class=\"data row4 col5\" >moby dick</td>\n",
       "    </tr>\n",
       "  </tbody>\n",
       "</table>\n"
      ],
      "text/plain": [
       "<pandas.io.formats.style.Styler at 0x7f777077d970>"
      ]
     },
     "execution_count": 55,
     "metadata": {},
     "output_type": "execute_result"
    }
   ],
   "source": [
    "search('moby dick', vectorizer)"
   ]
  },
  {
   "cell_type": "code",
   "execution_count": 79,
   "id": "c4dc7058",
   "metadata": {},
   "outputs": [
    {
     "data": {
      "text/html": [
       "<style type=\"text/css\">\n",
       "</style>\n",
       "<table id=\"T_04d7f_\">\n",
       "  <thead>\n",
       "    <tr>\n",
       "      <th class=\"blank level0\" >&nbsp;</th>\n",
       "      <th class=\"col_heading level0 col0\" >book_id</th>\n",
       "      <th class=\"col_heading level0 col1\" >title</th>\n",
       "      <th class=\"col_heading level0 col2\" >ratings</th>\n",
       "      <th class=\"col_heading level0 col3\" >url</th>\n",
       "      <th class=\"col_heading level0 col4\" >cover_image</th>\n",
       "      <th class=\"col_heading level0 col5\" >mod_title</th>\n",
       "    </tr>\n",
       "  </thead>\n",
       "  <tbody>\n",
       "    <tr>\n",
       "      <th id=\"T_04d7f_level0_row0\" class=\"row_heading level0 row0\" >720083</th>\n",
       "      <td id=\"T_04d7f_row0_col0\" class=\"data row0 col0\" >10783</td>\n",
       "      <td id=\"T_04d7f_row0_col1\" class=\"data row0 col1\" >Adios Hemingway</td>\n",
       "      <td id=\"T_04d7f_row0_col2\" class=\"data row0 col2\" >475</td>\n",
       "      <td id=\"T_04d7f_row0_col3\" class=\"data row0 col3\" ><a target=\"_blank\" href=\"https://www.goodreads.com/book/show/10783.Adios_Hemingway\">Goodreads</a></td>\n",
       "      <td id=\"T_04d7f_row0_col4\" class=\"data row0 col4\" ><a href=\"https://s.gr-assets.com/assets/nophoto/book/111x148-bcc042a9c91a29c1d680899eff700a03.png\"><img src=\"https://s.gr-assets.com/assets/nophoto/book/111x148-bcc042a9c91a29c1d680899eff700a03.png\" width=50></img></a></td>\n",
       "      <td id=\"T_04d7f_row0_col5\" class=\"data row0 col5\" >adios hemingway</td>\n",
       "    </tr>\n",
       "    <tr>\n",
       "      <th id=\"T_04d7f_level0_row1\" class=\"row_heading level0 row1\" >193908</th>\n",
       "      <td id=\"T_04d7f_row1_col0\" class=\"data row1 col0\" >916670</td>\n",
       "      <td id=\"T_04d7f_row1_col1\" class=\"data row1 col1\" >Ceremonia secreta</td>\n",
       "      <td id=\"T_04d7f_row1_col2\" class=\"data row1 col2\" >455</td>\n",
       "      <td id=\"T_04d7f_row1_col3\" class=\"data row1 col3\" ><a target=\"_blank\" href=\"https://www.goodreads.com/book/show/916670.Ceremonia_secreta\">Goodreads</a></td>\n",
       "      <td id=\"T_04d7f_row1_col4\" class=\"data row1 col4\" ><a href=\"https://s.gr-assets.com/assets/nophoto/book/111x148-bcc042a9c91a29c1d680899eff700a03.png\"><img src=\"https://s.gr-assets.com/assets/nophoto/book/111x148-bcc042a9c91a29c1d680899eff700a03.png\" width=50></img></a></td>\n",
       "      <td id=\"T_04d7f_row1_col5\" class=\"data row1 col5\" >ceremonia secreta</td>\n",
       "    </tr>\n",
       "    <tr>\n",
       "      <th id=\"T_04d7f_level0_row2\" class=\"row_heading level0 row2\" >1209839</th>\n",
       "      <td id=\"T_04d7f_row2_col0\" class=\"data row2 col0\" >25777995</td>\n",
       "      <td id=\"T_04d7f_row2_col1\" class=\"data row2 col1\" >Adios, Cowboy</td>\n",
       "      <td id=\"T_04d7f_row2_col2\" class=\"data row2 col2\" >112</td>\n",
       "      <td id=\"T_04d7f_row2_col3\" class=\"data row2 col3\" ><a target=\"_blank\" href=\"https://www.goodreads.com/book/show/25777995-adios-cowboy\">Goodreads</a></td>\n",
       "      <td id=\"T_04d7f_row2_col4\" class=\"data row2 col4\" ><a href=\"https://images.gr-assets.com/books/1445433664m/25777995.jpg\"><img src=\"https://images.gr-assets.com/books/1445433664m/25777995.jpg\" width=50></img></a></td>\n",
       "      <td id=\"T_04d7f_row2_col5\" class=\"data row2 col5\" >adios cowboy</td>\n",
       "    </tr>\n",
       "    <tr>\n",
       "      <th id=\"T_04d7f_level0_row3\" class=\"row_heading level0 row3\" >345265</th>\n",
       "      <td id=\"T_04d7f_row3_col0\" class=\"data row3 col0\" >13609934</td>\n",
       "      <td id=\"T_04d7f_row3_col1\" class=\"data row3 col1\" >The Quick Adios</td>\n",
       "      <td id=\"T_04d7f_row3_col2\" class=\"data row3 col2\" >102</td>\n",
       "      <td id=\"T_04d7f_row3_col3\" class=\"data row3 col3\" ><a target=\"_blank\" href=\"https://www.goodreads.com/book/show/13609934-the-quick-adios\">Goodreads</a></td>\n",
       "      <td id=\"T_04d7f_row3_col4\" class=\"data row3 col4\" ><a href=\"https://images.gr-assets.com/books/1334943260m/13609934.jpg\"><img src=\"https://images.gr-assets.com/books/1334943260m/13609934.jpg\" width=50></img></a></td>\n",
       "      <td id=\"T_04d7f_row3_col5\" class=\"data row3 col5\" >the quick adios</td>\n",
       "    </tr>\n",
       "    <tr>\n",
       "      <th id=\"T_04d7f_level0_row4\" class=\"row_heading level0 row4\" >228598</th>\n",
       "      <td id=\"T_04d7f_row4_col0\" class=\"data row4 col0\" >6464621</td>\n",
       "      <td id=\"T_04d7f_row4_col1\" class=\"data row4 col1\" >La ceremonia del porno</td>\n",
       "      <td id=\"T_04d7f_row4_col2\" class=\"data row4 col2\" >22</td>\n",
       "      <td id=\"T_04d7f_row4_col3\" class=\"data row4 col3\" ><a target=\"_blank\" href=\"https://www.goodreads.com/book/show/6464621-la-ceremonia-del-porno\">Goodreads</a></td>\n",
       "      <td id=\"T_04d7f_row4_col4\" class=\"data row4 col4\" ><a href=\"https://images.gr-assets.com/books/1331063144m/6464621.jpg\"><img src=\"https://images.gr-assets.com/books/1331063144m/6464621.jpg\" width=50></img></a></td>\n",
       "      <td id=\"T_04d7f_row4_col5\" class=\"data row4 col5\" >la ceremonia del porno</td>\n",
       "    </tr>\n",
       "  </tbody>\n",
       "</table>\n"
      ],
      "text/plain": [
       "<pandas.io.formats.style.Styler at 0x7f776f7c3f40>"
      ]
     },
     "execution_count": 79,
     "metadata": {},
     "output_type": "execute_result"
    }
   ],
   "source": [
    "search('rayuela', vectorizer)"
   ]
  },
  {
   "cell_type": "code",
   "execution_count": 58,
   "id": "257208d5",
   "metadata": {},
   "outputs": [
    {
     "data": {
      "text/html": [
       "<style type=\"text/css\">\n",
       "</style>\n",
       "<table id=\"T_ac5be_\">\n",
       "  <thead>\n",
       "    <tr>\n",
       "      <th class=\"blank level0\" >&nbsp;</th>\n",
       "      <th class=\"col_heading level0 col0\" >book_id</th>\n",
       "      <th class=\"col_heading level0 col1\" >title</th>\n",
       "      <th class=\"col_heading level0 col2\" >ratings</th>\n",
       "      <th class=\"col_heading level0 col3\" >url</th>\n",
       "      <th class=\"col_heading level0 col4\" >cover_image</th>\n",
       "      <th class=\"col_heading level0 col5\" >mod_title</th>\n",
       "    </tr>\n",
       "  </thead>\n",
       "  <tbody>\n",
       "    <tr>\n",
       "      <th id=\"T_ac5be_level0_row0\" class=\"row_heading level0 row0\" >1610156</th>\n",
       "      <td id=\"T_ac5be_row0_col0\" class=\"data row0 col0\" >322</td>\n",
       "      <td id=\"T_ac5be_row0_col1\" class=\"data row0 col1\" >Cien años de soledad</td>\n",
       "      <td id=\"T_ac5be_row0_col2\" class=\"data row0 col2\" >864</td>\n",
       "      <td id=\"T_ac5be_row0_col3\" class=\"data row0 col3\" ><a target=\"_blank\" href=\"https://www.goodreads.com/book/show/322.Cien_a_os_de_soledad\">Goodreads</a></td>\n",
       "      <td id=\"T_ac5be_row0_col4\" class=\"data row0 col4\" ><a href=\"https://s.gr-assets.com/assets/nophoto/book/111x148-bcc042a9c91a29c1d680899eff700a03.png\"><img src=\"https://s.gr-assets.com/assets/nophoto/book/111x148-bcc042a9c91a29c1d680899eff700a03.png\" width=50></img></a></td>\n",
       "      <td id=\"T_ac5be_row0_col5\" class=\"data row0 col5\" >cien aos de soledad</td>\n",
       "    </tr>\n",
       "    <tr>\n",
       "      <th id=\"T_ac5be_level0_row1\" class=\"row_heading level0 row1\" >599996</th>\n",
       "      <td id=\"T_ac5be_row1_col0\" class=\"data row1 col0\" >4393</td>\n",
       "      <td id=\"T_ac5be_row1_col1\" class=\"data row1 col1\" >Cien años de soledad</td>\n",
       "      <td id=\"T_ac5be_row1_col2\" class=\"data row1 col2\" >424</td>\n",
       "      <td id=\"T_ac5be_row1_col3\" class=\"data row1 col3\" ><a target=\"_blank\" href=\"https://www.goodreads.com/book/show/4393.Cien_a_os_de_soledad\">Goodreads</a></td>\n",
       "      <td id=\"T_ac5be_row1_col4\" class=\"data row1 col4\" ><a href=\"https://s.gr-assets.com/assets/nophoto/book/111x148-bcc042a9c91a29c1d680899eff700a03.png\"><img src=\"https://s.gr-assets.com/assets/nophoto/book/111x148-bcc042a9c91a29c1d680899eff700a03.png\" width=50></img></a></td>\n",
       "      <td id=\"T_ac5be_row1_col5\" class=\"data row1 col5\" >cien aos de soledad</td>\n",
       "    </tr>\n",
       "    <tr>\n",
       "      <th id=\"T_ac5be_level0_row2\" class=\"row_heading level0 row2\" >1620701</th>\n",
       "      <td id=\"T_ac5be_row2_col0\" class=\"data row2 col0\" >15846226</td>\n",
       "      <td id=\"T_ac5be_row2_col1\" class=\"data row2 col1\" >Cien años de soledad</td>\n",
       "      <td id=\"T_ac5be_row2_col2\" class=\"data row2 col2\" >257</td>\n",
       "      <td id=\"T_ac5be_row2_col3\" class=\"data row2 col3\" ><a target=\"_blank\" href=\"https://www.goodreads.com/book/show/15846226-cien-a-os-de-soledad\">Goodreads</a></td>\n",
       "      <td id=\"T_ac5be_row2_col4\" class=\"data row2 col4\" ><a href=\"https://images.gr-assets.com/books/1345817220m/15846226.jpg\"><img src=\"https://images.gr-assets.com/books/1345817220m/15846226.jpg\" width=50></img></a></td>\n",
       "      <td id=\"T_ac5be_row2_col5\" class=\"data row2 col5\" >cien aos de soledad</td>\n",
       "    </tr>\n",
       "    <tr>\n",
       "      <th id=\"T_ac5be_level0_row3\" class=\"row_heading level0 row3\" >917611</th>\n",
       "      <td id=\"T_ac5be_row3_col0\" class=\"data row3 col0\" >23370707</td>\n",
       "      <td id=\"T_ac5be_row3_col1\" class=\"data row3 col1\" >Cien años de soledad</td>\n",
       "      <td id=\"T_ac5be_row3_col2\" class=\"data row3 col2\" >179</td>\n",
       "      <td id=\"T_ac5be_row3_col3\" class=\"data row3 col3\" ><a target=\"_blank\" href=\"https://www.goodreads.com/book/show/23370707-cien-a-os-de-soledad\">Goodreads</a></td>\n",
       "      <td id=\"T_ac5be_row3_col4\" class=\"data row3 col4\" ><a href=\"https://s.gr-assets.com/assets/nophoto/book/111x148-bcc042a9c91a29c1d680899eff700a03.png\"><img src=\"https://s.gr-assets.com/assets/nophoto/book/111x148-bcc042a9c91a29c1d680899eff700a03.png\" width=50></img></a></td>\n",
       "      <td id=\"T_ac5be_row3_col5\" class=\"data row3 col5\" >cien aos de soledad</td>\n",
       "    </tr>\n",
       "    <tr>\n",
       "      <th id=\"T_ac5be_level0_row4\" class=\"row_heading level0 row4\" >90357</th>\n",
       "      <td id=\"T_ac5be_row4_col0\" class=\"data row4 col0\" >63054</td>\n",
       "      <td id=\"T_ac5be_row4_col1\" class=\"data row4 col1\" >Cien años de soledad</td>\n",
       "      <td id=\"T_ac5be_row4_col2\" class=\"data row4 col2\" >140</td>\n",
       "      <td id=\"T_ac5be_row4_col3\" class=\"data row4 col3\" ><a target=\"_blank\" href=\"https://www.goodreads.com/book/show/63054.Cien_a_os_de_soledad\">Goodreads</a></td>\n",
       "      <td id=\"T_ac5be_row4_col4\" class=\"data row4 col4\" ><a href=\"https://s.gr-assets.com/assets/nophoto/book/111x148-bcc042a9c91a29c1d680899eff700a03.png\"><img src=\"https://s.gr-assets.com/assets/nophoto/book/111x148-bcc042a9c91a29c1d680899eff700a03.png\" width=50></img></a></td>\n",
       "      <td id=\"T_ac5be_row4_col5\" class=\"data row4 col5\" >cien aos de soledad</td>\n",
       "    </tr>\n",
       "  </tbody>\n",
       "</table>\n"
      ],
      "text/plain": [
       "<pandas.io.formats.style.Styler at 0x7f7761055a90>"
      ]
     },
     "execution_count": 58,
     "metadata": {},
     "output_type": "execute_result"
    }
   ],
   "source": [
    "search('cien años de soledad', vectorizer)    #caracteres especiales!"
   ]
  },
  {
   "cell_type": "code",
   "execution_count": 66,
   "id": "a96dfe4d",
   "metadata": {},
   "outputs": [
    {
     "data": {
      "text/html": [
       "<style type=\"text/css\">\n",
       "</style>\n",
       "<table id=\"T_d8329_\">\n",
       "  <thead>\n",
       "    <tr>\n",
       "      <th class=\"blank level0\" >&nbsp;</th>\n",
       "      <th class=\"col_heading level0 col0\" >book_id</th>\n",
       "      <th class=\"col_heading level0 col1\" >title</th>\n",
       "      <th class=\"col_heading level0 col2\" >ratings</th>\n",
       "      <th class=\"col_heading level0 col3\" >url</th>\n",
       "      <th class=\"col_heading level0 col4\" >cover_image</th>\n",
       "      <th class=\"col_heading level0 col5\" >mod_title</th>\n",
       "    </tr>\n",
       "  </thead>\n",
       "  <tbody>\n",
       "    <tr>\n",
       "      <th id=\"T_d8329_level0_row0\" class=\"row_heading level0 row0\" >750666</th>\n",
       "      <td id=\"T_d8329_row0_col0\" class=\"data row0 col0\" >4443927</td>\n",
       "      <td id=\"T_d8329_row0_col1\" class=\"data row0 col1\" >Así habló Zaratustra</td>\n",
       "      <td id=\"T_d8329_row0_col2\" class=\"data row0 col2\" >271</td>\n",
       "      <td id=\"T_d8329_row0_col3\" class=\"data row0 col3\" ><a target=\"_blank\" href=\"https://www.goodreads.com/book/show/4443927-as-habl-zaratustra\">Goodreads</a></td>\n",
       "      <td id=\"T_d8329_row0_col4\" class=\"data row0 col4\" ><a href=\"https://images.gr-assets.com/books/1333330239m/4443927.jpg\"><img src=\"https://images.gr-assets.com/books/1333330239m/4443927.jpg\" width=50></img></a></td>\n",
       "      <td id=\"T_d8329_row0_col5\" class=\"data row0 col5\" >as habl zaratustra</td>\n",
       "    </tr>\n",
       "    <tr>\n",
       "      <th id=\"T_d8329_level0_row1\" class=\"row_heading level0 row1\" >1535722</th>\n",
       "      <td id=\"T_d8329_row1_col0\" class=\"data row1 col0\" >30293393</td>\n",
       "      <td id=\"T_d8329_row1_col1\" class=\"data row1 col1\" >Asi hablo Zaratustra</td>\n",
       "      <td id=\"T_d8329_row1_col2\" class=\"data row1 col2\" >227</td>\n",
       "      <td id=\"T_d8329_row1_col3\" class=\"data row1 col3\" ><a target=\"_blank\" href=\"https://www.goodreads.com/book/show/30293393-asi-hablo-zaratustra\">Goodreads</a></td>\n",
       "      <td id=\"T_d8329_row1_col4\" class=\"data row1 col4\" ><a href=\"https://s.gr-assets.com/assets/nophoto/book/111x148-bcc042a9c91a29c1d680899eff700a03.png\"><img src=\"https://s.gr-assets.com/assets/nophoto/book/111x148-bcc042a9c91a29c1d680899eff700a03.png\" width=50></img></a></td>\n",
       "      <td id=\"T_d8329_row1_col5\" class=\"data row1 col5\" >asi hablo zaratustra</td>\n",
       "    </tr>\n",
       "    <tr>\n",
       "      <th id=\"T_d8329_level0_row2\" class=\"row_heading level0 row2\" >172876</th>\n",
       "      <td id=\"T_d8329_row2_col0\" class=\"data row2 col0\" >9677779</td>\n",
       "      <td id=\"T_d8329_row2_col1\" class=\"data row2 col1\" >Assim falou Zaratustra</td>\n",
       "      <td id=\"T_d8329_row2_col2\" class=\"data row2 col2\" >118</td>\n",
       "      <td id=\"T_d8329_row2_col3\" class=\"data row2 col3\" ><a target=\"_blank\" href=\"https://www.goodreads.com/book/show/9677779-assim-falou-zaratustra\">Goodreads</a></td>\n",
       "      <td id=\"T_d8329_row2_col4\" class=\"data row2 col4\" ><a href=\"https://s.gr-assets.com/assets/nophoto/book/111x148-bcc042a9c91a29c1d680899eff700a03.png\"><img src=\"https://s.gr-assets.com/assets/nophoto/book/111x148-bcc042a9c91a29c1d680899eff700a03.png\" width=50></img></a></td>\n",
       "      <td id=\"T_d8329_row2_col5\" class=\"data row2 col5\" >assim falou zaratustra</td>\n",
       "    </tr>\n",
       "    <tr>\n",
       "      <th id=\"T_d8329_level0_row3\" class=\"row_heading level0 row3\" >1087352</th>\n",
       "      <td id=\"T_d8329_row3_col0\" class=\"data row3 col0\" >63159</td>\n",
       "      <td id=\"T_d8329_row3_col1\" class=\"data row3 col1\" >Así habló Zaratustra</td>\n",
       "      <td id=\"T_d8329_row3_col2\" class=\"data row3 col2\" >97</td>\n",
       "      <td id=\"T_d8329_row3_col3\" class=\"data row3 col3\" ><a target=\"_blank\" href=\"https://www.goodreads.com/book/show/63159.As_habl_Zaratustra\">Goodreads</a></td>\n",
       "      <td id=\"T_d8329_row3_col4\" class=\"data row3 col4\" ><a href=\"https://images.gr-assets.com/books/1328695649m/63159.jpg\"><img src=\"https://images.gr-assets.com/books/1328695649m/63159.jpg\" width=50></img></a></td>\n",
       "      <td id=\"T_d8329_row3_col5\" class=\"data row3 col5\" >as habl zaratustra</td>\n",
       "    </tr>\n",
       "    <tr>\n",
       "      <th id=\"T_d8329_level0_row4\" class=\"row_heading level0 row4\" >781978</th>\n",
       "      <td id=\"T_d8329_row4_col0\" class=\"data row4 col0\" >14739714</td>\n",
       "      <td id=\"T_d8329_row4_col1\" class=\"data row4 col1\" >Así habló Zaratustra, el Manga</td>\n",
       "      <td id=\"T_d8329_row4_col2\" class=\"data row4 col2\" >68</td>\n",
       "      <td id=\"T_d8329_row4_col3\" class=\"data row4 col3\" ><a target=\"_blank\" href=\"https://www.goodreads.com/book/show/14739714-as-habl-zaratustra-el-manga\">Goodreads</a></td>\n",
       "      <td id=\"T_d8329_row4_col4\" class=\"data row4 col4\" ><a href=\"https://images.gr-assets.com/books/1338311080m/14739714.jpg\"><img src=\"https://images.gr-assets.com/books/1338311080m/14739714.jpg\" width=50></img></a></td>\n",
       "      <td id=\"T_d8329_row4_col5\" class=\"data row4 col5\" >as habl zaratustra el manga</td>\n",
       "    </tr>\n",
       "  </tbody>\n",
       "</table>\n"
      ],
      "text/plain": [
       "<pandas.io.formats.style.Styler at 0x7f7761034460>"
      ]
     },
     "execution_count": 66,
     "metadata": {},
     "output_type": "execute_result"
    }
   ],
   "source": [
    "search('Zaratustra', vectorizer)    #Títulos en ESP!!!!"
   ]
  },
  {
   "cell_type": "code",
   "execution_count": 71,
   "id": "4ca3054c",
   "metadata": {},
   "outputs": [
    {
     "data": {
      "text/html": [
       "<style type=\"text/css\">\n",
       "</style>\n",
       "<table id=\"T_253d0_\">\n",
       "  <thead>\n",
       "    <tr>\n",
       "      <th class=\"blank level0\" >&nbsp;</th>\n",
       "      <th class=\"col_heading level0 col0\" >book_id</th>\n",
       "      <th class=\"col_heading level0 col1\" >title</th>\n",
       "      <th class=\"col_heading level0 col2\" >ratings</th>\n",
       "      <th class=\"col_heading level0 col3\" >url</th>\n",
       "      <th class=\"col_heading level0 col4\" >cover_image</th>\n",
       "      <th class=\"col_heading level0 col5\" >mod_title</th>\n",
       "    </tr>\n",
       "  </thead>\n",
       "  <tbody>\n",
       "    <tr>\n",
       "      <th id=\"T_253d0_level0_row0\" class=\"row_heading level0 row0\" >693665</th>\n",
       "      <td id=\"T_253d0_row0_col0\" class=\"data row0 col0\" >16009563</td>\n",
       "      <td id=\"T_253d0_row0_col1\" class=\"data row0 col1\" >Fun Home</td>\n",
       "      <td id=\"T_253d0_row0_col2\" class=\"data row0 col2\" >71</td>\n",
       "      <td id=\"T_253d0_row0_col3\" class=\"data row0 col3\" ><a target=\"_blank\" href=\"https://www.goodreads.com/book/show/16009563-fun-home\">Goodreads</a></td>\n",
       "      <td id=\"T_253d0_row0_col4\" class=\"data row0 col4\" ><a href=\"https://images.gr-assets.com/books/1347720209m/16009563.jpg\"><img src=\"https://images.gr-assets.com/books/1347720209m/16009563.jpg\" width=50></img></a></td>\n",
       "      <td id=\"T_253d0_row0_col5\" class=\"data row0 col5\" >fun home</td>\n",
       "    </tr>\n",
       "    <tr>\n",
       "      <th id=\"T_253d0_level0_row1\" class=\"row_heading level0 row1\" >1061462</th>\n",
       "      <td id=\"T_253d0_row1_col0\" class=\"data row1 col0\" >23637323</td>\n",
       "      <td id=\"T_253d0_row1_col1\" class=\"data row1 col1\" >Fun</td>\n",
       "      <td id=\"T_253d0_row1_col2\" class=\"data row1 col2\" >59</td>\n",
       "      <td id=\"T_253d0_row1_col3\" class=\"data row1 col3\" ><a target=\"_blank\" href=\"https://www.goodreads.com/book/show/23637323-fun\">Goodreads</a></td>\n",
       "      <td id=\"T_253d0_row1_col4\" class=\"data row1 col4\" ><a href=\"https://images.gr-assets.com/books/1417388236m/23637323.jpg\"><img src=\"https://images.gr-assets.com/books/1417388236m/23637323.jpg\" width=50></img></a></td>\n",
       "      <td id=\"T_253d0_row1_col5\" class=\"data row1 col5\" >fun</td>\n",
       "    </tr>\n",
       "    <tr>\n",
       "      <th id=\"T_253d0_level0_row2\" class=\"row_heading level0 row2\" >1012111</th>\n",
       "      <td id=\"T_253d0_row2_col0\" class=\"data row2 col0\" >13320597</td>\n",
       "      <td id=\"T_253d0_row2_col1\" class=\"data row2 col1\" >Home</td>\n",
       "      <td id=\"T_253d0_row2_col2\" class=\"data row2 col2\" >27</td>\n",
       "      <td id=\"T_253d0_row2_col3\" class=\"data row2 col3\" ><a target=\"_blank\" href=\"https://www.goodreads.com/book/show/13320597-home\">Goodreads</a></td>\n",
       "      <td id=\"T_253d0_row2_col4\" class=\"data row2 col4\" ><a href=\"https://images.gr-assets.com/books/1329270515m/13320597.jpg\"><img src=\"https://images.gr-assets.com/books/1329270515m/13320597.jpg\" width=50></img></a></td>\n",
       "      <td id=\"T_253d0_row2_col5\" class=\"data row2 col5\" >home</td>\n",
       "    </tr>\n",
       "    <tr>\n",
       "      <th id=\"T_253d0_level0_row3\" class=\"row_heading level0 row3\" >688098</th>\n",
       "      <td id=\"T_253d0_row3_col0\" class=\"data row3 col0\" >6985516</td>\n",
       "      <td id=\"T_253d0_row3_col1\" class=\"data row3 col1\" >Home</td>\n",
       "      <td id=\"T_253d0_row3_col2\" class=\"data row3 col2\" >23</td>\n",
       "      <td id=\"T_253d0_row3_col3\" class=\"data row3 col3\" ><a target=\"_blank\" href=\"https://www.goodreads.com/book/show/6985516-home\">Goodreads</a></td>\n",
       "      <td id=\"T_253d0_row3_col4\" class=\"data row3 col4\" ><a href=\"https://images.gr-assets.com/books/1365049888m/6985516.jpg\"><img src=\"https://images.gr-assets.com/books/1365049888m/6985516.jpg\" width=50></img></a></td>\n",
       "      <td id=\"T_253d0_row3_col5\" class=\"data row3 col5\" >home</td>\n",
       "    </tr>\n",
       "    <tr>\n",
       "      <th id=\"T_253d0_level0_row4\" class=\"row_heading level0 row4\" >1074626</th>\n",
       "      <td id=\"T_253d0_row4_col0\" class=\"data row4 col0\" >17899021</td>\n",
       "      <td id=\"T_253d0_row4_col1\" class=\"data row4 col1\" >Fun Home</td>\n",
       "      <td id=\"T_253d0_row4_col2\" class=\"data row4 col2\" >20</td>\n",
       "      <td id=\"T_253d0_row4_col3\" class=\"data row4 col3\" ><a target=\"_blank\" href=\"https://www.goodreads.com/book/show/17899021-fun-home\">Goodreads</a></td>\n",
       "      <td id=\"T_253d0_row4_col4\" class=\"data row4 col4\" ><a href=\"https://images.gr-assets.com/books/1367921860m/17899021.jpg\"><img src=\"https://images.gr-assets.com/books/1367921860m/17899021.jpg\" width=50></img></a></td>\n",
       "      <td id=\"T_253d0_row4_col5\" class=\"data row4 col5\" >fun home</td>\n",
       "    </tr>\n",
       "  </tbody>\n",
       "</table>\n"
      ],
      "text/plain": [
       "<pandas.io.formats.style.Styler at 0x7f777077dee0>"
      ]
     },
     "execution_count": 71,
     "metadata": {},
     "output_type": "execute_result"
    }
   ],
   "source": [
    "search('fun home',vectorizer)"
   ]
  },
  {
   "cell_type": "code",
   "execution_count": null,
   "id": "2770ef4c",
   "metadata": {},
   "outputs": [],
   "source": [
    "#ya está hecho!!! 🔥\n",
    "#ahora hay que usar esto para hacer recomendaciones!"
   ]
  },
  {
   "cell_type": "code",
   "execution_count": 76,
   "id": "cb4bb75b",
   "metadata": {},
   "outputs": [],
   "source": [
    "#books_id\n",
    "liked_books = ['883438','544058','88077','4395','16097870','2391','54008', '15846226','17899021']"
   ]
  },
  {
   "cell_type": "code",
   "execution_count": 77,
   "id": "72be2c12",
   "metadata": {},
   "outputs": [
    {
     "data": {
      "text/plain": [
       "9"
      ]
     },
     "execution_count": 77,
     "metadata": {},
     "output_type": "execute_result"
    }
   ],
   "source": [
    "len(liked_books)"
   ]
  },
  {
   "cell_type": "code",
   "execution_count": null,
   "id": "cc6511a6",
   "metadata": {},
   "outputs": [],
   "source": [
    "#esta lista la vamos a usar en el próximo notebook de recomendations para hacerlas "
   ]
  },
  {
   "cell_type": "code",
   "execution_count": null,
   "id": "3fc8d888",
   "metadata": {},
   "outputs": [],
   "source": []
  },
  {
   "cell_type": "code",
   "execution_count": null,
   "id": "c6f8c292",
   "metadata": {},
   "outputs": [],
   "source": []
  }
 ],
 "metadata": {
  "kernelspec": {
   "display_name": "Python 3 (ipykernel)",
   "language": "python",
   "name": "python3"
  },
  "language_info": {
   "codemirror_mode": {
    "name": "ipython",
    "version": 3
   },
   "file_extension": ".py",
   "mimetype": "text/x-python",
   "name": "python",
   "nbconvert_exporter": "python",
   "pygments_lexer": "ipython3",
   "version": "3.9.7"
  }
 },
 "nbformat": 4,
 "nbformat_minor": 5
}
